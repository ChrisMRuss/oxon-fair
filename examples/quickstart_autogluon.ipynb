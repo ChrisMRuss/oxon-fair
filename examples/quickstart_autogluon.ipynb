{
 "cells": [
  {
   "cell_type": "markdown",
   "metadata": {},
   "source": [
    "# FairPredictor Autogluon Examples\n",
    "This file contains demo code for an extended version of the example in Readme.md (additionally handling more fairness over multiple groups), and enforcing a range of fairness definition on COMPAS.\n",
    "\n",
    "FairPredictor is a postprocessing approach for enforcing fairness, with support for a wide range of performance metrics and fairness criteria, and support for inferred attributes, i.e., it does not require access to protected attributes at test time. \n",
    "Under the hood, FairPredictor works by adjusting the decision boundary for each group individually. Where groups are not available, it makes use of inferred group membership to adjust decision boundaries.\n",
    "\n",
    "The key idea underlying this toolkit is that for a wide range of use cases, the most suitable classifier should do more than maximize some form of accuracy.\n",
    "We offer a general toolkit that allows different measures to be optimized and additional constraints to be imposed by tuning the behavior of a binary predictor on validation data.\n",
    "\n",
    "For example, classifiers can be tuned to maximize performance for a wide range of metrics such as:\n",
    "\n",
    "* Accuracy\n",
    "* Balanced Accuracy\n",
    "* F1 score\n",
    "* MCC\n",
    "* Custom utility functions\n",
    "\n",
    "While also approximately satisfying a wide range of group constraints such as:\n",
    "\n",
    "* Demographic Parity (The idea that positive decisions should occur at the same rates for all protected groups, for example for men at the same rate as for women)\n",
    "* Equal Opportunity (The recall should be the same for all protected groups)\n",
    "* Minimum recall constraints (The recall should be above a particular level for all groups)\n",
    "* Minimum Precision constraints (The precision should be above a particular level for all groups)\n",
    "* Custom Fairness Metrics\n",
    "\n",
    "The full set of constraints and objectives can be seen in Readme.md "
   ]
  },
  {
   "cell_type": "code",
   "execution_count": 1,
   "metadata": {
    "execution": {
     "iopub.execute_input": "2024-06-17T19:18:59.770976Z",
     "iopub.status.busy": "2024-06-17T19:18:59.770525Z",
     "iopub.status.idle": "2024-06-17T19:19:14.708127Z",
     "shell.execute_reply": "2024-06-17T19:19:14.706485Z"
    }
   },
   "outputs": [
    {
     "name": "stderr",
     "output_type": "stream",
     "text": [
      "/opt/miniconda3/envs/ag/lib/python3.10/site-packages/tqdm/auto.py:21: TqdmWarning: IProgress not found. Please update jupyter and ipywidgets. See https://ipywidgets.readthedocs.io/en/stable/user_install.html\n",
      "  from .autonotebook import tqdm as notebook_tqdm\n"
     ]
    },
    {
     "name": "stderr",
     "output_type": "stream",
     "text": [
      "No path specified. Models will be saved in: \"AutogluonModels/ag-20240617_191908\"\n"
     ]
    },
    {
     "name": "stderr",
     "output_type": "stream",
     "text": [
      "No presets specified! To achieve strong results with AutoGluon, it is recommended to use the available presets.\n",
      "\tRecommended Presets (For more details refer to https://auto.gluon.ai/stable/tutorials/tabular/tabular-essentials.html#presets):\n",
      "\tpresets='best_quality'   : Maximize accuracy. Default time_limit=3600.\n",
      "\tpresets='high_quality'   : Strong accuracy with fast inference speed. Default time_limit=3600.\n",
      "\tpresets='good_quality'   : Good accuracy with very fast inference speed. Default time_limit=3600.\n",
      "\tpresets='medium_quality' : Fast training time, ideal for initial prototyping.\n"
     ]
    },
    {
     "name": "stderr",
     "output_type": "stream",
     "text": [
      "Beginning AutoGluon training ... Time limit = 5s\n"
     ]
    },
    {
     "name": "stderr",
     "output_type": "stream",
     "text": [
      "AutoGluon will save models to \"AutogluonModels/ag-20240617_191908\"\n"
     ]
    },
    {
     "name": "stderr",
     "output_type": "stream",
     "text": [
      "=================== System Info ===================\n",
      "AutoGluon Version:  1.1.0\n",
      "Python Version:     3.10.13\n",
      "Operating System:   Darwin\n",
      "Platform Machine:   arm64\n",
      "Platform Version:   Darwin Kernel Version 23.5.0: Wed May  1 20:14:38 PDT 2024; root:xnu-10063.121.3~5/RELEASE_ARM64_T6020\n",
      "CPU Count:          10\n",
      "Memory Avail:       6.56 GB / 16.00 GB (41.0%)\n",
      "Disk Space Avail:   360.82 GB / 460.43 GB (78.4%)\n",
      "===================================================\n"
     ]
    },
    {
     "name": "stderr",
     "output_type": "stream",
     "text": [
      "Train Data Rows:    39073\n"
     ]
    },
    {
     "name": "stderr",
     "output_type": "stream",
     "text": [
      "Train Data Columns: 14\n"
     ]
    },
    {
     "name": "stderr",
     "output_type": "stream",
     "text": [
      "Label Column:       class\n"
     ]
    },
    {
     "name": "stderr",
     "output_type": "stream",
     "text": [
      "AutoGluon infers your prediction problem is: 'binary' (because only two unique label-values observed).\n"
     ]
    },
    {
     "name": "stderr",
     "output_type": "stream",
     "text": [
      "\t2 unique label values:  [' <=50K', ' >50K']\n"
     ]
    },
    {
     "name": "stderr",
     "output_type": "stream",
     "text": [
      "\tIf 'binary' is not the correct problem_type, please manually specify the problem_type parameter during predictor init (You may specify problem_type as one of: ['binary', 'multiclass', 'regression'])\n"
     ]
    },
    {
     "name": "stderr",
     "output_type": "stream",
     "text": [
      "Problem Type:       binary\n"
     ]
    },
    {
     "name": "stderr",
     "output_type": "stream",
     "text": [
      "Preprocessing data ...\n"
     ]
    },
    {
     "name": "stderr",
     "output_type": "stream",
     "text": [
      "Selected class <--> label mapping:  class 1 =  >50K, class 0 =  <=50K\n"
     ]
    },
    {
     "name": "stderr",
     "output_type": "stream",
     "text": [
      "\tNote: For your binary classification, AutoGluon arbitrarily selected which label-value represents positive ( >50K) vs negative ( <=50K) class.\n",
      "\tTo explicitly set the positive_class, either rename classes to 1 and 0, or specify positive_class in Predictor init.\n"
     ]
    },
    {
     "name": "stderr",
     "output_type": "stream",
     "text": [
      "Using Feature Generators to preprocess the data ...\n"
     ]
    },
    {
     "name": "stderr",
     "output_type": "stream",
     "text": [
      "Fitting AutoMLPipelineFeatureGenerator...\n"
     ]
    },
    {
     "name": "stderr",
     "output_type": "stream",
     "text": [
      "\tAvailable Memory:                    6735.36 MB\n"
     ]
    },
    {
     "name": "stderr",
     "output_type": "stream",
     "text": [
      "\tTrain Data (Original)  Memory Usage: 21.86 MB (0.3% of available memory)\n"
     ]
    },
    {
     "name": "stderr",
     "output_type": "stream",
     "text": [
      "\tInferring data type of each feature based on column values. Set feature_metadata_in to manually specify special dtypes of the features.\n"
     ]
    },
    {
     "name": "stderr",
     "output_type": "stream",
     "text": [
      "\tStage 1 Generators:\n"
     ]
    },
    {
     "name": "stderr",
     "output_type": "stream",
     "text": [
      "\t\tFitting AsTypeFeatureGenerator...\n"
     ]
    },
    {
     "name": "stderr",
     "output_type": "stream",
     "text": [
      "\t\t\tNote: Converting 1 features to boolean dtype as they only contain 2 unique values.\n"
     ]
    },
    {
     "name": "stderr",
     "output_type": "stream",
     "text": [
      "\tStage 2 Generators:\n"
     ]
    },
    {
     "name": "stderr",
     "output_type": "stream",
     "text": [
      "\t\tFitting FillNaFeatureGenerator...\n"
     ]
    },
    {
     "name": "stderr",
     "output_type": "stream",
     "text": [
      "\tStage 3 Generators:\n"
     ]
    },
    {
     "name": "stderr",
     "output_type": "stream",
     "text": [
      "\t\tFitting IdentityFeatureGenerator...\n"
     ]
    },
    {
     "name": "stderr",
     "output_type": "stream",
     "text": [
      "\t\tFitting CategoryFeatureGenerator...\n"
     ]
    },
    {
     "name": "stderr",
     "output_type": "stream",
     "text": [
      "\t\t\tFitting CategoryMemoryMinimizeFeatureGenerator...\n"
     ]
    },
    {
     "name": "stderr",
     "output_type": "stream",
     "text": [
      "\tStage 4 Generators:\n"
     ]
    },
    {
     "name": "stderr",
     "output_type": "stream",
     "text": [
      "\t\tFitting DropUniqueFeatureGenerator...\n"
     ]
    },
    {
     "name": "stderr",
     "output_type": "stream",
     "text": [
      "\tStage 5 Generators:\n"
     ]
    },
    {
     "name": "stderr",
     "output_type": "stream",
     "text": [
      "\t\tFitting DropDuplicatesFeatureGenerator...\n"
     ]
    },
    {
     "name": "stderr",
     "output_type": "stream",
     "text": [
      "\tTypes of features in original data (raw dtype, special dtypes):\n"
     ]
    },
    {
     "name": "stderr",
     "output_type": "stream",
     "text": [
      "\t\t('int', [])    : 6 | ['age', 'fnlwgt', 'education-num', 'capital-gain', 'capital-loss', ...]\n"
     ]
    },
    {
     "name": "stderr",
     "output_type": "stream",
     "text": [
      "\t\t('object', []) : 8 | ['workclass', 'education', 'marital-status', 'occupation', 'relationship', ...]\n"
     ]
    },
    {
     "name": "stderr",
     "output_type": "stream",
     "text": [
      "\tTypes of features in processed data (raw dtype, special dtypes):\n"
     ]
    },
    {
     "name": "stderr",
     "output_type": "stream",
     "text": [
      "\t\t('category', [])  : 7 | ['workclass', 'education', 'marital-status', 'occupation', 'relationship', ...]\n"
     ]
    },
    {
     "name": "stderr",
     "output_type": "stream",
     "text": [
      "\t\t('int', [])       : 6 | ['age', 'fnlwgt', 'education-num', 'capital-gain', 'capital-loss', ...]\n"
     ]
    },
    {
     "name": "stderr",
     "output_type": "stream",
     "text": [
      "\t\t('int', ['bool']) : 1 | ['sex']\n"
     ]
    },
    {
     "name": "stderr",
     "output_type": "stream",
     "text": [
      "\t0.1s = Fit runtime\n"
     ]
    },
    {
     "name": "stderr",
     "output_type": "stream",
     "text": [
      "\t14 features in original data used to generate 14 features in processed data.\n"
     ]
    },
    {
     "name": "stderr",
     "output_type": "stream",
     "text": [
      "\tTrain Data (Processed) Memory Usage: 2.09 MB (0.0% of available memory)\n"
     ]
    },
    {
     "name": "stderr",
     "output_type": "stream",
     "text": [
      "Data preprocessing and feature engineering runtime = 0.17s ...\n"
     ]
    },
    {
     "name": "stderr",
     "output_type": "stream",
     "text": [
      "AutoGluon will gauge predictive performance using evaluation metric: 'accuracy'\n"
     ]
    },
    {
     "name": "stderr",
     "output_type": "stream",
     "text": [
      "\tTo change this, specify the eval_metric parameter of Predictor()\n"
     ]
    },
    {
     "name": "stderr",
     "output_type": "stream",
     "text": [
      "Automatically generating train/validation split with holdout_frac=0.0639828014229775, Train Rows: 36573, Val Rows: 2500\n"
     ]
    },
    {
     "name": "stderr",
     "output_type": "stream",
     "text": [
      "User-specified model hyperparameters to be fit:\n",
      "{\n",
      "\t'NN_TORCH': {},\n",
      "\t'GBM': [{'extra_trees': True, 'ag_args': {'name_suffix': 'XT'}}, {}, 'GBMLarge'],\n",
      "\t'CAT': {},\n",
      "\t'XGB': {},\n",
      "\t'FASTAI': {},\n",
      "\t'RF': [{'criterion': 'gini', 'ag_args': {'name_suffix': 'Gini', 'problem_types': ['binary', 'multiclass']}}, {'criterion': 'entropy', 'ag_args': {'name_suffix': 'Entr', 'problem_types': ['binary', 'multiclass']}}, {'criterion': 'squared_error', 'ag_args': {'name_suffix': 'MSE', 'problem_types': ['regression', 'quantile']}}],\n",
      "\t'XT': [{'criterion': 'gini', 'ag_args': {'name_suffix': 'Gini', 'problem_types': ['binary', 'multiclass']}}, {'criterion': 'entropy', 'ag_args': {'name_suffix': 'Entr', 'problem_types': ['binary', 'multiclass']}}, {'criterion': 'squared_error', 'ag_args': {'name_suffix': 'MSE', 'problem_types': ['regression', 'quantile']}}],\n",
      "\t'KNN': [{'weights': 'uniform', 'ag_args': {'name_suffix': 'Unif'}}, {'weights': 'distance', 'ag_args': {'name_suffix': 'Dist'}}],\n",
      "}\n"
     ]
    },
    {
     "name": "stderr",
     "output_type": "stream",
     "text": [
      "Fitting 13 L1 models ...\n"
     ]
    },
    {
     "name": "stderr",
     "output_type": "stream",
     "text": [
      "Fitting model: KNeighborsUnif ... Training model for up to 4.83s of the 4.82s of remaining time.\n"
     ]
    },
    {
     "name": "stderr",
     "output_type": "stream",
     "text": [
      "\t0.7752\t = Validation score   (accuracy)\n"
     ]
    },
    {
     "name": "stderr",
     "output_type": "stream",
     "text": [
      "\t1.42s\t = Training   runtime\n"
     ]
    },
    {
     "name": "stderr",
     "output_type": "stream",
     "text": [
      "\t0.04s\t = Validation runtime\n"
     ]
    },
    {
     "name": "stderr",
     "output_type": "stream",
     "text": [
      "Fitting model: KNeighborsDist ... Training model for up to 3.36s of the 3.36s of remaining time.\n"
     ]
    },
    {
     "name": "stderr",
     "output_type": "stream",
     "text": [
      "\t0.766\t = Validation score   (accuracy)\n"
     ]
    },
    {
     "name": "stderr",
     "output_type": "stream",
     "text": [
      "\t0.03s\t = Training   runtime\n"
     ]
    },
    {
     "name": "stderr",
     "output_type": "stream",
     "text": [
      "\t0.02s\t = Validation runtime\n"
     ]
    },
    {
     "name": "stderr",
     "output_type": "stream",
     "text": [
      "Fitting model: LightGBMXT ... Training model for up to 3.32s of the 3.32s of remaining time.\n"
     ]
    },
    {
     "name": "stderr",
     "output_type": "stream",
     "text": [
      "/opt/miniconda3/envs/ag/lib/python3.10/site-packages/dask/dataframe/__init__.py:31: FutureWarning: \n",
      "Dask dataframe query planning is disabled because dask-expr is not installed.\n",
      "\n",
      "You can install it with `pip install dask[dataframe]` or `conda install dask`.\n",
      "This will raise in a future version.\n",
      "\n",
      "  warnings.warn(msg, FutureWarning)\n"
     ]
    },
    {
     "name": "stderr",
     "output_type": "stream",
     "text": [
      "\tRan out of time, early stopping on iteration 156. Best iteration is:\n",
      "\t[145]\tvalid_set's binary_error: 0.1284\n"
     ]
    },
    {
     "name": "stderr",
     "output_type": "stream",
     "text": [
      "\t0.8716\t = Validation score   (accuracy)\n"
     ]
    },
    {
     "name": "stderr",
     "output_type": "stream",
     "text": [
      "\t4.17s\t = Training   runtime\n"
     ]
    },
    {
     "name": "stderr",
     "output_type": "stream",
     "text": [
      "\t0.01s\t = Validation runtime\n"
     ]
    },
    {
     "name": "stderr",
     "output_type": "stream",
     "text": [
      "Fitting model: WeightedEnsemble_L2 ... Training model for up to 4.83s of the -1.03s of remaining time.\n"
     ]
    },
    {
     "name": "stderr",
     "output_type": "stream",
     "text": [
      "\tEnsemble Weights: {'LightGBMXT': 0.842, 'KNeighborsUnif': 0.105, 'KNeighborsDist': 0.053}\n"
     ]
    },
    {
     "name": "stderr",
     "output_type": "stream",
     "text": [
      "\t0.8744\t = Validation score   (accuracy)\n"
     ]
    },
    {
     "name": "stderr",
     "output_type": "stream",
     "text": [
      "\t0.02s\t = Training   runtime\n"
     ]
    },
    {
     "name": "stderr",
     "output_type": "stream",
     "text": [
      "\t0.0s\t = Validation runtime\n"
     ]
    },
    {
     "name": "stderr",
     "output_type": "stream",
     "text": [
      "AutoGluon training complete, total runtime = 6.13s ... Best model: \"WeightedEnsemble_L2\"\n"
     ]
    },
    {
     "name": "stderr",
     "output_type": "stream",
     "text": [
      "TabularPredictor saved. To load, use: predictor = TabularPredictor.load(\"AutogluonModels/ag-20240617_191908\")\n"
     ]
    }
   ],
   "source": [
    "# Load and train a baseline classifier\n",
    "\n",
    "from autogluon.tabular import TabularDataset, TabularPredictor\n",
    "from oxonfair import FairPredictor \n",
    "from oxonfair.utils import group_metrics as gm\n",
    "train_data = TabularDataset('https://autogluon.s3.amazonaws.com/datasets/Inc/train.csv')\n",
    "test_data = TabularDataset('https://autogluon.s3.amazonaws.com/datasets/Inc/test.csv')\n",
    "predictor = TabularPredictor(label='class').fit(train_data=train_data,time_limit=5)"
   ]
  },
  {
   "cell_type": "code",
   "execution_count": 2,
   "metadata": {
    "execution": {
     "iopub.execute_input": "2024-06-17T19:19:14.715124Z",
     "iopub.status.busy": "2024-06-17T19:19:14.714539Z",
     "iopub.status.idle": "2024-06-17T19:19:15.155238Z",
     "shell.execute_reply": "2024-06-17T19:19:15.154020Z"
    }
   },
   "outputs": [],
   "source": [
    "# Modify predictor to enforce fairness over the train_data with respect to groups given by the column 'sex'\n",
    "fpredictor = FairPredictor(predictor,train_data,'sex')\n",
    "# Maximize accuracy while enforcing that the demographic parity (the difference in positive decision rates between men and women is at most 0.02)\n",
    "fpredictor.fit(gm.accuracy,gm.demographic_parity,0.02)"
   ]
  },
  {
   "cell_type": "code",
   "execution_count": 3,
   "metadata": {
    "execution": {
     "iopub.execute_input": "2024-06-17T19:19:15.159470Z",
     "iopub.status.busy": "2024-06-17T19:19:15.158888Z",
     "iopub.status.idle": "2024-06-17T19:19:15.313776Z",
     "shell.execute_reply": "2024-06-17T19:19:15.312793Z"
    }
   },
   "outputs": [
    {
     "data": {
      "text/plain": [
       "0        <=50K\n",
       "1        <=50K\n",
       "2         >50K\n",
       "3        <=50K\n",
       "4        <=50K\n",
       "         ...  \n",
       "9764     <=50K\n",
       "9765     <=50K\n",
       "9766     <=50K\n",
       "9767     <=50K\n",
       "9768     <=50K\n",
       "Length: 9769, dtype: object"
      ]
     },
     "execution_count": 3,
     "metadata": {},
     "output_type": "execute_result"
    }
   ],
   "source": [
    "# Evaluate on test data\n",
    "fpredictor.predict(test_data)"
   ]
  },
  {
   "cell_type": "code",
   "execution_count": 4,
   "metadata": {
    "execution": {
     "iopub.execute_input": "2024-06-17T19:19:15.317613Z",
     "iopub.status.busy": "2024-06-17T19:19:15.317317Z",
     "iopub.status.idle": "2024-06-17T19:19:15.632565Z",
     "shell.execute_reply": "2024-06-17T19:19:15.632003Z"
    }
   },
   "outputs": [
    {
     "data": {
      "text/html": [
       "<div>\n",
       "<style scoped>\n",
       "    .dataframe tbody tr th:only-of-type {\n",
       "        vertical-align: middle;\n",
       "    }\n",
       "\n",
       "    .dataframe tbody tr th {\n",
       "        vertical-align: top;\n",
       "    }\n",
       "\n",
       "    .dataframe thead th {\n",
       "        text-align: right;\n",
       "    }\n",
       "</style>\n",
       "<table border=\"1\" class=\"dataframe\">\n",
       "  <thead>\n",
       "    <tr style=\"text-align: right;\">\n",
       "      <th></th>\n",
       "      <th>original</th>\n",
       "      <th>updated</th>\n",
       "    </tr>\n",
       "  </thead>\n",
       "  <tbody>\n",
       "    <tr>\n",
       "      <th>Accuracy</th>\n",
       "      <td>0.868973</td>\n",
       "      <td>0.842563</td>\n",
       "    </tr>\n",
       "    <tr>\n",
       "      <th>Balanced Accuracy</th>\n",
       "      <td>0.776058</td>\n",
       "      <td>0.723973</td>\n",
       "    </tr>\n",
       "    <tr>\n",
       "      <th>F1 score</th>\n",
       "      <td>0.684574</td>\n",
       "      <td>0.600312</td>\n",
       "    </tr>\n",
       "    <tr>\n",
       "      <th>MCC</th>\n",
       "      <td>0.613887</td>\n",
       "      <td>0.524332</td>\n",
       "    </tr>\n",
       "    <tr>\n",
       "      <th>Precision</th>\n",
       "      <td>0.798276</td>\n",
       "      <td>0.754902</td>\n",
       "    </tr>\n",
       "    <tr>\n",
       "      <th>Recall</th>\n",
       "      <td>0.599223</td>\n",
       "      <td>0.498274</td>\n",
       "    </tr>\n",
       "    <tr>\n",
       "      <th>ROC AUC</th>\n",
       "      <td>0.919433</td>\n",
       "      <td>0.817906</td>\n",
       "    </tr>\n",
       "  </tbody>\n",
       "</table>\n",
       "</div>"
      ],
      "text/plain": [
       "                   original   updated\n",
       "Accuracy           0.868973  0.842563\n",
       "Balanced Accuracy  0.776058  0.723973\n",
       "F1 score           0.684574  0.600312\n",
       "MCC                0.613887  0.524332\n",
       "Precision          0.798276  0.754902\n",
       "Recall             0.599223  0.498274\n",
       "ROC AUC            0.919433  0.817906"
      ]
     },
     "execution_count": 4,
     "metadata": {},
     "output_type": "execute_result"
    }
   ],
   "source": [
    "# Evaluate a range of performance measures, and compare against original classifier on test data\n",
    "fpredictor.evaluate(test_data, verbose=True)"
   ]
  },
  {
   "cell_type": "code",
   "execution_count": 5,
   "metadata": {
    "execution": {
     "iopub.execute_input": "2024-06-17T19:19:15.637027Z",
     "iopub.status.busy": "2024-06-17T19:19:15.636462Z",
     "iopub.status.idle": "2024-06-17T19:19:16.033572Z",
     "shell.execute_reply": "2024-06-17T19:19:16.031149Z"
    }
   },
   "outputs": [
    {
     "data": {
      "text/html": [
       "<div>\n",
       "<style scoped>\n",
       "    .dataframe tbody tr th:only-of-type {\n",
       "        vertical-align: middle;\n",
       "    }\n",
       "\n",
       "    .dataframe tbody tr th {\n",
       "        vertical-align: top;\n",
       "    }\n",
       "\n",
       "    .dataframe thead th {\n",
       "        text-align: right;\n",
       "    }\n",
       "</style>\n",
       "<table border=\"1\" class=\"dataframe\">\n",
       "  <thead>\n",
       "    <tr style=\"text-align: right;\">\n",
       "      <th></th>\n",
       "      <th>original</th>\n",
       "      <th>updated</th>\n",
       "    </tr>\n",
       "  </thead>\n",
       "  <tbody>\n",
       "    <tr>\n",
       "      <th>Statistical Parity</th>\n",
       "      <td>0.155761</td>\n",
       "      <td>0.013698</td>\n",
       "    </tr>\n",
       "    <tr>\n",
       "      <th>Predictive Parity</th>\n",
       "      <td>0.020717</td>\n",
       "      <td>0.354613</td>\n",
       "    </tr>\n",
       "    <tr>\n",
       "      <th>Equal Opportunity</th>\n",
       "      <td>0.065251</td>\n",
       "      <td>0.371301</td>\n",
       "    </tr>\n",
       "    <tr>\n",
       "      <th>Average Group Difference in False Negative Rate</th>\n",
       "      <td>0.065251</td>\n",
       "      <td>0.371301</td>\n",
       "    </tr>\n",
       "    <tr>\n",
       "      <th>Equalized Odds</th>\n",
       "      <td>0.056320</td>\n",
       "      <td>0.216631</td>\n",
       "    </tr>\n",
       "    <tr>\n",
       "      <th>Conditional Use Accuracy</th>\n",
       "      <td>0.060920</td>\n",
       "      <td>0.265098</td>\n",
       "    </tr>\n",
       "    <tr>\n",
       "      <th>Average Group Difference in Accuracy</th>\n",
       "      <td>0.098982</td>\n",
       "      <td>0.088835</td>\n",
       "    </tr>\n",
       "    <tr>\n",
       "      <th>Treatment Equality</th>\n",
       "      <td>0.051315</td>\n",
       "      <td>3.802436</td>\n",
       "    </tr>\n",
       "  </tbody>\n",
       "</table>\n",
       "</div>"
      ],
      "text/plain": [
       "                                                 original   updated\n",
       "Statistical Parity                               0.155761  0.013698\n",
       "Predictive Parity                                0.020717  0.354613\n",
       "Equal Opportunity                                0.065251  0.371301\n",
       "Average Group Difference in False Negative Rate  0.065251  0.371301\n",
       "Equalized Odds                                   0.056320  0.216631\n",
       "Conditional Use Accuracy                         0.060920  0.265098\n",
       "Average Group Difference in Accuracy             0.098982  0.088835\n",
       "Treatment Equality                               0.051315  3.802436"
      ]
     },
     "execution_count": 5,
     "metadata": {},
     "output_type": "execute_result"
    }
   ],
   "source": [
    "# Evaluate against a range of standard fairness definitions and compare against original classifier on test data\n",
    "fpredictor.evaluate_fairness(test_data, verbose=True)"
   ]
  },
  {
   "cell_type": "code",
   "execution_count": 6,
   "metadata": {
    "execution": {
     "iopub.execute_input": "2024-06-17T19:19:16.040489Z",
     "iopub.status.busy": "2024-06-17T19:19:16.039575Z",
     "iopub.status.idle": "2024-06-17T19:19:16.634654Z",
     "shell.execute_reply": "2024-06-17T19:19:16.633981Z"
    }
   },
   "outputs": [
    {
     "data": {
      "text/html": [
       "<div>\n",
       "<style scoped>\n",
       "    .dataframe tbody tr th:only-of-type {\n",
       "        vertical-align: middle;\n",
       "    }\n",
       "\n",
       "    .dataframe tbody tr th {\n",
       "        vertical-align: top;\n",
       "    }\n",
       "\n",
       "    .dataframe thead th {\n",
       "        text-align: right;\n",
       "    }\n",
       "</style>\n",
       "<table border=\"1\" class=\"dataframe\">\n",
       "  <thead>\n",
       "    <tr style=\"text-align: right;\">\n",
       "      <th></th>\n",
       "      <th></th>\n",
       "      <th>Accuracy</th>\n",
       "      <th>Balanced Accuracy</th>\n",
       "      <th>F1 score</th>\n",
       "      <th>MCC</th>\n",
       "      <th>Precision</th>\n",
       "      <th>Recall</th>\n",
       "      <th>ROC AUC</th>\n",
       "      <th>Positive Count</th>\n",
       "      <th>Negative Count</th>\n",
       "      <th>Positive Label Rate</th>\n",
       "      <th>Positive Prediction Rate</th>\n",
       "    </tr>\n",
       "    <tr>\n",
       "      <th></th>\n",
       "      <th>Groups</th>\n",
       "      <th></th>\n",
       "      <th></th>\n",
       "      <th></th>\n",
       "      <th></th>\n",
       "      <th></th>\n",
       "      <th></th>\n",
       "      <th></th>\n",
       "      <th></th>\n",
       "      <th></th>\n",
       "      <th></th>\n",
       "      <th></th>\n",
       "    </tr>\n",
       "  </thead>\n",
       "  <tbody>\n",
       "    <tr>\n",
       "      <th rowspan=\"4\" valign=\"top\">original</th>\n",
       "      <th>Overall</th>\n",
       "      <td>0.868973</td>\n",
       "      <td>0.776058</td>\n",
       "      <td>0.684574</td>\n",
       "      <td>0.613887</td>\n",
       "      <td>0.798276</td>\n",
       "      <td>0.599223</td>\n",
       "      <td>0.919433</td>\n",
       "      <td>2318.0</td>\n",
       "      <td>7451.0</td>\n",
       "      <td>0.237281</td>\n",
       "      <td>0.178114</td>\n",
       "    </tr>\n",
       "    <tr>\n",
       "      <th>Female</th>\n",
       "      <td>0.934631</td>\n",
       "      <td>0.762758</td>\n",
       "      <td>0.641068</td>\n",
       "      <td>0.618349</td>\n",
       "      <td>0.780488</td>\n",
       "      <td>0.543909</td>\n",
       "      <td>0.930589</td>\n",
       "      <td>353.0</td>\n",
       "      <td>2936.0</td>\n",
       "      <td>0.107327</td>\n",
       "      <td>0.074795</td>\n",
       "    </tr>\n",
       "    <tr>\n",
       "      <th>Male</th>\n",
       "      <td>0.835648</td>\n",
       "      <td>0.771690</td>\n",
       "      <td>0.692108</td>\n",
       "      <td>0.593010</td>\n",
       "      <td>0.801205</td>\n",
       "      <td>0.609160</td>\n",
       "      <td>0.900545</td>\n",
       "      <td>1965.0</td>\n",
       "      <td>4515.0</td>\n",
       "      <td>0.303241</td>\n",
       "      <td>0.230556</td>\n",
       "    </tr>\n",
       "    <tr>\n",
       "      <th>Maximum difference</th>\n",
       "      <td>0.098982</td>\n",
       "      <td>0.008931</td>\n",
       "      <td>0.051039</td>\n",
       "      <td>0.025339</td>\n",
       "      <td>0.020717</td>\n",
       "      <td>0.065251</td>\n",
       "      <td>0.030044</td>\n",
       "      <td>1612.0</td>\n",
       "      <td>1579.0</td>\n",
       "      <td>0.195913</td>\n",
       "      <td>0.155761</td>\n",
       "    </tr>\n",
       "    <tr>\n",
       "      <th rowspan=\"4\" valign=\"top\">updated</th>\n",
       "      <th>Overall</th>\n",
       "      <td>0.842563</td>\n",
       "      <td>0.723973</td>\n",
       "      <td>0.600312</td>\n",
       "      <td>0.524332</td>\n",
       "      <td>0.754902</td>\n",
       "      <td>0.498274</td>\n",
       "      <td>0.817906</td>\n",
       "      <td>2318.0</td>\n",
       "      <td>7451.0</td>\n",
       "      <td>0.237281</td>\n",
       "      <td>0.156618</td>\n",
       "    </tr>\n",
       "    <tr>\n",
       "      <th>Female</th>\n",
       "      <td>0.901490</td>\n",
       "      <td>0.862578</td>\n",
       "      <td>0.639198</td>\n",
       "      <td>0.603680</td>\n",
       "      <td>0.526606</td>\n",
       "      <td>0.813031</td>\n",
       "      <td>0.930589</td>\n",
       "      <td>353.0</td>\n",
       "      <td>2936.0</td>\n",
       "      <td>0.107327</td>\n",
       "      <td>0.165704</td>\n",
       "    </tr>\n",
       "    <tr>\n",
       "      <th>Male</th>\n",
       "      <td>0.812654</td>\n",
       "      <td>0.707908</td>\n",
       "      <td>0.588475</td>\n",
       "      <td>0.532366</td>\n",
       "      <td>0.881218</td>\n",
       "      <td>0.441730</td>\n",
       "      <td>0.900545</td>\n",
       "      <td>1965.0</td>\n",
       "      <td>4515.0</td>\n",
       "      <td>0.303241</td>\n",
       "      <td>0.152006</td>\n",
       "    </tr>\n",
       "    <tr>\n",
       "      <th>Maximum difference</th>\n",
       "      <td>0.088835</td>\n",
       "      <td>0.154670</td>\n",
       "      <td>0.050724</td>\n",
       "      <td>0.071314</td>\n",
       "      <td>0.354613</td>\n",
       "      <td>0.371301</td>\n",
       "      <td>0.030044</td>\n",
       "      <td>1612.0</td>\n",
       "      <td>1579.0</td>\n",
       "      <td>0.195913</td>\n",
       "      <td>0.013698</td>\n",
       "    </tr>\n",
       "  </tbody>\n",
       "</table>\n",
       "</div>"
      ],
      "text/plain": [
       "                             Accuracy  Balanced Accuracy  F1 score       MCC  \\\n",
       "         Groups                                                                \n",
       "original Overall             0.868973           0.776058  0.684574  0.613887   \n",
       "          Female             0.934631           0.762758  0.641068  0.618349   \n",
       "          Male               0.835648           0.771690  0.692108  0.593010   \n",
       "         Maximum difference  0.098982           0.008931  0.051039  0.025339   \n",
       "updated  Overall             0.842563           0.723973  0.600312  0.524332   \n",
       "          Female             0.901490           0.862578  0.639198  0.603680   \n",
       "          Male               0.812654           0.707908  0.588475  0.532366   \n",
       "         Maximum difference  0.088835           0.154670  0.050724  0.071314   \n",
       "\n",
       "                             Precision    Recall   ROC AUC  Positive Count  \\\n",
       "         Groups                                                              \n",
       "original Overall              0.798276  0.599223  0.919433          2318.0   \n",
       "          Female              0.780488  0.543909  0.930589           353.0   \n",
       "          Male                0.801205  0.609160  0.900545          1965.0   \n",
       "         Maximum difference   0.020717  0.065251  0.030044          1612.0   \n",
       "updated  Overall              0.754902  0.498274  0.817906          2318.0   \n",
       "          Female              0.526606  0.813031  0.930589           353.0   \n",
       "          Male                0.881218  0.441730  0.900545          1965.0   \n",
       "         Maximum difference   0.354613  0.371301  0.030044          1612.0   \n",
       "\n",
       "                             Negative Count  Positive Label Rate  \\\n",
       "         Groups                                                    \n",
       "original Overall                     7451.0             0.237281   \n",
       "          Female                     2936.0             0.107327   \n",
       "          Male                       4515.0             0.303241   \n",
       "         Maximum difference          1579.0             0.195913   \n",
       "updated  Overall                     7451.0             0.237281   \n",
       "          Female                     2936.0             0.107327   \n",
       "          Male                       4515.0             0.303241   \n",
       "         Maximum difference          1579.0             0.195913   \n",
       "\n",
       "                             Positive Prediction Rate  \n",
       "         Groups                                        \n",
       "original Overall                             0.178114  \n",
       "          Female                             0.074795  \n",
       "          Male                               0.230556  \n",
       "         Maximum difference                  0.155761  \n",
       "updated  Overall                             0.156618  \n",
       "          Female                             0.165704  \n",
       "          Male                               0.152006  \n",
       "         Maximum difference                  0.013698  "
      ]
     },
     "execution_count": 6,
     "metadata": {},
     "output_type": "execute_result"
    }
   ],
   "source": [
    "# Evaluate a range of performance measures per group, and compare against original classifier on test data\n",
    "fpredictor.evaluate_groups(test_data, verbose=True, return_original=True)"
   ]
  },
  {
   "cell_type": "code",
   "execution_count": 7,
   "metadata": {
    "execution": {
     "iopub.execute_input": "2024-06-17T19:19:16.639839Z",
     "iopub.status.busy": "2024-06-17T19:19:16.639439Z",
     "iopub.status.idle": "2024-06-17T19:20:39.414319Z",
     "shell.execute_reply": "2024-06-17T19:20:39.408483Z"
    }
   },
   "outputs": [],
   "source": [
    "#We can repeat the same analysis using the feature 'race' instead of 'sex'\n",
    "fpredictor = FairPredictor(predictor,train_data, 'race')\n",
    "# Maximize accuracy while enforcing that the demographic parity (the difference in positive decision rates between men and women is at most 0.02)\n",
    "fpredictor.fit(gm.accuracy, gm.demographic_parity, .02)"
   ]
  },
  {
   "cell_type": "code",
   "execution_count": 8,
   "metadata": {
    "execution": {
     "iopub.execute_input": "2024-06-17T19:20:39.435818Z",
     "iopub.status.busy": "2024-06-17T19:20:39.435388Z",
     "iopub.status.idle": "2024-06-17T19:20:39.820251Z",
     "shell.execute_reply": "2024-06-17T19:20:39.819926Z"
    }
   },
   "outputs": [
    {
     "data": {
      "text/html": [
       "<div>\n",
       "<style scoped>\n",
       "    .dataframe tbody tr th:only-of-type {\n",
       "        vertical-align: middle;\n",
       "    }\n",
       "\n",
       "    .dataframe tbody tr th {\n",
       "        vertical-align: top;\n",
       "    }\n",
       "\n",
       "    .dataframe thead th {\n",
       "        text-align: right;\n",
       "    }\n",
       "</style>\n",
       "<table border=\"1\" class=\"dataframe\">\n",
       "  <thead>\n",
       "    <tr style=\"text-align: right;\">\n",
       "      <th></th>\n",
       "      <th>original</th>\n",
       "      <th>updated</th>\n",
       "    </tr>\n",
       "  </thead>\n",
       "  <tbody>\n",
       "    <tr>\n",
       "      <th>Statistical Parity</th>\n",
       "      <td>0.089690</td>\n",
       "      <td>0.043099</td>\n",
       "    </tr>\n",
       "    <tr>\n",
       "      <th>Predictive Parity</th>\n",
       "      <td>0.132235</td>\n",
       "      <td>0.241701</td>\n",
       "    </tr>\n",
       "    <tr>\n",
       "      <th>Equal Opportunity</th>\n",
       "      <td>0.153663</td>\n",
       "      <td>0.160266</td>\n",
       "    </tr>\n",
       "    <tr>\n",
       "      <th>Average Group Difference in False Negative Rate</th>\n",
       "      <td>0.153663</td>\n",
       "      <td>0.160266</td>\n",
       "    </tr>\n",
       "    <tr>\n",
       "      <th>Equalized Odds</th>\n",
       "      <td>0.092069</td>\n",
       "      <td>0.104162</td>\n",
       "    </tr>\n",
       "    <tr>\n",
       "      <th>Conditional Use Accuracy</th>\n",
       "      <td>0.082708</td>\n",
       "      <td>0.152206</td>\n",
       "    </tr>\n",
       "    <tr>\n",
       "      <th>Average Group Difference in Accuracy</th>\n",
       "      <td>0.043393</td>\n",
       "      <td>0.022143</td>\n",
       "    </tr>\n",
       "    <tr>\n",
       "      <th>Treatment Equality</th>\n",
       "      <td>0.222273</td>\n",
       "      <td>2.197229</td>\n",
       "    </tr>\n",
       "  </tbody>\n",
       "</table>\n",
       "</div>"
      ],
      "text/plain": [
       "                                                 original   updated\n",
       "Statistical Parity                               0.089690  0.043099\n",
       "Predictive Parity                                0.132235  0.241701\n",
       "Equal Opportunity                                0.153663  0.160266\n",
       "Average Group Difference in False Negative Rate  0.153663  0.160266\n",
       "Equalized Odds                                   0.092069  0.104162\n",
       "Conditional Use Accuracy                         0.082708  0.152206\n",
       "Average Group Difference in Accuracy             0.043393  0.022143\n",
       "Treatment Equality                               0.222273  2.197229"
      ]
     },
     "execution_count": 8,
     "metadata": {},
     "output_type": "execute_result"
    }
   ],
   "source": [
    "# Unlike the previous case, we find that demographic parity is still high on test data, although it is improved.\n",
    "fpredictor.evaluate_fairness(test_data, verbose=True)"
   ]
  },
  {
   "cell_type": "code",
   "execution_count": 9,
   "metadata": {
    "execution": {
     "iopub.execute_input": "2024-06-17T19:20:39.824487Z",
     "iopub.status.busy": "2024-06-17T19:20:39.824220Z",
     "iopub.status.idle": "2024-06-17T19:20:42.456476Z",
     "shell.execute_reply": "2024-06-17T19:20:42.456153Z"
    }
   },
   "outputs": [
    {
     "data": {
      "image/png": "[encoded data removed]",
      "text/plain": [
       "<Figure size 640x480 with 1 Axes>"
      ]
     },
     "metadata": {},
     "output_type": "display_data"
    }
   ],
   "source": [
    "#To debug this, we can look at the Pareto Frontier of solutions considered, on the training set\n",
    "fpredictor.plot_frontier() "
   ]
  },
  {
   "cell_type": "code",
   "execution_count": 10,
   "metadata": {
    "execution": {
     "iopub.execute_input": "2024-06-17T19:20:42.460837Z",
     "iopub.status.busy": "2024-06-17T19:20:42.460694Z",
     "iopub.status.idle": "2024-06-17T19:20:43.130390Z",
     "shell.execute_reply": "2024-06-17T19:20:43.130014Z"
    }
   },
   "outputs": [
    {
     "data": {
      "image/png": "[encoded data removed]",
      "text/plain": [
       "<Figure size 640x480 with 1 Axes>"
      ]
     },
     "metadata": {},
     "output_type": "display_data"
    }
   ],
   "source": [
    "#and on the test set\n",
    "fpredictor.plot_frontier(test_data) "
   ]
  },
  {
   "cell_type": "code",
   "execution_count": 11,
   "metadata": {
    "execution": {
     "iopub.execute_input": "2024-06-17T19:20:43.133407Z",
     "iopub.status.busy": "2024-06-17T19:20:43.133279Z",
     "iopub.status.idle": "2024-06-17T19:20:43.491964Z",
     "shell.execute_reply": "2024-06-17T19:20:43.491628Z"
    }
   },
   "outputs": [
    {
     "data": {
      "text/html": [
       "<div>\n",
       "<style scoped>\n",
       "    .dataframe tbody tr th:only-of-type {\n",
       "        vertical-align: middle;\n",
       "    }\n",
       "\n",
       "    .dataframe tbody tr th {\n",
       "        vertical-align: top;\n",
       "    }\n",
       "\n",
       "    .dataframe thead th {\n",
       "        text-align: right;\n",
       "    }\n",
       "</style>\n",
       "<table border=\"1\" class=\"dataframe\">\n",
       "  <thead>\n",
       "    <tr style=\"text-align: right;\">\n",
       "      <th></th>\n",
       "      <th></th>\n",
       "      <th>Accuracy</th>\n",
       "      <th>Balanced Accuracy</th>\n",
       "      <th>F1 score</th>\n",
       "      <th>MCC</th>\n",
       "      <th>Precision</th>\n",
       "      <th>Recall</th>\n",
       "      <th>ROC AUC</th>\n",
       "      <th>Positive Count</th>\n",
       "      <th>Negative Count</th>\n",
       "      <th>Positive Label Rate</th>\n",
       "      <th>Positive Prediction Rate</th>\n",
       "    </tr>\n",
       "    <tr>\n",
       "      <th></th>\n",
       "      <th>Groups</th>\n",
       "      <th></th>\n",
       "      <th></th>\n",
       "      <th></th>\n",
       "      <th></th>\n",
       "      <th></th>\n",
       "      <th></th>\n",
       "      <th></th>\n",
       "      <th></th>\n",
       "      <th></th>\n",
       "      <th></th>\n",
       "      <th></th>\n",
       "    </tr>\n",
       "  </thead>\n",
       "  <tbody>\n",
       "    <tr>\n",
       "      <th rowspan=\"7\" valign=\"top\">original</th>\n",
       "      <th>Overall</th>\n",
       "      <td>0.868973</td>\n",
       "      <td>0.776058</td>\n",
       "      <td>0.684574</td>\n",
       "      <td>0.613887</td>\n",
       "      <td>0.798276</td>\n",
       "      <td>0.599223</td>\n",
       "      <td>0.919433</td>\n",
       "      <td>2318.0</td>\n",
       "      <td>7451.0</td>\n",
       "      <td>0.237281</td>\n",
       "      <td>0.178114</td>\n",
       "    </tr>\n",
       "    <tr>\n",
       "      <th>Amer-Indian-Eskimo</th>\n",
       "      <td>0.934959</td>\n",
       "      <td>0.636364</td>\n",
       "      <td>0.428571</td>\n",
       "      <td>0.504525</td>\n",
       "      <td>1.000000</td>\n",
       "      <td>0.272727</td>\n",
       "      <td>0.928571</td>\n",
       "      <td>11.0</td>\n",
       "      <td>112.0</td>\n",
       "      <td>0.089431</td>\n",
       "      <td>0.024390</td>\n",
       "    </tr>\n",
       "    <tr>\n",
       "      <th>Asian-Pac-Islander</th>\n",
       "      <td>0.859756</td>\n",
       "      <td>0.764319</td>\n",
       "      <td>0.661765</td>\n",
       "      <td>0.583363</td>\n",
       "      <td>0.762712</td>\n",
       "      <td>0.584416</td>\n",
       "      <td>0.900864</td>\n",
       "      <td>77.0</td>\n",
       "      <td>251.0</td>\n",
       "      <td>0.234756</td>\n",
       "      <td>0.179878</td>\n",
       "    </tr>\n",
       "    <tr>\n",
       "      <th>Black</th>\n",
       "      <td>0.928171</td>\n",
       "      <td>0.737251</td>\n",
       "      <td>0.619048</td>\n",
       "      <td>0.610779</td>\n",
       "      <td>0.852459</td>\n",
       "      <td>0.485981</td>\n",
       "      <td>0.940647</td>\n",
       "      <td>107.0</td>\n",
       "      <td>784.0</td>\n",
       "      <td>0.120090</td>\n",
       "      <td>0.068462</td>\n",
       "    </tr>\n",
       "    <tr>\n",
       "      <th>Other</th>\n",
       "      <td>0.913580</td>\n",
       "      <td>0.735915</td>\n",
       "      <td>0.588235</td>\n",
       "      <td>0.552396</td>\n",
       "      <td>0.714286</td>\n",
       "      <td>0.500000</td>\n",
       "      <td>0.863380</td>\n",
       "      <td>10.0</td>\n",
       "      <td>71.0</td>\n",
       "      <td>0.123457</td>\n",
       "      <td>0.086420</td>\n",
       "    </tr>\n",
       "    <tr>\n",
       "      <th>White</th>\n",
       "      <td>0.861610</td>\n",
       "      <td>0.777682</td>\n",
       "      <td>0.689766</td>\n",
       "      <td>0.612016</td>\n",
       "      <td>0.797516</td>\n",
       "      <td>0.607667</td>\n",
       "      <td>0.916398</td>\n",
       "      <td>2113.0</td>\n",
       "      <td>6233.0</td>\n",
       "      <td>0.253175</td>\n",
       "      <td>0.192907</td>\n",
       "    </tr>\n",
       "    <tr>\n",
       "      <th>Maximum difference</th>\n",
       "      <td>0.075203</td>\n",
       "      <td>0.141319</td>\n",
       "      <td>0.261195</td>\n",
       "      <td>0.107491</td>\n",
       "      <td>0.285714</td>\n",
       "      <td>0.334940</td>\n",
       "      <td>0.077267</td>\n",
       "      <td>2103.0</td>\n",
       "      <td>6162.0</td>\n",
       "      <td>0.163744</td>\n",
       "      <td>0.168517</td>\n",
       "    </tr>\n",
       "    <tr>\n",
       "      <th rowspan=\"7\" valign=\"top\">updated</th>\n",
       "      <th>Overall</th>\n",
       "      <td>0.864981</td>\n",
       "      <td>0.780276</td>\n",
       "      <td>0.685128</td>\n",
       "      <td>0.606017</td>\n",
       "      <td>0.766970</td>\n",
       "      <td>0.619068</td>\n",
       "      <td>0.902293</td>\n",
       "      <td>2318.0</td>\n",
       "      <td>7451.0</td>\n",
       "      <td>0.237281</td>\n",
       "      <td>0.191524</td>\n",
       "    </tr>\n",
       "    <tr>\n",
       "      <th>Amer-Indian-Eskimo</th>\n",
       "      <td>0.878049</td>\n",
       "      <td>0.769075</td>\n",
       "      <td>0.482759</td>\n",
       "      <td>0.434487</td>\n",
       "      <td>0.388889</td>\n",
       "      <td>0.636364</td>\n",
       "      <td>0.928571</td>\n",
       "      <td>11.0</td>\n",
       "      <td>112.0</td>\n",
       "      <td>0.089431</td>\n",
       "      <td>0.146341</td>\n",
       "    </tr>\n",
       "    <tr>\n",
       "      <th>Asian-Pac-Islander</th>\n",
       "      <td>0.850610</td>\n",
       "      <td>0.713329</td>\n",
       "      <td>0.588235</td>\n",
       "      <td>0.541195</td>\n",
       "      <td>0.833333</td>\n",
       "      <td>0.454545</td>\n",
       "      <td>0.900864</td>\n",
       "      <td>77.0</td>\n",
       "      <td>251.0</td>\n",
       "      <td>0.234756</td>\n",
       "      <td>0.128049</td>\n",
       "    </tr>\n",
       "    <tr>\n",
       "      <th>Black</th>\n",
       "      <td>0.897868</td>\n",
       "      <td>0.824945</td>\n",
       "      <td>0.631579</td>\n",
       "      <td>0.580505</td>\n",
       "      <td>0.557143</td>\n",
       "      <td>0.728972</td>\n",
       "      <td>0.940647</td>\n",
       "      <td>107.0</td>\n",
       "      <td>784.0</td>\n",
       "      <td>0.120090</td>\n",
       "      <td>0.157127</td>\n",
       "    </tr>\n",
       "    <tr>\n",
       "      <th>Other</th>\n",
       "      <td>0.864198</td>\n",
       "      <td>0.836620</td>\n",
       "      <td>0.592593</td>\n",
       "      <td>0.543856</td>\n",
       "      <td>0.470588</td>\n",
       "      <td>0.800000</td>\n",
       "      <td>0.863380</td>\n",
       "      <td>10.0</td>\n",
       "      <td>71.0</td>\n",
       "      <td>0.123457</td>\n",
       "      <td>0.209877</td>\n",
       "    </tr>\n",
       "    <tr>\n",
       "      <th>White</th>\n",
       "      <td>0.861850</td>\n",
       "      <td>0.781440</td>\n",
       "      <td>0.693921</td>\n",
       "      <td>0.614000</td>\n",
       "      <td>0.790206</td>\n",
       "      <td>0.618552</td>\n",
       "      <td>0.916398</td>\n",
       "      <td>2113.0</td>\n",
       "      <td>6233.0</td>\n",
       "      <td>0.253175</td>\n",
       "      <td>0.198179</td>\n",
       "    </tr>\n",
       "    <tr>\n",
       "      <th>Maximum difference</th>\n",
       "      <td>0.047258</td>\n",
       "      <td>0.123291</td>\n",
       "      <td>0.211162</td>\n",
       "      <td>0.179513</td>\n",
       "      <td>0.444444</td>\n",
       "      <td>0.345455</td>\n",
       "      <td>0.077267</td>\n",
       "      <td>2103.0</td>\n",
       "      <td>6162.0</td>\n",
       "      <td>0.163744</td>\n",
       "      <td>0.081828</td>\n",
       "    </tr>\n",
       "  </tbody>\n",
       "</table>\n",
       "</div>"
      ],
      "text/plain": [
       "                              Accuracy  Balanced Accuracy  F1 score       MCC  \\\n",
       "         Groups                                                                 \n",
       "original Overall              0.868973           0.776058  0.684574  0.613887   \n",
       "          Amer-Indian-Eskimo  0.934959           0.636364  0.428571  0.504525   \n",
       "          Asian-Pac-Islander  0.859756           0.764319  0.661765  0.583363   \n",
       "          Black               0.928171           0.737251  0.619048  0.610779   \n",
       "          Other               0.913580           0.735915  0.588235  0.552396   \n",
       "          White               0.861610           0.777682  0.689766  0.612016   \n",
       "         Maximum difference   0.075203           0.141319  0.261195  0.107491   \n",
       "updated  Overall              0.864981           0.780276  0.685128  0.606017   \n",
       "          Amer-Indian-Eskimo  0.878049           0.769075  0.482759  0.434487   \n",
       "          Asian-Pac-Islander  0.850610           0.713329  0.588235  0.541195   \n",
       "          Black               0.897868           0.824945  0.631579  0.580505   \n",
       "          Other               0.864198           0.836620  0.592593  0.543856   \n",
       "          White               0.861850           0.781440  0.693921  0.614000   \n",
       "         Maximum difference   0.047258           0.123291  0.211162  0.179513   \n",
       "\n",
       "                              Precision    Recall   ROC AUC  Positive Count  \\\n",
       "         Groups                                                               \n",
       "original Overall               0.798276  0.599223  0.919433          2318.0   \n",
       "          Amer-Indian-Eskimo   1.000000  0.272727  0.928571            11.0   \n",
       "          Asian-Pac-Islander   0.762712  0.584416  0.900864            77.0   \n",
       "          Black                0.852459  0.485981  0.940647           107.0   \n",
       "          Other                0.714286  0.500000  0.863380            10.0   \n",
       "          White                0.797516  0.607667  0.916398          2113.0   \n",
       "         Maximum difference    0.285714  0.334940  0.077267          2103.0   \n",
       "updated  Overall               0.766970  0.619068  0.902293          2318.0   \n",
       "          Amer-Indian-Eskimo   0.388889  0.636364  0.928571            11.0   \n",
       "          Asian-Pac-Islander   0.833333  0.454545  0.900864            77.0   \n",
       "          Black                0.557143  0.728972  0.940647           107.0   \n",
       "          Other                0.470588  0.800000  0.863380            10.0   \n",
       "          White                0.790206  0.618552  0.916398          2113.0   \n",
       "         Maximum difference    0.444444  0.345455  0.077267          2103.0   \n",
       "\n",
       "                              Negative Count  Positive Label Rate  \\\n",
       "         Groups                                                     \n",
       "original Overall                      7451.0             0.237281   \n",
       "          Amer-Indian-Eskimo           112.0             0.089431   \n",
       "          Asian-Pac-Islander           251.0             0.234756   \n",
       "          Black                        784.0             0.120090   \n",
       "          Other                         71.0             0.123457   \n",
       "          White                       6233.0             0.253175   \n",
       "         Maximum difference           6162.0             0.163744   \n",
       "updated  Overall                      7451.0             0.237281   \n",
       "          Amer-Indian-Eskimo           112.0             0.089431   \n",
       "          Asian-Pac-Islander           251.0             0.234756   \n",
       "          Black                        784.0             0.120090   \n",
       "          Other                         71.0             0.123457   \n",
       "          White                       6233.0             0.253175   \n",
       "         Maximum difference           6162.0             0.163744   \n",
       "\n",
       "                              Positive Prediction Rate  \n",
       "         Groups                                         \n",
       "original Overall                              0.178114  \n",
       "          Amer-Indian-Eskimo                  0.024390  \n",
       "          Asian-Pac-Islander                  0.179878  \n",
       "          Black                               0.068462  \n",
       "          Other                               0.086420  \n",
       "          White                               0.192907  \n",
       "         Maximum difference                   0.168517  \n",
       "updated  Overall                              0.191524  \n",
       "          Amer-Indian-Eskimo                  0.146341  \n",
       "          Asian-Pac-Islander                  0.128049  \n",
       "          Black                               0.157127  \n",
       "          Other                               0.209877  \n",
       "          White                               0.198179  \n",
       "         Maximum difference                   0.081828  "
      ]
     },
     "execution_count": 11,
     "metadata": {},
     "output_type": "execute_result"
    }
   ],
   "source": [
    "#We find that the demographic parity is very different on test data for a range of solutions found.\n",
    "#By looking at the per group decomposition, we can find out why.\n",
    "fpredictor.evaluate_groups(test_data, verbose=True)"
   ]
  },
  {
   "cell_type": "code",
   "execution_count": 12,
   "metadata": {
    "execution": {
     "iopub.execute_input": "2024-06-17T19:20:43.494315Z",
     "iopub.status.busy": "2024-06-17T19:20:43.494162Z",
     "iopub.status.idle": "2024-06-17T19:20:44.705811Z",
     "shell.execute_reply": "2024-06-17T19:20:44.705529Z"
    }
   },
   "outputs": [
    {
     "data": {
      "text/html": [
       "<div>\n",
       "<style scoped>\n",
       "    .dataframe tbody tr th:only-of-type {\n",
       "        vertical-align: middle;\n",
       "    }\n",
       "\n",
       "    .dataframe tbody tr th {\n",
       "        vertical-align: top;\n",
       "    }\n",
       "\n",
       "    .dataframe thead th {\n",
       "        text-align: right;\n",
       "    }\n",
       "</style>\n",
       "<table border=\"1\" class=\"dataframe\">\n",
       "  <thead>\n",
       "    <tr style=\"text-align: right;\">\n",
       "      <th></th>\n",
       "      <th></th>\n",
       "      <th>Accuracy</th>\n",
       "      <th>Balanced Accuracy</th>\n",
       "      <th>F1 score</th>\n",
       "      <th>MCC</th>\n",
       "      <th>Precision</th>\n",
       "      <th>Recall</th>\n",
       "      <th>ROC AUC</th>\n",
       "      <th>Positive Count</th>\n",
       "      <th>Negative Count</th>\n",
       "      <th>Positive Label Rate</th>\n",
       "      <th>Positive Prediction Rate</th>\n",
       "    </tr>\n",
       "    <tr>\n",
       "      <th></th>\n",
       "      <th>Groups</th>\n",
       "      <th></th>\n",
       "      <th></th>\n",
       "      <th></th>\n",
       "      <th></th>\n",
       "      <th></th>\n",
       "      <th></th>\n",
       "      <th></th>\n",
       "      <th></th>\n",
       "      <th></th>\n",
       "      <th></th>\n",
       "      <th></th>\n",
       "    </tr>\n",
       "  </thead>\n",
       "  <tbody>\n",
       "    <tr>\n",
       "      <th rowspan=\"7\" valign=\"top\">original</th>\n",
       "      <th>Overall</th>\n",
       "      <td>0.888951</td>\n",
       "      <td>0.812828</td>\n",
       "      <td>0.742171</td>\n",
       "      <td>0.679654</td>\n",
       "      <td>0.837131</td>\n",
       "      <td>0.666560</td>\n",
       "      <td>0.951884</td>\n",
       "      <td>9369.0</td>\n",
       "      <td>29704.0</td>\n",
       "      <td>0.239782</td>\n",
       "      <td>0.190925</td>\n",
       "    </tr>\n",
       "    <tr>\n",
       "      <th>Amer-Indian-Eskimo</th>\n",
       "      <td>0.936599</td>\n",
       "      <td>0.798567</td>\n",
       "      <td>0.710526</td>\n",
       "      <td>0.686736</td>\n",
       "      <td>0.843750</td>\n",
       "      <td>0.613636</td>\n",
       "      <td>0.957846</td>\n",
       "      <td>44.0</td>\n",
       "      <td>303.0</td>\n",
       "      <td>0.126801</td>\n",
       "      <td>0.092219</td>\n",
       "    </tr>\n",
       "    <tr>\n",
       "      <th>Asian-Pac-Islander</th>\n",
       "      <td>0.874895</td>\n",
       "      <td>0.827344</td>\n",
       "      <td>0.762360</td>\n",
       "      <td>0.680040</td>\n",
       "      <td>0.810169</td>\n",
       "      <td>0.719880</td>\n",
       "      <td>0.947550</td>\n",
       "      <td>332.0</td>\n",
       "      <td>859.0</td>\n",
       "      <td>0.278757</td>\n",
       "      <td>0.247691</td>\n",
       "    </tr>\n",
       "    <tr>\n",
       "      <th>Black</th>\n",
       "      <td>0.935424</td>\n",
       "      <td>0.781025</td>\n",
       "      <td>0.683871</td>\n",
       "      <td>0.663316</td>\n",
       "      <td>0.838608</td>\n",
       "      <td>0.577342</td>\n",
       "      <td>0.973068</td>\n",
       "      <td>459.0</td>\n",
       "      <td>3335.0</td>\n",
       "      <td>0.120980</td>\n",
       "      <td>0.083289</td>\n",
       "    </tr>\n",
       "    <tr>\n",
       "      <th>Other</th>\n",
       "      <td>0.926154</td>\n",
       "      <td>0.742982</td>\n",
       "      <td>0.625000</td>\n",
       "      <td>0.610476</td>\n",
       "      <td>0.833333</td>\n",
       "      <td>0.500000</td>\n",
       "      <td>0.980877</td>\n",
       "      <td>40.0</td>\n",
       "      <td>285.0</td>\n",
       "      <td>0.123077</td>\n",
       "      <td>0.073846</td>\n",
       "    </tr>\n",
       "    <tr>\n",
       "      <th>White</th>\n",
       "      <td>0.883319</td>\n",
       "      <td>0.813129</td>\n",
       "      <td>0.744947</td>\n",
       "      <td>0.677550</td>\n",
       "      <td>0.838216</td>\n",
       "      <td>0.670356</td>\n",
       "      <td>0.948752</td>\n",
       "      <td>8494.0</td>\n",
       "      <td>24922.0</td>\n",
       "      <td>0.254190</td>\n",
       "      <td>0.203286</td>\n",
       "    </tr>\n",
       "    <tr>\n",
       "      <th>Maximum difference</th>\n",
       "      <td>0.061704</td>\n",
       "      <td>0.084361</td>\n",
       "      <td>0.137360</td>\n",
       "      <td>0.076260</td>\n",
       "      <td>0.033581</td>\n",
       "      <td>0.219880</td>\n",
       "      <td>0.033327</td>\n",
       "      <td>8454.0</td>\n",
       "      <td>24637.0</td>\n",
       "      <td>0.157777</td>\n",
       "      <td>0.173845</td>\n",
       "    </tr>\n",
       "    <tr>\n",
       "      <th rowspan=\"7\" valign=\"top\">updated</th>\n",
       "      <th>Overall</th>\n",
       "      <td>0.888260</td>\n",
       "      <td>0.820083</td>\n",
       "      <td>0.747309</td>\n",
       "      <td>0.680235</td>\n",
       "      <td>0.816285</td>\n",
       "      <td>0.689081</td>\n",
       "      <td>0.938464</td>\n",
       "      <td>9369.0</td>\n",
       "      <td>29704.0</td>\n",
       "      <td>0.239782</td>\n",
       "      <td>0.202416</td>\n",
       "    </tr>\n",
       "    <tr>\n",
       "      <th>Amer-Indian-Eskimo</th>\n",
       "      <td>0.907781</td>\n",
       "      <td>0.879200</td>\n",
       "      <td>0.698113</td>\n",
       "      <td>0.658761</td>\n",
       "      <td>0.596774</td>\n",
       "      <td>0.840909</td>\n",
       "      <td>0.957846</td>\n",
       "      <td>44.0</td>\n",
       "      <td>303.0</td>\n",
       "      <td>0.126801</td>\n",
       "      <td>0.178674</td>\n",
       "    </tr>\n",
       "    <tr>\n",
       "      <th>Asian-Pac-Islander</th>\n",
       "      <td>0.865659</td>\n",
       "      <td>0.777515</td>\n",
       "      <td>0.705882</td>\n",
       "      <td>0.650614</td>\n",
       "      <td>0.905660</td>\n",
       "      <td>0.578313</td>\n",
       "      <td>0.947550</td>\n",
       "      <td>332.0</td>\n",
       "      <td>859.0</td>\n",
       "      <td>0.278757</td>\n",
       "      <td>0.178002</td>\n",
       "    </tr>\n",
       "    <tr>\n",
       "      <th>Black</th>\n",
       "      <td>0.927517</td>\n",
       "      <td>0.898649</td>\n",
       "      <td>0.741784</td>\n",
       "      <td>0.709708</td>\n",
       "      <td>0.651815</td>\n",
       "      <td>0.860566</td>\n",
       "      <td>0.973068</td>\n",
       "      <td>459.0</td>\n",
       "      <td>3335.0</td>\n",
       "      <td>0.120980</td>\n",
       "      <td>0.159726</td>\n",
       "    </tr>\n",
       "    <tr>\n",
       "      <th>Other</th>\n",
       "      <td>0.938462</td>\n",
       "      <td>0.954167</td>\n",
       "      <td>0.795918</td>\n",
       "      <td>0.779342</td>\n",
       "      <td>0.672414</td>\n",
       "      <td>0.975000</td>\n",
       "      <td>0.980877</td>\n",
       "      <td>40.0</td>\n",
       "      <td>285.0</td>\n",
       "      <td>0.123077</td>\n",
       "      <td>0.178462</td>\n",
       "    </tr>\n",
       "    <tr>\n",
       "      <th>White</th>\n",
       "      <td>0.883918</td>\n",
       "      <td>0.817372</td>\n",
       "      <td>0.749176</td>\n",
       "      <td>0.680184</td>\n",
       "      <td>0.831014</td>\n",
       "      <td>0.682011</td>\n",
       "      <td>0.948752</td>\n",
       "      <td>8494.0</td>\n",
       "      <td>24922.0</td>\n",
       "      <td>0.254190</td>\n",
       "      <td>0.208613</td>\n",
       "    </tr>\n",
       "    <tr>\n",
       "      <th>Maximum difference</th>\n",
       "      <td>0.072802</td>\n",
       "      <td>0.176651</td>\n",
       "      <td>0.097805</td>\n",
       "      <td>0.128728</td>\n",
       "      <td>0.308886</td>\n",
       "      <td>0.396687</td>\n",
       "      <td>0.033327</td>\n",
       "      <td>8454.0</td>\n",
       "      <td>24637.0</td>\n",
       "      <td>0.157777</td>\n",
       "      <td>0.048887</td>\n",
       "    </tr>\n",
       "  </tbody>\n",
       "</table>\n",
       "</div>"
      ],
      "text/plain": [
       "                              Accuracy  Balanced Accuracy  F1 score       MCC  \\\n",
       "         Groups                                                                 \n",
       "original Overall              0.888951           0.812828  0.742171  0.679654   \n",
       "          Amer-Indian-Eskimo  0.936599           0.798567  0.710526  0.686736   \n",
       "          Asian-Pac-Islander  0.874895           0.827344  0.762360  0.680040   \n",
       "          Black               0.935424           0.781025  0.683871  0.663316   \n",
       "          Other               0.926154           0.742982  0.625000  0.610476   \n",
       "          White               0.883319           0.813129  0.744947  0.677550   \n",
       "         Maximum difference   0.061704           0.084361  0.137360  0.076260   \n",
       "updated  Overall              0.888260           0.820083  0.747309  0.680235   \n",
       "          Amer-Indian-Eskimo  0.907781           0.879200  0.698113  0.658761   \n",
       "          Asian-Pac-Islander  0.865659           0.777515  0.705882  0.650614   \n",
       "          Black               0.927517           0.898649  0.741784  0.709708   \n",
       "          Other               0.938462           0.954167  0.795918  0.779342   \n",
       "          White               0.883918           0.817372  0.749176  0.680184   \n",
       "         Maximum difference   0.072802           0.176651  0.097805  0.128728   \n",
       "\n",
       "                              Precision    Recall   ROC AUC  Positive Count  \\\n",
       "         Groups                                                               \n",
       "original Overall               0.837131  0.666560  0.951884          9369.0   \n",
       "          Amer-Indian-Eskimo   0.843750  0.613636  0.957846            44.0   \n",
       "          Asian-Pac-Islander   0.810169  0.719880  0.947550           332.0   \n",
       "          Black                0.838608  0.577342  0.973068           459.0   \n",
       "          Other                0.833333  0.500000  0.980877            40.0   \n",
       "          White                0.838216  0.670356  0.948752          8494.0   \n",
       "         Maximum difference    0.033581  0.219880  0.033327          8454.0   \n",
       "updated  Overall               0.816285  0.689081  0.938464          9369.0   \n",
       "          Amer-Indian-Eskimo   0.596774  0.840909  0.957846            44.0   \n",
       "          Asian-Pac-Islander   0.905660  0.578313  0.947550           332.0   \n",
       "          Black                0.651815  0.860566  0.973068           459.0   \n",
       "          Other                0.672414  0.975000  0.980877            40.0   \n",
       "          White                0.831014  0.682011  0.948752          8494.0   \n",
       "         Maximum difference    0.308886  0.396687  0.033327          8454.0   \n",
       "\n",
       "                              Negative Count  Positive Label Rate  \\\n",
       "         Groups                                                     \n",
       "original Overall                     29704.0             0.239782   \n",
       "          Amer-Indian-Eskimo           303.0             0.126801   \n",
       "          Asian-Pac-Islander           859.0             0.278757   \n",
       "          Black                       3335.0             0.120980   \n",
       "          Other                        285.0             0.123077   \n",
       "          White                      24922.0             0.254190   \n",
       "         Maximum difference          24637.0             0.157777   \n",
       "updated  Overall                     29704.0             0.239782   \n",
       "          Amer-Indian-Eskimo           303.0             0.126801   \n",
       "          Asian-Pac-Islander           859.0             0.278757   \n",
       "          Black                       3335.0             0.120980   \n",
       "          Other                        285.0             0.123077   \n",
       "          White                      24922.0             0.254190   \n",
       "         Maximum difference          24637.0             0.157777   \n",
       "\n",
       "                              Positive Prediction Rate  \n",
       "         Groups                                         \n",
       "original Overall                              0.190925  \n",
       "          Amer-Indian-Eskimo                  0.092219  \n",
       "          Asian-Pac-Islander                  0.247691  \n",
       "          Black                               0.083289  \n",
       "          Other                               0.073846  \n",
       "          White                               0.203286  \n",
       "         Maximum difference                   0.173845  \n",
       "updated  Overall                              0.202416  \n",
       "          Amer-Indian-Eskimo                  0.178674  \n",
       "          Asian-Pac-Islander                  0.178002  \n",
       "          Black                               0.159726  \n",
       "          Other                               0.178462  \n",
       "          White                               0.208613  \n",
       "         Maximum difference                   0.048887  "
      ]
     },
     "execution_count": 12,
     "metadata": {},
     "output_type": "execute_result"
    }
   ],
   "source": [
    "#The groups with the smallest Positive Prediction Rate (American-Indian-Eskimo, and Asian-Pacific-Islander) \n",
    "# only have around 100-300 samples making it impossible to accurately evaluate demographic parity, while the\n",
    "# group labelled 'Other' has even less data.\n",
    "# Moreover, on training data we find that there are less than 350 people identified as American-Indian-Eskimo, \n",
    "# meaning that it is not possible to predict if the positive prediction rate will hold on new data. \n",
    "fpredictor.evaluate_groups(verbose=True)"
   ]
  },
  {
   "cell_type": "markdown",
   "metadata": {},
   "source": [
    "## Fairness on COMPAS using Inferred Attributes\n",
    "\n",
    "We demonstrate how to enforce a wide range of fairness definitions on the COMPAS dataset. This dataset records paroles caught violating the terms of parole. As it measures who was caught, it is strongly influenced by policing and environmental biases, and should not be confused with a measurement of who actually violated their terms of parole. See [this paper](https://datasets-benchmarks-proceedings.neurips.cc/paper/2021/file/92cc227532d17e56e07902b254dfad10-Paper-round1.pdf) for a discussion of its limitations and caveats. \n",
    "We use it because it is a standard fairness dataset that captures such strong differences in outcome between people identified as African-American and everyone else, that classifiers trained on this dataset violate most definitions of fairness.\n",
    "\n",
    "As many of the ethnic groups are too small for reliable statistical estimation, we only consider differences is in outcomes between African-Americans vs. everyone else (labeled as other).\n",
    "We load and preprocess the COMPAS dataset, splitting it into three roughly equal partitions of train, validation, and test:"
   ]
  },
  {
   "cell_type": "code",
   "execution_count": 13,
   "metadata": {
    "execution": {
     "iopub.execute_input": "2024-06-17T19:20:44.708055Z",
     "iopub.status.busy": "2024-06-17T19:20:44.707943Z",
     "iopub.status.idle": "2024-06-17T19:20:45.349115Z",
     "shell.execute_reply": "2024-06-17T19:20:45.348796Z"
    }
   },
   "outputs": [],
   "source": [
    "import numpy as np\n",
    "import pandas as pd\n",
    "from oxonfair import inferred_attribute_builder\n",
    "all_data = pd.read_csv('https://github.com/propublica/compas-analysis/raw/master/compas-scores-two-years.csv')\n",
    "condensed_data=all_data[['sex','race','age', 'juv_fel_count', 'juv_misd_count', 'juv_other_count', 'priors_count', 'age_cat', 'c_charge_degree','two_year_recid']].copy()\n",
    "condensed_data.replace({'Caucasian':'Other', 'Hispanic':'Other', 'Native American':'Other', 'Asian':'Other'},inplace=True)\n",
    "train=condensed_data.sample(frac=0.3, random_state=0)\n",
    "val_and_test=condensed_data.drop(train.index)\n",
    "val=val_and_test.sample(frac=0.5, random_state=0)\n",
    "test=val_and_test.drop(val.index)"
   ]
  },
  {
   "cell_type": "code",
   "execution_count": 14,
   "metadata": {
    "execution": {
     "iopub.execute_input": "2024-06-17T19:20:45.351727Z",
     "iopub.status.busy": "2024-06-17T19:20:45.351607Z",
     "iopub.status.idle": "2024-06-17T19:20:55.582861Z",
     "shell.execute_reply": "2024-06-17T19:20:55.582379Z"
    }
   },
   "outputs": [
    {
     "name": "stderr",
     "output_type": "stream",
     "text": [
      "No path specified. Models will be saved in: \"AutogluonModels/ag-20240617_192045\"\n"
     ]
    },
    {
     "name": "stderr",
     "output_type": "stream",
     "text": [
      "No presets specified! To achieve strong results with AutoGluon, it is recommended to use the available presets.\n",
      "\tRecommended Presets (For more details refer to https://auto.gluon.ai/stable/tutorials/tabular/tabular-essentials.html#presets):\n",
      "\tpresets='best_quality'   : Maximize accuracy. Default time_limit=3600.\n",
      "\tpresets='high_quality'   : Strong accuracy with fast inference speed. Default time_limit=3600.\n",
      "\tpresets='good_quality'   : Good accuracy with very fast inference speed. Default time_limit=3600.\n",
      "\tpresets='medium_quality' : Fast training time, ideal for initial prototyping.\n"
     ]
    },
    {
     "name": "stderr",
     "output_type": "stream",
     "text": [
      "Beginning AutoGluon training ... Time limit = 5s\n"
     ]
    },
    {
     "name": "stderr",
     "output_type": "stream",
     "text": [
      "AutoGluon will save models to \"AutogluonModels/ag-20240617_192045\"\n"
     ]
    },
    {
     "name": "stderr",
     "output_type": "stream",
     "text": [
      "=================== System Info ===================\n",
      "AutoGluon Version:  1.1.0\n",
      "Python Version:     3.10.13\n",
      "Operating System:   Darwin\n",
      "Platform Machine:   arm64\n",
      "Platform Version:   Darwin Kernel Version 23.5.0: Wed May  1 20:14:38 PDT 2024; root:xnu-10063.121.3~5/RELEASE_ARM64_T6020\n",
      "CPU Count:          10\n",
      "Memory Avail:       9.80 GB / 16.00 GB (61.3%)\n",
      "Disk Space Avail:   357.78 GB / 460.43 GB (77.7%)\n",
      "===================================================\n"
     ]
    },
    {
     "name": "stderr",
     "output_type": "stream",
     "text": [
      "Train Data Rows:    2164\n"
     ]
    },
    {
     "name": "stderr",
     "output_type": "stream",
     "text": [
      "Train Data Columns: 8\n"
     ]
    },
    {
     "name": "stderr",
     "output_type": "stream",
     "text": [
      "Label Column:       two_year_recid\n"
     ]
    },
    {
     "name": "stderr",
     "output_type": "stream",
     "text": [
      "AutoGluon infers your prediction problem is: 'binary' (because only two unique label-values observed).\n"
     ]
    },
    {
     "name": "stderr",
     "output_type": "stream",
     "text": [
      "\t2 unique label values:  [0, 1]\n"
     ]
    },
    {
     "name": "stderr",
     "output_type": "stream",
     "text": [
      "\tIf 'binary' is not the correct problem_type, please manually specify the problem_type parameter during predictor init (You may specify problem_type as one of: ['binary', 'multiclass', 'regression'])\n"
     ]
    },
    {
     "name": "stderr",
     "output_type": "stream",
     "text": [
      "Problem Type:       binary\n"
     ]
    },
    {
     "name": "stderr",
     "output_type": "stream",
     "text": [
      "Preprocessing data ...\n"
     ]
    },
    {
     "name": "stderr",
     "output_type": "stream",
     "text": [
      "Selected class <--> label mapping:  class 1 = 1, class 0 = 0\n"
     ]
    },
    {
     "name": "stderr",
     "output_type": "stream",
     "text": [
      "Using Feature Generators to preprocess the data ...\n"
     ]
    },
    {
     "name": "stderr",
     "output_type": "stream",
     "text": [
      "Fitting AutoMLPipelineFeatureGenerator...\n"
     ]
    },
    {
     "name": "stderr",
     "output_type": "stream",
     "text": [
      "\tAvailable Memory:                    10034.31 MB\n"
     ]
    },
    {
     "name": "stderr",
     "output_type": "stream",
     "text": [
      "\tTrain Data (Original)  Memory Usage: 0.47 MB (0.0% of available memory)\n"
     ]
    },
    {
     "name": "stderr",
     "output_type": "stream",
     "text": [
      "\tInferring data type of each feature based on column values. Set feature_metadata_in to manually specify special dtypes of the features.\n"
     ]
    },
    {
     "name": "stderr",
     "output_type": "stream",
     "text": [
      "\tStage 1 Generators:\n"
     ]
    },
    {
     "name": "stderr",
     "output_type": "stream",
     "text": [
      "\t\tFitting AsTypeFeatureGenerator...\n"
     ]
    },
    {
     "name": "stderr",
     "output_type": "stream",
     "text": [
      "\t\t\tNote: Converting 2 features to boolean dtype as they only contain 2 unique values.\n"
     ]
    },
    {
     "name": "stderr",
     "output_type": "stream",
     "text": [
      "\tStage 2 Generators:\n"
     ]
    },
    {
     "name": "stderr",
     "output_type": "stream",
     "text": [
      "\t\tFitting FillNaFeatureGenerator...\n"
     ]
    },
    {
     "name": "stderr",
     "output_type": "stream",
     "text": [
      "\tStage 3 Generators:\n"
     ]
    },
    {
     "name": "stderr",
     "output_type": "stream",
     "text": [
      "\t\tFitting IdentityFeatureGenerator...\n"
     ]
    },
    {
     "name": "stderr",
     "output_type": "stream",
     "text": [
      "\t\tFitting CategoryFeatureGenerator...\n"
     ]
    },
    {
     "name": "stderr",
     "output_type": "stream",
     "text": [
      "\t\t\tFitting CategoryMemoryMinimizeFeatureGenerator...\n"
     ]
    },
    {
     "name": "stderr",
     "output_type": "stream",
     "text": [
      "\tStage 4 Generators:\n"
     ]
    },
    {
     "name": "stderr",
     "output_type": "stream",
     "text": [
      "\t\tFitting DropUniqueFeatureGenerator...\n"
     ]
    },
    {
     "name": "stderr",
     "output_type": "stream",
     "text": [
      "\tStage 5 Generators:\n"
     ]
    },
    {
     "name": "stderr",
     "output_type": "stream",
     "text": [
      "\t\tFitting DropDuplicatesFeatureGenerator...\n"
     ]
    },
    {
     "name": "stderr",
     "output_type": "stream",
     "text": [
      "\tTypes of features in original data (raw dtype, special dtypes):\n"
     ]
    },
    {
     "name": "stderr",
     "output_type": "stream",
     "text": [
      "\t\t('int', [])    : 5 | ['age', 'juv_fel_count', 'juv_misd_count', 'juv_other_count', 'priors_count']\n"
     ]
    },
    {
     "name": "stderr",
     "output_type": "stream",
     "text": [
      "\t\t('object', []) : 3 | ['sex', 'age_cat', 'c_charge_degree']\n"
     ]
    },
    {
     "name": "stderr",
     "output_type": "stream",
     "text": [
      "\tTypes of features in processed data (raw dtype, special dtypes):\n"
     ]
    },
    {
     "name": "stderr",
     "output_type": "stream",
     "text": [
      "\t\t('category', [])  : 1 | ['age_cat']\n"
     ]
    },
    {
     "name": "stderr",
     "output_type": "stream",
     "text": [
      "\t\t('int', [])       : 5 | ['age', 'juv_fel_count', 'juv_misd_count', 'juv_other_count', 'priors_count']\n"
     ]
    },
    {
     "name": "stderr",
     "output_type": "stream",
     "text": [
      "\t\t('int', ['bool']) : 2 | ['sex', 'c_charge_degree']\n"
     ]
    },
    {
     "name": "stderr",
     "output_type": "stream",
     "text": [
      "\t0.0s = Fit runtime\n"
     ]
    },
    {
     "name": "stderr",
     "output_type": "stream",
     "text": [
      "\t8 features in original data used to generate 8 features in processed data.\n"
     ]
    },
    {
     "name": "stderr",
     "output_type": "stream",
     "text": [
      "\tTrain Data (Processed) Memory Usage: 0.09 MB (0.0% of available memory)\n"
     ]
    },
    {
     "name": "stderr",
     "output_type": "stream",
     "text": [
      "Data preprocessing and feature engineering runtime = 0.03s ...\n"
     ]
    },
    {
     "name": "stderr",
     "output_type": "stream",
     "text": [
      "AutoGluon will gauge predictive performance using evaluation metric: 'accuracy'\n"
     ]
    },
    {
     "name": "stderr",
     "output_type": "stream",
     "text": [
      "\tTo change this, specify the eval_metric parameter of Predictor()\n"
     ]
    },
    {
     "name": "stderr",
     "output_type": "stream",
     "text": [
      "Automatically generating train/validation split with holdout_frac=0.2, Train Rows: 1731, Val Rows: 433\n"
     ]
    },
    {
     "name": "stderr",
     "output_type": "stream",
     "text": [
      "User-specified model hyperparameters to be fit:\n",
      "{\n",
      "\t'NN_TORCH': {},\n",
      "\t'GBM': [{'extra_trees': True, 'ag_args': {'name_suffix': 'XT'}}, {}, 'GBMLarge'],\n",
      "\t'CAT': {},\n",
      "\t'XGB': {},\n",
      "\t'FASTAI': {},\n",
      "\t'RF': [{'criterion': 'gini', 'ag_args': {'name_suffix': 'Gini', 'problem_types': ['binary', 'multiclass']}}, {'criterion': 'entropy', 'ag_args': {'name_suffix': 'Entr', 'problem_types': ['binary', 'multiclass']}}, {'criterion': 'squared_error', 'ag_args': {'name_suffix': 'MSE', 'problem_types': ['regression', 'quantile']}}],\n",
      "\t'XT': [{'criterion': 'gini', 'ag_args': {'name_suffix': 'Gini', 'problem_types': ['binary', 'multiclass']}}, {'criterion': 'entropy', 'ag_args': {'name_suffix': 'Entr', 'problem_types': ['binary', 'multiclass']}}, {'criterion': 'squared_error', 'ag_args': {'name_suffix': 'MSE', 'problem_types': ['regression', 'quantile']}}],\n",
      "\t'KNN': [{'weights': 'uniform', 'ag_args': {'name_suffix': 'Unif'}}, {'weights': 'distance', 'ag_args': {'name_suffix': 'Dist'}}],\n",
      "}\n"
     ]
    },
    {
     "name": "stderr",
     "output_type": "stream",
     "text": [
      "Fitting 13 L1 models ...\n"
     ]
    },
    {
     "name": "stderr",
     "output_type": "stream",
     "text": [
      "Fitting model: KNeighborsUnif ... Training model for up to 4.97s of the 4.97s of remaining time.\n"
     ]
    },
    {
     "name": "stderr",
     "output_type": "stream",
     "text": [
      "\t0.6351\t = Validation score   (accuracy)\n"
     ]
    },
    {
     "name": "stderr",
     "output_type": "stream",
     "text": [
      "\t0.0s\t = Training   runtime\n"
     ]
    },
    {
     "name": "stderr",
     "output_type": "stream",
     "text": [
      "\t0.01s\t = Validation runtime\n"
     ]
    },
    {
     "name": "stderr",
     "output_type": "stream",
     "text": [
      "Fitting model: KNeighborsDist ... Training model for up to 4.94s of the 4.94s of remaining time.\n"
     ]
    },
    {
     "name": "stderr",
     "output_type": "stream",
     "text": [
      "\t0.6259\t = Validation score   (accuracy)\n"
     ]
    },
    {
     "name": "stderr",
     "output_type": "stream",
     "text": [
      "\t0.0s\t = Training   runtime\n"
     ]
    },
    {
     "name": "stderr",
     "output_type": "stream",
     "text": [
      "\t0.01s\t = Validation runtime\n"
     ]
    },
    {
     "name": "stderr",
     "output_type": "stream",
     "text": [
      "Fitting model: LightGBMXT ... Training model for up to 4.92s of the 4.92s of remaining time.\n"
     ]
    },
    {
     "name": "stderr",
     "output_type": "stream",
     "text": [
      "\t0.6882\t = Validation score   (accuracy)\n"
     ]
    },
    {
     "name": "stderr",
     "output_type": "stream",
     "text": [
      "\t1.56s\t = Training   runtime\n"
     ]
    },
    {
     "name": "stderr",
     "output_type": "stream",
     "text": [
      "\t0.0s\t = Validation runtime\n"
     ]
    },
    {
     "name": "stderr",
     "output_type": "stream",
     "text": [
      "Fitting model: LightGBM ... Training model for up to 3.35s of the 3.35s of remaining time.\n"
     ]
    },
    {
     "name": "stderr",
     "output_type": "stream",
     "text": [
      "\t0.6767\t = Validation score   (accuracy)\n"
     ]
    },
    {
     "name": "stderr",
     "output_type": "stream",
     "text": [
      "\t2.09s\t = Training   runtime\n"
     ]
    },
    {
     "name": "stderr",
     "output_type": "stream",
     "text": [
      "\t0.0s\t = Validation runtime\n"
     ]
    },
    {
     "name": "stderr",
     "output_type": "stream",
     "text": [
      "Fitting model: RandomForestGini ... Training model for up to 1.26s of the 1.26s of remaining time.\n"
     ]
    },
    {
     "name": "stderr",
     "output_type": "stream",
     "text": [
      "\t0.6074\t = Validation score   (accuracy)\n"
     ]
    },
    {
     "name": "stderr",
     "output_type": "stream",
     "text": [
      "\t0.46s\t = Training   runtime\n"
     ]
    },
    {
     "name": "stderr",
     "output_type": "stream",
     "text": [
      "\t0.04s\t = Validation runtime\n"
     ]
    },
    {
     "name": "stderr",
     "output_type": "stream",
     "text": [
      "Fitting model: RandomForestEntr ... Training model for up to 0.74s of the 0.74s of remaining time.\n"
     ]
    },
    {
     "name": "stderr",
     "output_type": "stream",
     "text": [
      "\t0.6097\t = Validation score   (accuracy)\n"
     ]
    },
    {
     "name": "stderr",
     "output_type": "stream",
     "text": [
      "\t0.35s\t = Training   runtime\n"
     ]
    },
    {
     "name": "stderr",
     "output_type": "stream",
     "text": [
      "\t0.04s\t = Validation runtime\n"
     ]
    },
    {
     "name": "stderr",
     "output_type": "stream",
     "text": [
      "Fitting model: CatBoost ... Training model for up to 0.33s of the 0.33s of remaining time.\n"
     ]
    },
    {
     "name": "stderr",
     "output_type": "stream",
     "text": [
      "\tTime limit exceeded... Skipping CatBoost.\n"
     ]
    },
    {
     "name": "stderr",
     "output_type": "stream",
     "text": [
      "Fitting model: WeightedEnsemble_L2 ... Training model for up to 4.97s of the -0.06s of remaining time.\n"
     ]
    },
    {
     "name": "stderr",
     "output_type": "stream",
     "text": [
      "\tEnsemble Weights: {'LightGBM': 0.667, 'LightGBMXT': 0.333}\n"
     ]
    },
    {
     "name": "stderr",
     "output_type": "stream",
     "text": [
      "\t0.6928\t = Validation score   (accuracy)\n"
     ]
    },
    {
     "name": "stderr",
     "output_type": "stream",
     "text": [
      "\t0.02s\t = Training   runtime\n"
     ]
    },
    {
     "name": "stderr",
     "output_type": "stream",
     "text": [
      "\t0.0s\t = Validation runtime\n"
     ]
    },
    {
     "name": "stderr",
     "output_type": "stream",
     "text": [
      "AutoGluon training complete, total runtime = 5.11s ... Best model: \"WeightedEnsemble_L2\"\n"
     ]
    },
    {
     "name": "stderr",
     "output_type": "stream",
     "text": [
      "TabularPredictor saved. To load, use: predictor = TabularPredictor.load(\"AutogluonModels/ag-20240617_192045\")\n"
     ]
    },
    {
     "name": "stderr",
     "output_type": "stream",
     "text": [
      "No path specified. Models will be saved in: \"AutogluonModels/ag-20240617_192050\"\n"
     ]
    },
    {
     "name": "stderr",
     "output_type": "stream",
     "text": [
      "No presets specified! To achieve strong results with AutoGluon, it is recommended to use the available presets.\n",
      "\tRecommended Presets (For more details refer to https://auto.gluon.ai/stable/tutorials/tabular/tabular-essentials.html#presets):\n",
      "\tpresets='best_quality'   : Maximize accuracy. Default time_limit=3600.\n",
      "\tpresets='high_quality'   : Strong accuracy with fast inference speed. Default time_limit=3600.\n",
      "\tpresets='good_quality'   : Good accuracy with very fast inference speed. Default time_limit=3600.\n",
      "\tpresets='medium_quality' : Fast training time, ideal for initial prototyping.\n"
     ]
    },
    {
     "name": "stderr",
     "output_type": "stream",
     "text": [
      "Beginning AutoGluon training ... Time limit = 5s\n"
     ]
    },
    {
     "name": "stderr",
     "output_type": "stream",
     "text": [
      "AutoGluon will save models to \"AutogluonModels/ag-20240617_192050\"\n"
     ]
    },
    {
     "name": "stderr",
     "output_type": "stream",
     "text": [
      "=================== System Info ===================\n",
      "AutoGluon Version:  1.1.0\n",
      "Python Version:     3.10.13\n",
      "Operating System:   Darwin\n",
      "Platform Machine:   arm64\n",
      "Platform Version:   Darwin Kernel Version 23.5.0: Wed May  1 20:14:38 PDT 2024; root:xnu-10063.121.3~5/RELEASE_ARM64_T6020\n",
      "CPU Count:          10\n",
      "Memory Avail:       10.55 GB / 16.00 GB (65.9%)\n",
      "Disk Space Avail:   358.74 GB / 460.43 GB (77.9%)\n",
      "===================================================\n"
     ]
    },
    {
     "name": "stderr",
     "output_type": "stream",
     "text": [
      "Train Data Rows:    2164\n"
     ]
    },
    {
     "name": "stderr",
     "output_type": "stream",
     "text": [
      "Train Data Columns: 8\n"
     ]
    },
    {
     "name": "stderr",
     "output_type": "stream",
     "text": [
      "Label Column:       race\n"
     ]
    },
    {
     "name": "stderr",
     "output_type": "stream",
     "text": [
      "AutoGluon infers your prediction problem is: 'binary' (because only two unique label-values observed).\n"
     ]
    },
    {
     "name": "stderr",
     "output_type": "stream",
     "text": [
      "\t2 unique label values:  ['African-American', 'Other']\n"
     ]
    },
    {
     "name": "stderr",
     "output_type": "stream",
     "text": [
      "\tIf 'binary' is not the correct problem_type, please manually specify the problem_type parameter during predictor init (You may specify problem_type as one of: ['binary', 'multiclass', 'regression'])\n"
     ]
    },
    {
     "name": "stderr",
     "output_type": "stream",
     "text": [
      "Problem Type:       binary\n"
     ]
    },
    {
     "name": "stderr",
     "output_type": "stream",
     "text": [
      "Preprocessing data ...\n"
     ]
    },
    {
     "name": "stderr",
     "output_type": "stream",
     "text": [
      "Selected class <--> label mapping:  class 1 = Other, class 0 = African-American\n"
     ]
    },
    {
     "name": "stderr",
     "output_type": "stream",
     "text": [
      "\tNote: For your binary classification, AutoGluon arbitrarily selected which label-value represents positive (Other) vs negative (African-American) class.\n",
      "\tTo explicitly set the positive_class, either rename classes to 1 and 0, or specify positive_class in Predictor init.\n"
     ]
    },
    {
     "name": "stderr",
     "output_type": "stream",
     "text": [
      "Using Feature Generators to preprocess the data ...\n"
     ]
    },
    {
     "name": "stderr",
     "output_type": "stream",
     "text": [
      "Fitting AutoMLPipelineFeatureGenerator...\n"
     ]
    },
    {
     "name": "stderr",
     "output_type": "stream",
     "text": [
      "\tAvailable Memory:                    10803.08 MB\n"
     ]
    },
    {
     "name": "stderr",
     "output_type": "stream",
     "text": [
      "\tTrain Data (Original)  Memory Usage: 0.47 MB (0.0% of available memory)\n"
     ]
    },
    {
     "name": "stderr",
     "output_type": "stream",
     "text": [
      "\tInferring data type of each feature based on column values. Set feature_metadata_in to manually specify special dtypes of the features.\n"
     ]
    },
    {
     "name": "stderr",
     "output_type": "stream",
     "text": [
      "\tStage 1 Generators:\n"
     ]
    },
    {
     "name": "stderr",
     "output_type": "stream",
     "text": [
      "\t\tFitting AsTypeFeatureGenerator...\n"
     ]
    },
    {
     "name": "stderr",
     "output_type": "stream",
     "text": [
      "\t\t\tNote: Converting 2 features to boolean dtype as they only contain 2 unique values.\n"
     ]
    },
    {
     "name": "stderr",
     "output_type": "stream",
     "text": [
      "\tStage 2 Generators:\n"
     ]
    },
    {
     "name": "stderr",
     "output_type": "stream",
     "text": [
      "\t\tFitting FillNaFeatureGenerator...\n"
     ]
    },
    {
     "name": "stderr",
     "output_type": "stream",
     "text": [
      "\tStage 3 Generators:\n"
     ]
    },
    {
     "name": "stderr",
     "output_type": "stream",
     "text": [
      "\t\tFitting IdentityFeatureGenerator...\n"
     ]
    },
    {
     "name": "stderr",
     "output_type": "stream",
     "text": [
      "\t\tFitting CategoryFeatureGenerator...\n"
     ]
    },
    {
     "name": "stderr",
     "output_type": "stream",
     "text": [
      "\t\t\tFitting CategoryMemoryMinimizeFeatureGenerator...\n"
     ]
    },
    {
     "name": "stderr",
     "output_type": "stream",
     "text": [
      "\tStage 4 Generators:\n"
     ]
    },
    {
     "name": "stderr",
     "output_type": "stream",
     "text": [
      "\t\tFitting DropUniqueFeatureGenerator...\n"
     ]
    },
    {
     "name": "stderr",
     "output_type": "stream",
     "text": [
      "\tStage 5 Generators:\n"
     ]
    },
    {
     "name": "stderr",
     "output_type": "stream",
     "text": [
      "\t\tFitting DropDuplicatesFeatureGenerator...\n"
     ]
    },
    {
     "name": "stderr",
     "output_type": "stream",
     "text": [
      "\tTypes of features in original data (raw dtype, special dtypes):\n"
     ]
    },
    {
     "name": "stderr",
     "output_type": "stream",
     "text": [
      "\t\t('int', [])    : 5 | ['age', 'juv_fel_count', 'juv_misd_count', 'juv_other_count', 'priors_count']\n"
     ]
    },
    {
     "name": "stderr",
     "output_type": "stream",
     "text": [
      "\t\t('object', []) : 3 | ['sex', 'age_cat', 'c_charge_degree']\n"
     ]
    },
    {
     "name": "stderr",
     "output_type": "stream",
     "text": [
      "\tTypes of features in processed data (raw dtype, special dtypes):\n"
     ]
    },
    {
     "name": "stderr",
     "output_type": "stream",
     "text": [
      "\t\t('category', [])  : 1 | ['age_cat']\n"
     ]
    },
    {
     "name": "stderr",
     "output_type": "stream",
     "text": [
      "\t\t('int', [])       : 5 | ['age', 'juv_fel_count', 'juv_misd_count', 'juv_other_count', 'priors_count']\n"
     ]
    },
    {
     "name": "stderr",
     "output_type": "stream",
     "text": [
      "\t\t('int', ['bool']) : 2 | ['sex', 'c_charge_degree']\n"
     ]
    },
    {
     "name": "stderr",
     "output_type": "stream",
     "text": [
      "\t0.0s = Fit runtime\n"
     ]
    },
    {
     "name": "stderr",
     "output_type": "stream",
     "text": [
      "\t8 features in original data used to generate 8 features in processed data.\n"
     ]
    },
    {
     "name": "stderr",
     "output_type": "stream",
     "text": [
      "\tTrain Data (Processed) Memory Usage: 0.09 MB (0.0% of available memory)\n"
     ]
    },
    {
     "name": "stderr",
     "output_type": "stream",
     "text": [
      "Data preprocessing and feature engineering runtime = 0.03s ...\n"
     ]
    },
    {
     "name": "stderr",
     "output_type": "stream",
     "text": [
      "AutoGluon will gauge predictive performance using evaluation metric: 'accuracy'\n"
     ]
    },
    {
     "name": "stderr",
     "output_type": "stream",
     "text": [
      "\tTo change this, specify the eval_metric parameter of Predictor()\n"
     ]
    },
    {
     "name": "stderr",
     "output_type": "stream",
     "text": [
      "Automatically generating train/validation split with holdout_frac=0.2, Train Rows: 1731, Val Rows: 433\n"
     ]
    },
    {
     "name": "stderr",
     "output_type": "stream",
     "text": [
      "User-specified model hyperparameters to be fit:\n",
      "{\n",
      "\t'NN_TORCH': {},\n",
      "\t'GBM': [{'extra_trees': True, 'ag_args': {'name_suffix': 'XT'}}, {}, 'GBMLarge'],\n",
      "\t'CAT': {},\n",
      "\t'XGB': {},\n",
      "\t'FASTAI': {},\n",
      "\t'RF': [{'criterion': 'gini', 'ag_args': {'name_suffix': 'Gini', 'problem_types': ['binary', 'multiclass']}}, {'criterion': 'entropy', 'ag_args': {'name_suffix': 'Entr', 'problem_types': ['binary', 'multiclass']}}, {'criterion': 'squared_error', 'ag_args': {'name_suffix': 'MSE', 'problem_types': ['regression', 'quantile']}}],\n",
      "\t'XT': [{'criterion': 'gini', 'ag_args': {'name_suffix': 'Gini', 'problem_types': ['binary', 'multiclass']}}, {'criterion': 'entropy', 'ag_args': {'name_suffix': 'Entr', 'problem_types': ['binary', 'multiclass']}}, {'criterion': 'squared_error', 'ag_args': {'name_suffix': 'MSE', 'problem_types': ['regression', 'quantile']}}],\n",
      "\t'KNN': [{'weights': 'uniform', 'ag_args': {'name_suffix': 'Unif'}}, {'weights': 'distance', 'ag_args': {'name_suffix': 'Dist'}}],\n",
      "}\n"
     ]
    },
    {
     "name": "stderr",
     "output_type": "stream",
     "text": [
      "Fitting 13 L1 models ...\n"
     ]
    },
    {
     "name": "stderr",
     "output_type": "stream",
     "text": [
      "Fitting model: KNeighborsUnif ... Training model for up to 4.97s of the 4.97s of remaining time.\n"
     ]
    },
    {
     "name": "stderr",
     "output_type": "stream",
     "text": [
      "\t0.6051\t = Validation score   (accuracy)\n"
     ]
    },
    {
     "name": "stderr",
     "output_type": "stream",
     "text": [
      "\t0.0s\t = Training   runtime\n"
     ]
    },
    {
     "name": "stderr",
     "output_type": "stream",
     "text": [
      "\t0.02s\t = Validation runtime\n"
     ]
    },
    {
     "name": "stderr",
     "output_type": "stream",
     "text": [
      "Fitting model: KNeighborsDist ... Training model for up to 4.94s of the 4.94s of remaining time.\n"
     ]
    },
    {
     "name": "stderr",
     "output_type": "stream",
     "text": [
      "\t0.5889\t = Validation score   (accuracy)\n"
     ]
    },
    {
     "name": "stderr",
     "output_type": "stream",
     "text": [
      "\t0.0s\t = Training   runtime\n"
     ]
    },
    {
     "name": "stderr",
     "output_type": "stream",
     "text": [
      "\t0.01s\t = Validation runtime\n"
     ]
    },
    {
     "name": "stderr",
     "output_type": "stream",
     "text": [
      "Fitting model: LightGBMXT ... Training model for up to 4.92s of the 4.92s of remaining time.\n"
     ]
    },
    {
     "name": "stderr",
     "output_type": "stream",
     "text": [
      "\t0.6559\t = Validation score   (accuracy)\n"
     ]
    },
    {
     "name": "stderr",
     "output_type": "stream",
     "text": [
      "\t3.28s\t = Training   runtime\n"
     ]
    },
    {
     "name": "stderr",
     "output_type": "stream",
     "text": [
      "\t0.0s\t = Validation runtime\n"
     ]
    },
    {
     "name": "stderr",
     "output_type": "stream",
     "text": [
      "Fitting model: LightGBM ... Training model for up to 1.63s of the 1.63s of remaining time.\n"
     ]
    },
    {
     "name": "stderr",
     "output_type": "stream",
     "text": [
      "\tRan out of time, early stopping on iteration 134. Best iteration is:\n",
      "\t[4]\tvalid_set's binary_error: 0.364896\n"
     ]
    },
    {
     "name": "stderr",
     "output_type": "stream",
     "text": [
      "\t0.6351\t = Validation score   (accuracy)\n"
     ]
    },
    {
     "name": "stderr",
     "output_type": "stream",
     "text": [
      "\t1.63s\t = Training   runtime\n"
     ]
    },
    {
     "name": "stderr",
     "output_type": "stream",
     "text": [
      "\t0.0s\t = Validation runtime\n"
     ]
    },
    {
     "name": "stderr",
     "output_type": "stream",
     "text": [
      "Fitting model: WeightedEnsemble_L2 ... Training model for up to 4.97s of the -0.04s of remaining time.\n"
     ]
    },
    {
     "name": "stderr",
     "output_type": "stream",
     "text": [
      "\tEnsemble Weights: {'LightGBMXT': 0.8, 'KNeighborsUnif': 0.2}\n"
     ]
    },
    {
     "name": "stderr",
     "output_type": "stream",
     "text": [
      "\t0.6582\t = Validation score   (accuracy)\n"
     ]
    },
    {
     "name": "stderr",
     "output_type": "stream",
     "text": [
      "\t0.02s\t = Training   runtime\n"
     ]
    },
    {
     "name": "stderr",
     "output_type": "stream",
     "text": [
      "\t0.0s\t = Validation runtime\n"
     ]
    },
    {
     "name": "stderr",
     "output_type": "stream",
     "text": [
      "AutoGluon training complete, total runtime = 5.08s ... Best model: \"WeightedEnsemble_L2\"\n"
     ]
    },
    {
     "name": "stderr",
     "output_type": "stream",
     "text": [
      "TabularPredictor saved. To load, use: predictor = TabularPredictor.load(\"AutogluonModels/ag-20240617_192050\")\n"
     ]
    }
   ],
   "source": [
    "# To enforce fairness constraints without access to protected attributes at test time, we train two classifiers to infer the 2-year recidivism rate, and ethnicity.\n",
    "  \n",
    "predictor2, protected = inferred_attribute_builder(train, 'two_year_recid', 'race', time_limit=5)\n"
   ]
  },
  {
   "cell_type": "code",
   "execution_count": 15,
   "metadata": {
    "execution": {
     "iopub.execute_input": "2024-06-17T19:20:55.586135Z",
     "iopub.status.busy": "2024-06-17T19:20:55.585848Z",
     "iopub.status.idle": "2024-06-17T19:20:55.712300Z",
     "shell.execute_reply": "2024-06-17T19:20:55.711572Z"
    }
   },
   "outputs": [],
   "source": [
    "# From these a single predictor that maximizes acuracy while reducing the demographic parity violation to less than 2.5% can be trained by running:\n",
    "\n",
    "fpredictor=FairPredictor(predictor2, val, 'race', inferred_groups=protected)\n",
    "fpredictor.fit(gm.accuracy, gm.demographic_parity, 0.025)"
   ]
  },
  {
   "cell_type": "code",
   "execution_count": 16,
   "metadata": {
    "execution": {
     "iopub.execute_input": "2024-06-17T19:20:55.716187Z",
     "iopub.status.busy": "2024-06-17T19:20:55.715980Z",
     "iopub.status.idle": "2024-06-17T19:20:55.719871Z",
     "shell.execute_reply": "2024-06-17T19:20:55.719294Z"
    }
   },
   "outputs": [],
   "source": [
    "#However, instead we will show how a family of fairness measures can be individually optimized. \n",
    "# The following code plots a table showing the change in accuracy and the fairness measure on a held-out test set as we decrease\n",
    "# the fairness measure to less than 0.025 for all measures except for disparate impact which we raise to above 0.975.\n",
    "# We define a helper function for evaluation:\n",
    "\n",
    "def evaluate(fpredictor,use_metrics):\n",
    "    \"Print a table showing the accuracy drop that comes with enforcing fairness\"\n",
    "    extra_metrics= {**use_metrics, 'accuracy':gm.accuracy}\n",
    "    collect=pd.DataFrame(columns=['Measure (original)', 'Measure (updated)', 'Accuracy (original)', 'Accuracy (updated)'])\n",
    "    for d in use_metrics.items():\n",
    "        if d[1].greater_is_better is False:\n",
    "            fpredictor.fit(gm.accuracy,d[1], 0.025)\n",
    "        else:\n",
    "            fpredictor.fit(gm.accuracy,d[1], 1-0.025)\n",
    "        tmp=fpredictor.evaluate_fairness(test,metrics=extra_metrics)\n",
    "        collect.loc[d[1].name]=np.concatenate((np.asarray(tmp.loc[d[1].name]), np.asarray(tmp.loc[gm.accuracy.name])), 0)\n",
    "    return collect"
   ]
  },
  {
   "cell_type": "code",
   "execution_count": 17,
   "metadata": {
    "execution": {
     "iopub.execute_input": "2024-06-17T19:20:55.722720Z",
     "iopub.status.busy": "2024-06-17T19:20:55.722572Z",
     "iopub.status.idle": "2024-06-17T19:21:00.856229Z",
     "shell.execute_reply": "2024-06-17T19:21:00.855874Z"
    }
   },
   "outputs": [
    {
     "name": "stderr",
     "output_type": "stream",
     "text": [
      "No path specified. Models will be saved in: \"AutogluonModels/ag-20240617_192055\"\n"
     ]
    },
    {
     "name": "stderr",
     "output_type": "stream",
     "text": [
      "No presets specified! To achieve strong results with AutoGluon, it is recommended to use the available presets.\n",
      "\tRecommended Presets (For more details refer to https://auto.gluon.ai/stable/tutorials/tabular/tabular-essentials.html#presets):\n",
      "\tpresets='best_quality'   : Maximize accuracy. Default time_limit=3600.\n",
      "\tpresets='high_quality'   : Strong accuracy with fast inference speed. Default time_limit=3600.\n",
      "\tpresets='good_quality'   : Good accuracy with very fast inference speed. Default time_limit=3600.\n",
      "\tpresets='medium_quality' : Fast training time, ideal for initial prototyping.\n"
     ]
    },
    {
     "name": "stderr",
     "output_type": "stream",
     "text": [
      "Beginning AutoGluon training ... Time limit = 5s\n"
     ]
    },
    {
     "name": "stderr",
     "output_type": "stream",
     "text": [
      "AutoGluon will save models to \"AutogluonModels/ag-20240617_192055\"\n"
     ]
    },
    {
     "name": "stderr",
     "output_type": "stream",
     "text": [
      "=================== System Info ===================\n",
      "AutoGluon Version:  1.1.0\n",
      "Python Version:     3.10.13\n",
      "Operating System:   Darwin\n",
      "Platform Machine:   arm64\n",
      "Platform Version:   Darwin Kernel Version 23.5.0: Wed May  1 20:14:38 PDT 2024; root:xnu-10063.121.3~5/RELEASE_ARM64_T6020\n",
      "CPU Count:          10\n",
      "Memory Avail:       7.88 GB / 16.00 GB (49.2%)\n",
      "Disk Space Avail:   358.74 GB / 460.43 GB (77.9%)\n",
      "===================================================\n"
     ]
    },
    {
     "name": "stderr",
     "output_type": "stream",
     "text": [
      "Train Data Rows:    2164\n"
     ]
    },
    {
     "name": "stderr",
     "output_type": "stream",
     "text": [
      "Train Data Columns: 9\n"
     ]
    },
    {
     "name": "stderr",
     "output_type": "stream",
     "text": [
      "Label Column:       two_year_recid\n"
     ]
    },
    {
     "name": "stderr",
     "output_type": "stream",
     "text": [
      "AutoGluon infers your prediction problem is: 'binary' (because only two unique label-values observed).\n"
     ]
    },
    {
     "name": "stderr",
     "output_type": "stream",
     "text": [
      "\t2 unique label values:  [0, 1]\n"
     ]
    },
    {
     "name": "stderr",
     "output_type": "stream",
     "text": [
      "\tIf 'binary' is not the correct problem_type, please manually specify the problem_type parameter during predictor init (You may specify problem_type as one of: ['binary', 'multiclass', 'regression'])\n"
     ]
    },
    {
     "name": "stderr",
     "output_type": "stream",
     "text": [
      "Problem Type:       binary\n"
     ]
    },
    {
     "name": "stderr",
     "output_type": "stream",
     "text": [
      "Preprocessing data ...\n"
     ]
    },
    {
     "name": "stderr",
     "output_type": "stream",
     "text": [
      "Selected class <--> label mapping:  class 1 = 1, class 0 = 0\n"
     ]
    },
    {
     "name": "stderr",
     "output_type": "stream",
     "text": [
      "Using Feature Generators to preprocess the data ...\n"
     ]
    },
    {
     "name": "stderr",
     "output_type": "stream",
     "text": [
      "Fitting AutoMLPipelineFeatureGenerator...\n"
     ]
    },
    {
     "name": "stderr",
     "output_type": "stream",
     "text": [
      "\tAvailable Memory:                    8069.29 MB\n"
     ]
    },
    {
     "name": "stderr",
     "output_type": "stream",
     "text": [
      "\tTrain Data (Original)  Memory Usage: 0.61 MB (0.0% of available memory)\n"
     ]
    },
    {
     "name": "stderr",
     "output_type": "stream",
     "text": [
      "\tInferring data type of each feature based on column values. Set feature_metadata_in to manually specify special dtypes of the features.\n"
     ]
    },
    {
     "name": "stderr",
     "output_type": "stream",
     "text": [
      "\tStage 1 Generators:\n"
     ]
    },
    {
     "name": "stderr",
     "output_type": "stream",
     "text": [
      "\t\tFitting AsTypeFeatureGenerator...\n"
     ]
    },
    {
     "name": "stderr",
     "output_type": "stream",
     "text": [
      "\t\t\tNote: Converting 3 features to boolean dtype as they only contain 2 unique values.\n"
     ]
    },
    {
     "name": "stderr",
     "output_type": "stream",
     "text": [
      "\tStage 2 Generators:\n"
     ]
    },
    {
     "name": "stderr",
     "output_type": "stream",
     "text": [
      "\t\tFitting FillNaFeatureGenerator...\n"
     ]
    },
    {
     "name": "stderr",
     "output_type": "stream",
     "text": [
      "\tStage 3 Generators:\n"
     ]
    },
    {
     "name": "stderr",
     "output_type": "stream",
     "text": [
      "\t\tFitting IdentityFeatureGenerator...\n"
     ]
    },
    {
     "name": "stderr",
     "output_type": "stream",
     "text": [
      "\t\tFitting CategoryFeatureGenerator...\n"
     ]
    },
    {
     "name": "stderr",
     "output_type": "stream",
     "text": [
      "\t\t\tFitting CategoryMemoryMinimizeFeatureGenerator...\n"
     ]
    },
    {
     "name": "stderr",
     "output_type": "stream",
     "text": [
      "\tStage 4 Generators:\n"
     ]
    },
    {
     "name": "stderr",
     "output_type": "stream",
     "text": [
      "\t\tFitting DropUniqueFeatureGenerator...\n"
     ]
    },
    {
     "name": "stderr",
     "output_type": "stream",
     "text": [
      "\tStage 5 Generators:\n"
     ]
    },
    {
     "name": "stderr",
     "output_type": "stream",
     "text": [
      "\t\tFitting DropDuplicatesFeatureGenerator...\n"
     ]
    },
    {
     "name": "stderr",
     "output_type": "stream",
     "text": [
      "\tTypes of features in original data (raw dtype, special dtypes):\n"
     ]
    },
    {
     "name": "stderr",
     "output_type": "stream",
     "text": [
      "\t\t('int', [])    : 5 | ['age', 'juv_fel_count', 'juv_misd_count', 'juv_other_count', 'priors_count']\n"
     ]
    },
    {
     "name": "stderr",
     "output_type": "stream",
     "text": [
      "\t\t('object', []) : 4 | ['sex', 'race', 'age_cat', 'c_charge_degree']\n"
     ]
    },
    {
     "name": "stderr",
     "output_type": "stream",
     "text": [
      "\tTypes of features in processed data (raw dtype, special dtypes):\n"
     ]
    },
    {
     "name": "stderr",
     "output_type": "stream",
     "text": [
      "\t\t('category', [])  : 1 | ['age_cat']\n"
     ]
    },
    {
     "name": "stderr",
     "output_type": "stream",
     "text": [
      "\t\t('int', [])       : 5 | ['age', 'juv_fel_count', 'juv_misd_count', 'juv_other_count', 'priors_count']\n"
     ]
    },
    {
     "name": "stderr",
     "output_type": "stream",
     "text": [
      "\t\t('int', ['bool']) : 3 | ['sex', 'race', 'c_charge_degree']\n"
     ]
    },
    {
     "name": "stderr",
     "output_type": "stream",
     "text": [
      "\t0.0s = Fit runtime\n"
     ]
    },
    {
     "name": "stderr",
     "output_type": "stream",
     "text": [
      "\t9 features in original data used to generate 9 features in processed data.\n"
     ]
    },
    {
     "name": "stderr",
     "output_type": "stream",
     "text": [
      "\tTrain Data (Processed) Memory Usage: 0.09 MB (0.0% of available memory)\n"
     ]
    },
    {
     "name": "stderr",
     "output_type": "stream",
     "text": [
      "Data preprocessing and feature engineering runtime = 0.04s ...\n"
     ]
    },
    {
     "name": "stderr",
     "output_type": "stream",
     "text": [
      "AutoGluon will gauge predictive performance using evaluation metric: 'accuracy'\n"
     ]
    },
    {
     "name": "stderr",
     "output_type": "stream",
     "text": [
      "\tTo change this, specify the eval_metric parameter of Predictor()\n"
     ]
    },
    {
     "name": "stderr",
     "output_type": "stream",
     "text": [
      "Automatically generating train/validation split with holdout_frac=0.2, Train Rows: 1731, Val Rows: 433\n"
     ]
    },
    {
     "name": "stderr",
     "output_type": "stream",
     "text": [
      "User-specified model hyperparameters to be fit:\n",
      "{\n",
      "\t'NN_TORCH': {},\n",
      "\t'GBM': [{'extra_trees': True, 'ag_args': {'name_suffix': 'XT'}}, {}, 'GBMLarge'],\n",
      "\t'CAT': {},\n",
      "\t'XGB': {},\n",
      "\t'FASTAI': {},\n",
      "\t'RF': [{'criterion': 'gini', 'ag_args': {'name_suffix': 'Gini', 'problem_types': ['binary', 'multiclass']}}, {'criterion': 'entropy', 'ag_args': {'name_suffix': 'Entr', 'problem_types': ['binary', 'multiclass']}}, {'criterion': 'squared_error', 'ag_args': {'name_suffix': 'MSE', 'problem_types': ['regression', 'quantile']}}],\n",
      "\t'XT': [{'criterion': 'gini', 'ag_args': {'name_suffix': 'Gini', 'problem_types': ['binary', 'multiclass']}}, {'criterion': 'entropy', 'ag_args': {'name_suffix': 'Entr', 'problem_types': ['binary', 'multiclass']}}, {'criterion': 'squared_error', 'ag_args': {'name_suffix': 'MSE', 'problem_types': ['regression', 'quantile']}}],\n",
      "\t'KNN': [{'weights': 'uniform', 'ag_args': {'name_suffix': 'Unif'}}, {'weights': 'distance', 'ag_args': {'name_suffix': 'Dist'}}],\n",
      "}\n"
     ]
    },
    {
     "name": "stderr",
     "output_type": "stream",
     "text": [
      "Fitting 13 L1 models ...\n"
     ]
    },
    {
     "name": "stderr",
     "output_type": "stream",
     "text": [
      "Fitting model: KNeighborsUnif ... Training model for up to 4.96s of the 4.96s of remaining time.\n"
     ]
    },
    {
     "name": "stderr",
     "output_type": "stream",
     "text": [
      "\t0.6351\t = Validation score   (accuracy)\n"
     ]
    },
    {
     "name": "stderr",
     "output_type": "stream",
     "text": [
      "\t0.0s\t = Training   runtime\n"
     ]
    },
    {
     "name": "stderr",
     "output_type": "stream",
     "text": [
      "\t0.02s\t = Validation runtime\n"
     ]
    },
    {
     "name": "stderr",
     "output_type": "stream",
     "text": [
      "Fitting model: KNeighborsDist ... Training model for up to 4.94s of the 4.94s of remaining time.\n"
     ]
    },
    {
     "name": "stderr",
     "output_type": "stream",
     "text": [
      "\t0.6259\t = Validation score   (accuracy)\n"
     ]
    },
    {
     "name": "stderr",
     "output_type": "stream",
     "text": [
      "\t0.0s\t = Training   runtime\n"
     ]
    },
    {
     "name": "stderr",
     "output_type": "stream",
     "text": [
      "\t0.02s\t = Validation runtime\n"
     ]
    },
    {
     "name": "stderr",
     "output_type": "stream",
     "text": [
      "Fitting model: LightGBMXT ... Training model for up to 4.91s of the 4.91s of remaining time.\n"
     ]
    },
    {
     "name": "stderr",
     "output_type": "stream",
     "text": [
      "\t0.6975\t = Validation score   (accuracy)\n"
     ]
    },
    {
     "name": "stderr",
     "output_type": "stream",
     "text": [
      "\t2.65s\t = Training   runtime\n"
     ]
    },
    {
     "name": "stderr",
     "output_type": "stream",
     "text": [
      "\t0.0s\t = Validation runtime\n"
     ]
    },
    {
     "name": "stderr",
     "output_type": "stream",
     "text": [
      "Fitting model: LightGBM ... Training model for up to 2.24s of the 2.24s of remaining time.\n"
     ]
    },
    {
     "name": "stderr",
     "output_type": "stream",
     "text": [
      "\tRan out of time, early stopping on iteration 249. Best iteration is:\n",
      "\t[42]\tvalid_set's binary_error: 0.325635\n"
     ]
    },
    {
     "name": "stderr",
     "output_type": "stream",
     "text": [
      "\t0.6744\t = Validation score   (accuracy)\n"
     ]
    },
    {
     "name": "stderr",
     "output_type": "stream",
     "text": [
      "\t2.25s\t = Training   runtime\n"
     ]
    },
    {
     "name": "stderr",
     "output_type": "stream",
     "text": [
      "\t0.0s\t = Validation runtime\n"
     ]
    },
    {
     "name": "stderr",
     "output_type": "stream",
     "text": [
      "Fitting model: WeightedEnsemble_L2 ... Training model for up to 4.96s of the -0.08s of remaining time.\n"
     ]
    },
    {
     "name": "stderr",
     "output_type": "stream",
     "text": [
      "\tEnsemble Weights: {'LightGBMXT': 1.0}\n"
     ]
    },
    {
     "name": "stderr",
     "output_type": "stream",
     "text": [
      "\t0.6975\t = Validation score   (accuracy)\n"
     ]
    },
    {
     "name": "stderr",
     "output_type": "stream",
     "text": [
      "\t0.02s\t = Training   runtime\n"
     ]
    },
    {
     "name": "stderr",
     "output_type": "stream",
     "text": [
      "\t0.0s\t = Validation runtime\n"
     ]
    },
    {
     "name": "stderr",
     "output_type": "stream",
     "text": [
      "AutoGluon training complete, total runtime = 5.12s ... Best model: \"WeightedEnsemble_L2\"\n"
     ]
    },
    {
     "name": "stderr",
     "output_type": "stream",
     "text": [
      "TabularPredictor saved. To load, use: predictor = TabularPredictor.load(\"AutogluonModels/ag-20240617_192055\")\n"
     ]
    }
   ],
   "source": [
    "#We can now contrast the behavior of a fair classifier that relies on access to the protected\n",
    "# attribtute at test time with one that infers it.\n",
    "\n",
    "# we first create a classifer using the protected attribute\n",
    "predictor=TabularPredictor(label='two_year_recid').fit(train_data=train, time_limit=5)"
   ]
  },
  {
   "cell_type": "code",
   "execution_count": 18,
   "metadata": {
    "execution": {
     "iopub.execute_input": "2024-06-17T19:21:00.858380Z",
     "iopub.status.busy": "2024-06-17T19:21:00.858264Z",
     "iopub.status.idle": "2024-06-17T19:21:01.258334Z",
     "shell.execute_reply": "2024-06-17T19:21:01.257694Z"
    }
   },
   "outputs": [
    {
     "data": {
      "text/html": [
       "<div>\n",
       "<style scoped>\n",
       "    .dataframe tbody tr th:only-of-type {\n",
       "        vertical-align: middle;\n",
       "    }\n",
       "\n",
       "    .dataframe tbody tr th {\n",
       "        vertical-align: top;\n",
       "    }\n",
       "\n",
       "    .dataframe thead th {\n",
       "        text-align: right;\n",
       "    }\n",
       "</style>\n",
       "<table border=\"1\" class=\"dataframe\">\n",
       "  <thead>\n",
       "    <tr style=\"text-align: right;\">\n",
       "      <th></th>\n",
       "      <th>Measure (original)</th>\n",
       "      <th>Measure (updated)</th>\n",
       "      <th>Accuracy (original)</th>\n",
       "      <th>Accuracy (updated)</th>\n",
       "    </tr>\n",
       "  </thead>\n",
       "  <tbody>\n",
       "    <tr>\n",
       "      <th>Demographic Parity</th>\n",
       "      <td>0.336580</td>\n",
       "      <td>0.010250</td>\n",
       "      <td>0.661386</td>\n",
       "      <td>0.646337</td>\n",
       "    </tr>\n",
       "    <tr>\n",
       "      <th>Disparate Impact</th>\n",
       "      <td>0.424223</td>\n",
       "      <td>0.985274</td>\n",
       "      <td>0.661386</td>\n",
       "      <td>0.638812</td>\n",
       "    </tr>\n",
       "    <tr>\n",
       "      <th>Average Group Difference in Conditional Acceptance Rate</th>\n",
       "      <td>0.644987</td>\n",
       "      <td>0.055467</td>\n",
       "      <td>0.661386</td>\n",
       "      <td>0.670891</td>\n",
       "    </tr>\n",
       "    <tr>\n",
       "      <th>Average Group Difference in Conditional Rejectance Rate</th>\n",
       "      <td>0.354906</td>\n",
       "      <td>0.003563</td>\n",
       "      <td>0.661386</td>\n",
       "      <td>0.666535</td>\n",
       "    </tr>\n",
       "    <tr>\n",
       "      <th>Average Group Difference in Accuracy</th>\n",
       "      <td>0.048422</td>\n",
       "      <td>0.036576</td>\n",
       "      <td>0.661386</td>\n",
       "      <td>0.662574</td>\n",
       "    </tr>\n",
       "    <tr>\n",
       "      <th>Average Group Difference in Recall</th>\n",
       "      <td>0.306877</td>\n",
       "      <td>0.065208</td>\n",
       "      <td>0.661386</td>\n",
       "      <td>0.640396</td>\n",
       "    </tr>\n",
       "    <tr>\n",
       "      <th>Average Group Difference in Acceptance Rate</th>\n",
       "      <td>0.000623</td>\n",
       "      <td>0.017213</td>\n",
       "      <td>0.661386</td>\n",
       "      <td>0.666139</td>\n",
       "    </tr>\n",
       "    <tr>\n",
       "      <th>Average Group Difference in Specificity</th>\n",
       "      <td>0.296718</td>\n",
       "      <td>0.054075</td>\n",
       "      <td>0.661386</td>\n",
       "      <td>0.671287</td>\n",
       "    </tr>\n",
       "    <tr>\n",
       "      <th>Average Group Difference in Rejection Rate</th>\n",
       "      <td>0.049978</td>\n",
       "      <td>0.072272</td>\n",
       "      <td>0.661386</td>\n",
       "      <td>0.667723</td>\n",
       "    </tr>\n",
       "    <tr>\n",
       "      <th>Treatment Equality</th>\n",
       "      <td>1.117626</td>\n",
       "      <td>0.047186</td>\n",
       "      <td>0.661386</td>\n",
       "      <td>0.672079</td>\n",
       "    </tr>\n",
       "  </tbody>\n",
       "</table>\n",
       "</div>"
      ],
      "text/plain": [
       "                                                    Measure (original)  \\\n",
       "Demographic Parity                                            0.336580   \n",
       "Disparate Impact                                              0.424223   \n",
       "Average Group Difference in Conditional Accepta...            0.644987   \n",
       "Average Group Difference in Conditional Rejecta...            0.354906   \n",
       "Average Group Difference in Accuracy                          0.048422   \n",
       "Average Group Difference in Recall                            0.306877   \n",
       "Average Group Difference in Acceptance Rate                   0.000623   \n",
       "Average Group Difference in Specificity                       0.296718   \n",
       "Average Group Difference in Rejection Rate                    0.049978   \n",
       "Treatment Equality                                            1.117626   \n",
       "\n",
       "                                                    Measure (updated)  \\\n",
       "Demographic Parity                                           0.010250   \n",
       "Disparate Impact                                             0.985274   \n",
       "Average Group Difference in Conditional Accepta...           0.055467   \n",
       "Average Group Difference in Conditional Rejecta...           0.003563   \n",
       "Average Group Difference in Accuracy                         0.036576   \n",
       "Average Group Difference in Recall                           0.065208   \n",
       "Average Group Difference in Acceptance Rate                  0.017213   \n",
       "Average Group Difference in Specificity                      0.054075   \n",
       "Average Group Difference in Rejection Rate                   0.072272   \n",
       "Treatment Equality                                           0.047186   \n",
       "\n",
       "                                                    Accuracy (original)  \\\n",
       "Demographic Parity                                             0.661386   \n",
       "Disparate Impact                                               0.661386   \n",
       "Average Group Difference in Conditional Accepta...             0.661386   \n",
       "Average Group Difference in Conditional Rejecta...             0.661386   \n",
       "Average Group Difference in Accuracy                           0.661386   \n",
       "Average Group Difference in Recall                             0.661386   \n",
       "Average Group Difference in Acceptance Rate                    0.661386   \n",
       "Average Group Difference in Specificity                        0.661386   \n",
       "Average Group Difference in Rejection Rate                     0.661386   \n",
       "Treatment Equality                                             0.661386   \n",
       "\n",
       "                                                    Accuracy (updated)  \n",
       "Demographic Parity                                            0.646337  \n",
       "Disparate Impact                                              0.638812  \n",
       "Average Group Difference in Conditional Accepta...            0.670891  \n",
       "Average Group Difference in Conditional Rejecta...            0.666535  \n",
       "Average Group Difference in Accuracy                          0.662574  \n",
       "Average Group Difference in Recall                            0.640396  \n",
       "Average Group Difference in Acceptance Rate                   0.666139  \n",
       "Average Group Difference in Specificity                       0.671287  \n",
       "Average Group Difference in Rejection Rate                    0.667723  \n",
       "Treatment Equality                                            0.672079  "
      ]
     },
     "execution_count": 18,
     "metadata": {},
     "output_type": "execute_result"
    }
   ],
   "source": [
    "#Create a fair predictor object, using the attribute 'race' on validation data\n",
    "fpredictor = FairPredictor(predictor, val, 'race')\n",
    "#and then evaluate it\n",
    "evaluate(fpredictor, gm.clarify_metrics)\n",
    "#Note that Class Imbalance is a property of the dataset and can not be altered."
   ]
  },
  {
   "cell_type": "code",
   "execution_count": 19,
   "metadata": {
    "execution": {
     "iopub.execute_input": "2024-06-17T19:21:01.260845Z",
     "iopub.status.busy": "2024-06-17T19:21:01.260654Z",
     "iopub.status.idle": "2024-06-17T19:21:02.672497Z",
     "shell.execute_reply": "2024-06-17T19:21:02.671929Z"
    }
   },
   "outputs": [
    {
     "data": {
      "text/html": [
       "<div>\n",
       "<style scoped>\n",
       "    .dataframe tbody tr th:only-of-type {\n",
       "        vertical-align: middle;\n",
       "    }\n",
       "\n",
       "    .dataframe tbody tr th {\n",
       "        vertical-align: top;\n",
       "    }\n",
       "\n",
       "    .dataframe thead th {\n",
       "        text-align: right;\n",
       "    }\n",
       "</style>\n",
       "<table border=\"1\" class=\"dataframe\">\n",
       "  <thead>\n",
       "    <tr style=\"text-align: right;\">\n",
       "      <th></th>\n",
       "      <th>Measure (original)</th>\n",
       "      <th>Measure (updated)</th>\n",
       "      <th>Accuracy (original)</th>\n",
       "      <th>Accuracy (updated)</th>\n",
       "    </tr>\n",
       "  </thead>\n",
       "  <tbody>\n",
       "    <tr>\n",
       "      <th>Demographic Parity</th>\n",
       "      <td>0.234362</td>\n",
       "      <td>0.035235</td>\n",
       "      <td>0.671287</td>\n",
       "      <td>0.554851</td>\n",
       "    </tr>\n",
       "    <tr>\n",
       "      <th>Disparate Impact</th>\n",
       "      <td>0.561681</td>\n",
       "      <td>0.988790</td>\n",
       "      <td>0.671287</td>\n",
       "      <td>0.542970</td>\n",
       "    </tr>\n",
       "    <tr>\n",
       "      <th>Average Group Difference in Conditional Acceptance Rate</th>\n",
       "      <td>0.300350</td>\n",
       "      <td>0.008952</td>\n",
       "      <td>0.671287</td>\n",
       "      <td>0.622574</td>\n",
       "    </tr>\n",
       "    <tr>\n",
       "      <th>Average Group Difference in Conditional Rejectance Rate</th>\n",
       "      <td>0.165646</td>\n",
       "      <td>0.017900</td>\n",
       "      <td>0.671287</td>\n",
       "      <td>0.653861</td>\n",
       "    </tr>\n",
       "    <tr>\n",
       "      <th>Average Group Difference in Accuracy</th>\n",
       "      <td>0.043198</td>\n",
       "      <td>0.042238</td>\n",
       "      <td>0.671287</td>\n",
       "      <td>0.666139</td>\n",
       "    </tr>\n",
       "    <tr>\n",
       "      <th>Average Group Difference in Recall</th>\n",
       "      <td>0.190611</td>\n",
       "      <td>0.018044</td>\n",
       "      <td>0.671287</td>\n",
       "      <td>0.557624</td>\n",
       "    </tr>\n",
       "    <tr>\n",
       "      <th>Average Group Difference in Acceptance Rate</th>\n",
       "      <td>0.033289</td>\n",
       "      <td>0.207826</td>\n",
       "      <td>0.671287</td>\n",
       "      <td>0.588515</td>\n",
       "    </tr>\n",
       "    <tr>\n",
       "      <th>Average Group Difference in Specificity</th>\n",
       "      <td>0.197344</td>\n",
       "      <td>0.076504</td>\n",
       "      <td>0.671287</td>\n",
       "      <td>0.651485</td>\n",
       "    </tr>\n",
       "    <tr>\n",
       "      <th>Average Group Difference in Rejection Rate</th>\n",
       "      <td>0.074006</td>\n",
       "      <td>0.077252</td>\n",
       "      <td>0.671287</td>\n",
       "      <td>0.666535</td>\n",
       "    </tr>\n",
       "    <tr>\n",
       "      <th>Treatment Equality</th>\n",
       "      <td>0.561487</td>\n",
       "      <td>0.069292</td>\n",
       "      <td>0.671287</td>\n",
       "      <td>0.659010</td>\n",
       "    </tr>\n",
       "  </tbody>\n",
       "</table>\n",
       "</div>"
      ],
      "text/plain": [
       "                                                    Measure (original)  \\\n",
       "Demographic Parity                                            0.234362   \n",
       "Disparate Impact                                              0.561681   \n",
       "Average Group Difference in Conditional Accepta...            0.300350   \n",
       "Average Group Difference in Conditional Rejecta...            0.165646   \n",
       "Average Group Difference in Accuracy                          0.043198   \n",
       "Average Group Difference in Recall                            0.190611   \n",
       "Average Group Difference in Acceptance Rate                   0.033289   \n",
       "Average Group Difference in Specificity                       0.197344   \n",
       "Average Group Difference in Rejection Rate                    0.074006   \n",
       "Treatment Equality                                            0.561487   \n",
       "\n",
       "                                                    Measure (updated)  \\\n",
       "Demographic Parity                                           0.035235   \n",
       "Disparate Impact                                             0.988790   \n",
       "Average Group Difference in Conditional Accepta...           0.008952   \n",
       "Average Group Difference in Conditional Rejecta...           0.017900   \n",
       "Average Group Difference in Accuracy                         0.042238   \n",
       "Average Group Difference in Recall                           0.018044   \n",
       "Average Group Difference in Acceptance Rate                  0.207826   \n",
       "Average Group Difference in Specificity                      0.076504   \n",
       "Average Group Difference in Rejection Rate                   0.077252   \n",
       "Treatment Equality                                           0.069292   \n",
       "\n",
       "                                                    Accuracy (original)  \\\n",
       "Demographic Parity                                             0.671287   \n",
       "Disparate Impact                                               0.671287   \n",
       "Average Group Difference in Conditional Accepta...             0.671287   \n",
       "Average Group Difference in Conditional Rejecta...             0.671287   \n",
       "Average Group Difference in Accuracy                           0.671287   \n",
       "Average Group Difference in Recall                             0.671287   \n",
       "Average Group Difference in Acceptance Rate                    0.671287   \n",
       "Average Group Difference in Specificity                        0.671287   \n",
       "Average Group Difference in Rejection Rate                     0.671287   \n",
       "Treatment Equality                                             0.671287   \n",
       "\n",
       "                                                    Accuracy (updated)  \n",
       "Demographic Parity                                            0.554851  \n",
       "Disparate Impact                                              0.542970  \n",
       "Average Group Difference in Conditional Accepta...            0.622574  \n",
       "Average Group Difference in Conditional Rejecta...            0.653861  \n",
       "Average Group Difference in Accuracy                          0.666139  \n",
       "Average Group Difference in Recall                            0.557624  \n",
       "Average Group Difference in Acceptance Rate                   0.588515  \n",
       "Average Group Difference in Specificity                       0.651485  \n",
       "Average Group Difference in Rejection Rate                    0.666535  \n",
       "Treatment Equality                                            0.659010  "
      ]
     },
     "execution_count": 19,
     "metadata": {},
     "output_type": "execute_result"
    }
   ],
   "source": [
    " # Now using infered attributes\n",
    "fpredictor2 = FairPredictor(predictor2, val, 'race', inferred_groups=protected)\n",
    "evaluate(fpredictor2, gm.clarify_metrics)"
   ]
  }
 ],
 "metadata": {
  "kernelspec": {
   "display_name": "Python 3.9.15 64-bit",
   "language": "python",
   "name": "python3"
  },
  "language_info": {
   "codemirror_mode": {
    "name": "ipython",
    "version": 3
   },
   "file_extension": ".py",
   "mimetype": "text/x-python",
   "name": "python",
   "nbconvert_exporter": "python",
   "pygments_lexer": "ipython3",
   "version": "3.10.13"
  },
  "vscode": {
   "interpreter": {
    "hash": "397704579725e15f5c7cb49fe5f0341eb7531c82d19f2c29d197e8b64ab5776b"
   }
  }
 },
 "nbformat": 4,
 "nbformat_minor": 2
}
