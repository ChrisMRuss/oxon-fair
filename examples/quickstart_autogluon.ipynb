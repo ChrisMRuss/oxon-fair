{
 "cells": [
  {
   "cell_type": "markdown",
   "metadata": {},
   "source": [
    "# FairPredictor Autogluon Examples\n",
    "This file contains demo code for an extended version of the example in Readme.md (additionally handling more fairness over multiple groups),  and enforcing a range of fairness definition on COMPAS.\n",
    "\n",
    "FairPredictor is a postprocessing approach for enforcing fairness, with support for a wide range of performance metrics and fairness criteria, and support for inferred attributes, i.e. it does not require access to protected attributes at test time. \n",
    "Under the hood, FairPredictor works by adjusting the decision boundary for each group individually. Where groups are not available, it makes use of inferred group membership to adjust decision boundaries.\n",
    "\n",
    "The key idea underlying this toolkit is that for a wide range of use cases, the most suitable classifier should do more than maximize some form of accuracy.\n",
    "We offer a general toolkit that allows different measures to be optimized and additional constraints to be imposed by tuning the behavior of a binary predictor on validation data.\n",
    "\n",
    "For example, classifiers can be tuned to maximize performance for a wide range of metrics such as:\n",
    "\n",
    "* Accuracy\n",
    "* Balanced Accuracy\n",
    "* F1 score\n",
    "* MCC\n",
    "* Custom utility functions\n",
    "\n",
    "While also approximately satisfying a wide range of group constraints such as:\n",
    "\n",
    "* Demographic Parity (The idea that positive decisions should occur at the same rates for all protected groups, for example for men at the same rate as for women)\n",
    "* Equal Opportunity (The recall should be the same for all protected groups)\n",
    "* Minimum recall constraints (The recall should be above a particular level for all groups)\n",
    "* Minimum Precision constraints (The precision should be above a particular level for all groups)\n",
    "* Custom Fairness Metrics\n",
    "\n",
    "The full set of constraints and objectives can be seen in Readme.md "
   ]
  },
  {
   "cell_type": "code",
   "execution_count": 1,
   "metadata": {
    "execution": {
     "iopub.execute_input": "2024-06-17T14:23:43.100557Z",
     "iopub.status.busy": "2024-06-17T14:23:43.100407Z",
     "iopub.status.idle": "2024-06-17T14:24:02.704567Z",
     "shell.execute_reply": "2024-06-17T14:24:02.704105Z"
    }
   },
   "outputs": [
    {
     "name": "stderr",
     "output_type": "stream",
     "text": [
      "/opt/miniconda3/envs/ag/lib/python3.10/site-packages/tqdm/auto.py:21: TqdmWarning: IProgress not found. Please update jupyter and ipywidgets. See https://ipywidgets.readthedocs.io/en/stable/user_install.html\n",
      "  from .autonotebook import tqdm as notebook_tqdm\n"
     ]
    },
    {
     "name": "stderr",
     "output_type": "stream",
     "text": [
      "No path specified. Models will be saved in: \"AutogluonModels/ag-20240617_142354\"\n"
     ]
    },
    {
     "name": "stderr",
     "output_type": "stream",
     "text": [
      "No presets specified! To achieve strong results with AutoGluon, it is recommended to use the available presets.\n",
      "\tRecommended Presets (For more details refer to https://auto.gluon.ai/stable/tutorials/tabular/tabular-essentials.html#presets):\n",
      "\tpresets='best_quality'   : Maximize accuracy. Default time_limit=3600.\n",
      "\tpresets='high_quality'   : Strong accuracy with fast inference speed. Default time_limit=3600.\n",
      "\tpresets='good_quality'   : Good accuracy with very fast inference speed. Default time_limit=3600.\n",
      "\tpresets='medium_quality' : Fast training time, ideal for initial prototyping.\n"
     ]
    },
    {
     "name": "stderr",
     "output_type": "stream",
     "text": [
      "Beginning AutoGluon training ... Time limit = 5s\n"
     ]
    },
    {
     "name": "stderr",
     "output_type": "stream",
     "text": [
      "AutoGluon will save models to \"AutogluonModels/ag-20240617_142354\"\n"
     ]
    },
    {
     "name": "stderr",
     "output_type": "stream",
     "text": [
      "=================== System Info ===================\n",
      "AutoGluon Version:  1.1.0\n",
      "Python Version:     3.10.13\n",
      "Operating System:   Darwin\n",
      "Platform Machine:   arm64\n",
      "Platform Version:   Darwin Kernel Version 23.5.0: Wed May  1 20:14:38 PDT 2024; root:xnu-10063.121.3~5/RELEASE_ARM64_T6020\n",
      "CPU Count:          10\n",
      "Memory Avail:       7.91 GB / 16.00 GB (49.5%)\n",
      "Disk Space Avail:   363.55 GB / 460.43 GB (79.0%)\n",
      "===================================================\n"
     ]
    },
    {
     "name": "stderr",
     "output_type": "stream",
     "text": [
      "Train Data Rows:    39073\n"
     ]
    },
    {
     "name": "stderr",
     "output_type": "stream",
     "text": [
      "Train Data Columns: 14\n"
     ]
    },
    {
     "name": "stderr",
     "output_type": "stream",
     "text": [
      "Label Column:       class\n"
     ]
    },
    {
     "name": "stderr",
     "output_type": "stream",
     "text": [
      "AutoGluon infers your prediction problem is: 'binary' (because only two unique label-values observed).\n"
     ]
    },
    {
     "name": "stderr",
     "output_type": "stream",
     "text": [
      "\t2 unique label values:  [' <=50K', ' >50K']\n"
     ]
    },
    {
     "name": "stderr",
     "output_type": "stream",
     "text": [
      "\tIf 'binary' is not the correct problem_type, please manually specify the problem_type parameter during predictor init (You may specify problem_type as one of: ['binary', 'multiclass', 'regression'])\n"
     ]
    },
    {
     "name": "stderr",
     "output_type": "stream",
     "text": [
      "Problem Type:       binary\n"
     ]
    },
    {
     "name": "stderr",
     "output_type": "stream",
     "text": [
      "Preprocessing data ...\n"
     ]
    },
    {
     "name": "stderr",
     "output_type": "stream",
     "text": [
      "Selected class <--> label mapping:  class 1 =  >50K, class 0 =  <=50K\n"
     ]
    },
    {
     "name": "stderr",
     "output_type": "stream",
     "text": [
      "\tNote: For your binary classification, AutoGluon arbitrarily selected which label-value represents positive ( >50K) vs negative ( <=50K) class.\n",
      "\tTo explicitly set the positive_class, either rename classes to 1 and 0, or specify positive_class in Predictor init.\n"
     ]
    },
    {
     "name": "stderr",
     "output_type": "stream",
     "text": [
      "Using Feature Generators to preprocess the data ...\n"
     ]
    },
    {
     "name": "stderr",
     "output_type": "stream",
     "text": [
      "Fitting AutoMLPipelineFeatureGenerator...\n"
     ]
    },
    {
     "name": "stderr",
     "output_type": "stream",
     "text": [
      "\tAvailable Memory:                    8126.53 MB\n"
     ]
    },
    {
     "name": "stderr",
     "output_type": "stream",
     "text": [
      "\tTrain Data (Original)  Memory Usage: 21.86 MB (0.3% of available memory)\n"
     ]
    },
    {
     "name": "stderr",
     "output_type": "stream",
     "text": [
      "\tInferring data type of each feature based on column values. Set feature_metadata_in to manually specify special dtypes of the features.\n"
     ]
    },
    {
     "name": "stderr",
     "output_type": "stream",
     "text": [
      "\tStage 1 Generators:\n"
     ]
    },
    {
     "name": "stderr",
     "output_type": "stream",
     "text": [
      "\t\tFitting AsTypeFeatureGenerator...\n"
     ]
    },
    {
     "name": "stderr",
     "output_type": "stream",
     "text": [
      "\t\t\tNote: Converting 1 features to boolean dtype as they only contain 2 unique values.\n"
     ]
    },
    {
     "name": "stderr",
     "output_type": "stream",
     "text": [
      "\tStage 2 Generators:\n"
     ]
    },
    {
     "name": "stderr",
     "output_type": "stream",
     "text": [
      "\t\tFitting FillNaFeatureGenerator...\n"
     ]
    },
    {
     "name": "stderr",
     "output_type": "stream",
     "text": [
      "\tStage 3 Generators:\n"
     ]
    },
    {
     "name": "stderr",
     "output_type": "stream",
     "text": [
      "\t\tFitting IdentityFeatureGenerator...\n"
     ]
    },
    {
     "name": "stderr",
     "output_type": "stream",
     "text": [
      "\t\tFitting CategoryFeatureGenerator...\n"
     ]
    },
    {
     "name": "stderr",
     "output_type": "stream",
     "text": [
      "\t\t\tFitting CategoryMemoryMinimizeFeatureGenerator...\n"
     ]
    },
    {
     "name": "stderr",
     "output_type": "stream",
     "text": [
      "\tStage 4 Generators:\n"
     ]
    },
    {
     "name": "stderr",
     "output_type": "stream",
     "text": [
      "\t\tFitting DropUniqueFeatureGenerator...\n"
     ]
    },
    {
     "name": "stderr",
     "output_type": "stream",
     "text": [
      "\tStage 5 Generators:\n"
     ]
    },
    {
     "name": "stderr",
     "output_type": "stream",
     "text": [
      "\t\tFitting DropDuplicatesFeatureGenerator...\n"
     ]
    },
    {
     "name": "stderr",
     "output_type": "stream",
     "text": [
      "\tTypes of features in original data (raw dtype, special dtypes):\n"
     ]
    },
    {
     "name": "stderr",
     "output_type": "stream",
     "text": [
      "\t\t('int', [])    : 6 | ['age', 'fnlwgt', 'education-num', 'capital-gain', 'capital-loss', ...]\n"
     ]
    },
    {
     "name": "stderr",
     "output_type": "stream",
     "text": [
      "\t\t('object', []) : 8 | ['workclass', 'education', 'marital-status', 'occupation', 'relationship', ...]\n"
     ]
    },
    {
     "name": "stderr",
     "output_type": "stream",
     "text": [
      "\tTypes of features in processed data (raw dtype, special dtypes):\n"
     ]
    },
    {
     "name": "stderr",
     "output_type": "stream",
     "text": [
      "\t\t('category', [])  : 7 | ['workclass', 'education', 'marital-status', 'occupation', 'relationship', ...]\n"
     ]
    },
    {
     "name": "stderr",
     "output_type": "stream",
     "text": [
      "\t\t('int', [])       : 6 | ['age', 'fnlwgt', 'education-num', 'capital-gain', 'capital-loss', ...]\n"
     ]
    },
    {
     "name": "stderr",
     "output_type": "stream",
     "text": [
      "\t\t('int', ['bool']) : 1 | ['sex']\n"
     ]
    },
    {
     "name": "stderr",
     "output_type": "stream",
     "text": [
      "\t0.2s = Fit runtime\n"
     ]
    },
    {
     "name": "stderr",
     "output_type": "stream",
     "text": [
      "\t14 features in original data used to generate 14 features in processed data.\n"
     ]
    },
    {
     "name": "stderr",
     "output_type": "stream",
     "text": [
      "\tTrain Data (Processed) Memory Usage: 2.09 MB (0.0% of available memory)\n"
     ]
    },
    {
     "name": "stderr",
     "output_type": "stream",
     "text": [
      "Data preprocessing and feature engineering runtime = 0.19s ...\n"
     ]
    },
    {
     "name": "stderr",
     "output_type": "stream",
     "text": [
      "AutoGluon will gauge predictive performance using evaluation metric: 'accuracy'\n"
     ]
    },
    {
     "name": "stderr",
     "output_type": "stream",
     "text": [
      "\tTo change this, specify the eval_metric parameter of Predictor()\n"
     ]
    },
    {
     "name": "stderr",
     "output_type": "stream",
     "text": [
      "Automatically generating train/validation split with holdout_frac=0.0639828014229775, Train Rows: 36573, Val Rows: 2500\n"
     ]
    },
    {
     "name": "stderr",
     "output_type": "stream",
     "text": [
      "User-specified model hyperparameters to be fit:\n",
      "{\n",
      "\t'NN_TORCH': {},\n",
      "\t'GBM': [{'extra_trees': True, 'ag_args': {'name_suffix': 'XT'}}, {}, 'GBMLarge'],\n",
      "\t'CAT': {},\n",
      "\t'XGB': {},\n",
      "\t'FASTAI': {},\n",
      "\t'RF': [{'criterion': 'gini', 'ag_args': {'name_suffix': 'Gini', 'problem_types': ['binary', 'multiclass']}}, {'criterion': 'entropy', 'ag_args': {'name_suffix': 'Entr', 'problem_types': ['binary', 'multiclass']}}, {'criterion': 'squared_error', 'ag_args': {'name_suffix': 'MSE', 'problem_types': ['regression', 'quantile']}}],\n",
      "\t'XT': [{'criterion': 'gini', 'ag_args': {'name_suffix': 'Gini', 'problem_types': ['binary', 'multiclass']}}, {'criterion': 'entropy', 'ag_args': {'name_suffix': 'Entr', 'problem_types': ['binary', 'multiclass']}}, {'criterion': 'squared_error', 'ag_args': {'name_suffix': 'MSE', 'problem_types': ['regression', 'quantile']}}],\n",
      "\t'KNN': [{'weights': 'uniform', 'ag_args': {'name_suffix': 'Unif'}}, {'weights': 'distance', 'ag_args': {'name_suffix': 'Dist'}}],\n",
      "}\n"
     ]
    },
    {
     "name": "stderr",
     "output_type": "stream",
     "text": [
      "Fitting 13 L1 models ...\n"
     ]
    },
    {
     "name": "stderr",
     "output_type": "stream",
     "text": [
      "Fitting model: KNeighborsUnif ... Training model for up to 4.81s of the 4.81s of remaining time.\n"
     ]
    },
    {
     "name": "stderr",
     "output_type": "stream",
     "text": [
      "\t0.7752\t = Validation score   (accuracy)\n"
     ]
    },
    {
     "name": "stderr",
     "output_type": "stream",
     "text": [
      "\t3.2s\t = Training   runtime\n"
     ]
    },
    {
     "name": "stderr",
     "output_type": "stream",
     "text": [
      "\t0.05s\t = Validation runtime\n"
     ]
    },
    {
     "name": "stderr",
     "output_type": "stream",
     "text": [
      "Fitting model: KNeighborsDist ... Training model for up to 1.53s of the 1.52s of remaining time.\n"
     ]
    },
    {
     "name": "stderr",
     "output_type": "stream",
     "text": [
      "\t0.766\t = Validation score   (accuracy)\n"
     ]
    },
    {
     "name": "stderr",
     "output_type": "stream",
     "text": [
      "\t0.03s\t = Training   runtime\n"
     ]
    },
    {
     "name": "stderr",
     "output_type": "stream",
     "text": [
      "\t0.02s\t = Validation runtime\n"
     ]
    },
    {
     "name": "stderr",
     "output_type": "stream",
     "text": [
      "Fitting model: LightGBMXT ... Training model for up to 1.45s of the 1.45s of remaining time.\n"
     ]
    },
    {
     "name": "stderr",
     "output_type": "stream",
     "text": [
      "/opt/miniconda3/envs/ag/lib/python3.10/site-packages/dask/dataframe/__init__.py:31: FutureWarning: \n",
      "Dask dataframe query planning is disabled because dask-expr is not installed.\n",
      "\n",
      "You can install it with `pip install dask[dataframe]` or `conda install dask`.\n",
      "This will raise in a future version.\n",
      "\n",
      "  warnings.warn(msg, FutureWarning)\n"
     ]
    },
    {
     "name": "stderr",
     "output_type": "stream",
     "text": [
      "\tRan out of time, early stopping on iteration 71. Best iteration is:\n",
      "\t[58]\tvalid_set's binary_error: 0.1328\n"
     ]
    },
    {
     "name": "stderr",
     "output_type": "stream",
     "text": [
      "\t0.8672\t = Validation score   (accuracy)\n"
     ]
    },
    {
     "name": "stderr",
     "output_type": "stream",
     "text": [
      "\t4.03s\t = Training   runtime\n"
     ]
    },
    {
     "name": "stderr",
     "output_type": "stream",
     "text": [
      "\t0.01s\t = Validation runtime\n"
     ]
    },
    {
     "name": "stderr",
     "output_type": "stream",
     "text": [
      "Fitting model: WeightedEnsemble_L2 ... Training model for up to 4.81s of the -2.61s of remaining time.\n"
     ]
    },
    {
     "name": "stderr",
     "output_type": "stream",
     "text": [
      "\tEnsemble Weights: {'LightGBMXT': 1.0}\n"
     ]
    },
    {
     "name": "stderr",
     "output_type": "stream",
     "text": [
      "\t0.8672\t = Validation score   (accuracy)\n"
     ]
    },
    {
     "name": "stderr",
     "output_type": "stream",
     "text": [
      "\t0.02s\t = Training   runtime\n"
     ]
    },
    {
     "name": "stderr",
     "output_type": "stream",
     "text": [
      "\t0.0s\t = Validation runtime\n"
     ]
    },
    {
     "name": "stderr",
     "output_type": "stream",
     "text": [
      "AutoGluon training complete, total runtime = 7.73s ... Best model: \"WeightedEnsemble_L2\"\n"
     ]
    },
    {
     "name": "stderr",
     "output_type": "stream",
     "text": [
      "TabularPredictor saved. To load, use: predictor = TabularPredictor.load(\"AutogluonModels/ag-20240617_142354\")\n"
     ]
    }
   ],
   "source": [
    "# Load and train a baseline classifier\n",
    "\n",
    "from autogluon.tabular import TabularDataset, TabularPredictor\n",
    "from oxonfair import FairPredictor \n",
    "from oxonfair.utils import group_metrics as gm\n",
    "train_data = TabularDataset('https://autogluon.s3.amazonaws.com/datasets/Inc/train.csv')\n",
    "test_data = TabularDataset('https://autogluon.s3.amazonaws.com/datasets/Inc/test.csv')\n",
    "predictor = TabularPredictor(label='class').fit(train_data=train_data,time_limit=5)"
   ]
  },
  {
   "cell_type": "code",
   "execution_count": 2,
   "metadata": {
    "execution": {
     "iopub.execute_input": "2024-06-17T14:24:02.707319Z",
     "iopub.status.busy": "2024-06-17T14:24:02.706710Z",
     "iopub.status.idle": "2024-06-17T14:24:02.802109Z",
     "shell.execute_reply": "2024-06-17T14:24:02.801074Z"
    }
   },
   "outputs": [],
   "source": [
    "# Modify predictor to enforce fairness over the train_data with respect to groups given by the column 'sex'\n",
    "fpredictor = FairPredictor(predictor,train_data,'sex')\n",
    "# Maximize accuracy while enforcing that the demographic parity (the difference in positive decision rates between men and women is at most 0.02)\n",
    "fpredictor.fit(gm.accuracy,gm.demographic_parity,0.02)"
   ]
  },
  {
   "cell_type": "code",
   "execution_count": 3,
   "metadata": {
    "execution": {
     "iopub.execute_input": "2024-06-17T14:24:02.806891Z",
     "iopub.status.busy": "2024-06-17T14:24:02.806616Z",
     "iopub.status.idle": "2024-06-17T14:24:02.853890Z",
     "shell.execute_reply": "2024-06-17T14:24:02.852531Z"
    }
   },
   "outputs": [
    {
     "data": {
      "text/plain": [
       "0        <=50K\n",
       "1        <=50K\n",
       "2         >50K\n",
       "3        <=50K\n",
       "4        <=50K\n",
       "         ...  \n",
       "9764     <=50K\n",
       "9765     <=50K\n",
       "9766     <=50K\n",
       "9767     <=50K\n",
       "9768     <=50K\n",
       "Length: 9769, dtype: object"
      ]
     },
     "execution_count": 3,
     "metadata": {},
     "output_type": "execute_result"
    }
   ],
   "source": [
    "# Evaluate on test data\n",
    "fpredictor.predict(test_data)"
   ]
  },
  {
   "cell_type": "code",
   "execution_count": 4,
   "metadata": {
    "execution": {
     "iopub.execute_input": "2024-06-17T14:24:02.858009Z",
     "iopub.status.busy": "2024-06-17T14:24:02.857696Z",
     "iopub.status.idle": "2024-06-17T14:24:02.981764Z",
     "shell.execute_reply": "2024-06-17T14:24:02.977437Z"
    }
   },
   "outputs": [
    {
     "data": {
      "text/html": [
       "<div>\n",
       "<style scoped>\n",
       "    .dataframe tbody tr th:only-of-type {\n",
       "        vertical-align: middle;\n",
       "    }\n",
       "\n",
       "    .dataframe tbody tr th {\n",
       "        vertical-align: top;\n",
       "    }\n",
       "\n",
       "    .dataframe thead th {\n",
       "        text-align: right;\n",
       "    }\n",
       "</style>\n",
       "<table border=\"1\" class=\"dataframe\">\n",
       "  <thead>\n",
       "    <tr style=\"text-align: right;\">\n",
       "      <th></th>\n",
       "      <th>original</th>\n",
       "      <th>updated</th>\n",
       "    </tr>\n",
       "  </thead>\n",
       "  <tbody>\n",
       "    <tr>\n",
       "      <th>Accuracy</th>\n",
       "      <td>0.863036</td>\n",
       "      <td>0.843177</td>\n",
       "    </tr>\n",
       "    <tr>\n",
       "      <th>Balanced Accuracy</th>\n",
       "      <td>0.771720</td>\n",
       "      <td>0.736263</td>\n",
       "    </tr>\n",
       "    <tr>\n",
       "      <th>F1 score</th>\n",
       "      <td>0.674453</td>\n",
       "      <td>0.617191</td>\n",
       "    </tr>\n",
       "    <tr>\n",
       "      <th>MCC</th>\n",
       "      <td>0.597347</td>\n",
       "      <td>0.532205</td>\n",
       "    </tr>\n",
       "    <tr>\n",
       "      <th>Precision</th>\n",
       "      <td>0.773438</td>\n",
       "      <td>0.733373</td>\n",
       "    </tr>\n",
       "    <tr>\n",
       "      <th>Recall</th>\n",
       "      <td>0.597929</td>\n",
       "      <td>0.532787</td>\n",
       "    </tr>\n",
       "    <tr>\n",
       "      <th>ROC AUC</th>\n",
       "      <td>0.918163</td>\n",
       "      <td>0.819932</td>\n",
       "    </tr>\n",
       "  </tbody>\n",
       "</table>\n",
       "</div>"
      ],
      "text/plain": [
       "                   original   updated\n",
       "Accuracy           0.863036  0.843177\n",
       "Balanced Accuracy  0.771720  0.736263\n",
       "F1 score           0.674453  0.617191\n",
       "MCC                0.597347  0.532205\n",
       "Precision          0.773438  0.733373\n",
       "Recall             0.597929  0.532787\n",
       "ROC AUC            0.918163  0.819932"
      ]
     },
     "execution_count": 4,
     "metadata": {},
     "output_type": "execute_result"
    }
   ],
   "source": [
    "# Evaluate a range of performance measures, and compare against original classifier on test data\n",
    "fpredictor.evaluate(test_data, verbose=True)"
   ]
  },
  {
   "cell_type": "code",
   "execution_count": 5,
   "metadata": {
    "execution": {
     "iopub.execute_input": "2024-06-17T14:24:02.987291Z",
     "iopub.status.busy": "2024-06-17T14:24:02.986939Z",
     "iopub.status.idle": "2024-06-17T14:24:03.138350Z",
     "shell.execute_reply": "2024-06-17T14:24:03.133318Z"
    }
   },
   "outputs": [
    {
     "data": {
      "text/html": [
       "<div>\n",
       "<style scoped>\n",
       "    .dataframe tbody tr th:only-of-type {\n",
       "        vertical-align: middle;\n",
       "    }\n",
       "\n",
       "    .dataframe tbody tr th {\n",
       "        vertical-align: top;\n",
       "    }\n",
       "\n",
       "    .dataframe thead th {\n",
       "        text-align: right;\n",
       "    }\n",
       "</style>\n",
       "<table border=\"1\" class=\"dataframe\">\n",
       "  <thead>\n",
       "    <tr style=\"text-align: right;\">\n",
       "      <th></th>\n",
       "      <th>original</th>\n",
       "      <th>updated</th>\n",
       "    </tr>\n",
       "  </thead>\n",
       "  <tbody>\n",
       "    <tr>\n",
       "      <th>Statistical Parity</th>\n",
       "      <td>0.165619</td>\n",
       "      <td>0.001850</td>\n",
       "    </tr>\n",
       "    <tr>\n",
       "      <th>Predictive Parity</th>\n",
       "      <td>0.013511</td>\n",
       "      <td>0.346475</td>\n",
       "    </tr>\n",
       "    <tr>\n",
       "      <th>Equal Opportunity</th>\n",
       "      <td>0.070408</td>\n",
       "      <td>0.333930</td>\n",
       "    </tr>\n",
       "    <tr>\n",
       "      <th>Average Group Difference in False Negative Rate</th>\n",
       "      <td>0.070408</td>\n",
       "      <td>0.333930</td>\n",
       "    </tr>\n",
       "    <tr>\n",
       "      <th>Equalized Odds</th>\n",
       "      <td>0.065551</td>\n",
       "      <td>0.196777</td>\n",
       "    </tr>\n",
       "    <tr>\n",
       "      <th>Conditional Use Accuracy</th>\n",
       "      <td>0.058000</td>\n",
       "      <td>0.256119</td>\n",
       "    </tr>\n",
       "    <tr>\n",
       "      <th>Average Group Difference in Accuracy</th>\n",
       "      <td>0.107933</td>\n",
       "      <td>0.076909</td>\n",
       "    </tr>\n",
       "    <tr>\n",
       "      <th>Treatment Equality</th>\n",
       "      <td>0.141320</td>\n",
       "      <td>4.190781</td>\n",
       "    </tr>\n",
       "  </tbody>\n",
       "</table>\n",
       "</div>"
      ],
      "text/plain": [
       "                                                 original   updated\n",
       "Statistical Parity                               0.165619  0.001850\n",
       "Predictive Parity                                0.013511  0.346475\n",
       "Equal Opportunity                                0.070408  0.333930\n",
       "Average Group Difference in False Negative Rate  0.070408  0.333930\n",
       "Equalized Odds                                   0.065551  0.196777\n",
       "Conditional Use Accuracy                         0.058000  0.256119\n",
       "Average Group Difference in Accuracy             0.107933  0.076909\n",
       "Treatment Equality                               0.141320  4.190781"
      ]
     },
     "execution_count": 5,
     "metadata": {},
     "output_type": "execute_result"
    }
   ],
   "source": [
    "# Evaluate against a range of standard fairness definitions and compare against original classifier on test data\n",
    "fpredictor.evaluate_fairness(test_data, verbose=True)"
   ]
  },
  {
   "cell_type": "code",
   "execution_count": 6,
   "metadata": {
    "execution": {
     "iopub.execute_input": "2024-06-17T14:24:03.151207Z",
     "iopub.status.busy": "2024-06-17T14:24:03.149829Z",
     "iopub.status.idle": "2024-06-17T14:24:03.341316Z",
     "shell.execute_reply": "2024-06-17T14:24:03.339336Z"
    }
   },
   "outputs": [
    {
     "data": {
      "text/html": [
       "<div>\n",
       "<style scoped>\n",
       "    .dataframe tbody tr th:only-of-type {\n",
       "        vertical-align: middle;\n",
       "    }\n",
       "\n",
       "    .dataframe tbody tr th {\n",
       "        vertical-align: top;\n",
       "    }\n",
       "\n",
       "    .dataframe thead th {\n",
       "        text-align: right;\n",
       "    }\n",
       "</style>\n",
       "<table border=\"1\" class=\"dataframe\">\n",
       "  <thead>\n",
       "    <tr style=\"text-align: right;\">\n",
       "      <th></th>\n",
       "      <th></th>\n",
       "      <th>Accuracy</th>\n",
       "      <th>Balanced Accuracy</th>\n",
       "      <th>F1 score</th>\n",
       "      <th>MCC</th>\n",
       "      <th>Precision</th>\n",
       "      <th>Recall</th>\n",
       "      <th>ROC AUC</th>\n",
       "      <th>Positive Count</th>\n",
       "      <th>Negative Count</th>\n",
       "      <th>Positive Label Rate</th>\n",
       "      <th>Positive Prediction Rate</th>\n",
       "    </tr>\n",
       "    <tr>\n",
       "      <th></th>\n",
       "      <th>Groups</th>\n",
       "      <th></th>\n",
       "      <th></th>\n",
       "      <th></th>\n",
       "      <th></th>\n",
       "      <th></th>\n",
       "      <th></th>\n",
       "      <th></th>\n",
       "      <th></th>\n",
       "      <th></th>\n",
       "      <th></th>\n",
       "      <th></th>\n",
       "    </tr>\n",
       "  </thead>\n",
       "  <tbody>\n",
       "    <tr>\n",
       "      <th rowspan=\"4\" valign=\"top\">original</th>\n",
       "      <th>Overall</th>\n",
       "      <td>0.863036</td>\n",
       "      <td>0.771720</td>\n",
       "      <td>0.674453</td>\n",
       "      <td>0.597347</td>\n",
       "      <td>0.773438</td>\n",
       "      <td>0.597929</td>\n",
       "      <td>0.918163</td>\n",
       "      <td>2318.0</td>\n",
       "      <td>7451.0</td>\n",
       "      <td>0.237281</td>\n",
       "      <td>0.183437</td>\n",
       "    </tr>\n",
       "    <tr>\n",
       "      <th>Female</th>\n",
       "      <td>0.934631</td>\n",
       "      <td>0.760266</td>\n",
       "      <td>0.638655</td>\n",
       "      <td>0.617120</td>\n",
       "      <td>0.785124</td>\n",
       "      <td>0.538244</td>\n",
       "      <td>0.938701</td>\n",
       "      <td>353.0</td>\n",
       "      <td>2936.0</td>\n",
       "      <td>0.107327</td>\n",
       "      <td>0.073579</td>\n",
       "    </tr>\n",
       "    <tr>\n",
       "      <th>Male</th>\n",
       "      <td>0.826698</td>\n",
       "      <td>0.765123</td>\n",
       "      <td>0.680512</td>\n",
       "      <td>0.571345</td>\n",
       "      <td>0.771613</td>\n",
       "      <td>0.608651</td>\n",
       "      <td>0.896625</td>\n",
       "      <td>1965.0</td>\n",
       "      <td>4515.0</td>\n",
       "      <td>0.303241</td>\n",
       "      <td>0.239198</td>\n",
       "    </tr>\n",
       "    <tr>\n",
       "      <th>Maximum difference</th>\n",
       "      <td>0.107933</td>\n",
       "      <td>0.004857</td>\n",
       "      <td>0.041857</td>\n",
       "      <td>0.045775</td>\n",
       "      <td>0.013511</td>\n",
       "      <td>0.070408</td>\n",
       "      <td>0.042075</td>\n",
       "      <td>1612.0</td>\n",
       "      <td>1579.0</td>\n",
       "      <td>0.195913</td>\n",
       "      <td>0.165619</td>\n",
       "    </tr>\n",
       "    <tr>\n",
       "      <th rowspan=\"4\" valign=\"top\">updated</th>\n",
       "      <th>Overall</th>\n",
       "      <td>0.843177</td>\n",
       "      <td>0.736263</td>\n",
       "      <td>0.617191</td>\n",
       "      <td>0.532205</td>\n",
       "      <td>0.733373</td>\n",
       "      <td>0.532787</td>\n",
       "      <td>0.819932</td>\n",
       "      <td>2318.0</td>\n",
       "      <td>7451.0</td>\n",
       "      <td>0.237281</td>\n",
       "      <td>0.172382</td>\n",
       "    </tr>\n",
       "    <tr>\n",
       "      <th>Female</th>\n",
       "      <td>0.894193</td>\n",
       "      <td>0.859737</td>\n",
       "      <td>0.623377</td>\n",
       "      <td>0.587947</td>\n",
       "      <td>0.504378</td>\n",
       "      <td>0.815864</td>\n",
       "      <td>0.938701</td>\n",
       "      <td>353.0</td>\n",
       "      <td>2936.0</td>\n",
       "      <td>0.107327</td>\n",
       "      <td>0.173609</td>\n",
       "    </tr>\n",
       "    <tr>\n",
       "      <th>Male</th>\n",
       "      <td>0.817284</td>\n",
       "      <td>0.722584</td>\n",
       "      <td>0.615335</td>\n",
       "      <td>0.542526</td>\n",
       "      <td>0.850854</td>\n",
       "      <td>0.481934</td>\n",
       "      <td>0.896625</td>\n",
       "      <td>1965.0</td>\n",
       "      <td>4515.0</td>\n",
       "      <td>0.303241</td>\n",
       "      <td>0.171759</td>\n",
       "    </tr>\n",
       "    <tr>\n",
       "      <th>Maximum difference</th>\n",
       "      <td>0.076909</td>\n",
       "      <td>0.137153</td>\n",
       "      <td>0.008042</td>\n",
       "      <td>0.045421</td>\n",
       "      <td>0.346475</td>\n",
       "      <td>0.333930</td>\n",
       "      <td>0.042075</td>\n",
       "      <td>1612.0</td>\n",
       "      <td>1579.0</td>\n",
       "      <td>0.195913</td>\n",
       "      <td>0.001850</td>\n",
       "    </tr>\n",
       "  </tbody>\n",
       "</table>\n",
       "</div>"
      ],
      "text/plain": [
       "                             Accuracy  Balanced Accuracy  F1 score       MCC  \\\n",
       "         Groups                                                                \n",
       "original Overall             0.863036           0.771720  0.674453  0.597347   \n",
       "          Female             0.934631           0.760266  0.638655  0.617120   \n",
       "          Male               0.826698           0.765123  0.680512  0.571345   \n",
       "         Maximum difference  0.107933           0.004857  0.041857  0.045775   \n",
       "updated  Overall             0.843177           0.736263  0.617191  0.532205   \n",
       "          Female             0.894193           0.859737  0.623377  0.587947   \n",
       "          Male               0.817284           0.722584  0.615335  0.542526   \n",
       "         Maximum difference  0.076909           0.137153  0.008042  0.045421   \n",
       "\n",
       "                             Precision    Recall   ROC AUC  Positive Count  \\\n",
       "         Groups                                                              \n",
       "original Overall              0.773438  0.597929  0.918163          2318.0   \n",
       "          Female              0.785124  0.538244  0.938701           353.0   \n",
       "          Male                0.771613  0.608651  0.896625          1965.0   \n",
       "         Maximum difference   0.013511  0.070408  0.042075          1612.0   \n",
       "updated  Overall              0.733373  0.532787  0.819932          2318.0   \n",
       "          Female              0.504378  0.815864  0.938701           353.0   \n",
       "          Male                0.850854  0.481934  0.896625          1965.0   \n",
       "         Maximum difference   0.346475  0.333930  0.042075          1612.0   \n",
       "\n",
       "                             Negative Count  Positive Label Rate  \\\n",
       "         Groups                                                    \n",
       "original Overall                     7451.0             0.237281   \n",
       "          Female                     2936.0             0.107327   \n",
       "          Male                       4515.0             0.303241   \n",
       "         Maximum difference          1579.0             0.195913   \n",
       "updated  Overall                     7451.0             0.237281   \n",
       "          Female                     2936.0             0.107327   \n",
       "          Male                       4515.0             0.303241   \n",
       "         Maximum difference          1579.0             0.195913   \n",
       "\n",
       "                             Positive Prediction Rate  \n",
       "         Groups                                        \n",
       "original Overall                             0.183437  \n",
       "          Female                             0.073579  \n",
       "          Male                               0.239198  \n",
       "         Maximum difference                  0.165619  \n",
       "updated  Overall                             0.172382  \n",
       "          Female                             0.173609  \n",
       "          Male                               0.171759  \n",
       "         Maximum difference                  0.001850  "
      ]
     },
     "execution_count": 6,
     "metadata": {},
     "output_type": "execute_result"
    }
   ],
   "source": [
    "# Evaluate a range of performance measures per group, and compare against original classifier on test data\n",
    "fpredictor.evaluate_groups(test_data, verbose=True, return_original=True)"
   ]
  },
  {
   "cell_type": "code",
   "execution_count": 7,
   "metadata": {
    "execution": {
     "iopub.execute_input": "2024-06-17T14:24:03.348837Z",
     "iopub.status.busy": "2024-06-17T14:24:03.348169Z",
     "iopub.status.idle": "2024-06-17T14:25:29.142078Z",
     "shell.execute_reply": "2024-06-17T14:25:29.132028Z"
    }
   },
   "outputs": [],
   "source": [
    "#We can repeat the same analysis using the feature 'race' instead of 'sex'\n",
    "fpredictor = FairPredictor(predictor,train_data, 'race')\n",
    "# Maximize accuracy while enforcing that the demographic parity (the difference in positive decision rates between men and women is at most 0.02)\n",
    "fpredictor.fit(gm.accuracy, gm.demographic_parity, .02)"
   ]
  },
  {
   "cell_type": "code",
   "execution_count": 8,
   "metadata": {
    "execution": {
     "iopub.execute_input": "2024-06-17T14:25:29.178862Z",
     "iopub.status.busy": "2024-06-17T14:25:29.178057Z",
     "iopub.status.idle": "2024-06-17T14:25:29.392267Z",
     "shell.execute_reply": "2024-06-17T14:25:29.391944Z"
    }
   },
   "outputs": [
    {
     "data": {
      "text/html": [
       "<div>\n",
       "<style scoped>\n",
       "    .dataframe tbody tr th:only-of-type {\n",
       "        vertical-align: middle;\n",
       "    }\n",
       "\n",
       "    .dataframe tbody tr th {\n",
       "        vertical-align: top;\n",
       "    }\n",
       "\n",
       "    .dataframe thead th {\n",
       "        text-align: right;\n",
       "    }\n",
       "</style>\n",
       "<table border=\"1\" class=\"dataframe\">\n",
       "  <thead>\n",
       "    <tr style=\"text-align: right;\">\n",
       "      <th></th>\n",
       "      <th>original</th>\n",
       "      <th>updated</th>\n",
       "    </tr>\n",
       "  </thead>\n",
       "  <tbody>\n",
       "    <tr>\n",
       "      <th>Statistical Parity</th>\n",
       "      <td>0.089937</td>\n",
       "      <td>0.032217</td>\n",
       "    </tr>\n",
       "    <tr>\n",
       "      <th>Predictive Parity</th>\n",
       "      <td>0.117495</td>\n",
       "      <td>0.217334</td>\n",
       "    </tr>\n",
       "    <tr>\n",
       "      <th>Equal Opportunity</th>\n",
       "      <td>0.093219</td>\n",
       "      <td>0.146708</td>\n",
       "    </tr>\n",
       "    <tr>\n",
       "      <th>Average Group Difference in False Negative Rate</th>\n",
       "      <td>0.093219</td>\n",
       "      <td>0.146708</td>\n",
       "    </tr>\n",
       "    <tr>\n",
       "      <th>Equalized Odds</th>\n",
       "      <td>0.065597</td>\n",
       "      <td>0.091284</td>\n",
       "    </tr>\n",
       "    <tr>\n",
       "      <th>Conditional Use Accuracy</th>\n",
       "      <td>0.077975</td>\n",
       "      <td>0.139855</td>\n",
       "    </tr>\n",
       "    <tr>\n",
       "      <th>Average Group Difference in Accuracy</th>\n",
       "      <td>0.050923</td>\n",
       "      <td>0.024168</td>\n",
       "    </tr>\n",
       "    <tr>\n",
       "      <th>Treatment Equality</th>\n",
       "      <td>0.305085</td>\n",
       "      <td>2.004378</td>\n",
       "    </tr>\n",
       "  </tbody>\n",
       "</table>\n",
       "</div>"
      ],
      "text/plain": [
       "                                                 original   updated\n",
       "Statistical Parity                               0.089937  0.032217\n",
       "Predictive Parity                                0.117495  0.217334\n",
       "Equal Opportunity                                0.093219  0.146708\n",
       "Average Group Difference in False Negative Rate  0.093219  0.146708\n",
       "Equalized Odds                                   0.065597  0.091284\n",
       "Conditional Use Accuracy                         0.077975  0.139855\n",
       "Average Group Difference in Accuracy             0.050923  0.024168\n",
       "Treatment Equality                               0.305085  2.004378"
      ]
     },
     "execution_count": 8,
     "metadata": {},
     "output_type": "execute_result"
    }
   ],
   "source": [
    "# Unlike the previous case, we find that demographic parity is still high on test data, although it is improved.\n",
    "fpredictor.evaluate_fairness(test_data, verbose=True)"
   ]
  },
  {
   "cell_type": "code",
   "execution_count": 9,
   "metadata": {
    "execution": {
     "iopub.execute_input": "2024-06-17T14:25:29.397792Z",
     "iopub.status.busy": "2024-06-17T14:25:29.397658Z",
     "iopub.status.idle": "2024-06-17T14:25:31.501435Z",
     "shell.execute_reply": "2024-06-17T14:25:31.501004Z"
    }
   },
   "outputs": [
    {
     "data": {
      "image/png": "[encoded data removed]",
      "text/plain": [
       "<Figure size 640x480 with 1 Axes>"
      ]
     },
     "metadata": {},
     "output_type": "display_data"
    }
   ],
   "source": [
    "#To debug this, we can look at the Pareto Frontier of solutions considered, on the training set\n",
    "fpredictor.plot_frontier() "
   ]
  },
  {
   "cell_type": "code",
   "execution_count": 10,
   "metadata": {
    "execution": {
     "iopub.execute_input": "2024-06-17T14:25:31.505048Z",
     "iopub.status.busy": "2024-06-17T14:25:31.504775Z",
     "iopub.status.idle": "2024-06-17T14:25:31.950017Z",
     "shell.execute_reply": "2024-06-17T14:25:31.949552Z"
    }
   },
   "outputs": [
    {
     "data": {
      "image/png": "[encoded data removed]",
      "text/plain": [
       "<Figure size 640x480 with 1 Axes>"
      ]
     },
     "metadata": {},
     "output_type": "display_data"
    }
   ],
   "source": [
    "#and on the test set\n",
    "fpredictor.plot_frontier(test_data) "
   ]
  },
  {
   "cell_type": "code",
   "execution_count": 11,
   "metadata": {
    "execution": {
     "iopub.execute_input": "2024-06-17T14:25:31.953561Z",
     "iopub.status.busy": "2024-06-17T14:25:31.953419Z",
     "iopub.status.idle": "2024-06-17T14:25:32.159580Z",
     "shell.execute_reply": "2024-06-17T14:25:32.159026Z"
    }
   },
   "outputs": [
    {
     "data": {
      "text/html": [
       "<div>\n",
       "<style scoped>\n",
       "    .dataframe tbody tr th:only-of-type {\n",
       "        vertical-align: middle;\n",
       "    }\n",
       "\n",
       "    .dataframe tbody tr th {\n",
       "        vertical-align: top;\n",
       "    }\n",
       "\n",
       "    .dataframe thead th {\n",
       "        text-align: right;\n",
       "    }\n",
       "</style>\n",
       "<table border=\"1\" class=\"dataframe\">\n",
       "  <thead>\n",
       "    <tr style=\"text-align: right;\">\n",
       "      <th></th>\n",
       "      <th></th>\n",
       "      <th>Accuracy</th>\n",
       "      <th>Balanced Accuracy</th>\n",
       "      <th>F1 score</th>\n",
       "      <th>MCC</th>\n",
       "      <th>Precision</th>\n",
       "      <th>Recall</th>\n",
       "      <th>ROC AUC</th>\n",
       "      <th>Positive Count</th>\n",
       "      <th>Negative Count</th>\n",
       "      <th>Positive Label Rate</th>\n",
       "      <th>Positive Prediction Rate</th>\n",
       "    </tr>\n",
       "    <tr>\n",
       "      <th></th>\n",
       "      <th>Groups</th>\n",
       "      <th></th>\n",
       "      <th></th>\n",
       "      <th></th>\n",
       "      <th></th>\n",
       "      <th></th>\n",
       "      <th></th>\n",
       "      <th></th>\n",
       "      <th></th>\n",
       "      <th></th>\n",
       "      <th></th>\n",
       "      <th></th>\n",
       "    </tr>\n",
       "  </thead>\n",
       "  <tbody>\n",
       "    <tr>\n",
       "      <th rowspan=\"7\" valign=\"top\">original</th>\n",
       "      <th>Overall</th>\n",
       "      <td>0.863036</td>\n",
       "      <td>0.771720</td>\n",
       "      <td>0.674453</td>\n",
       "      <td>0.597347</td>\n",
       "      <td>0.773438</td>\n",
       "      <td>0.597929</td>\n",
       "      <td>0.918163</td>\n",
       "      <td>2318.0</td>\n",
       "      <td>7451.0</td>\n",
       "      <td>0.237281</td>\n",
       "      <td>0.183437</td>\n",
       "    </tr>\n",
       "    <tr>\n",
       "      <th>Amer-Indian-Eskimo</th>\n",
       "      <td>0.943089</td>\n",
       "      <td>0.722808</td>\n",
       "      <td>0.588235</td>\n",
       "      <td>0.590335</td>\n",
       "      <td>0.833333</td>\n",
       "      <td>0.454545</td>\n",
       "      <td>0.917208</td>\n",
       "      <td>11.0</td>\n",
       "      <td>112.0</td>\n",
       "      <td>0.089431</td>\n",
       "      <td>0.048780</td>\n",
       "    </tr>\n",
       "    <tr>\n",
       "      <th>Asian-Pac-Islander</th>\n",
       "      <td>0.853659</td>\n",
       "      <td>0.778341</td>\n",
       "      <td>0.671233</td>\n",
       "      <td>0.578916</td>\n",
       "      <td>0.710145</td>\n",
       "      <td>0.636364</td>\n",
       "      <td>0.905107</td>\n",
       "      <td>77.0</td>\n",
       "      <td>251.0</td>\n",
       "      <td>0.234756</td>\n",
       "      <td>0.210366</td>\n",
       "    </tr>\n",
       "    <tr>\n",
       "      <th>Black</th>\n",
       "      <td>0.930415</td>\n",
       "      <td>0.746597</td>\n",
       "      <td>0.635294</td>\n",
       "      <td>0.625434</td>\n",
       "      <td>0.857143</td>\n",
       "      <td>0.504673</td>\n",
       "      <td>0.942358</td>\n",
       "      <td>107.0</td>\n",
       "      <td>784.0</td>\n",
       "      <td>0.120090</td>\n",
       "      <td>0.070707</td>\n",
       "    </tr>\n",
       "    <tr>\n",
       "      <th>Other</th>\n",
       "      <td>0.901235</td>\n",
       "      <td>0.728873</td>\n",
       "      <td>0.555556</td>\n",
       "      <td>0.504717</td>\n",
       "      <td>0.625000</td>\n",
       "      <td>0.500000</td>\n",
       "      <td>0.938028</td>\n",
       "      <td>10.0</td>\n",
       "      <td>71.0</td>\n",
       "      <td>0.123457</td>\n",
       "      <td>0.098765</td>\n",
       "    </tr>\n",
       "    <tr>\n",
       "      <th>White</th>\n",
       "      <td>0.854661</td>\n",
       "      <td>0.771309</td>\n",
       "      <td>0.677308</td>\n",
       "      <td>0.592980</td>\n",
       "      <td>0.773390</td>\n",
       "      <td>0.602461</td>\n",
       "      <td>0.914314</td>\n",
       "      <td>2113.0</td>\n",
       "      <td>6233.0</td>\n",
       "      <td>0.253175</td>\n",
       "      <td>0.197220</td>\n",
       "    </tr>\n",
       "    <tr>\n",
       "      <th>Maximum difference</th>\n",
       "      <td>0.089431</td>\n",
       "      <td>0.055533</td>\n",
       "      <td>0.121752</td>\n",
       "      <td>0.120717</td>\n",
       "      <td>0.232143</td>\n",
       "      <td>0.181818</td>\n",
       "      <td>0.037251</td>\n",
       "      <td>2103.0</td>\n",
       "      <td>6162.0</td>\n",
       "      <td>0.163744</td>\n",
       "      <td>0.161585</td>\n",
       "    </tr>\n",
       "    <tr>\n",
       "      <th rowspan=\"7\" valign=\"top\">updated</th>\n",
       "      <th>Overall</th>\n",
       "      <td>0.860375</td>\n",
       "      <td>0.773690</td>\n",
       "      <td>0.674152</td>\n",
       "      <td>0.592139</td>\n",
       "      <td>0.755353</td>\n",
       "      <td>0.608714</td>\n",
       "      <td>0.904434</td>\n",
       "      <td>2318.0</td>\n",
       "      <td>7451.0</td>\n",
       "      <td>0.237281</td>\n",
       "      <td>0.191217</td>\n",
       "    </tr>\n",
       "    <tr>\n",
       "      <th>Amer-Indian-Eskimo</th>\n",
       "      <td>0.886179</td>\n",
       "      <td>0.814529</td>\n",
       "      <td>0.533333</td>\n",
       "      <td>0.496710</td>\n",
       "      <td>0.421053</td>\n",
       "      <td>0.727273</td>\n",
       "      <td>0.917208</td>\n",
       "      <td>11.0</td>\n",
       "      <td>112.0</td>\n",
       "      <td>0.089431</td>\n",
       "      <td>0.154472</td>\n",
       "    </tr>\n",
       "    <tr>\n",
       "      <th>Asian-Pac-Islander</th>\n",
       "      <td>0.859756</td>\n",
       "      <td>0.732809</td>\n",
       "      <td>0.622951</td>\n",
       "      <td>0.573605</td>\n",
       "      <td>0.844444</td>\n",
       "      <td>0.493506</td>\n",
       "      <td>0.905107</td>\n",
       "      <td>77.0</td>\n",
       "      <td>251.0</td>\n",
       "      <td>0.234756</td>\n",
       "      <td>0.137195</td>\n",
       "    </tr>\n",
       "    <tr>\n",
       "      <th>Black</th>\n",
       "      <td>0.901235</td>\n",
       "      <td>0.814753</td>\n",
       "      <td>0.630252</td>\n",
       "      <td>0.577840</td>\n",
       "      <td>0.572519</td>\n",
       "      <td>0.700935</td>\n",
       "      <td>0.942358</td>\n",
       "      <td>107.0</td>\n",
       "      <td>784.0</td>\n",
       "      <td>0.120090</td>\n",
       "      <td>0.147026</td>\n",
       "    </tr>\n",
       "    <tr>\n",
       "      <th>Other</th>\n",
       "      <td>0.888889</td>\n",
       "      <td>0.850704</td>\n",
       "      <td>0.640000</td>\n",
       "      <td>0.593995</td>\n",
       "      <td>0.533333</td>\n",
       "      <td>0.800000</td>\n",
       "      <td>0.938028</td>\n",
       "      <td>10.0</td>\n",
       "      <td>71.0</td>\n",
       "      <td>0.123457</td>\n",
       "      <td>0.185185</td>\n",
       "    </tr>\n",
       "    <tr>\n",
       "      <th>White</th>\n",
       "      <td>0.855380</td>\n",
       "      <td>0.773198</td>\n",
       "      <td>0.679926</td>\n",
       "      <td>0.595478</td>\n",
       "      <td>0.773221</td>\n",
       "      <td>0.606720</td>\n",
       "      <td>0.914314</td>\n",
       "      <td>2113.0</td>\n",
       "      <td>6233.0</td>\n",
       "      <td>0.253175</td>\n",
       "      <td>0.198658</td>\n",
       "    </tr>\n",
       "    <tr>\n",
       "      <th>Maximum difference</th>\n",
       "      <td>0.045855</td>\n",
       "      <td>0.117895</td>\n",
       "      <td>0.146592</td>\n",
       "      <td>0.098768</td>\n",
       "      <td>0.423392</td>\n",
       "      <td>0.306494</td>\n",
       "      <td>0.037251</td>\n",
       "      <td>2103.0</td>\n",
       "      <td>6162.0</td>\n",
       "      <td>0.163744</td>\n",
       "      <td>0.061463</td>\n",
       "    </tr>\n",
       "  </tbody>\n",
       "</table>\n",
       "</div>"
      ],
      "text/plain": [
       "                              Accuracy  Balanced Accuracy  F1 score       MCC  \\\n",
       "         Groups                                                                 \n",
       "original Overall              0.863036           0.771720  0.674453  0.597347   \n",
       "          Amer-Indian-Eskimo  0.943089           0.722808  0.588235  0.590335   \n",
       "          Asian-Pac-Islander  0.853659           0.778341  0.671233  0.578916   \n",
       "          Black               0.930415           0.746597  0.635294  0.625434   \n",
       "          Other               0.901235           0.728873  0.555556  0.504717   \n",
       "          White               0.854661           0.771309  0.677308  0.592980   \n",
       "         Maximum difference   0.089431           0.055533  0.121752  0.120717   \n",
       "updated  Overall              0.860375           0.773690  0.674152  0.592139   \n",
       "          Amer-Indian-Eskimo  0.886179           0.814529  0.533333  0.496710   \n",
       "          Asian-Pac-Islander  0.859756           0.732809  0.622951  0.573605   \n",
       "          Black               0.901235           0.814753  0.630252  0.577840   \n",
       "          Other               0.888889           0.850704  0.640000  0.593995   \n",
       "          White               0.855380           0.773198  0.679926  0.595478   \n",
       "         Maximum difference   0.045855           0.117895  0.146592  0.098768   \n",
       "\n",
       "                              Precision    Recall   ROC AUC  Positive Count  \\\n",
       "         Groups                                                               \n",
       "original Overall               0.773438  0.597929  0.918163          2318.0   \n",
       "          Amer-Indian-Eskimo   0.833333  0.454545  0.917208            11.0   \n",
       "          Asian-Pac-Islander   0.710145  0.636364  0.905107            77.0   \n",
       "          Black                0.857143  0.504673  0.942358           107.0   \n",
       "          Other                0.625000  0.500000  0.938028            10.0   \n",
       "          White                0.773390  0.602461  0.914314          2113.0   \n",
       "         Maximum difference    0.232143  0.181818  0.037251          2103.0   \n",
       "updated  Overall               0.755353  0.608714  0.904434          2318.0   \n",
       "          Amer-Indian-Eskimo   0.421053  0.727273  0.917208            11.0   \n",
       "          Asian-Pac-Islander   0.844444  0.493506  0.905107            77.0   \n",
       "          Black                0.572519  0.700935  0.942358           107.0   \n",
       "          Other                0.533333  0.800000  0.938028            10.0   \n",
       "          White                0.773221  0.606720  0.914314          2113.0   \n",
       "         Maximum difference    0.423392  0.306494  0.037251          2103.0   \n",
       "\n",
       "                              Negative Count  Positive Label Rate  \\\n",
       "         Groups                                                     \n",
       "original Overall                      7451.0             0.237281   \n",
       "          Amer-Indian-Eskimo           112.0             0.089431   \n",
       "          Asian-Pac-Islander           251.0             0.234756   \n",
       "          Black                        784.0             0.120090   \n",
       "          Other                         71.0             0.123457   \n",
       "          White                       6233.0             0.253175   \n",
       "         Maximum difference           6162.0             0.163744   \n",
       "updated  Overall                      7451.0             0.237281   \n",
       "          Amer-Indian-Eskimo           112.0             0.089431   \n",
       "          Asian-Pac-Islander           251.0             0.234756   \n",
       "          Black                        784.0             0.120090   \n",
       "          Other                         71.0             0.123457   \n",
       "          White                       6233.0             0.253175   \n",
       "         Maximum difference           6162.0             0.163744   \n",
       "\n",
       "                              Positive Prediction Rate  \n",
       "         Groups                                         \n",
       "original Overall                              0.183437  \n",
       "          Amer-Indian-Eskimo                  0.048780  \n",
       "          Asian-Pac-Islander                  0.210366  \n",
       "          Black                               0.070707  \n",
       "          Other                               0.098765  \n",
       "          White                               0.197220  \n",
       "         Maximum difference                   0.161585  \n",
       "updated  Overall                              0.191217  \n",
       "          Amer-Indian-Eskimo                  0.154472  \n",
       "          Asian-Pac-Islander                  0.137195  \n",
       "          Black                               0.147026  \n",
       "          Other                               0.185185  \n",
       "          White                               0.198658  \n",
       "         Maximum difference                   0.061463  "
      ]
     },
     "execution_count": 11,
     "metadata": {},
     "output_type": "execute_result"
    }
   ],
   "source": [
    "#We find that the demographic parity is very different on test data for a range of solutions found.\n",
    "#By looking at the per group decomposition, we can find out why.\n",
    "fpredictor.evaluate_groups(test_data, verbose=True)"
   ]
  },
  {
   "cell_type": "code",
   "execution_count": 12,
   "metadata": {
    "execution": {
     "iopub.execute_input": "2024-06-17T14:25:32.163369Z",
     "iopub.status.busy": "2024-06-17T14:25:32.163223Z",
     "iopub.status.idle": "2024-06-17T14:25:32.841154Z",
     "shell.execute_reply": "2024-06-17T14:25:32.840734Z"
    }
   },
   "outputs": [
    {
     "data": {
      "text/html": [
       "<div>\n",
       "<style scoped>\n",
       "    .dataframe tbody tr th:only-of-type {\n",
       "        vertical-align: middle;\n",
       "    }\n",
       "\n",
       "    .dataframe tbody tr th {\n",
       "        vertical-align: top;\n",
       "    }\n",
       "\n",
       "    .dataframe thead th {\n",
       "        text-align: right;\n",
       "    }\n",
       "</style>\n",
       "<table border=\"1\" class=\"dataframe\">\n",
       "  <thead>\n",
       "    <tr style=\"text-align: right;\">\n",
       "      <th></th>\n",
       "      <th></th>\n",
       "      <th>Accuracy</th>\n",
       "      <th>Balanced Accuracy</th>\n",
       "      <th>F1 score</th>\n",
       "      <th>MCC</th>\n",
       "      <th>Precision</th>\n",
       "      <th>Recall</th>\n",
       "      <th>ROC AUC</th>\n",
       "      <th>Positive Count</th>\n",
       "      <th>Negative Count</th>\n",
       "      <th>Positive Label Rate</th>\n",
       "      <th>Positive Prediction Rate</th>\n",
       "    </tr>\n",
       "    <tr>\n",
       "      <th></th>\n",
       "      <th>Groups</th>\n",
       "      <th></th>\n",
       "      <th></th>\n",
       "      <th></th>\n",
       "      <th></th>\n",
       "      <th></th>\n",
       "      <th></th>\n",
       "      <th></th>\n",
       "      <th></th>\n",
       "      <th></th>\n",
       "      <th></th>\n",
       "      <th></th>\n",
       "    </tr>\n",
       "  </thead>\n",
       "  <tbody>\n",
       "    <tr>\n",
       "      <th rowspan=\"7\" valign=\"top\">original</th>\n",
       "      <th>Overall</th>\n",
       "      <td>0.863282</td>\n",
       "      <td>0.773841</td>\n",
       "      <td>0.678619</td>\n",
       "      <td>0.601415</td>\n",
       "      <td>0.777609</td>\n",
       "      <td>0.601985</td>\n",
       "      <td>0.918321</td>\n",
       "      <td>9369.0</td>\n",
       "      <td>29704.0</td>\n",
       "      <td>0.239782</td>\n",
       "      <td>0.185627</td>\n",
       "    </tr>\n",
       "    <tr>\n",
       "      <th>Amer-Indian-Eskimo</th>\n",
       "      <td>0.919308</td>\n",
       "      <td>0.759526</td>\n",
       "      <td>0.631579</td>\n",
       "      <td>0.596937</td>\n",
       "      <td>0.750000</td>\n",
       "      <td>0.545455</td>\n",
       "      <td>0.916067</td>\n",
       "      <td>44.0</td>\n",
       "      <td>303.0</td>\n",
       "      <td>0.126801</td>\n",
       "      <td>0.092219</td>\n",
       "    </tr>\n",
       "    <tr>\n",
       "      <th>Asian-Pac-Islander</th>\n",
       "      <td>0.835432</td>\n",
       "      <td>0.781507</td>\n",
       "      <td>0.690852</td>\n",
       "      <td>0.580271</td>\n",
       "      <td>0.725166</td>\n",
       "      <td>0.659639</td>\n",
       "      <td>0.898432</td>\n",
       "      <td>332.0</td>\n",
       "      <td>859.0</td>\n",
       "      <td>0.278757</td>\n",
       "      <td>0.253568</td>\n",
       "    </tr>\n",
       "    <tr>\n",
       "      <th>Black</th>\n",
       "      <td>0.919873</td>\n",
       "      <td>0.747755</td>\n",
       "      <td>0.611253</td>\n",
       "      <td>0.578999</td>\n",
       "      <td>0.739938</td>\n",
       "      <td>0.520697</td>\n",
       "      <td>0.947958</td>\n",
       "      <td>459.0</td>\n",
       "      <td>3335.0</td>\n",
       "      <td>0.120980</td>\n",
       "      <td>0.085134</td>\n",
       "    </tr>\n",
       "    <tr>\n",
       "      <th>Other</th>\n",
       "      <td>0.913846</td>\n",
       "      <td>0.725219</td>\n",
       "      <td>0.575758</td>\n",
       "      <td>0.545464</td>\n",
       "      <td>0.730769</td>\n",
       "      <td>0.475000</td>\n",
       "      <td>0.952895</td>\n",
       "      <td>40.0</td>\n",
       "      <td>285.0</td>\n",
       "      <td>0.123077</td>\n",
       "      <td>0.080000</td>\n",
       "    </tr>\n",
       "    <tr>\n",
       "      <th>White</th>\n",
       "      <td>0.856775</td>\n",
       "      <td>0.773798</td>\n",
       "      <td>0.682289</td>\n",
       "      <td>0.599909</td>\n",
       "      <td>0.782192</td>\n",
       "      <td>0.605015</td>\n",
       "      <td>0.914439</td>\n",
       "      <td>8494.0</td>\n",
       "      <td>24922.0</td>\n",
       "      <td>0.254190</td>\n",
       "      <td>0.196612</td>\n",
       "    </tr>\n",
       "    <tr>\n",
       "      <th>Maximum difference</th>\n",
       "      <td>0.084441</td>\n",
       "      <td>0.056288</td>\n",
       "      <td>0.115094</td>\n",
       "      <td>0.054446</td>\n",
       "      <td>0.057026</td>\n",
       "      <td>0.184639</td>\n",
       "      <td>0.054463</td>\n",
       "      <td>8454.0</td>\n",
       "      <td>24637.0</td>\n",
       "      <td>0.157777</td>\n",
       "      <td>0.173568</td>\n",
       "    </tr>\n",
       "    <tr>\n",
       "      <th rowspan=\"7\" valign=\"top\">updated</th>\n",
       "      <th>Overall</th>\n",
       "      <td>0.862386</td>\n",
       "      <td>0.777490</td>\n",
       "      <td>0.681627</td>\n",
       "      <td>0.601039</td>\n",
       "      <td>0.765426</td>\n",
       "      <td>0.614367</td>\n",
       "      <td>0.903170</td>\n",
       "      <td>9369.0</td>\n",
       "      <td>29704.0</td>\n",
       "      <td>0.239782</td>\n",
       "      <td>0.192460</td>\n",
       "    </tr>\n",
       "    <tr>\n",
       "      <th>Amer-Indian-Eskimo</th>\n",
       "      <td>0.884726</td>\n",
       "      <td>0.788291</td>\n",
       "      <td>0.591837</td>\n",
       "      <td>0.529272</td>\n",
       "      <td>0.537037</td>\n",
       "      <td>0.659091</td>\n",
       "      <td>0.916067</td>\n",
       "      <td>44.0</td>\n",
       "      <td>303.0</td>\n",
       "      <td>0.126801</td>\n",
       "      <td>0.155620</td>\n",
       "    </tr>\n",
       "    <tr>\n",
       "      <th>Asian-Pac-Islander</th>\n",
       "      <td>0.832914</td>\n",
       "      <td>0.729868</td>\n",
       "      <td>0.623819</td>\n",
       "      <td>0.554814</td>\n",
       "      <td>0.837563</td>\n",
       "      <td>0.496988</td>\n",
       "      <td>0.898432</td>\n",
       "      <td>332.0</td>\n",
       "      <td>859.0</td>\n",
       "      <td>0.278757</td>\n",
       "      <td>0.165407</td>\n",
       "    </tr>\n",
       "    <tr>\n",
       "      <th>Black</th>\n",
       "      <td>0.909858</td>\n",
       "      <td>0.851028</td>\n",
       "      <td>0.674905</td>\n",
       "      <td>0.630458</td>\n",
       "      <td>0.598651</td>\n",
       "      <td>0.773420</td>\n",
       "      <td>0.947958</td>\n",
       "      <td>459.0</td>\n",
       "      <td>3335.0</td>\n",
       "      <td>0.120980</td>\n",
       "      <td>0.156299</td>\n",
       "    </tr>\n",
       "    <tr>\n",
       "      <th>Other</th>\n",
       "      <td>0.920000</td>\n",
       "      <td>0.868421</td>\n",
       "      <td>0.711111</td>\n",
       "      <td>0.670927</td>\n",
       "      <td>0.640000</td>\n",
       "      <td>0.800000</td>\n",
       "      <td>0.952895</td>\n",
       "      <td>40.0</td>\n",
       "      <td>285.0</td>\n",
       "      <td>0.123077</td>\n",
       "      <td>0.153846</td>\n",
       "    </tr>\n",
       "    <tr>\n",
       "      <th>White</th>\n",
       "      <td>0.857254</td>\n",
       "      <td>0.775516</td>\n",
       "      <td>0.684524</td>\n",
       "      <td>0.601745</td>\n",
       "      <td>0.781014</td>\n",
       "      <td>0.609254</td>\n",
       "      <td>0.914439</td>\n",
       "      <td>8494.0</td>\n",
       "      <td>24922.0</td>\n",
       "      <td>0.254190</td>\n",
       "      <td>0.198288</td>\n",
       "    </tr>\n",
       "    <tr>\n",
       "      <th>Maximum difference</th>\n",
       "      <td>0.087086</td>\n",
       "      <td>0.138553</td>\n",
       "      <td>0.119274</td>\n",
       "      <td>0.141656</td>\n",
       "      <td>0.300526</td>\n",
       "      <td>0.303012</td>\n",
       "      <td>0.054463</td>\n",
       "      <td>8454.0</td>\n",
       "      <td>24637.0</td>\n",
       "      <td>0.157777</td>\n",
       "      <td>0.044442</td>\n",
       "    </tr>\n",
       "  </tbody>\n",
       "</table>\n",
       "</div>"
      ],
      "text/plain": [
       "                              Accuracy  Balanced Accuracy  F1 score       MCC  \\\n",
       "         Groups                                                                 \n",
       "original Overall              0.863282           0.773841  0.678619  0.601415   \n",
       "          Amer-Indian-Eskimo  0.919308           0.759526  0.631579  0.596937   \n",
       "          Asian-Pac-Islander  0.835432           0.781507  0.690852  0.580271   \n",
       "          Black               0.919873           0.747755  0.611253  0.578999   \n",
       "          Other               0.913846           0.725219  0.575758  0.545464   \n",
       "          White               0.856775           0.773798  0.682289  0.599909   \n",
       "         Maximum difference   0.084441           0.056288  0.115094  0.054446   \n",
       "updated  Overall              0.862386           0.777490  0.681627  0.601039   \n",
       "          Amer-Indian-Eskimo  0.884726           0.788291  0.591837  0.529272   \n",
       "          Asian-Pac-Islander  0.832914           0.729868  0.623819  0.554814   \n",
       "          Black               0.909858           0.851028  0.674905  0.630458   \n",
       "          Other               0.920000           0.868421  0.711111  0.670927   \n",
       "          White               0.857254           0.775516  0.684524  0.601745   \n",
       "         Maximum difference   0.087086           0.138553  0.119274  0.141656   \n",
       "\n",
       "                              Precision    Recall   ROC AUC  Positive Count  \\\n",
       "         Groups                                                               \n",
       "original Overall               0.777609  0.601985  0.918321          9369.0   \n",
       "          Amer-Indian-Eskimo   0.750000  0.545455  0.916067            44.0   \n",
       "          Asian-Pac-Islander   0.725166  0.659639  0.898432           332.0   \n",
       "          Black                0.739938  0.520697  0.947958           459.0   \n",
       "          Other                0.730769  0.475000  0.952895            40.0   \n",
       "          White                0.782192  0.605015  0.914439          8494.0   \n",
       "         Maximum difference    0.057026  0.184639  0.054463          8454.0   \n",
       "updated  Overall               0.765426  0.614367  0.903170          9369.0   \n",
       "          Amer-Indian-Eskimo   0.537037  0.659091  0.916067            44.0   \n",
       "          Asian-Pac-Islander   0.837563  0.496988  0.898432           332.0   \n",
       "          Black                0.598651  0.773420  0.947958           459.0   \n",
       "          Other                0.640000  0.800000  0.952895            40.0   \n",
       "          White                0.781014  0.609254  0.914439          8494.0   \n",
       "         Maximum difference    0.300526  0.303012  0.054463          8454.0   \n",
       "\n",
       "                              Negative Count  Positive Label Rate  \\\n",
       "         Groups                                                     \n",
       "original Overall                     29704.0             0.239782   \n",
       "          Amer-Indian-Eskimo           303.0             0.126801   \n",
       "          Asian-Pac-Islander           859.0             0.278757   \n",
       "          Black                       3335.0             0.120980   \n",
       "          Other                        285.0             0.123077   \n",
       "          White                      24922.0             0.254190   \n",
       "         Maximum difference          24637.0             0.157777   \n",
       "updated  Overall                     29704.0             0.239782   \n",
       "          Amer-Indian-Eskimo           303.0             0.126801   \n",
       "          Asian-Pac-Islander           859.0             0.278757   \n",
       "          Black                       3335.0             0.120980   \n",
       "          Other                        285.0             0.123077   \n",
       "          White                      24922.0             0.254190   \n",
       "         Maximum difference          24637.0             0.157777   \n",
       "\n",
       "                              Positive Prediction Rate  \n",
       "         Groups                                         \n",
       "original Overall                              0.185627  \n",
       "          Amer-Indian-Eskimo                  0.092219  \n",
       "          Asian-Pac-Islander                  0.253568  \n",
       "          Black                               0.085134  \n",
       "          Other                               0.080000  \n",
       "          White                               0.196612  \n",
       "         Maximum difference                   0.173568  \n",
       "updated  Overall                              0.192460  \n",
       "          Amer-Indian-Eskimo                  0.155620  \n",
       "          Asian-Pac-Islander                  0.165407  \n",
       "          Black                               0.156299  \n",
       "          Other                               0.153846  \n",
       "          White                               0.198288  \n",
       "         Maximum difference                   0.044442  "
      ]
     },
     "execution_count": 12,
     "metadata": {},
     "output_type": "execute_result"
    }
   ],
   "source": [
    "#The groups with the smallest Positive Prediction Rate (American-Indian-Eskimo, and Asian-Pacific-Islander) \n",
    "# only have around 100-300 samples making it impossible to accurately evaluate demographic parity, while the\n",
    "# group labelled 'Other' has even less data.\n",
    "# Moreover, on training data we find that there are less than 350 people identified as American-Indian-Eskimo, \n",
    "# meaning that it is not possible to predict if the positive prediction rate will hold on new data. \n",
    "fpredictor.evaluate_groups(verbose=True)"
   ]
  },
  {
   "cell_type": "markdown",
   "metadata": {},
   "source": [
    "## Fairness on COMPAS using Inferred Attributes\n",
    "\n",
    "We demonstrate how to enforce a wide range of fairness definitions on the COMPAS dataset. This dataset records paroles caught violating the terms of parole. As it measures who was caught, it is strongly influenced by policing and environmental biases, and should not be confused with a measurement of who actually violated their terms of parole. See [this paper](https://datasets-benchmarks-proceedings.neurips.cc/paper/2021/file/92cc227532d17e56e07902b254dfad10-Paper-round1.pdf) for a discussion of its limitations and caveats. \n",
    "We use it because it is a standard fairness dataset that captures such strong differences in outcome between people identified as African-American and everyone else, that classifiers trained on this dataset violate most definitions of fairness.\n",
    "\n",
    "As many of the ethnic groups are too small for reliable statistical estimation, we only consider differences is in outcomes between African-Americans vs. everyone else (labeled as other).\n",
    "We load and preprocess the COMPAS dataset, splitting it into three roughly equal partitions of train, validation, and test:"
   ]
  },
  {
   "cell_type": "code",
   "execution_count": 13,
   "metadata": {
    "execution": {
     "iopub.execute_input": "2024-06-17T14:25:32.843216Z",
     "iopub.status.busy": "2024-06-17T14:25:32.843033Z",
     "iopub.status.idle": "2024-06-17T14:25:33.437559Z",
     "shell.execute_reply": "2024-06-17T14:25:33.437220Z"
    }
   },
   "outputs": [],
   "source": [
    "import numpy as np\n",
    "import pandas as pd\n",
    "from oxonfair import inferred_attribute_builder\n",
    "all_data = pd.read_csv('https://github.com/propublica/compas-analysis/raw/master/compas-scores-two-years.csv')\n",
    "condensed_data=all_data[['sex','race','age', 'juv_fel_count', 'juv_misd_count', 'juv_other_count', 'priors_count', 'age_cat', 'c_charge_degree','two_year_recid']].copy()\n",
    "condensed_data.replace({'Caucasian':'Other', 'Hispanic':'Other', 'Native American':'Other', 'Asian':'Other'},inplace=True)\n",
    "train=condensed_data.sample(frac=0.3, random_state=0)\n",
    "val_and_test=condensed_data.drop(train.index)\n",
    "val=val_and_test.sample(frac=0.5, random_state=0)\n",
    "test=val_and_test.drop(val.index)"
   ]
  },
  {
   "cell_type": "code",
   "execution_count": 14,
   "metadata": {
    "execution": {
     "iopub.execute_input": "2024-06-17T14:25:33.440723Z",
     "iopub.status.busy": "2024-06-17T14:25:33.440458Z",
     "iopub.status.idle": "2024-06-17T14:25:43.692589Z",
     "shell.execute_reply": "2024-06-17T14:25:43.692078Z"
    }
   },
   "outputs": [
    {
     "name": "stderr",
     "output_type": "stream",
     "text": [
      "No path specified. Models will be saved in: \"AutogluonModels/ag-20240617_142533\"\n"
     ]
    },
    {
     "name": "stderr",
     "output_type": "stream",
     "text": [
      "No presets specified! To achieve strong results with AutoGluon, it is recommended to use the available presets.\n",
      "\tRecommended Presets (For more details refer to https://auto.gluon.ai/stable/tutorials/tabular/tabular-essentials.html#presets):\n",
      "\tpresets='best_quality'   : Maximize accuracy. Default time_limit=3600.\n",
      "\tpresets='high_quality'   : Strong accuracy with fast inference speed. Default time_limit=3600.\n",
      "\tpresets='good_quality'   : Good accuracy with very fast inference speed. Default time_limit=3600.\n",
      "\tpresets='medium_quality' : Fast training time, ideal for initial prototyping.\n"
     ]
    },
    {
     "name": "stderr",
     "output_type": "stream",
     "text": [
      "Beginning AutoGluon training ... Time limit = 5s\n"
     ]
    },
    {
     "name": "stderr",
     "output_type": "stream",
     "text": [
      "AutoGluon will save models to \"AutogluonModels/ag-20240617_142533\"\n"
     ]
    },
    {
     "name": "stderr",
     "output_type": "stream",
     "text": [
      "=================== System Info ===================\n",
      "AutoGluon Version:  1.1.0\n",
      "Python Version:     3.10.13\n",
      "Operating System:   Darwin\n",
      "Platform Machine:   arm64\n",
      "Platform Version:   Darwin Kernel Version 23.5.0: Wed May  1 20:14:38 PDT 2024; root:xnu-10063.121.3~5/RELEASE_ARM64_T6020\n",
      "CPU Count:          10\n",
      "Memory Avail:       10.59 GB / 16.00 GB (66.2%)\n",
      "Disk Space Avail:   362.50 GB / 460.43 GB (78.7%)\n",
      "===================================================\n"
     ]
    },
    {
     "name": "stderr",
     "output_type": "stream",
     "text": [
      "Train Data Rows:    2164\n"
     ]
    },
    {
     "name": "stderr",
     "output_type": "stream",
     "text": [
      "Train Data Columns: 8\n"
     ]
    },
    {
     "name": "stderr",
     "output_type": "stream",
     "text": [
      "Label Column:       two_year_recid\n"
     ]
    },
    {
     "name": "stderr",
     "output_type": "stream",
     "text": [
      "AutoGluon infers your prediction problem is: 'binary' (because only two unique label-values observed).\n"
     ]
    },
    {
     "name": "stderr",
     "output_type": "stream",
     "text": [
      "\t2 unique label values:  [0, 1]\n"
     ]
    },
    {
     "name": "stderr",
     "output_type": "stream",
     "text": [
      "\tIf 'binary' is not the correct problem_type, please manually specify the problem_type parameter during predictor init (You may specify problem_type as one of: ['binary', 'multiclass', 'regression'])\n"
     ]
    },
    {
     "name": "stderr",
     "output_type": "stream",
     "text": [
      "Problem Type:       binary\n"
     ]
    },
    {
     "name": "stderr",
     "output_type": "stream",
     "text": [
      "Preprocessing data ...\n"
     ]
    },
    {
     "name": "stderr",
     "output_type": "stream",
     "text": [
      "Selected class <--> label mapping:  class 1 = 1, class 0 = 0\n"
     ]
    },
    {
     "name": "stderr",
     "output_type": "stream",
     "text": [
      "Using Feature Generators to preprocess the data ...\n"
     ]
    },
    {
     "name": "stderr",
     "output_type": "stream",
     "text": [
      "Fitting AutoMLPipelineFeatureGenerator...\n"
     ]
    },
    {
     "name": "stderr",
     "output_type": "stream",
     "text": [
      "\tAvailable Memory:                    10845.11 MB\n"
     ]
    },
    {
     "name": "stderr",
     "output_type": "stream",
     "text": [
      "\tTrain Data (Original)  Memory Usage: 0.47 MB (0.0% of available memory)\n"
     ]
    },
    {
     "name": "stderr",
     "output_type": "stream",
     "text": [
      "\tInferring data type of each feature based on column values. Set feature_metadata_in to manually specify special dtypes of the features.\n"
     ]
    },
    {
     "name": "stderr",
     "output_type": "stream",
     "text": [
      "\tStage 1 Generators:\n"
     ]
    },
    {
     "name": "stderr",
     "output_type": "stream",
     "text": [
      "\t\tFitting AsTypeFeatureGenerator...\n"
     ]
    },
    {
     "name": "stderr",
     "output_type": "stream",
     "text": [
      "\t\t\tNote: Converting 2 features to boolean dtype as they only contain 2 unique values.\n"
     ]
    },
    {
     "name": "stderr",
     "output_type": "stream",
     "text": [
      "\tStage 2 Generators:\n"
     ]
    },
    {
     "name": "stderr",
     "output_type": "stream",
     "text": [
      "\t\tFitting FillNaFeatureGenerator...\n"
     ]
    },
    {
     "name": "stderr",
     "output_type": "stream",
     "text": [
      "\tStage 3 Generators:\n"
     ]
    },
    {
     "name": "stderr",
     "output_type": "stream",
     "text": [
      "\t\tFitting IdentityFeatureGenerator...\n"
     ]
    },
    {
     "name": "stderr",
     "output_type": "stream",
     "text": [
      "\t\tFitting CategoryFeatureGenerator...\n"
     ]
    },
    {
     "name": "stderr",
     "output_type": "stream",
     "text": [
      "\t\t\tFitting CategoryMemoryMinimizeFeatureGenerator...\n"
     ]
    },
    {
     "name": "stderr",
     "output_type": "stream",
     "text": [
      "\tStage 4 Generators:\n"
     ]
    },
    {
     "name": "stderr",
     "output_type": "stream",
     "text": [
      "\t\tFitting DropUniqueFeatureGenerator...\n"
     ]
    },
    {
     "name": "stderr",
     "output_type": "stream",
     "text": [
      "\tStage 5 Generators:\n"
     ]
    },
    {
     "name": "stderr",
     "output_type": "stream",
     "text": [
      "\t\tFitting DropDuplicatesFeatureGenerator...\n"
     ]
    },
    {
     "name": "stderr",
     "output_type": "stream",
     "text": [
      "\tTypes of features in original data (raw dtype, special dtypes):\n"
     ]
    },
    {
     "name": "stderr",
     "output_type": "stream",
     "text": [
      "\t\t('int', [])    : 5 | ['age', 'juv_fel_count', 'juv_misd_count', 'juv_other_count', 'priors_count']\n"
     ]
    },
    {
     "name": "stderr",
     "output_type": "stream",
     "text": [
      "\t\t('object', []) : 3 | ['sex', 'age_cat', 'c_charge_degree']\n"
     ]
    },
    {
     "name": "stderr",
     "output_type": "stream",
     "text": [
      "\tTypes of features in processed data (raw dtype, special dtypes):\n"
     ]
    },
    {
     "name": "stderr",
     "output_type": "stream",
     "text": [
      "\t\t('category', [])  : 1 | ['age_cat']\n"
     ]
    },
    {
     "name": "stderr",
     "output_type": "stream",
     "text": [
      "\t\t('int', [])       : 5 | ['age', 'juv_fel_count', 'juv_misd_count', 'juv_other_count', 'priors_count']\n"
     ]
    },
    {
     "name": "stderr",
     "output_type": "stream",
     "text": [
      "\t\t('int', ['bool']) : 2 | ['sex', 'c_charge_degree']\n"
     ]
    },
    {
     "name": "stderr",
     "output_type": "stream",
     "text": [
      "\t0.0s = Fit runtime\n"
     ]
    },
    {
     "name": "stderr",
     "output_type": "stream",
     "text": [
      "\t8 features in original data used to generate 8 features in processed data.\n"
     ]
    },
    {
     "name": "stderr",
     "output_type": "stream",
     "text": [
      "\tTrain Data (Processed) Memory Usage: 0.09 MB (0.0% of available memory)\n"
     ]
    },
    {
     "name": "stderr",
     "output_type": "stream",
     "text": [
      "Data preprocessing and feature engineering runtime = 0.04s ...\n"
     ]
    },
    {
     "name": "stderr",
     "output_type": "stream",
     "text": [
      "AutoGluon will gauge predictive performance using evaluation metric: 'accuracy'\n"
     ]
    },
    {
     "name": "stderr",
     "output_type": "stream",
     "text": [
      "\tTo change this, specify the eval_metric parameter of Predictor()\n"
     ]
    },
    {
     "name": "stderr",
     "output_type": "stream",
     "text": [
      "Automatically generating train/validation split with holdout_frac=0.2, Train Rows: 1731, Val Rows: 433\n"
     ]
    },
    {
     "name": "stderr",
     "output_type": "stream",
     "text": [
      "User-specified model hyperparameters to be fit:\n",
      "{\n",
      "\t'NN_TORCH': {},\n",
      "\t'GBM': [{'extra_trees': True, 'ag_args': {'name_suffix': 'XT'}}, {}, 'GBMLarge'],\n",
      "\t'CAT': {},\n",
      "\t'XGB': {},\n",
      "\t'FASTAI': {},\n",
      "\t'RF': [{'criterion': 'gini', 'ag_args': {'name_suffix': 'Gini', 'problem_types': ['binary', 'multiclass']}}, {'criterion': 'entropy', 'ag_args': {'name_suffix': 'Entr', 'problem_types': ['binary', 'multiclass']}}, {'criterion': 'squared_error', 'ag_args': {'name_suffix': 'MSE', 'problem_types': ['regression', 'quantile']}}],\n",
      "\t'XT': [{'criterion': 'gini', 'ag_args': {'name_suffix': 'Gini', 'problem_types': ['binary', 'multiclass']}}, {'criterion': 'entropy', 'ag_args': {'name_suffix': 'Entr', 'problem_types': ['binary', 'multiclass']}}, {'criterion': 'squared_error', 'ag_args': {'name_suffix': 'MSE', 'problem_types': ['regression', 'quantile']}}],\n",
      "\t'KNN': [{'weights': 'uniform', 'ag_args': {'name_suffix': 'Unif'}}, {'weights': 'distance', 'ag_args': {'name_suffix': 'Dist'}}],\n",
      "}\n"
     ]
    },
    {
     "name": "stderr",
     "output_type": "stream",
     "text": [
      "Fitting 13 L1 models ...\n"
     ]
    },
    {
     "name": "stderr",
     "output_type": "stream",
     "text": [
      "Fitting model: KNeighborsUnif ... Training model for up to 4.96s of the 4.96s of remaining time.\n"
     ]
    },
    {
     "name": "stderr",
     "output_type": "stream",
     "text": [
      "\t0.6351\t = Validation score   (accuracy)\n"
     ]
    },
    {
     "name": "stderr",
     "output_type": "stream",
     "text": [
      "\t0.01s\t = Training   runtime\n"
     ]
    },
    {
     "name": "stderr",
     "output_type": "stream",
     "text": [
      "\t0.02s\t = Validation runtime\n"
     ]
    },
    {
     "name": "stderr",
     "output_type": "stream",
     "text": [
      "Fitting model: KNeighborsDist ... Training model for up to 4.93s of the 4.93s of remaining time.\n"
     ]
    },
    {
     "name": "stderr",
     "output_type": "stream",
     "text": [
      "\t0.6259\t = Validation score   (accuracy)\n"
     ]
    },
    {
     "name": "stderr",
     "output_type": "stream",
     "text": [
      "\t0.0s\t = Training   runtime\n"
     ]
    },
    {
     "name": "stderr",
     "output_type": "stream",
     "text": [
      "\t0.02s\t = Validation runtime\n"
     ]
    },
    {
     "name": "stderr",
     "output_type": "stream",
     "text": [
      "Fitting model: LightGBMXT ... Training model for up to 4.89s of the 4.89s of remaining time.\n"
     ]
    },
    {
     "name": "stderr",
     "output_type": "stream",
     "text": [
      "\t0.6882\t = Validation score   (accuracy)\n"
     ]
    },
    {
     "name": "stderr",
     "output_type": "stream",
     "text": [
      "\t3.27s\t = Training   runtime\n"
     ]
    },
    {
     "name": "stderr",
     "output_type": "stream",
     "text": [
      "\t0.0s\t = Validation runtime\n"
     ]
    },
    {
     "name": "stderr",
     "output_type": "stream",
     "text": [
      "Fitting model: LightGBM ... Training model for up to 1.61s of the 1.6s of remaining time.\n"
     ]
    },
    {
     "name": "stderr",
     "output_type": "stream",
     "text": [
      "\tRan out of time, early stopping on iteration 174. Best iteration is:\n",
      "\t[27]\tvalid_set's binary_error: 0.323326\n"
     ]
    },
    {
     "name": "stderr",
     "output_type": "stream",
     "text": [
      "\t0.6767\t = Validation score   (accuracy)\n"
     ]
    },
    {
     "name": "stderr",
     "output_type": "stream",
     "text": [
      "\t1.62s\t = Training   runtime\n"
     ]
    },
    {
     "name": "stderr",
     "output_type": "stream",
     "text": [
      "\t0.0s\t = Validation runtime\n"
     ]
    },
    {
     "name": "stderr",
     "output_type": "stream",
     "text": [
      "Fitting model: WeightedEnsemble_L2 ... Training model for up to 4.96s of the -0.04s of remaining time.\n"
     ]
    },
    {
     "name": "stderr",
     "output_type": "stream",
     "text": [
      "\tEnsemble Weights: {'LightGBM': 0.667, 'LightGBMXT': 0.333}\n"
     ]
    },
    {
     "name": "stderr",
     "output_type": "stream",
     "text": [
      "\t0.6928\t = Validation score   (accuracy)\n"
     ]
    },
    {
     "name": "stderr",
     "output_type": "stream",
     "text": [
      "\t0.02s\t = Training   runtime\n"
     ]
    },
    {
     "name": "stderr",
     "output_type": "stream",
     "text": [
      "\t0.0s\t = Validation runtime\n"
     ]
    },
    {
     "name": "stderr",
     "output_type": "stream",
     "text": [
      "AutoGluon training complete, total runtime = 5.12s ... Best model: \"WeightedEnsemble_L2\"\n"
     ]
    },
    {
     "name": "stderr",
     "output_type": "stream",
     "text": [
      "TabularPredictor saved. To load, use: predictor = TabularPredictor.load(\"AutogluonModels/ag-20240617_142533\")\n"
     ]
    },
    {
     "name": "stderr",
     "output_type": "stream",
     "text": [
      "No path specified. Models will be saved in: \"AutogluonModels/ag-20240617_142538\"\n"
     ]
    },
    {
     "name": "stderr",
     "output_type": "stream",
     "text": [
      "No presets specified! To achieve strong results with AutoGluon, it is recommended to use the available presets.\n",
      "\tRecommended Presets (For more details refer to https://auto.gluon.ai/stable/tutorials/tabular/tabular-essentials.html#presets):\n",
      "\tpresets='best_quality'   : Maximize accuracy. Default time_limit=3600.\n",
      "\tpresets='high_quality'   : Strong accuracy with fast inference speed. Default time_limit=3600.\n",
      "\tpresets='good_quality'   : Good accuracy with very fast inference speed. Default time_limit=3600.\n",
      "\tpresets='medium_quality' : Fast training time, ideal for initial prototyping.\n"
     ]
    },
    {
     "name": "stderr",
     "output_type": "stream",
     "text": [
      "Beginning AutoGluon training ... Time limit = 5s\n"
     ]
    },
    {
     "name": "stderr",
     "output_type": "stream",
     "text": [
      "AutoGluon will save models to \"AutogluonModels/ag-20240617_142538\"\n"
     ]
    },
    {
     "name": "stderr",
     "output_type": "stream",
     "text": [
      "=================== System Info ===================\n",
      "AutoGluon Version:  1.1.0\n",
      "Python Version:     3.10.13\n",
      "Operating System:   Darwin\n",
      "Platform Machine:   arm64\n",
      "Platform Version:   Darwin Kernel Version 23.5.0: Wed May  1 20:14:38 PDT 2024; root:xnu-10063.121.3~5/RELEASE_ARM64_T6020\n",
      "CPU Count:          10\n",
      "Memory Avail:       10.37 GB / 16.00 GB (64.8%)\n",
      "Disk Space Avail:   362.50 GB / 460.43 GB (78.7%)\n",
      "===================================================\n"
     ]
    },
    {
     "name": "stderr",
     "output_type": "stream",
     "text": [
      "Train Data Rows:    2164\n"
     ]
    },
    {
     "name": "stderr",
     "output_type": "stream",
     "text": [
      "Train Data Columns: 8\n"
     ]
    },
    {
     "name": "stderr",
     "output_type": "stream",
     "text": [
      "Label Column:       race\n"
     ]
    },
    {
     "name": "stderr",
     "output_type": "stream",
     "text": [
      "AutoGluon infers your prediction problem is: 'binary' (because only two unique label-values observed).\n"
     ]
    },
    {
     "name": "stderr",
     "output_type": "stream",
     "text": [
      "\t2 unique label values:  ['African-American', 'Other']\n"
     ]
    },
    {
     "name": "stderr",
     "output_type": "stream",
     "text": [
      "\tIf 'binary' is not the correct problem_type, please manually specify the problem_type parameter during predictor init (You may specify problem_type as one of: ['binary', 'multiclass', 'regression'])\n"
     ]
    },
    {
     "name": "stderr",
     "output_type": "stream",
     "text": [
      "Problem Type:       binary\n"
     ]
    },
    {
     "name": "stderr",
     "output_type": "stream",
     "text": [
      "Preprocessing data ...\n"
     ]
    },
    {
     "name": "stderr",
     "output_type": "stream",
     "text": [
      "Selected class <--> label mapping:  class 1 = Other, class 0 = African-American\n"
     ]
    },
    {
     "name": "stderr",
     "output_type": "stream",
     "text": [
      "\tNote: For your binary classification, AutoGluon arbitrarily selected which label-value represents positive (Other) vs negative (African-American) class.\n",
      "\tTo explicitly set the positive_class, either rename classes to 1 and 0, or specify positive_class in Predictor init.\n"
     ]
    },
    {
     "name": "stderr",
     "output_type": "stream",
     "text": [
      "Using Feature Generators to preprocess the data ...\n"
     ]
    },
    {
     "name": "stderr",
     "output_type": "stream",
     "text": [
      "Fitting AutoMLPipelineFeatureGenerator...\n"
     ]
    },
    {
     "name": "stderr",
     "output_type": "stream",
     "text": [
      "\tAvailable Memory:                    10620.94 MB\n"
     ]
    },
    {
     "name": "stderr",
     "output_type": "stream",
     "text": [
      "\tTrain Data (Original)  Memory Usage: 0.47 MB (0.0% of available memory)\n"
     ]
    },
    {
     "name": "stderr",
     "output_type": "stream",
     "text": [
      "\tInferring data type of each feature based on column values. Set feature_metadata_in to manually specify special dtypes of the features.\n"
     ]
    },
    {
     "name": "stderr",
     "output_type": "stream",
     "text": [
      "\tStage 1 Generators:\n"
     ]
    },
    {
     "name": "stderr",
     "output_type": "stream",
     "text": [
      "\t\tFitting AsTypeFeatureGenerator...\n"
     ]
    },
    {
     "name": "stderr",
     "output_type": "stream",
     "text": [
      "\t\t\tNote: Converting 2 features to boolean dtype as they only contain 2 unique values.\n"
     ]
    },
    {
     "name": "stderr",
     "output_type": "stream",
     "text": [
      "\tStage 2 Generators:\n"
     ]
    },
    {
     "name": "stderr",
     "output_type": "stream",
     "text": [
      "\t\tFitting FillNaFeatureGenerator...\n"
     ]
    },
    {
     "name": "stderr",
     "output_type": "stream",
     "text": [
      "\tStage 3 Generators:\n"
     ]
    },
    {
     "name": "stderr",
     "output_type": "stream",
     "text": [
      "\t\tFitting IdentityFeatureGenerator...\n"
     ]
    },
    {
     "name": "stderr",
     "output_type": "stream",
     "text": [
      "\t\tFitting CategoryFeatureGenerator...\n"
     ]
    },
    {
     "name": "stderr",
     "output_type": "stream",
     "text": [
      "\t\t\tFitting CategoryMemoryMinimizeFeatureGenerator...\n"
     ]
    },
    {
     "name": "stderr",
     "output_type": "stream",
     "text": [
      "\tStage 4 Generators:\n"
     ]
    },
    {
     "name": "stderr",
     "output_type": "stream",
     "text": [
      "\t\tFitting DropUniqueFeatureGenerator...\n"
     ]
    },
    {
     "name": "stderr",
     "output_type": "stream",
     "text": [
      "\tStage 5 Generators:\n"
     ]
    },
    {
     "name": "stderr",
     "output_type": "stream",
     "text": [
      "\t\tFitting DropDuplicatesFeatureGenerator...\n"
     ]
    },
    {
     "name": "stderr",
     "output_type": "stream",
     "text": [
      "\tTypes of features in original data (raw dtype, special dtypes):\n"
     ]
    },
    {
     "name": "stderr",
     "output_type": "stream",
     "text": [
      "\t\t('int', [])    : 5 | ['age', 'juv_fel_count', 'juv_misd_count', 'juv_other_count', 'priors_count']\n"
     ]
    },
    {
     "name": "stderr",
     "output_type": "stream",
     "text": [
      "\t\t('object', []) : 3 | ['sex', 'age_cat', 'c_charge_degree']\n"
     ]
    },
    {
     "name": "stderr",
     "output_type": "stream",
     "text": [
      "\tTypes of features in processed data (raw dtype, special dtypes):\n"
     ]
    },
    {
     "name": "stderr",
     "output_type": "stream",
     "text": [
      "\t\t('category', [])  : 1 | ['age_cat']\n"
     ]
    },
    {
     "name": "stderr",
     "output_type": "stream",
     "text": [
      "\t\t('int', [])       : 5 | ['age', 'juv_fel_count', 'juv_misd_count', 'juv_other_count', 'priors_count']\n"
     ]
    },
    {
     "name": "stderr",
     "output_type": "stream",
     "text": [
      "\t\t('int', ['bool']) : 2 | ['sex', 'c_charge_degree']\n"
     ]
    },
    {
     "name": "stderr",
     "output_type": "stream",
     "text": [
      "\t0.0s = Fit runtime\n"
     ]
    },
    {
     "name": "stderr",
     "output_type": "stream",
     "text": [
      "\t8 features in original data used to generate 8 features in processed data.\n"
     ]
    },
    {
     "name": "stderr",
     "output_type": "stream",
     "text": [
      "\tTrain Data (Processed) Memory Usage: 0.09 MB (0.0% of available memory)\n"
     ]
    },
    {
     "name": "stderr",
     "output_type": "stream",
     "text": [
      "Data preprocessing and feature engineering runtime = 0.03s ...\n"
     ]
    },
    {
     "name": "stderr",
     "output_type": "stream",
     "text": [
      "AutoGluon will gauge predictive performance using evaluation metric: 'accuracy'\n"
     ]
    },
    {
     "name": "stderr",
     "output_type": "stream",
     "text": [
      "\tTo change this, specify the eval_metric parameter of Predictor()\n"
     ]
    },
    {
     "name": "stderr",
     "output_type": "stream",
     "text": [
      "Automatically generating train/validation split with holdout_frac=0.2, Train Rows: 1731, Val Rows: 433\n"
     ]
    },
    {
     "name": "stderr",
     "output_type": "stream",
     "text": [
      "User-specified model hyperparameters to be fit:\n",
      "{\n",
      "\t'NN_TORCH': {},\n",
      "\t'GBM': [{'extra_trees': True, 'ag_args': {'name_suffix': 'XT'}}, {}, 'GBMLarge'],\n",
      "\t'CAT': {},\n",
      "\t'XGB': {},\n",
      "\t'FASTAI': {},\n",
      "\t'RF': [{'criterion': 'gini', 'ag_args': {'name_suffix': 'Gini', 'problem_types': ['binary', 'multiclass']}}, {'criterion': 'entropy', 'ag_args': {'name_suffix': 'Entr', 'problem_types': ['binary', 'multiclass']}}, {'criterion': 'squared_error', 'ag_args': {'name_suffix': 'MSE', 'problem_types': ['regression', 'quantile']}}],\n",
      "\t'XT': [{'criterion': 'gini', 'ag_args': {'name_suffix': 'Gini', 'problem_types': ['binary', 'multiclass']}}, {'criterion': 'entropy', 'ag_args': {'name_suffix': 'Entr', 'problem_types': ['binary', 'multiclass']}}, {'criterion': 'squared_error', 'ag_args': {'name_suffix': 'MSE', 'problem_types': ['regression', 'quantile']}}],\n",
      "\t'KNN': [{'weights': 'uniform', 'ag_args': {'name_suffix': 'Unif'}}, {'weights': 'distance', 'ag_args': {'name_suffix': 'Dist'}}],\n",
      "}\n"
     ]
    },
    {
     "name": "stderr",
     "output_type": "stream",
     "text": [
      "Fitting 13 L1 models ...\n"
     ]
    },
    {
     "name": "stderr",
     "output_type": "stream",
     "text": [
      "Fitting model: KNeighborsUnif ... Training model for up to 4.97s of the 4.97s of remaining time.\n"
     ]
    },
    {
     "name": "stderr",
     "output_type": "stream",
     "text": [
      "\t0.6051\t = Validation score   (accuracy)\n"
     ]
    },
    {
     "name": "stderr",
     "output_type": "stream",
     "text": [
      "\t0.0s\t = Training   runtime\n"
     ]
    },
    {
     "name": "stderr",
     "output_type": "stream",
     "text": [
      "\t0.02s\t = Validation runtime\n"
     ]
    },
    {
     "name": "stderr",
     "output_type": "stream",
     "text": [
      "Fitting model: KNeighborsDist ... Training model for up to 4.94s of the 4.94s of remaining time.\n"
     ]
    },
    {
     "name": "stderr",
     "output_type": "stream",
     "text": [
      "\t0.5889\t = Validation score   (accuracy)\n"
     ]
    },
    {
     "name": "stderr",
     "output_type": "stream",
     "text": [
      "\t0.0s\t = Training   runtime\n"
     ]
    },
    {
     "name": "stderr",
     "output_type": "stream",
     "text": [
      "\t0.02s\t = Validation runtime\n"
     ]
    },
    {
     "name": "stderr",
     "output_type": "stream",
     "text": [
      "Fitting model: LightGBMXT ... Training model for up to 4.92s of the 4.92s of remaining time.\n"
     ]
    },
    {
     "name": "stderr",
     "output_type": "stream",
     "text": [
      "\t0.6559\t = Validation score   (accuracy)\n"
     ]
    },
    {
     "name": "stderr",
     "output_type": "stream",
     "text": [
      "\t2.88s\t = Training   runtime\n"
     ]
    },
    {
     "name": "stderr",
     "output_type": "stream",
     "text": [
      "\t0.0s\t = Validation runtime\n"
     ]
    },
    {
     "name": "stderr",
     "output_type": "stream",
     "text": [
      "Fitting model: LightGBM ... Training model for up to 2.02s of the 2.02s of remaining time.\n"
     ]
    },
    {
     "name": "stderr",
     "output_type": "stream",
     "text": [
      "\tRan out of time, early stopping on iteration 216. Best iteration is:\n",
      "\t[4]\tvalid_set's binary_error: 0.364896\n"
     ]
    },
    {
     "name": "stderr",
     "output_type": "stream",
     "text": [
      "\t0.6351\t = Validation score   (accuracy)\n"
     ]
    },
    {
     "name": "stderr",
     "output_type": "stream",
     "text": [
      "\t2.03s\t = Training   runtime\n"
     ]
    },
    {
     "name": "stderr",
     "output_type": "stream",
     "text": [
      "\t0.0s\t = Validation runtime\n"
     ]
    },
    {
     "name": "stderr",
     "output_type": "stream",
     "text": [
      "Fitting model: WeightedEnsemble_L2 ... Training model for up to 4.97s of the -0.04s of remaining time.\n"
     ]
    },
    {
     "name": "stderr",
     "output_type": "stream",
     "text": [
      "\tEnsemble Weights: {'LightGBMXT': 0.8, 'KNeighborsUnif': 0.2}\n"
     ]
    },
    {
     "name": "stderr",
     "output_type": "stream",
     "text": [
      "\t0.6582\t = Validation score   (accuracy)\n"
     ]
    },
    {
     "name": "stderr",
     "output_type": "stream",
     "text": [
      "\t0.02s\t = Training   runtime\n"
     ]
    },
    {
     "name": "stderr",
     "output_type": "stream",
     "text": [
      "\t0.0s\t = Validation runtime\n"
     ]
    },
    {
     "name": "stderr",
     "output_type": "stream",
     "text": [
      "AutoGluon training complete, total runtime = 5.09s ... Best model: \"WeightedEnsemble_L2\"\n"
     ]
    },
    {
     "name": "stderr",
     "output_type": "stream",
     "text": [
      "TabularPredictor saved. To load, use: predictor = TabularPredictor.load(\"AutogluonModels/ag-20240617_142538\")\n"
     ]
    }
   ],
   "source": [
    "# To enforce fairness constraints without access to protected attributes at test time, we train two classifiers to infer the 2-year recidivism rate, and ethnicity.\n",
    "  \n",
    "predictor2, protected = inferred_attribute_builder(train, 'two_year_recid', 'race', time_limit=5)\n"
   ]
  },
  {
   "cell_type": "code",
   "execution_count": 15,
   "metadata": {
    "execution": {
     "iopub.execute_input": "2024-06-17T14:25:43.695558Z",
     "iopub.status.busy": "2024-06-17T14:25:43.695420Z",
     "iopub.status.idle": "2024-06-17T14:25:43.828281Z",
     "shell.execute_reply": "2024-06-17T14:25:43.827763Z"
    }
   },
   "outputs": [],
   "source": [
    "# From these a single predictor that maximizes acuracy while reducing the demographic parity violation to less than 2.5% can be trained by running:\n",
    "\n",
    "fpredictor=FairPredictor(predictor2, val, 'race', inferred_groups=protected)\n",
    "fpredictor.fit(gm.accuracy, gm.demographic_parity, 0.025)"
   ]
  },
  {
   "cell_type": "code",
   "execution_count": 16,
   "metadata": {
    "execution": {
     "iopub.execute_input": "2024-06-17T14:25:43.831243Z",
     "iopub.status.busy": "2024-06-17T14:25:43.831077Z",
     "iopub.status.idle": "2024-06-17T14:25:43.834798Z",
     "shell.execute_reply": "2024-06-17T14:25:43.834288Z"
    }
   },
   "outputs": [],
   "source": [
    "#However, instead we will show how a family of fairness measures can be individually optimized. \n",
    "# The following code plots a table showing the change in accuracy and the fairness measure on a held-out test set as we decrease\n",
    "# the fairness measure to less than 0.025 for all measures except for disparate impact which we raise to above 0.975.\n",
    "# We define a helper function for evaluation:\n",
    "\n",
    "def evaluate(fpredictor,use_metrics):\n",
    "    \"Print a table showing the accuracy drop that comes with enforcing fairness\"\n",
    "    extra_metrics= {**use_metrics, 'accuracy':gm.accuracy}\n",
    "    collect=pd.DataFrame(columns=['Measure (original)', 'Measure (updated)', 'Accuracy (original)', 'Accuracy (updated)'])\n",
    "    for d in use_metrics.items():\n",
    "        if d[1].greater_is_better is False:\n",
    "            fpredictor.fit(gm.accuracy,d[1], 0.025)\n",
    "        else:\n",
    "            fpredictor.fit(gm.accuracy,d[1], 1-0.025)\n",
    "        tmp=fpredictor.evaluate_fairness(test,metrics=extra_metrics)\n",
    "        collect.loc[d[1].name]=np.concatenate((np.asarray(tmp.loc[d[1].name]), np.asarray(tmp.loc[gm.accuracy.name])), 0)\n",
    "    return collect"
   ]
  },
  {
   "cell_type": "code",
   "execution_count": 17,
   "metadata": {
    "execution": {
     "iopub.execute_input": "2024-06-17T14:25:43.837065Z",
     "iopub.status.busy": "2024-06-17T14:25:43.836964Z",
     "iopub.status.idle": "2024-06-17T14:25:48.946647Z",
     "shell.execute_reply": "2024-06-17T14:25:48.946179Z"
    }
   },
   "outputs": [
    {
     "name": "stderr",
     "output_type": "stream",
     "text": [
      "No path specified. Models will be saved in: \"AutogluonModels/ag-20240617_142543\"\n"
     ]
    },
    {
     "name": "stderr",
     "output_type": "stream",
     "text": [
      "No presets specified! To achieve strong results with AutoGluon, it is recommended to use the available presets.\n",
      "\tRecommended Presets (For more details refer to https://auto.gluon.ai/stable/tutorials/tabular/tabular-essentials.html#presets):\n",
      "\tpresets='best_quality'   : Maximize accuracy. Default time_limit=3600.\n",
      "\tpresets='high_quality'   : Strong accuracy with fast inference speed. Default time_limit=3600.\n",
      "\tpresets='good_quality'   : Good accuracy with very fast inference speed. Default time_limit=3600.\n",
      "\tpresets='medium_quality' : Fast training time, ideal for initial prototyping.\n"
     ]
    },
    {
     "name": "stderr",
     "output_type": "stream",
     "text": [
      "Beginning AutoGluon training ... Time limit = 5s\n"
     ]
    },
    {
     "name": "stderr",
     "output_type": "stream",
     "text": [
      "AutoGluon will save models to \"AutogluonModels/ag-20240617_142543\"\n"
     ]
    },
    {
     "name": "stderr",
     "output_type": "stream",
     "text": [
      "=================== System Info ===================\n",
      "AutoGluon Version:  1.1.0\n",
      "Python Version:     3.10.13\n",
      "Operating System:   Darwin\n",
      "Platform Machine:   arm64\n",
      "Platform Version:   Darwin Kernel Version 23.5.0: Wed May  1 20:14:38 PDT 2024; root:xnu-10063.121.3~5/RELEASE_ARM64_T6020\n",
      "CPU Count:          10\n",
      "Memory Avail:       10.26 GB / 16.00 GB (64.1%)\n",
      "Disk Space Avail:   362.50 GB / 460.43 GB (78.7%)\n",
      "===================================================\n"
     ]
    },
    {
     "name": "stderr",
     "output_type": "stream",
     "text": [
      "Train Data Rows:    2164\n"
     ]
    },
    {
     "name": "stderr",
     "output_type": "stream",
     "text": [
      "Train Data Columns: 9\n"
     ]
    },
    {
     "name": "stderr",
     "output_type": "stream",
     "text": [
      "Label Column:       two_year_recid\n"
     ]
    },
    {
     "name": "stderr",
     "output_type": "stream",
     "text": [
      "AutoGluon infers your prediction problem is: 'binary' (because only two unique label-values observed).\n"
     ]
    },
    {
     "name": "stderr",
     "output_type": "stream",
     "text": [
      "\t2 unique label values:  [0, 1]\n"
     ]
    },
    {
     "name": "stderr",
     "output_type": "stream",
     "text": [
      "\tIf 'binary' is not the correct problem_type, please manually specify the problem_type parameter during predictor init (You may specify problem_type as one of: ['binary', 'multiclass', 'regression'])\n"
     ]
    },
    {
     "name": "stderr",
     "output_type": "stream",
     "text": [
      "Problem Type:       binary\n"
     ]
    },
    {
     "name": "stderr",
     "output_type": "stream",
     "text": [
      "Preprocessing data ...\n"
     ]
    },
    {
     "name": "stderr",
     "output_type": "stream",
     "text": [
      "Selected class <--> label mapping:  class 1 = 1, class 0 = 0\n"
     ]
    },
    {
     "name": "stderr",
     "output_type": "stream",
     "text": [
      "Using Feature Generators to preprocess the data ...\n"
     ]
    },
    {
     "name": "stderr",
     "output_type": "stream",
     "text": [
      "Fitting AutoMLPipelineFeatureGenerator...\n"
     ]
    },
    {
     "name": "stderr",
     "output_type": "stream",
     "text": [
      "\tAvailable Memory:                    10509.47 MB\n"
     ]
    },
    {
     "name": "stderr",
     "output_type": "stream",
     "text": [
      "\tTrain Data (Original)  Memory Usage: 0.61 MB (0.0% of available memory)\n"
     ]
    },
    {
     "name": "stderr",
     "output_type": "stream",
     "text": [
      "\tInferring data type of each feature based on column values. Set feature_metadata_in to manually specify special dtypes of the features.\n"
     ]
    },
    {
     "name": "stderr",
     "output_type": "stream",
     "text": [
      "\tStage 1 Generators:\n"
     ]
    },
    {
     "name": "stderr",
     "output_type": "stream",
     "text": [
      "\t\tFitting AsTypeFeatureGenerator...\n"
     ]
    },
    {
     "name": "stderr",
     "output_type": "stream",
     "text": [
      "\t\t\tNote: Converting 3 features to boolean dtype as they only contain 2 unique values.\n"
     ]
    },
    {
     "name": "stderr",
     "output_type": "stream",
     "text": [
      "\tStage 2 Generators:\n"
     ]
    },
    {
     "name": "stderr",
     "output_type": "stream",
     "text": [
      "\t\tFitting FillNaFeatureGenerator...\n"
     ]
    },
    {
     "name": "stderr",
     "output_type": "stream",
     "text": [
      "\tStage 3 Generators:\n"
     ]
    },
    {
     "name": "stderr",
     "output_type": "stream",
     "text": [
      "\t\tFitting IdentityFeatureGenerator...\n"
     ]
    },
    {
     "name": "stderr",
     "output_type": "stream",
     "text": [
      "\t\tFitting CategoryFeatureGenerator...\n"
     ]
    },
    {
     "name": "stderr",
     "output_type": "stream",
     "text": [
      "\t\t\tFitting CategoryMemoryMinimizeFeatureGenerator...\n"
     ]
    },
    {
     "name": "stderr",
     "output_type": "stream",
     "text": [
      "\tStage 4 Generators:\n"
     ]
    },
    {
     "name": "stderr",
     "output_type": "stream",
     "text": [
      "\t\tFitting DropUniqueFeatureGenerator...\n"
     ]
    },
    {
     "name": "stderr",
     "output_type": "stream",
     "text": [
      "\tStage 5 Generators:\n"
     ]
    },
    {
     "name": "stderr",
     "output_type": "stream",
     "text": [
      "\t\tFitting DropDuplicatesFeatureGenerator...\n"
     ]
    },
    {
     "name": "stderr",
     "output_type": "stream",
     "text": [
      "\tTypes of features in original data (raw dtype, special dtypes):\n"
     ]
    },
    {
     "name": "stderr",
     "output_type": "stream",
     "text": [
      "\t\t('int', [])    : 5 | ['age', 'juv_fel_count', 'juv_misd_count', 'juv_other_count', 'priors_count']\n"
     ]
    },
    {
     "name": "stderr",
     "output_type": "stream",
     "text": [
      "\t\t('object', []) : 4 | ['sex', 'race', 'age_cat', 'c_charge_degree']\n"
     ]
    },
    {
     "name": "stderr",
     "output_type": "stream",
     "text": [
      "\tTypes of features in processed data (raw dtype, special dtypes):\n"
     ]
    },
    {
     "name": "stderr",
     "output_type": "stream",
     "text": [
      "\t\t('category', [])  : 1 | ['age_cat']\n"
     ]
    },
    {
     "name": "stderr",
     "output_type": "stream",
     "text": [
      "\t\t('int', [])       : 5 | ['age', 'juv_fel_count', 'juv_misd_count', 'juv_other_count', 'priors_count']\n"
     ]
    },
    {
     "name": "stderr",
     "output_type": "stream",
     "text": [
      "\t\t('int', ['bool']) : 3 | ['sex', 'race', 'c_charge_degree']\n"
     ]
    },
    {
     "name": "stderr",
     "output_type": "stream",
     "text": [
      "\t0.0s = Fit runtime\n"
     ]
    },
    {
     "name": "stderr",
     "output_type": "stream",
     "text": [
      "\t9 features in original data used to generate 9 features in processed data.\n"
     ]
    },
    {
     "name": "stderr",
     "output_type": "stream",
     "text": [
      "\tTrain Data (Processed) Memory Usage: 0.09 MB (0.0% of available memory)\n"
     ]
    },
    {
     "name": "stderr",
     "output_type": "stream",
     "text": [
      "Data preprocessing and feature engineering runtime = 0.04s ...\n"
     ]
    },
    {
     "name": "stderr",
     "output_type": "stream",
     "text": [
      "AutoGluon will gauge predictive performance using evaluation metric: 'accuracy'\n"
     ]
    },
    {
     "name": "stderr",
     "output_type": "stream",
     "text": [
      "\tTo change this, specify the eval_metric parameter of Predictor()\n"
     ]
    },
    {
     "name": "stderr",
     "output_type": "stream",
     "text": [
      "Automatically generating train/validation split with holdout_frac=0.2, Train Rows: 1731, Val Rows: 433\n"
     ]
    },
    {
     "name": "stderr",
     "output_type": "stream",
     "text": [
      "User-specified model hyperparameters to be fit:\n",
      "{\n",
      "\t'NN_TORCH': {},\n",
      "\t'GBM': [{'extra_trees': True, 'ag_args': {'name_suffix': 'XT'}}, {}, 'GBMLarge'],\n",
      "\t'CAT': {},\n",
      "\t'XGB': {},\n",
      "\t'FASTAI': {},\n",
      "\t'RF': [{'criterion': 'gini', 'ag_args': {'name_suffix': 'Gini', 'problem_types': ['binary', 'multiclass']}}, {'criterion': 'entropy', 'ag_args': {'name_suffix': 'Entr', 'problem_types': ['binary', 'multiclass']}}, {'criterion': 'squared_error', 'ag_args': {'name_suffix': 'MSE', 'problem_types': ['regression', 'quantile']}}],\n",
      "\t'XT': [{'criterion': 'gini', 'ag_args': {'name_suffix': 'Gini', 'problem_types': ['binary', 'multiclass']}}, {'criterion': 'entropy', 'ag_args': {'name_suffix': 'Entr', 'problem_types': ['binary', 'multiclass']}}, {'criterion': 'squared_error', 'ag_args': {'name_suffix': 'MSE', 'problem_types': ['regression', 'quantile']}}],\n",
      "\t'KNN': [{'weights': 'uniform', 'ag_args': {'name_suffix': 'Unif'}}, {'weights': 'distance', 'ag_args': {'name_suffix': 'Dist'}}],\n",
      "}\n"
     ]
    },
    {
     "name": "stderr",
     "output_type": "stream",
     "text": [
      "Fitting 13 L1 models ...\n"
     ]
    },
    {
     "name": "stderr",
     "output_type": "stream",
     "text": [
      "Fitting model: KNeighborsUnif ... Training model for up to 4.96s of the 4.96s of remaining time.\n"
     ]
    },
    {
     "name": "stderr",
     "output_type": "stream",
     "text": [
      "\t0.6351\t = Validation score   (accuracy)\n"
     ]
    },
    {
     "name": "stderr",
     "output_type": "stream",
     "text": [
      "\t0.0s\t = Training   runtime\n"
     ]
    },
    {
     "name": "stderr",
     "output_type": "stream",
     "text": [
      "\t0.02s\t = Validation runtime\n"
     ]
    },
    {
     "name": "stderr",
     "output_type": "stream",
     "text": [
      "Fitting model: KNeighborsDist ... Training model for up to 4.93s of the 4.93s of remaining time.\n"
     ]
    },
    {
     "name": "stderr",
     "output_type": "stream",
     "text": [
      "\t0.6259\t = Validation score   (accuracy)\n"
     ]
    },
    {
     "name": "stderr",
     "output_type": "stream",
     "text": [
      "\t0.0s\t = Training   runtime\n"
     ]
    },
    {
     "name": "stderr",
     "output_type": "stream",
     "text": [
      "\t0.02s\t = Validation runtime\n"
     ]
    },
    {
     "name": "stderr",
     "output_type": "stream",
     "text": [
      "Fitting model: LightGBMXT ... Training model for up to 4.91s of the 4.91s of remaining time.\n"
     ]
    },
    {
     "name": "stderr",
     "output_type": "stream",
     "text": [
      "\t0.6975\t = Validation score   (accuracy)\n"
     ]
    },
    {
     "name": "stderr",
     "output_type": "stream",
     "text": [
      "\t3.06s\t = Training   runtime\n"
     ]
    },
    {
     "name": "stderr",
     "output_type": "stream",
     "text": [
      "\t0.0s\t = Validation runtime\n"
     ]
    },
    {
     "name": "stderr",
     "output_type": "stream",
     "text": [
      "Fitting model: LightGBM ... Training model for up to 1.84s of the 1.84s of remaining time.\n"
     ]
    },
    {
     "name": "stderr",
     "output_type": "stream",
     "text": [
      "\tRan out of time, early stopping on iteration 209. Best iteration is:\n",
      "\t[42]\tvalid_set's binary_error: 0.325635\n"
     ]
    },
    {
     "name": "stderr",
     "output_type": "stream",
     "text": [
      "\t0.6744\t = Validation score   (accuracy)\n"
     ]
    },
    {
     "name": "stderr",
     "output_type": "stream",
     "text": [
      "\t1.85s\t = Training   runtime\n"
     ]
    },
    {
     "name": "stderr",
     "output_type": "stream",
     "text": [
      "\t0.0s\t = Validation runtime\n"
     ]
    },
    {
     "name": "stderr",
     "output_type": "stream",
     "text": [
      "Fitting model: WeightedEnsemble_L2 ... Training model for up to 4.96s of the -0.04s of remaining time.\n"
     ]
    },
    {
     "name": "stderr",
     "output_type": "stream",
     "text": [
      "\tEnsemble Weights: {'LightGBMXT': 1.0}\n"
     ]
    },
    {
     "name": "stderr",
     "output_type": "stream",
     "text": [
      "\t0.6975\t = Validation score   (accuracy)\n"
     ]
    },
    {
     "name": "stderr",
     "output_type": "stream",
     "text": [
      "\t0.02s\t = Training   runtime\n"
     ]
    },
    {
     "name": "stderr",
     "output_type": "stream",
     "text": [
      "\t0.0s\t = Validation runtime\n"
     ]
    },
    {
     "name": "stderr",
     "output_type": "stream",
     "text": [
      "AutoGluon training complete, total runtime = 5.09s ... Best model: \"WeightedEnsemble_L2\"\n"
     ]
    },
    {
     "name": "stderr",
     "output_type": "stream",
     "text": [
      "TabularPredictor saved. To load, use: predictor = TabularPredictor.load(\"AutogluonModels/ag-20240617_142543\")\n"
     ]
    }
   ],
   "source": [
    "#We can now contrast the behavior of a fair classifier that relies on access to the protected\n",
    "# attribtute at test time with one that infers it.\n",
    "\n",
    "# we first create a classifer using the protected attribute\n",
    "predictor=TabularPredictor(label='two_year_recid').fit(train_data=train, time_limit=5)"
   ]
  },
  {
   "cell_type": "code",
   "execution_count": 18,
   "metadata": {
    "execution": {
     "iopub.execute_input": "2024-06-17T14:25:48.949466Z",
     "iopub.status.busy": "2024-06-17T14:25:48.949284Z",
     "iopub.status.idle": "2024-06-17T14:25:49.349542Z",
     "shell.execute_reply": "2024-06-17T14:25:49.349009Z"
    }
   },
   "outputs": [
    {
     "data": {
      "text/html": [
       "<div>\n",
       "<style scoped>\n",
       "    .dataframe tbody tr th:only-of-type {\n",
       "        vertical-align: middle;\n",
       "    }\n",
       "\n",
       "    .dataframe tbody tr th {\n",
       "        vertical-align: top;\n",
       "    }\n",
       "\n",
       "    .dataframe thead th {\n",
       "        text-align: right;\n",
       "    }\n",
       "</style>\n",
       "<table border=\"1\" class=\"dataframe\">\n",
       "  <thead>\n",
       "    <tr style=\"text-align: right;\">\n",
       "      <th></th>\n",
       "      <th>Measure (original)</th>\n",
       "      <th>Measure (updated)</th>\n",
       "      <th>Accuracy (original)</th>\n",
       "      <th>Accuracy (updated)</th>\n",
       "    </tr>\n",
       "  </thead>\n",
       "  <tbody>\n",
       "    <tr>\n",
       "      <th>Demographic Parity</th>\n",
       "      <td>0.336580</td>\n",
       "      <td>0.010250</td>\n",
       "      <td>0.661386</td>\n",
       "      <td>0.646337</td>\n",
       "    </tr>\n",
       "    <tr>\n",
       "      <th>Disparate Impact</th>\n",
       "      <td>0.424223</td>\n",
       "      <td>0.985274</td>\n",
       "      <td>0.661386</td>\n",
       "      <td>0.638812</td>\n",
       "    </tr>\n",
       "    <tr>\n",
       "      <th>Average Group Difference in Conditional Acceptance Rate</th>\n",
       "      <td>0.644987</td>\n",
       "      <td>0.055467</td>\n",
       "      <td>0.661386</td>\n",
       "      <td>0.670891</td>\n",
       "    </tr>\n",
       "    <tr>\n",
       "      <th>Average Group Difference in Conditional Rejectance Rate</th>\n",
       "      <td>0.354906</td>\n",
       "      <td>0.003563</td>\n",
       "      <td>0.661386</td>\n",
       "      <td>0.666535</td>\n",
       "    </tr>\n",
       "    <tr>\n",
       "      <th>Average Group Difference in Accuracy</th>\n",
       "      <td>0.048422</td>\n",
       "      <td>0.036576</td>\n",
       "      <td>0.661386</td>\n",
       "      <td>0.662574</td>\n",
       "    </tr>\n",
       "    <tr>\n",
       "      <th>Average Group Difference in Recall</th>\n",
       "      <td>0.306877</td>\n",
       "      <td>0.065208</td>\n",
       "      <td>0.661386</td>\n",
       "      <td>0.640396</td>\n",
       "    </tr>\n",
       "    <tr>\n",
       "      <th>Average Group Difference in Acceptance Rate</th>\n",
       "      <td>0.000623</td>\n",
       "      <td>0.017213</td>\n",
       "      <td>0.661386</td>\n",
       "      <td>0.666139</td>\n",
       "    </tr>\n",
       "    <tr>\n",
       "      <th>Average Group Difference in Specificity</th>\n",
       "      <td>0.296718</td>\n",
       "      <td>0.054075</td>\n",
       "      <td>0.661386</td>\n",
       "      <td>0.671287</td>\n",
       "    </tr>\n",
       "    <tr>\n",
       "      <th>Average Group Difference in Rejection Rate</th>\n",
       "      <td>0.049978</td>\n",
       "      <td>0.072272</td>\n",
       "      <td>0.661386</td>\n",
       "      <td>0.667723</td>\n",
       "    </tr>\n",
       "    <tr>\n",
       "      <th>Treatment Equality</th>\n",
       "      <td>1.117626</td>\n",
       "      <td>0.047186</td>\n",
       "      <td>0.661386</td>\n",
       "      <td>0.672079</td>\n",
       "    </tr>\n",
       "  </tbody>\n",
       "</table>\n",
       "</div>"
      ],
      "text/plain": [
       "                                                    Measure (original)  \\\n",
       "Demographic Parity                                            0.336580   \n",
       "Disparate Impact                                              0.424223   \n",
       "Average Group Difference in Conditional Accepta...            0.644987   \n",
       "Average Group Difference in Conditional Rejecta...            0.354906   \n",
       "Average Group Difference in Accuracy                          0.048422   \n",
       "Average Group Difference in Recall                            0.306877   \n",
       "Average Group Difference in Acceptance Rate                   0.000623   \n",
       "Average Group Difference in Specificity                       0.296718   \n",
       "Average Group Difference in Rejection Rate                    0.049978   \n",
       "Treatment Equality                                            1.117626   \n",
       "\n",
       "                                                    Measure (updated)  \\\n",
       "Demographic Parity                                           0.010250   \n",
       "Disparate Impact                                             0.985274   \n",
       "Average Group Difference in Conditional Accepta...           0.055467   \n",
       "Average Group Difference in Conditional Rejecta...           0.003563   \n",
       "Average Group Difference in Accuracy                         0.036576   \n",
       "Average Group Difference in Recall                           0.065208   \n",
       "Average Group Difference in Acceptance Rate                  0.017213   \n",
       "Average Group Difference in Specificity                      0.054075   \n",
       "Average Group Difference in Rejection Rate                   0.072272   \n",
       "Treatment Equality                                           0.047186   \n",
       "\n",
       "                                                    Accuracy (original)  \\\n",
       "Demographic Parity                                             0.661386   \n",
       "Disparate Impact                                               0.661386   \n",
       "Average Group Difference in Conditional Accepta...             0.661386   \n",
       "Average Group Difference in Conditional Rejecta...             0.661386   \n",
       "Average Group Difference in Accuracy                           0.661386   \n",
       "Average Group Difference in Recall                             0.661386   \n",
       "Average Group Difference in Acceptance Rate                    0.661386   \n",
       "Average Group Difference in Specificity                        0.661386   \n",
       "Average Group Difference in Rejection Rate                     0.661386   \n",
       "Treatment Equality                                             0.661386   \n",
       "\n",
       "                                                    Accuracy (updated)  \n",
       "Demographic Parity                                            0.646337  \n",
       "Disparate Impact                                              0.638812  \n",
       "Average Group Difference in Conditional Accepta...            0.670891  \n",
       "Average Group Difference in Conditional Rejecta...            0.666535  \n",
       "Average Group Difference in Accuracy                          0.662574  \n",
       "Average Group Difference in Recall                            0.640396  \n",
       "Average Group Difference in Acceptance Rate                   0.666139  \n",
       "Average Group Difference in Specificity                       0.671287  \n",
       "Average Group Difference in Rejection Rate                    0.667723  \n",
       "Treatment Equality                                            0.672079  "
      ]
     },
     "execution_count": 18,
     "metadata": {},
     "output_type": "execute_result"
    }
   ],
   "source": [
    "#Create a fair predictor object, using the attribute 'race' on validation data\n",
    "fpredictor = FairPredictor(predictor, val, 'race')\n",
    "#and then evaluate it\n",
    "evaluate(fpredictor, gm.clarify_metrics)\n",
    "#Note that Class Imbalance is a property of the dataset and can not be altered."
   ]
  },
  {
   "cell_type": "code",
   "execution_count": 19,
   "metadata": {
    "execution": {
     "iopub.execute_input": "2024-06-17T14:25:49.352331Z",
     "iopub.status.busy": "2024-06-17T14:25:49.352204Z",
     "iopub.status.idle": "2024-06-17T14:25:50.790011Z",
     "shell.execute_reply": "2024-06-17T14:25:50.789390Z"
    }
   },
   "outputs": [
    {
     "data": {
      "text/html": [
       "<div>\n",
       "<style scoped>\n",
       "    .dataframe tbody tr th:only-of-type {\n",
       "        vertical-align: middle;\n",
       "    }\n",
       "\n",
       "    .dataframe tbody tr th {\n",
       "        vertical-align: top;\n",
       "    }\n",
       "\n",
       "    .dataframe thead th {\n",
       "        text-align: right;\n",
       "    }\n",
       "</style>\n",
       "<table border=\"1\" class=\"dataframe\">\n",
       "  <thead>\n",
       "    <tr style=\"text-align: right;\">\n",
       "      <th></th>\n",
       "      <th>Measure (original)</th>\n",
       "      <th>Measure (updated)</th>\n",
       "      <th>Accuracy (original)</th>\n",
       "      <th>Accuracy (updated)</th>\n",
       "    </tr>\n",
       "  </thead>\n",
       "  <tbody>\n",
       "    <tr>\n",
       "      <th>Demographic Parity</th>\n",
       "      <td>0.234362</td>\n",
       "      <td>0.035235</td>\n",
       "      <td>0.671287</td>\n",
       "      <td>0.554851</td>\n",
       "    </tr>\n",
       "    <tr>\n",
       "      <th>Disparate Impact</th>\n",
       "      <td>0.561681</td>\n",
       "      <td>0.988790</td>\n",
       "      <td>0.671287</td>\n",
       "      <td>0.542970</td>\n",
       "    </tr>\n",
       "    <tr>\n",
       "      <th>Average Group Difference in Conditional Acceptance Rate</th>\n",
       "      <td>0.300350</td>\n",
       "      <td>0.008952</td>\n",
       "      <td>0.671287</td>\n",
       "      <td>0.622574</td>\n",
       "    </tr>\n",
       "    <tr>\n",
       "      <th>Average Group Difference in Conditional Rejectance Rate</th>\n",
       "      <td>0.165646</td>\n",
       "      <td>0.017900</td>\n",
       "      <td>0.671287</td>\n",
       "      <td>0.653861</td>\n",
       "    </tr>\n",
       "    <tr>\n",
       "      <th>Average Group Difference in Accuracy</th>\n",
       "      <td>0.043198</td>\n",
       "      <td>0.042238</td>\n",
       "      <td>0.671287</td>\n",
       "      <td>0.666139</td>\n",
       "    </tr>\n",
       "    <tr>\n",
       "      <th>Average Group Difference in Recall</th>\n",
       "      <td>0.190611</td>\n",
       "      <td>0.018044</td>\n",
       "      <td>0.671287</td>\n",
       "      <td>0.557624</td>\n",
       "    </tr>\n",
       "    <tr>\n",
       "      <th>Average Group Difference in Acceptance Rate</th>\n",
       "      <td>0.033289</td>\n",
       "      <td>0.207826</td>\n",
       "      <td>0.671287</td>\n",
       "      <td>0.588515</td>\n",
       "    </tr>\n",
       "    <tr>\n",
       "      <th>Average Group Difference in Specificity</th>\n",
       "      <td>0.197344</td>\n",
       "      <td>0.076504</td>\n",
       "      <td>0.671287</td>\n",
       "      <td>0.651485</td>\n",
       "    </tr>\n",
       "    <tr>\n",
       "      <th>Average Group Difference in Rejection Rate</th>\n",
       "      <td>0.074006</td>\n",
       "      <td>0.077252</td>\n",
       "      <td>0.671287</td>\n",
       "      <td>0.666535</td>\n",
       "    </tr>\n",
       "    <tr>\n",
       "      <th>Treatment Equality</th>\n",
       "      <td>0.561487</td>\n",
       "      <td>0.069292</td>\n",
       "      <td>0.671287</td>\n",
       "      <td>0.659010</td>\n",
       "    </tr>\n",
       "  </tbody>\n",
       "</table>\n",
       "</div>"
      ],
      "text/plain": [
       "                                                    Measure (original)  \\\n",
       "Demographic Parity                                            0.234362   \n",
       "Disparate Impact                                              0.561681   \n",
       "Average Group Difference in Conditional Accepta...            0.300350   \n",
       "Average Group Difference in Conditional Rejecta...            0.165646   \n",
       "Average Group Difference in Accuracy                          0.043198   \n",
       "Average Group Difference in Recall                            0.190611   \n",
       "Average Group Difference in Acceptance Rate                   0.033289   \n",
       "Average Group Difference in Specificity                       0.197344   \n",
       "Average Group Difference in Rejection Rate                    0.074006   \n",
       "Treatment Equality                                            0.561487   \n",
       "\n",
       "                                                    Measure (updated)  \\\n",
       "Demographic Parity                                           0.035235   \n",
       "Disparate Impact                                             0.988790   \n",
       "Average Group Difference in Conditional Accepta...           0.008952   \n",
       "Average Group Difference in Conditional Rejecta...           0.017900   \n",
       "Average Group Difference in Accuracy                         0.042238   \n",
       "Average Group Difference in Recall                           0.018044   \n",
       "Average Group Difference in Acceptance Rate                  0.207826   \n",
       "Average Group Difference in Specificity                      0.076504   \n",
       "Average Group Difference in Rejection Rate                   0.077252   \n",
       "Treatment Equality                                           0.069292   \n",
       "\n",
       "                                                    Accuracy (original)  \\\n",
       "Demographic Parity                                             0.671287   \n",
       "Disparate Impact                                               0.671287   \n",
       "Average Group Difference in Conditional Accepta...             0.671287   \n",
       "Average Group Difference in Conditional Rejecta...             0.671287   \n",
       "Average Group Difference in Accuracy                           0.671287   \n",
       "Average Group Difference in Recall                             0.671287   \n",
       "Average Group Difference in Acceptance Rate                    0.671287   \n",
       "Average Group Difference in Specificity                        0.671287   \n",
       "Average Group Difference in Rejection Rate                     0.671287   \n",
       "Treatment Equality                                             0.671287   \n",
       "\n",
       "                                                    Accuracy (updated)  \n",
       "Demographic Parity                                            0.554851  \n",
       "Disparate Impact                                              0.542970  \n",
       "Average Group Difference in Conditional Accepta...            0.622574  \n",
       "Average Group Difference in Conditional Rejecta...            0.653861  \n",
       "Average Group Difference in Accuracy                          0.666139  \n",
       "Average Group Difference in Recall                            0.557624  \n",
       "Average Group Difference in Acceptance Rate                   0.588515  \n",
       "Average Group Difference in Specificity                       0.651485  \n",
       "Average Group Difference in Rejection Rate                    0.666535  \n",
       "Treatment Equality                                            0.659010  "
      ]
     },
     "execution_count": 19,
     "metadata": {},
     "output_type": "execute_result"
    }
   ],
   "source": [
    " # Now using infered attributes\n",
    "fpredictor2 = FairPredictor(predictor2, val, 'race', inferred_groups=protected)\n",
    "evaluate(fpredictor2, gm.clarify_metrics)"
   ]
  }
 ],
 "metadata": {
  "kernelspec": {
   "display_name": "Python 3.9.15 64-bit",
   "language": "python",
   "name": "python3"
  },
  "language_info": {
   "codemirror_mode": {
    "name": "ipython",
    "version": 3
   },
   "file_extension": ".py",
   "mimetype": "text/x-python",
   "name": "python",
   "nbconvert_exporter": "python",
   "pygments_lexer": "ipython3",
   "version": "3.10.13"
  },
  "vscode": {
   "interpreter": {
    "hash": "397704579725e15f5c7cb49fe5f0341eb7531c82d19f2c29d197e8b64ab5776b"
   }
  }
 },
 "nbformat": 4,
 "nbformat_minor": 2
}
