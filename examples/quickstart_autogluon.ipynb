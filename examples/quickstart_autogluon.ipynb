{
 "cells": [
  {
   "cell_type": "markdown",
   "metadata": {},
   "source": [
    "# FairPredictor Autogluon Examples\n",
    "This file contains demo code for an extended version of the example in Readme.md (additionally handling more fairness over multiple groups),  and enforcing a range of fairness definition on COMPAS.\n",
    "\n",
    "FairPredictor is a postprocessing approach for enforcing fairness, with support for a wide range of performance metrics and fairness criteria, and support for inferred attributes, i.e. it does not require access to protected attributes at test time. \n",
    "Under the hood, FairPredictor works by adjusting the decision boundary for each group individually. Where groups are not available, it makes use of inferred group membership to adjust decision boundaries.\n",
    "\n",
    "The key idea underlying this toolkit is that for a wide range of use cases, the most suitable classifier should do more than maximize some form of accuracy.\n",
    "We offer a general toolkit that allows different measures to be optimized and additional constraints to be imposed by tuning the behavior of a binary predictor on validation data.\n",
    "\n",
    "For example, classifiers can be tuned to maximize performance for a wide range of metrics such as:\n",
    "\n",
    "* Accuracy\n",
    "* Balanced Accuracy\n",
    "* F1 score\n",
    "* MCC\n",
    "* Custom utility functions\n",
    "\n",
    "While also approximately satisfying a wide range of group constraints such as:\n",
    "\n",
    "* Demographic Parity (The idea that positive decisions should occur at the same rates for all protected groups, for example for men at the same rate as for women)\n",
    "* Equal Opportunity (The recall should be the same for all protected groups)\n",
    "* Minimum recall constraints (The recall should be above a particular level for all groups)\n",
    "* Minimum Precision constraints (The precision should be above a particular level for all groups)\n",
    "* Custom Fairness Metrics\n",
    "\n",
    "The full set of constraints and objectives can be seen in Readme.md "
   ]
  },
  {
   "cell_type": "code",
   "execution_count": 1,
   "metadata": {
    "execution": {
     "iopub.execute_input": "2024-06-11T07:16:43.638955Z",
     "iopub.status.busy": "2024-06-11T07:16:43.637895Z",
     "iopub.status.idle": "2024-06-11T07:17:03.187966Z",
     "shell.execute_reply": "2024-06-11T07:17:03.183499Z"
    }
   },
   "outputs": [
    {
     "name": "stderr",
     "output_type": "stream",
     "text": [
      "/opt/miniconda3/envs/ag/lib/python3.10/site-packages/tqdm/auto.py:21: TqdmWarning: IProgress not found. Please update jupyter and ipywidgets. See https://ipywidgets.readthedocs.io/en/stable/user_install.html\n",
      "  from .autonotebook import tqdm as notebook_tqdm\n"
     ]
    },
    {
     "name": "stderr",
     "output_type": "stream",
     "text": [
      "No path specified. Models will be saved in: \"AutogluonModels/ag-20240611_071656\"\n"
     ]
    },
    {
     "name": "stderr",
     "output_type": "stream",
     "text": [
      "No presets specified! To achieve strong results with AutoGluon, it is recommended to use the available presets.\n",
      "\tRecommended Presets (For more details refer to https://auto.gluon.ai/stable/tutorials/tabular/tabular-essentials.html#presets):\n",
      "\tpresets='best_quality'   : Maximize accuracy. Default time_limit=3600.\n",
      "\tpresets='high_quality'   : Strong accuracy with fast inference speed. Default time_limit=3600.\n",
      "\tpresets='good_quality'   : Good accuracy with very fast inference speed. Default time_limit=3600.\n",
      "\tpresets='medium_quality' : Fast training time, ideal for initial prototyping.\n"
     ]
    },
    {
     "name": "stderr",
     "output_type": "stream",
     "text": [
      "Beginning AutoGluon training ... Time limit = 5s\n"
     ]
    },
    {
     "name": "stderr",
     "output_type": "stream",
     "text": [
      "AutoGluon will save models to \"AutogluonModels/ag-20240611_071656\"\n"
     ]
    },
    {
     "name": "stderr",
     "output_type": "stream",
     "text": [
      "=================== System Info ===================\n",
      "AutoGluon Version:  1.1.0\n",
      "Python Version:     3.10.13\n",
      "Operating System:   Darwin\n",
      "Platform Machine:   arm64\n",
      "Platform Version:   Darwin Kernel Version 23.5.0: Wed May  1 20:14:38 PDT 2024; root:xnu-10063.121.3~5/RELEASE_ARM64_T6020\n",
      "CPU Count:          10\n",
      "Memory Avail:       4.86 GB / 16.00 GB (30.4%)\n",
      "Disk Space Avail:   371.62 GB / 460.43 GB (80.7%)\n",
      "===================================================\n"
     ]
    },
    {
     "name": "stderr",
     "output_type": "stream",
     "text": [
      "Train Data Rows:    39073\n"
     ]
    },
    {
     "name": "stderr",
     "output_type": "stream",
     "text": [
      "Train Data Columns: 14\n"
     ]
    },
    {
     "name": "stderr",
     "output_type": "stream",
     "text": [
      "Label Column:       class\n"
     ]
    },
    {
     "name": "stderr",
     "output_type": "stream",
     "text": [
      "AutoGluon infers your prediction problem is: 'binary' (because only two unique label-values observed).\n"
     ]
    },
    {
     "name": "stderr",
     "output_type": "stream",
     "text": [
      "\t2 unique label values:  [' <=50K', ' >50K']\n"
     ]
    },
    {
     "name": "stderr",
     "output_type": "stream",
     "text": [
      "\tIf 'binary' is not the correct problem_type, please manually specify the problem_type parameter during predictor init (You may specify problem_type as one of: ['binary', 'multiclass', 'regression'])\n"
     ]
    },
    {
     "name": "stderr",
     "output_type": "stream",
     "text": [
      "Problem Type:       binary\n"
     ]
    },
    {
     "name": "stderr",
     "output_type": "stream",
     "text": [
      "Preprocessing data ...\n"
     ]
    },
    {
     "name": "stderr",
     "output_type": "stream",
     "text": [
      "Selected class <--> label mapping:  class 1 =  >50K, class 0 =  <=50K\n"
     ]
    },
    {
     "name": "stderr",
     "output_type": "stream",
     "text": [
      "\tNote: For your binary classification, AutoGluon arbitrarily selected which label-value represents positive ( >50K) vs negative ( <=50K) class.\n",
      "\tTo explicitly set the positive_class, either rename classes to 1 and 0, or specify positive_class in Predictor init.\n"
     ]
    },
    {
     "name": "stderr",
     "output_type": "stream",
     "text": [
      "Using Feature Generators to preprocess the data ...\n"
     ]
    },
    {
     "name": "stderr",
     "output_type": "stream",
     "text": [
      "Fitting AutoMLPipelineFeatureGenerator...\n"
     ]
    },
    {
     "name": "stderr",
     "output_type": "stream",
     "text": [
      "\tAvailable Memory:                    4991.69 MB\n"
     ]
    },
    {
     "name": "stderr",
     "output_type": "stream",
     "text": [
      "\tTrain Data (Original)  Memory Usage: 21.86 MB (0.4% of available memory)\n"
     ]
    },
    {
     "name": "stderr",
     "output_type": "stream",
     "text": [
      "\tInferring data type of each feature based on column values. Set feature_metadata_in to manually specify special dtypes of the features.\n"
     ]
    },
    {
     "name": "stderr",
     "output_type": "stream",
     "text": [
      "\tStage 1 Generators:\n"
     ]
    },
    {
     "name": "stderr",
     "output_type": "stream",
     "text": [
      "\t\tFitting AsTypeFeatureGenerator...\n"
     ]
    },
    {
     "name": "stderr",
     "output_type": "stream",
     "text": [
      "\t\t\tNote: Converting 1 features to boolean dtype as they only contain 2 unique values.\n"
     ]
    },
    {
     "name": "stderr",
     "output_type": "stream",
     "text": [
      "\tStage 2 Generators:\n"
     ]
    },
    {
     "name": "stderr",
     "output_type": "stream",
     "text": [
      "\t\tFitting FillNaFeatureGenerator...\n"
     ]
    },
    {
     "name": "stderr",
     "output_type": "stream",
     "text": [
      "\tStage 3 Generators:\n"
     ]
    },
    {
     "name": "stderr",
     "output_type": "stream",
     "text": [
      "\t\tFitting IdentityFeatureGenerator...\n"
     ]
    },
    {
     "name": "stderr",
     "output_type": "stream",
     "text": [
      "\t\tFitting CategoryFeatureGenerator...\n"
     ]
    },
    {
     "name": "stderr",
     "output_type": "stream",
     "text": [
      "\t\t\tFitting CategoryMemoryMinimizeFeatureGenerator...\n"
     ]
    },
    {
     "name": "stderr",
     "output_type": "stream",
     "text": [
      "\tStage 4 Generators:\n"
     ]
    },
    {
     "name": "stderr",
     "output_type": "stream",
     "text": [
      "\t\tFitting DropUniqueFeatureGenerator...\n"
     ]
    },
    {
     "name": "stderr",
     "output_type": "stream",
     "text": [
      "\tStage 5 Generators:\n"
     ]
    },
    {
     "name": "stderr",
     "output_type": "stream",
     "text": [
      "\t\tFitting DropDuplicatesFeatureGenerator...\n"
     ]
    },
    {
     "name": "stderr",
     "output_type": "stream",
     "text": [
      "\tTypes of features in original data (raw dtype, special dtypes):\n"
     ]
    },
    {
     "name": "stderr",
     "output_type": "stream",
     "text": [
      "\t\t('int', [])    : 6 | ['age', 'fnlwgt', 'education-num', 'capital-gain', 'capital-loss', ...]\n"
     ]
    },
    {
     "name": "stderr",
     "output_type": "stream",
     "text": [
      "\t\t('object', []) : 8 | ['workclass', 'education', 'marital-status', 'occupation', 'relationship', ...]\n"
     ]
    },
    {
     "name": "stderr",
     "output_type": "stream",
     "text": [
      "\tTypes of features in processed data (raw dtype, special dtypes):\n"
     ]
    },
    {
     "name": "stderr",
     "output_type": "stream",
     "text": [
      "\t\t('category', [])  : 7 | ['workclass', 'education', 'marital-status', 'occupation', 'relationship', ...]\n"
     ]
    },
    {
     "name": "stderr",
     "output_type": "stream",
     "text": [
      "\t\t('int', [])       : 6 | ['age', 'fnlwgt', 'education-num', 'capital-gain', 'capital-loss', ...]\n"
     ]
    },
    {
     "name": "stderr",
     "output_type": "stream",
     "text": [
      "\t\t('int', ['bool']) : 1 | ['sex']\n"
     ]
    },
    {
     "name": "stderr",
     "output_type": "stream",
     "text": [
      "\t0.1s = Fit runtime\n"
     ]
    },
    {
     "name": "stderr",
     "output_type": "stream",
     "text": [
      "\t14 features in original data used to generate 14 features in processed data.\n"
     ]
    },
    {
     "name": "stderr",
     "output_type": "stream",
     "text": [
      "\tTrain Data (Processed) Memory Usage: 2.09 MB (0.0% of available memory)\n"
     ]
    },
    {
     "name": "stderr",
     "output_type": "stream",
     "text": [
      "Data preprocessing and feature engineering runtime = 0.16s ...\n"
     ]
    },
    {
     "name": "stderr",
     "output_type": "stream",
     "text": [
      "AutoGluon will gauge predictive performance using evaluation metric: 'accuracy'\n"
     ]
    },
    {
     "name": "stderr",
     "output_type": "stream",
     "text": [
      "\tTo change this, specify the eval_metric parameter of Predictor()\n"
     ]
    },
    {
     "name": "stderr",
     "output_type": "stream",
     "text": [
      "Automatically generating train/validation split with holdout_frac=0.0639828014229775, Train Rows: 36573, Val Rows: 2500\n"
     ]
    },
    {
     "name": "stderr",
     "output_type": "stream",
     "text": [
      "User-specified model hyperparameters to be fit:\n",
      "{\n",
      "\t'NN_TORCH': {},\n",
      "\t'GBM': [{'extra_trees': True, 'ag_args': {'name_suffix': 'XT'}}, {}, 'GBMLarge'],\n",
      "\t'CAT': {},\n",
      "\t'XGB': {},\n",
      "\t'FASTAI': {},\n",
      "\t'RF': [{'criterion': 'gini', 'ag_args': {'name_suffix': 'Gini', 'problem_types': ['binary', 'multiclass']}}, {'criterion': 'entropy', 'ag_args': {'name_suffix': 'Entr', 'problem_types': ['binary', 'multiclass']}}, {'criterion': 'squared_error', 'ag_args': {'name_suffix': 'MSE', 'problem_types': ['regression', 'quantile']}}],\n",
      "\t'XT': [{'criterion': 'gini', 'ag_args': {'name_suffix': 'Gini', 'problem_types': ['binary', 'multiclass']}}, {'criterion': 'entropy', 'ag_args': {'name_suffix': 'Entr', 'problem_types': ['binary', 'multiclass']}}, {'criterion': 'squared_error', 'ag_args': {'name_suffix': 'MSE', 'problem_types': ['regression', 'quantile']}}],\n",
      "\t'KNN': [{'weights': 'uniform', 'ag_args': {'name_suffix': 'Unif'}}, {'weights': 'distance', 'ag_args': {'name_suffix': 'Dist'}}],\n",
      "}\n"
     ]
    },
    {
     "name": "stderr",
     "output_type": "stream",
     "text": [
      "Fitting 13 L1 models ...\n"
     ]
    },
    {
     "name": "stderr",
     "output_type": "stream",
     "text": [
      "Fitting model: KNeighborsUnif ... Training model for up to 4.84s of the 4.84s of remaining time.\n"
     ]
    },
    {
     "name": "stderr",
     "output_type": "stream",
     "text": [
      "\t0.7752\t = Validation score   (accuracy)\n"
     ]
    },
    {
     "name": "stderr",
     "output_type": "stream",
     "text": [
      "\t1.59s\t = Training   runtime\n"
     ]
    },
    {
     "name": "stderr",
     "output_type": "stream",
     "text": [
      "\t0.05s\t = Validation runtime\n"
     ]
    },
    {
     "name": "stderr",
     "output_type": "stream",
     "text": [
      "Fitting model: KNeighborsDist ... Training model for up to 3.18s of the 3.18s of remaining time.\n"
     ]
    },
    {
     "name": "stderr",
     "output_type": "stream",
     "text": [
      "\t0.766\t = Validation score   (accuracy)\n"
     ]
    },
    {
     "name": "stderr",
     "output_type": "stream",
     "text": [
      "\t0.03s\t = Training   runtime\n"
     ]
    },
    {
     "name": "stderr",
     "output_type": "stream",
     "text": [
      "\t0.02s\t = Validation runtime\n"
     ]
    },
    {
     "name": "stderr",
     "output_type": "stream",
     "text": [
      "Fitting model: LightGBMXT ... Training model for up to 3.1s of the 3.1s of remaining time.\n"
     ]
    },
    {
     "name": "stderr",
     "output_type": "stream",
     "text": [
      "/opt/miniconda3/envs/ag/lib/python3.10/site-packages/dask/dataframe/__init__.py:31: FutureWarning: \n",
      "Dask dataframe query planning is disabled because dask-expr is not installed.\n",
      "\n",
      "You can install it with `pip install dask[dataframe]` or `conda install dask`.\n",
      "This will raise in a future version.\n",
      "\n",
      "  warnings.warn(msg, FutureWarning)\n"
     ]
    },
    {
     "name": "stderr",
     "output_type": "stream",
     "text": [
      "\tRan out of time, early stopping on iteration 130. Best iteration is:\n",
      "\t[125]\tvalid_set's binary_error: 0.1292\n"
     ]
    },
    {
     "name": "stderr",
     "output_type": "stream",
     "text": [
      "\t0.8708\t = Validation score   (accuracy)\n"
     ]
    },
    {
     "name": "stderr",
     "output_type": "stream",
     "text": [
      "\t4.84s\t = Training   runtime\n"
     ]
    },
    {
     "name": "stderr",
     "output_type": "stream",
     "text": [
      "\t0.02s\t = Validation runtime\n"
     ]
    },
    {
     "name": "stderr",
     "output_type": "stream",
     "text": [
      "Fitting model: WeightedEnsemble_L2 ... Training model for up to 4.84s of the -1.87s of remaining time.\n"
     ]
    },
    {
     "name": "stderr",
     "output_type": "stream",
     "text": [
      "\tEnsemble Weights: {'LightGBMXT': 0.846, 'KNeighborsUnif': 0.077, 'KNeighborsDist': 0.077}\n"
     ]
    },
    {
     "name": "stderr",
     "output_type": "stream",
     "text": [
      "\t0.874\t = Validation score   (accuracy)\n"
     ]
    },
    {
     "name": "stderr",
     "output_type": "stream",
     "text": [
      "\t0.02s\t = Training   runtime\n"
     ]
    },
    {
     "name": "stderr",
     "output_type": "stream",
     "text": [
      "\t0.0s\t = Validation runtime\n"
     ]
    },
    {
     "name": "stderr",
     "output_type": "stream",
     "text": [
      "AutoGluon training complete, total runtime = 7.02s ... Best model: \"WeightedEnsemble_L2\"\n"
     ]
    },
    {
     "name": "stderr",
     "output_type": "stream",
     "text": [
      "TabularPredictor saved. To load, use: predictor = TabularPredictor.load(\"AutogluonModels/ag-20240611_071656\")\n"
     ]
    }
   ],
   "source": [
    "# Load and train a baseline classifier\n",
    "\n",
    "from autogluon.tabular import TabularDataset, TabularPredictor\n",
    "from oxonfair import FairPredictor \n",
    "from oxonfair.utils import group_metrics as gm\n",
    "train_data = TabularDataset('https://autogluon.s3.amazonaws.com/datasets/Inc/train.csv')\n",
    "test_data = TabularDataset('https://autogluon.s3.amazonaws.com/datasets/Inc/test.csv')\n",
    "predictor = TabularPredictor(label='class').fit(train_data=train_data,time_limit=5)"
   ]
  },
  {
   "cell_type": "code",
   "execution_count": 2,
   "metadata": {
    "execution": {
     "iopub.execute_input": "2024-06-11T07:17:03.192792Z",
     "iopub.status.busy": "2024-06-11T07:17:03.192129Z",
     "iopub.status.idle": "2024-06-11T07:17:03.627433Z",
     "shell.execute_reply": "2024-06-11T07:17:03.626645Z"
    }
   },
   "outputs": [],
   "source": [
    "# Modify predictor to enforce fairness over the train_data with respect to groups given by the column 'sex'\n",
    "fpredictor = FairPredictor(predictor,train_data,'sex')\n",
    "# Maximize accuracy while enforcing that the demographic parity (the difference in positive decision rates between men and women is at most 0.02)\n",
    "fpredictor.fit(gm.accuracy,gm.demographic_parity,0.02)"
   ]
  },
  {
   "cell_type": "code",
   "execution_count": 3,
   "metadata": {
    "execution": {
     "iopub.execute_input": "2024-06-11T07:17:03.631327Z",
     "iopub.status.busy": "2024-06-11T07:17:03.631154Z",
     "iopub.status.idle": "2024-06-11T07:17:03.803673Z",
     "shell.execute_reply": "2024-06-11T07:17:03.802417Z"
    }
   },
   "outputs": [
    {
     "data": {
      "text/plain": [
       "0        <=50K\n",
       "1        <=50K\n",
       "2         >50K\n",
       "3        <=50K\n",
       "4        <=50K\n",
       "         ...  \n",
       "9764     <=50K\n",
       "9765     <=50K\n",
       "9766     <=50K\n",
       "9767     <=50K\n",
       "9768     <=50K\n",
       "Length: 9769, dtype: object"
      ]
     },
     "execution_count": 3,
     "metadata": {},
     "output_type": "execute_result"
    }
   ],
   "source": [
    "# Evaluate on test data\n",
    "fpredictor.predict(test_data)"
   ]
  },
  {
   "cell_type": "code",
   "execution_count": 4,
   "metadata": {
    "execution": {
     "iopub.execute_input": "2024-06-11T07:17:03.811451Z",
     "iopub.status.busy": "2024-06-11T07:17:03.810459Z",
     "iopub.status.idle": "2024-06-11T07:17:04.231871Z",
     "shell.execute_reply": "2024-06-11T07:17:04.231384Z"
    }
   },
   "outputs": [
    {
     "data": {
      "text/html": [
       "<div>\n",
       "<style scoped>\n",
       "    .dataframe tbody tr th:only-of-type {\n",
       "        vertical-align: middle;\n",
       "    }\n",
       "\n",
       "    .dataframe tbody tr th {\n",
       "        vertical-align: top;\n",
       "    }\n",
       "\n",
       "    .dataframe thead th {\n",
       "        text-align: right;\n",
       "    }\n",
       "</style>\n",
       "<table border=\"1\" class=\"dataframe\">\n",
       "  <thead>\n",
       "    <tr style=\"text-align: right;\">\n",
       "      <th></th>\n",
       "      <th>original</th>\n",
       "      <th>updated</th>\n",
       "    </tr>\n",
       "  </thead>\n",
       "  <tbody>\n",
       "    <tr>\n",
       "      <th>Accuracy</th>\n",
       "      <td>0.869178</td>\n",
       "      <td>0.840721</td>\n",
       "    </tr>\n",
       "    <tr>\n",
       "      <th>Balanced Accuracy</th>\n",
       "      <td>0.775895</td>\n",
       "      <td>0.736882</td>\n",
       "    </tr>\n",
       "    <tr>\n",
       "      <th>F1 score</th>\n",
       "      <td>0.684600</td>\n",
       "      <td>0.616371</td>\n",
       "    </tr>\n",
       "    <tr>\n",
       "      <th>MCC</th>\n",
       "      <td>0.614356</td>\n",
       "      <td>0.527006</td>\n",
       "    </tr>\n",
       "    <tr>\n",
       "      <th>Precision</th>\n",
       "      <td>0.799885</td>\n",
       "      <td>0.719217</td>\n",
       "    </tr>\n",
       "    <tr>\n",
       "      <th>Recall</th>\n",
       "      <td>0.598361</td>\n",
       "      <td>0.539258</td>\n",
       "    </tr>\n",
       "    <tr>\n",
       "      <th>ROC AUC</th>\n",
       "      <td>0.918865</td>\n",
       "      <td>0.814499</td>\n",
       "    </tr>\n",
       "  </tbody>\n",
       "</table>\n",
       "</div>"
      ],
      "text/plain": [
       "                   original   updated\n",
       "Accuracy           0.869178  0.840721\n",
       "Balanced Accuracy  0.775895  0.736882\n",
       "F1 score           0.684600  0.616371\n",
       "MCC                0.614356  0.527006\n",
       "Precision          0.799885  0.719217\n",
       "Recall             0.598361  0.539258\n",
       "ROC AUC            0.918865  0.814499"
      ]
     },
     "execution_count": 4,
     "metadata": {},
     "output_type": "execute_result"
    }
   ],
   "source": [
    "# Evaluate a range of performance measures, and compare against original classifier on test data\n",
    "fpredictor.evaluate(test_data, verbose=True)"
   ]
  },
  {
   "cell_type": "code",
   "execution_count": 5,
   "metadata": {
    "execution": {
     "iopub.execute_input": "2024-06-11T07:17:04.235843Z",
     "iopub.status.busy": "2024-06-11T07:17:04.235507Z",
     "iopub.status.idle": "2024-06-11T07:17:04.694070Z",
     "shell.execute_reply": "2024-06-11T07:17:04.692889Z"
    }
   },
   "outputs": [
    {
     "data": {
      "text/html": [
       "<div>\n",
       "<style scoped>\n",
       "    .dataframe tbody tr th:only-of-type {\n",
       "        vertical-align: middle;\n",
       "    }\n",
       "\n",
       "    .dataframe tbody tr th {\n",
       "        vertical-align: top;\n",
       "    }\n",
       "\n",
       "    .dataframe thead th {\n",
       "        text-align: right;\n",
       "    }\n",
       "</style>\n",
       "<table border=\"1\" class=\"dataframe\">\n",
       "  <thead>\n",
       "    <tr style=\"text-align: right;\">\n",
       "      <th></th>\n",
       "      <th>original</th>\n",
       "      <th>updated</th>\n",
       "    </tr>\n",
       "  </thead>\n",
       "  <tbody>\n",
       "    <tr>\n",
       "      <th>Statistical Parity</th>\n",
       "      <td>0.158502</td>\n",
       "      <td>0.014143</td>\n",
       "    </tr>\n",
       "    <tr>\n",
       "      <th>Predictive Parity</th>\n",
       "      <td>0.011555</td>\n",
       "      <td>0.372263</td>\n",
       "    </tr>\n",
       "    <tr>\n",
       "      <th>Equal Opportunity</th>\n",
       "      <td>0.077600</td>\n",
       "      <td>0.349689</td>\n",
       "    </tr>\n",
       "    <tr>\n",
       "      <th>Average Group Difference in False Negative Rate</th>\n",
       "      <td>0.077600</td>\n",
       "      <td>0.349689</td>\n",
       "    </tr>\n",
       "    <tr>\n",
       "      <th>Equalized Odds</th>\n",
       "      <td>0.063175</td>\n",
       "      <td>0.211017</td>\n",
       "    </tr>\n",
       "    <tr>\n",
       "      <th>Conditional Use Accuracy</th>\n",
       "      <td>0.055583</td>\n",
       "      <td>0.269534</td>\n",
       "    </tr>\n",
       "    <tr>\n",
       "      <th>Average Group Difference in Accuracy</th>\n",
       "      <td>0.098674</td>\n",
       "      <td>0.066403</td>\n",
       "    </tr>\n",
       "    <tr>\n",
       "      <th>Treatment Equality</th>\n",
       "      <td>0.084698</td>\n",
       "      <td>5.369136</td>\n",
       "    </tr>\n",
       "  </tbody>\n",
       "</table>\n",
       "</div>"
      ],
      "text/plain": [
       "                                                 original   updated\n",
       "Statistical Parity                               0.158502  0.014143\n",
       "Predictive Parity                                0.011555  0.372263\n",
       "Equal Opportunity                                0.077600  0.349689\n",
       "Average Group Difference in False Negative Rate  0.077600  0.349689\n",
       "Equalized Odds                                   0.063175  0.211017\n",
       "Conditional Use Accuracy                         0.055583  0.269534\n",
       "Average Group Difference in Accuracy             0.098674  0.066403\n",
       "Treatment Equality                               0.084698  5.369136"
      ]
     },
     "execution_count": 5,
     "metadata": {},
     "output_type": "execute_result"
    }
   ],
   "source": [
    "# Evaluate against a range of standard fairness definitions and compare against original classifier on test data\n",
    "fpredictor.evaluate_fairness(test_data, verbose=True)"
   ]
  },
  {
   "cell_type": "code",
   "execution_count": 6,
   "metadata": {
    "execution": {
     "iopub.execute_input": "2024-06-11T07:17:04.698078Z",
     "iopub.status.busy": "2024-06-11T07:17:04.697653Z",
     "iopub.status.idle": "2024-06-11T07:17:05.192283Z",
     "shell.execute_reply": "2024-06-11T07:17:05.191733Z"
    }
   },
   "outputs": [
    {
     "data": {
      "text/html": [
       "<div>\n",
       "<style scoped>\n",
       "    .dataframe tbody tr th:only-of-type {\n",
       "        vertical-align: middle;\n",
       "    }\n",
       "\n",
       "    .dataframe tbody tr th {\n",
       "        vertical-align: top;\n",
       "    }\n",
       "\n",
       "    .dataframe thead th {\n",
       "        text-align: right;\n",
       "    }\n",
       "</style>\n",
       "<table border=\"1\" class=\"dataframe\">\n",
       "  <thead>\n",
       "    <tr style=\"text-align: right;\">\n",
       "      <th></th>\n",
       "      <th></th>\n",
       "      <th>Accuracy</th>\n",
       "      <th>Balanced Accuracy</th>\n",
       "      <th>F1 score</th>\n",
       "      <th>MCC</th>\n",
       "      <th>Precision</th>\n",
       "      <th>Recall</th>\n",
       "      <th>ROC AUC</th>\n",
       "      <th>Positive Count</th>\n",
       "      <th>Negative Count</th>\n",
       "      <th>Positive Label Rate</th>\n",
       "      <th>Positive Prediction Rate</th>\n",
       "    </tr>\n",
       "    <tr>\n",
       "      <th></th>\n",
       "      <th>Groups</th>\n",
       "      <th></th>\n",
       "      <th></th>\n",
       "      <th></th>\n",
       "      <th></th>\n",
       "      <th></th>\n",
       "      <th></th>\n",
       "      <th></th>\n",
       "      <th></th>\n",
       "      <th></th>\n",
       "      <th></th>\n",
       "      <th></th>\n",
       "    </tr>\n",
       "  </thead>\n",
       "  <tbody>\n",
       "    <tr>\n",
       "      <th rowspan=\"4\" valign=\"top\">original</th>\n",
       "      <th>Overall</th>\n",
       "      <td>0.869178</td>\n",
       "      <td>0.775895</td>\n",
       "      <td>0.684600</td>\n",
       "      <td>0.614356</td>\n",
       "      <td>0.799885</td>\n",
       "      <td>0.598361</td>\n",
       "      <td>0.918865</td>\n",
       "      <td>2318.0</td>\n",
       "      <td>7451.0</td>\n",
       "      <td>0.237281</td>\n",
       "      <td>0.177500</td>\n",
       "    </tr>\n",
       "    <tr>\n",
       "      <th>Female</th>\n",
       "      <td>0.934631</td>\n",
       "      <td>0.757774</td>\n",
       "      <td>0.636210</td>\n",
       "      <td>0.615921</td>\n",
       "      <td>0.789916</td>\n",
       "      <td>0.532578</td>\n",
       "      <td>0.929921</td>\n",
       "      <td>353.0</td>\n",
       "      <td>2936.0</td>\n",
       "      <td>0.107327</td>\n",
       "      <td>0.072362</td>\n",
       "    </tr>\n",
       "    <tr>\n",
       "      <th>Male</th>\n",
       "      <td>0.835957</td>\n",
       "      <td>0.772199</td>\n",
       "      <td>0.692863</td>\n",
       "      <td>0.593843</td>\n",
       "      <td>0.801471</td>\n",
       "      <td>0.610178</td>\n",
       "      <td>0.899900</td>\n",
       "      <td>1965.0</td>\n",
       "      <td>4515.0</td>\n",
       "      <td>0.303241</td>\n",
       "      <td>0.230864</td>\n",
       "    </tr>\n",
       "    <tr>\n",
       "      <th>Maximum difference</th>\n",
       "      <td>0.098674</td>\n",
       "      <td>0.014425</td>\n",
       "      <td>0.056654</td>\n",
       "      <td>0.022078</td>\n",
       "      <td>0.011555</td>\n",
       "      <td>0.077600</td>\n",
       "      <td>0.030022</td>\n",
       "      <td>1612.0</td>\n",
       "      <td>1579.0</td>\n",
       "      <td>0.195913</td>\n",
       "      <td>0.158502</td>\n",
       "    </tr>\n",
       "    <tr>\n",
       "      <th rowspan=\"4\" valign=\"top\">updated</th>\n",
       "      <th>Overall</th>\n",
       "      <td>0.840721</td>\n",
       "      <td>0.736882</td>\n",
       "      <td>0.616371</td>\n",
       "      <td>0.527006</td>\n",
       "      <td>0.719217</td>\n",
       "      <td>0.539258</td>\n",
       "      <td>0.814499</td>\n",
       "      <td>2318.0</td>\n",
       "      <td>7451.0</td>\n",
       "      <td>0.237281</td>\n",
       "      <td>0.177910</td>\n",
       "    </tr>\n",
       "    <tr>\n",
       "      <th>Female</th>\n",
       "      <td>0.884767</td>\n",
       "      <td>0.863181</td>\n",
       "      <td>0.608875</td>\n",
       "      <td>0.576273</td>\n",
       "      <td>0.478896</td>\n",
       "      <td>0.835694</td>\n",
       "      <td>0.929921</td>\n",
       "      <td>353.0</td>\n",
       "      <td>2936.0</td>\n",
       "      <td>0.107327</td>\n",
       "      <td>0.187291</td>\n",
       "    </tr>\n",
       "    <tr>\n",
       "      <th>Male</th>\n",
       "      <td>0.818364</td>\n",
       "      <td>0.724509</td>\n",
       "      <td>0.618724</td>\n",
       "      <td>0.545476</td>\n",
       "      <td>0.851159</td>\n",
       "      <td>0.486005</td>\n",
       "      <td>0.899900</td>\n",
       "      <td>1965.0</td>\n",
       "      <td>4515.0</td>\n",
       "      <td>0.303241</td>\n",
       "      <td>0.173148</td>\n",
       "    </tr>\n",
       "    <tr>\n",
       "      <th>Maximum difference</th>\n",
       "      <td>0.066403</td>\n",
       "      <td>0.138672</td>\n",
       "      <td>0.009849</td>\n",
       "      <td>0.030798</td>\n",
       "      <td>0.372263</td>\n",
       "      <td>0.349689</td>\n",
       "      <td>0.030022</td>\n",
       "      <td>1612.0</td>\n",
       "      <td>1579.0</td>\n",
       "      <td>0.195913</td>\n",
       "      <td>0.014143</td>\n",
       "    </tr>\n",
       "  </tbody>\n",
       "</table>\n",
       "</div>"
      ],
      "text/plain": [
       "                             Accuracy  Balanced Accuracy  F1 score       MCC  \\\n",
       "         Groups                                                                \n",
       "original Overall             0.869178           0.775895  0.684600  0.614356   \n",
       "          Female             0.934631           0.757774  0.636210  0.615921   \n",
       "          Male               0.835957           0.772199  0.692863  0.593843   \n",
       "         Maximum difference  0.098674           0.014425  0.056654  0.022078   \n",
       "updated  Overall             0.840721           0.736882  0.616371  0.527006   \n",
       "          Female             0.884767           0.863181  0.608875  0.576273   \n",
       "          Male               0.818364           0.724509  0.618724  0.545476   \n",
       "         Maximum difference  0.066403           0.138672  0.009849  0.030798   \n",
       "\n",
       "                             Precision    Recall   ROC AUC  Positive Count  \\\n",
       "         Groups                                                              \n",
       "original Overall              0.799885  0.598361  0.918865          2318.0   \n",
       "          Female              0.789916  0.532578  0.929921           353.0   \n",
       "          Male                0.801471  0.610178  0.899900          1965.0   \n",
       "         Maximum difference   0.011555  0.077600  0.030022          1612.0   \n",
       "updated  Overall              0.719217  0.539258  0.814499          2318.0   \n",
       "          Female              0.478896  0.835694  0.929921           353.0   \n",
       "          Male                0.851159  0.486005  0.899900          1965.0   \n",
       "         Maximum difference   0.372263  0.349689  0.030022          1612.0   \n",
       "\n",
       "                             Negative Count  Positive Label Rate  \\\n",
       "         Groups                                                    \n",
       "original Overall                     7451.0             0.237281   \n",
       "          Female                     2936.0             0.107327   \n",
       "          Male                       4515.0             0.303241   \n",
       "         Maximum difference          1579.0             0.195913   \n",
       "updated  Overall                     7451.0             0.237281   \n",
       "          Female                     2936.0             0.107327   \n",
       "          Male                       4515.0             0.303241   \n",
       "         Maximum difference          1579.0             0.195913   \n",
       "\n",
       "                             Positive Prediction Rate  \n",
       "         Groups                                        \n",
       "original Overall                             0.177500  \n",
       "          Female                             0.072362  \n",
       "          Male                               0.230864  \n",
       "         Maximum difference                  0.158502  \n",
       "updated  Overall                             0.177910  \n",
       "          Female                             0.187291  \n",
       "          Male                               0.173148  \n",
       "         Maximum difference                  0.014143  "
      ]
     },
     "execution_count": 6,
     "metadata": {},
     "output_type": "execute_result"
    }
   ],
   "source": [
    "# Evaluate a range of performance measures per group, and compare against original classifier on test data\n",
    "fpredictor.evaluate_groups(test_data, verbose=True, return_original=True)"
   ]
  },
  {
   "cell_type": "code",
   "execution_count": 7,
   "metadata": {
    "execution": {
     "iopub.execute_input": "2024-06-11T07:17:05.200253Z",
     "iopub.status.busy": "2024-06-11T07:17:05.199206Z",
     "iopub.status.idle": "2024-06-11T07:20:12.988415Z",
     "shell.execute_reply": "2024-06-11T07:20:12.981859Z"
    }
   },
   "outputs": [],
   "source": [
    "#We can repeat the same analysis using the feature 'race' instead of 'sex'\n",
    "fpredictor = FairPredictor(predictor,train_data, 'race')\n",
    "# Maximize accuracy while enforcing that the demographic parity (the difference in positive decision rates between men and women is at most 0.02)\n",
    "fpredictor.fit(gm.accuracy, gm.demographic_parity, .02)"
   ]
  },
  {
   "cell_type": "code",
   "execution_count": 8,
   "metadata": {
    "execution": {
     "iopub.execute_input": "2024-06-11T07:20:13.017194Z",
     "iopub.status.busy": "2024-06-11T07:20:13.016132Z",
     "iopub.status.idle": "2024-06-11T07:20:13.331984Z",
     "shell.execute_reply": "2024-06-11T07:20:13.331658Z"
    }
   },
   "outputs": [
    {
     "data": {
      "text/html": [
       "<div>\n",
       "<style scoped>\n",
       "    .dataframe tbody tr th:only-of-type {\n",
       "        vertical-align: middle;\n",
       "    }\n",
       "\n",
       "    .dataframe tbody tr th {\n",
       "        vertical-align: top;\n",
       "    }\n",
       "\n",
       "    .dataframe thead th {\n",
       "        text-align: right;\n",
       "    }\n",
       "</style>\n",
       "<table border=\"1\" class=\"dataframe\">\n",
       "  <thead>\n",
       "    <tr style=\"text-align: right;\">\n",
       "      <th></th>\n",
       "      <th>original</th>\n",
       "      <th>updated</th>\n",
       "    </tr>\n",
       "  </thead>\n",
       "  <tbody>\n",
       "    <tr>\n",
       "      <th>Statistical Parity</th>\n",
       "      <td>0.089995</td>\n",
       "      <td>0.051658</td>\n",
       "    </tr>\n",
       "    <tr>\n",
       "      <th>Predictive Parity</th>\n",
       "      <td>0.150282</td>\n",
       "      <td>0.277074</td>\n",
       "    </tr>\n",
       "    <tr>\n",
       "      <th>Equal Opportunity</th>\n",
       "      <td>0.171048</td>\n",
       "      <td>0.166596</td>\n",
       "    </tr>\n",
       "    <tr>\n",
       "      <th>Average Group Difference in False Negative Rate</th>\n",
       "      <td>0.171048</td>\n",
       "      <td>0.166596</td>\n",
       "    </tr>\n",
       "    <tr>\n",
       "      <th>Equalized Odds</th>\n",
       "      <td>0.100698</td>\n",
       "      <td>0.110482</td>\n",
       "    </tr>\n",
       "    <tr>\n",
       "      <th>Conditional Use Accuracy</th>\n",
       "      <td>0.091426</td>\n",
       "      <td>0.170160</td>\n",
       "    </tr>\n",
       "    <tr>\n",
       "      <th>Average Group Difference in Accuracy</th>\n",
       "      <td>0.042825</td>\n",
       "      <td>0.018118</td>\n",
       "    </tr>\n",
       "    <tr>\n",
       "      <th>Treatment Equality</th>\n",
       "      <td>0.221199</td>\n",
       "      <td>2.197532</td>\n",
       "    </tr>\n",
       "  </tbody>\n",
       "</table>\n",
       "</div>"
      ],
      "text/plain": [
       "                                                 original   updated\n",
       "Statistical Parity                               0.089995  0.051658\n",
       "Predictive Parity                                0.150282  0.277074\n",
       "Equal Opportunity                                0.171048  0.166596\n",
       "Average Group Difference in False Negative Rate  0.171048  0.166596\n",
       "Equalized Odds                                   0.100698  0.110482\n",
       "Conditional Use Accuracy                         0.091426  0.170160\n",
       "Average Group Difference in Accuracy             0.042825  0.018118\n",
       "Treatment Equality                               0.221199  2.197532"
      ]
     },
     "execution_count": 8,
     "metadata": {},
     "output_type": "execute_result"
    }
   ],
   "source": [
    "# Unlike the previous case, we find that demographic parity is still high on test data, although it is improved.\n",
    "fpredictor.evaluate_fairness(test_data, verbose=True)"
   ]
  },
  {
   "cell_type": "code",
   "execution_count": 9,
   "metadata": {
    "execution": {
     "iopub.execute_input": "2024-06-11T07:20:13.340181Z",
     "iopub.status.busy": "2024-06-11T07:20:13.340034Z",
     "iopub.status.idle": "2024-06-11T07:20:16.350192Z",
     "shell.execute_reply": "2024-06-11T07:20:16.349906Z"
    }
   },
   "outputs": [
    {
     "data": {
      "image/png": "[encoded data removed]",
      "text/plain": [
       "<Figure size 640x480 with 1 Axes>"
      ]
     },
     "metadata": {},
     "output_type": "display_data"
    }
   ],
   "source": [
    "#To debug this, we can look at the Pareto Frontier of solutions considered, on the training set\n",
    "fpredictor.plot_frontier() "
   ]
  },
  {
   "cell_type": "code",
   "execution_count": 10,
   "metadata": {
    "execution": {
     "iopub.execute_input": "2024-06-11T07:20:16.352487Z",
     "iopub.status.busy": "2024-06-11T07:20:16.352341Z",
     "iopub.status.idle": "2024-06-11T07:20:17.067807Z",
     "shell.execute_reply": "2024-06-11T07:20:17.067341Z"
    }
   },
   "outputs": [
    {
     "data": {
      "image/png": "[encoded data removed]",
      "text/plain": [
       "<Figure size 640x480 with 1 Axes>"
      ]
     },
     "metadata": {},
     "output_type": "display_data"
    }
   ],
   "source": [
    "#and on the test set\n",
    "fpredictor.plot_frontier(test_data) "
   ]
  },
  {
   "cell_type": "code",
   "execution_count": 11,
   "metadata": {
    "execution": {
     "iopub.execute_input": "2024-06-11T07:20:17.071947Z",
     "iopub.status.busy": "2024-06-11T07:20:17.071833Z",
     "iopub.status.idle": "2024-06-11T07:20:17.417476Z",
     "shell.execute_reply": "2024-06-11T07:20:17.417112Z"
    }
   },
   "outputs": [
    {
     "data": {
      "text/html": [
       "<div>\n",
       "<style scoped>\n",
       "    .dataframe tbody tr th:only-of-type {\n",
       "        vertical-align: middle;\n",
       "    }\n",
       "\n",
       "    .dataframe tbody tr th {\n",
       "        vertical-align: top;\n",
       "    }\n",
       "\n",
       "    .dataframe thead th {\n",
       "        text-align: right;\n",
       "    }\n",
       "</style>\n",
       "<table border=\"1\" class=\"dataframe\">\n",
       "  <thead>\n",
       "    <tr style=\"text-align: right;\">\n",
       "      <th></th>\n",
       "      <th></th>\n",
       "      <th>Accuracy</th>\n",
       "      <th>Balanced Accuracy</th>\n",
       "      <th>F1 score</th>\n",
       "      <th>MCC</th>\n",
       "      <th>Precision</th>\n",
       "      <th>Recall</th>\n",
       "      <th>ROC AUC</th>\n",
       "      <th>Positive Count</th>\n",
       "      <th>Negative Count</th>\n",
       "      <th>Positive Label Rate</th>\n",
       "      <th>Positive Prediction Rate</th>\n",
       "    </tr>\n",
       "    <tr>\n",
       "      <th></th>\n",
       "      <th>Groups</th>\n",
       "      <th></th>\n",
       "      <th></th>\n",
       "      <th></th>\n",
       "      <th></th>\n",
       "      <th></th>\n",
       "      <th></th>\n",
       "      <th></th>\n",
       "      <th></th>\n",
       "      <th></th>\n",
       "      <th></th>\n",
       "      <th></th>\n",
       "    </tr>\n",
       "  </thead>\n",
       "  <tbody>\n",
       "    <tr>\n",
       "      <th rowspan=\"7\" valign=\"top\">original</th>\n",
       "      <th>Overall</th>\n",
       "      <td>0.869178</td>\n",
       "      <td>0.775895</td>\n",
       "      <td>0.684600</td>\n",
       "      <td>0.614356</td>\n",
       "      <td>0.799885</td>\n",
       "      <td>0.598361</td>\n",
       "      <td>0.918865</td>\n",
       "      <td>2318.0</td>\n",
       "      <td>7451.0</td>\n",
       "      <td>0.237281</td>\n",
       "      <td>0.177500</td>\n",
       "    </tr>\n",
       "    <tr>\n",
       "      <th>Amer-Indian-Eskimo</th>\n",
       "      <td>0.934959</td>\n",
       "      <td>0.636364</td>\n",
       "      <td>0.428571</td>\n",
       "      <td>0.504525</td>\n",
       "      <td>1.000000</td>\n",
       "      <td>0.272727</td>\n",
       "      <td>0.926136</td>\n",
       "      <td>11.0</td>\n",
       "      <td>112.0</td>\n",
       "      <td>0.089431</td>\n",
       "      <td>0.024390</td>\n",
       "    </tr>\n",
       "    <tr>\n",
       "      <th>Asian-Pac-Islander</th>\n",
       "      <td>0.859756</td>\n",
       "      <td>0.764319</td>\n",
       "      <td>0.661765</td>\n",
       "      <td>0.583363</td>\n",
       "      <td>0.762712</td>\n",
       "      <td>0.584416</td>\n",
       "      <td>0.900812</td>\n",
       "      <td>77.0</td>\n",
       "      <td>251.0</td>\n",
       "      <td>0.234756</td>\n",
       "      <td>0.179878</td>\n",
       "    </tr>\n",
       "    <tr>\n",
       "      <th>Black</th>\n",
       "      <td>0.925926</td>\n",
       "      <td>0.727905</td>\n",
       "      <td>0.602410</td>\n",
       "      <td>0.595863</td>\n",
       "      <td>0.847458</td>\n",
       "      <td>0.467290</td>\n",
       "      <td>0.940206</td>\n",
       "      <td>107.0</td>\n",
       "      <td>784.0</td>\n",
       "      <td>0.120090</td>\n",
       "      <td>0.066218</td>\n",
       "    </tr>\n",
       "    <tr>\n",
       "      <th>Other</th>\n",
       "      <td>0.901235</td>\n",
       "      <td>0.685915</td>\n",
       "      <td>0.500000</td>\n",
       "      <td>0.467056</td>\n",
       "      <td>0.666667</td>\n",
       "      <td>0.400000</td>\n",
       "      <td>0.881690</td>\n",
       "      <td>10.0</td>\n",
       "      <td>71.0</td>\n",
       "      <td>0.123457</td>\n",
       "      <td>0.074074</td>\n",
       "    </tr>\n",
       "    <tr>\n",
       "      <th>White</th>\n",
       "      <td>0.862209</td>\n",
       "      <td>0.778240</td>\n",
       "      <td>0.690860</td>\n",
       "      <td>0.613680</td>\n",
       "      <td>0.799627</td>\n",
       "      <td>0.608140</td>\n",
       "      <td>0.915691</td>\n",
       "      <td>2113.0</td>\n",
       "      <td>6233.0</td>\n",
       "      <td>0.253175</td>\n",
       "      <td>0.192547</td>\n",
       "    </tr>\n",
       "    <tr>\n",
       "      <th>Maximum difference</th>\n",
       "      <td>0.075203</td>\n",
       "      <td>0.141876</td>\n",
       "      <td>0.262289</td>\n",
       "      <td>0.146624</td>\n",
       "      <td>0.333333</td>\n",
       "      <td>0.335413</td>\n",
       "      <td>0.058516</td>\n",
       "      <td>2103.0</td>\n",
       "      <td>6162.0</td>\n",
       "      <td>0.163744</td>\n",
       "      <td>0.168157</td>\n",
       "    </tr>\n",
       "    <tr>\n",
       "      <th rowspan=\"7\" valign=\"top\">updated</th>\n",
       "      <th>Overall</th>\n",
       "      <td>0.864367</td>\n",
       "      <td>0.777942</td>\n",
       "      <td>0.682178</td>\n",
       "      <td>0.603444</td>\n",
       "      <td>0.768233</td>\n",
       "      <td>0.613460</td>\n",
       "      <td>0.901145</td>\n",
       "      <td>2318.0</td>\n",
       "      <td>7451.0</td>\n",
       "      <td>0.237281</td>\n",
       "      <td>0.189477</td>\n",
       "    </tr>\n",
       "    <tr>\n",
       "      <th>Amer-Indian-Eskimo</th>\n",
       "      <td>0.886179</td>\n",
       "      <td>0.773539</td>\n",
       "      <td>0.500000</td>\n",
       "      <td>0.452353</td>\n",
       "      <td>0.411765</td>\n",
       "      <td>0.636364</td>\n",
       "      <td>0.926136</td>\n",
       "      <td>11.0</td>\n",
       "      <td>112.0</td>\n",
       "      <td>0.089431</td>\n",
       "      <td>0.138211</td>\n",
       "    </tr>\n",
       "    <tr>\n",
       "      <th>Asian-Pac-Islander</th>\n",
       "      <td>0.862805</td>\n",
       "      <td>0.716795</td>\n",
       "      <td>0.601770</td>\n",
       "      <td>0.587921</td>\n",
       "      <td>0.944444</td>\n",
       "      <td>0.441558</td>\n",
       "      <td>0.900812</td>\n",
       "      <td>77.0</td>\n",
       "      <td>251.0</td>\n",
       "      <td>0.234756</td>\n",
       "      <td>0.109756</td>\n",
       "    </tr>\n",
       "    <tr>\n",
       "      <th>Black</th>\n",
       "      <td>0.894501</td>\n",
       "      <td>0.823032</td>\n",
       "      <td>0.624000</td>\n",
       "      <td>0.572146</td>\n",
       "      <td>0.545455</td>\n",
       "      <td>0.728972</td>\n",
       "      <td>0.940206</td>\n",
       "      <td>107.0</td>\n",
       "      <td>784.0</td>\n",
       "      <td>0.120090</td>\n",
       "      <td>0.160494</td>\n",
       "    </tr>\n",
       "    <tr>\n",
       "      <th>Other</th>\n",
       "      <td>0.864198</td>\n",
       "      <td>0.836620</td>\n",
       "      <td>0.592593</td>\n",
       "      <td>0.543856</td>\n",
       "      <td>0.470588</td>\n",
       "      <td>0.800000</td>\n",
       "      <td>0.881690</td>\n",
       "      <td>10.0</td>\n",
       "      <td>71.0</td>\n",
       "      <td>0.123457</td>\n",
       "      <td>0.209877</td>\n",
       "    </tr>\n",
       "    <tr>\n",
       "      <th>White</th>\n",
       "      <td>0.860891</td>\n",
       "      <td>0.778922</td>\n",
       "      <td>0.690483</td>\n",
       "      <td>0.610741</td>\n",
       "      <td>0.790598</td>\n",
       "      <td>0.612873</td>\n",
       "      <td>0.915691</td>\n",
       "      <td>2113.0</td>\n",
       "      <td>6233.0</td>\n",
       "      <td>0.253175</td>\n",
       "      <td>0.196262</td>\n",
       "    </tr>\n",
       "    <tr>\n",
       "      <th>Maximum difference</th>\n",
       "      <td>0.033609</td>\n",
       "      <td>0.119825</td>\n",
       "      <td>0.190483</td>\n",
       "      <td>0.158388</td>\n",
       "      <td>0.532680</td>\n",
       "      <td>0.358442</td>\n",
       "      <td>0.058516</td>\n",
       "      <td>2103.0</td>\n",
       "      <td>6162.0</td>\n",
       "      <td>0.163744</td>\n",
       "      <td>0.100120</td>\n",
       "    </tr>\n",
       "  </tbody>\n",
       "</table>\n",
       "</div>"
      ],
      "text/plain": [
       "                              Accuracy  Balanced Accuracy  F1 score       MCC  \\\n",
       "         Groups                                                                 \n",
       "original Overall              0.869178           0.775895  0.684600  0.614356   \n",
       "          Amer-Indian-Eskimo  0.934959           0.636364  0.428571  0.504525   \n",
       "          Asian-Pac-Islander  0.859756           0.764319  0.661765  0.583363   \n",
       "          Black               0.925926           0.727905  0.602410  0.595863   \n",
       "          Other               0.901235           0.685915  0.500000  0.467056   \n",
       "          White               0.862209           0.778240  0.690860  0.613680   \n",
       "         Maximum difference   0.075203           0.141876  0.262289  0.146624   \n",
       "updated  Overall              0.864367           0.777942  0.682178  0.603444   \n",
       "          Amer-Indian-Eskimo  0.886179           0.773539  0.500000  0.452353   \n",
       "          Asian-Pac-Islander  0.862805           0.716795  0.601770  0.587921   \n",
       "          Black               0.894501           0.823032  0.624000  0.572146   \n",
       "          Other               0.864198           0.836620  0.592593  0.543856   \n",
       "          White               0.860891           0.778922  0.690483  0.610741   \n",
       "         Maximum difference   0.033609           0.119825  0.190483  0.158388   \n",
       "\n",
       "                              Precision    Recall   ROC AUC  Positive Count  \\\n",
       "         Groups                                                               \n",
       "original Overall               0.799885  0.598361  0.918865          2318.0   \n",
       "          Amer-Indian-Eskimo   1.000000  0.272727  0.926136            11.0   \n",
       "          Asian-Pac-Islander   0.762712  0.584416  0.900812            77.0   \n",
       "          Black                0.847458  0.467290  0.940206           107.0   \n",
       "          Other                0.666667  0.400000  0.881690            10.0   \n",
       "          White                0.799627  0.608140  0.915691          2113.0   \n",
       "         Maximum difference    0.333333  0.335413  0.058516          2103.0   \n",
       "updated  Overall               0.768233  0.613460  0.901145          2318.0   \n",
       "          Amer-Indian-Eskimo   0.411765  0.636364  0.926136            11.0   \n",
       "          Asian-Pac-Islander   0.944444  0.441558  0.900812            77.0   \n",
       "          Black                0.545455  0.728972  0.940206           107.0   \n",
       "          Other                0.470588  0.800000  0.881690            10.0   \n",
       "          White                0.790598  0.612873  0.915691          2113.0   \n",
       "         Maximum difference    0.532680  0.358442  0.058516          2103.0   \n",
       "\n",
       "                              Negative Count  Positive Label Rate  \\\n",
       "         Groups                                                     \n",
       "original Overall                      7451.0             0.237281   \n",
       "          Amer-Indian-Eskimo           112.0             0.089431   \n",
       "          Asian-Pac-Islander           251.0             0.234756   \n",
       "          Black                        784.0             0.120090   \n",
       "          Other                         71.0             0.123457   \n",
       "          White                       6233.0             0.253175   \n",
       "         Maximum difference           6162.0             0.163744   \n",
       "updated  Overall                      7451.0             0.237281   \n",
       "          Amer-Indian-Eskimo           112.0             0.089431   \n",
       "          Asian-Pac-Islander           251.0             0.234756   \n",
       "          Black                        784.0             0.120090   \n",
       "          Other                         71.0             0.123457   \n",
       "          White                       6233.0             0.253175   \n",
       "         Maximum difference           6162.0             0.163744   \n",
       "\n",
       "                              Positive Prediction Rate  \n",
       "         Groups                                         \n",
       "original Overall                              0.177500  \n",
       "          Amer-Indian-Eskimo                  0.024390  \n",
       "          Asian-Pac-Islander                  0.179878  \n",
       "          Black                               0.066218  \n",
       "          Other                               0.074074  \n",
       "          White                               0.192547  \n",
       "         Maximum difference                   0.168157  \n",
       "updated  Overall                              0.189477  \n",
       "          Amer-Indian-Eskimo                  0.138211  \n",
       "          Asian-Pac-Islander                  0.109756  \n",
       "          Black                               0.160494  \n",
       "          Other                               0.209877  \n",
       "          White                               0.196262  \n",
       "         Maximum difference                   0.100120  "
      ]
     },
     "execution_count": 11,
     "metadata": {},
     "output_type": "execute_result"
    }
   ],
   "source": [
    "#We find that the demographic parity is very different on test data for a range of solutions found.\n",
    "#By looking at the per group decomposition, we can find out why.\n",
    "fpredictor.evaluate_groups(test_data, verbose=True)"
   ]
  },
  {
   "cell_type": "code",
   "execution_count": 12,
   "metadata": {
    "execution": {
     "iopub.execute_input": "2024-06-11T07:20:17.421890Z",
     "iopub.status.busy": "2024-06-11T07:20:17.421731Z",
     "iopub.status.idle": "2024-06-11T07:20:18.633957Z",
     "shell.execute_reply": "2024-06-11T07:20:18.633547Z"
    }
   },
   "outputs": [
    {
     "data": {
      "text/html": [
       "<div>\n",
       "<style scoped>\n",
       "    .dataframe tbody tr th:only-of-type {\n",
       "        vertical-align: middle;\n",
       "    }\n",
       "\n",
       "    .dataframe tbody tr th {\n",
       "        vertical-align: top;\n",
       "    }\n",
       "\n",
       "    .dataframe thead th {\n",
       "        text-align: right;\n",
       "    }\n",
       "</style>\n",
       "<table border=\"1\" class=\"dataframe\">\n",
       "  <thead>\n",
       "    <tr style=\"text-align: right;\">\n",
       "      <th></th>\n",
       "      <th></th>\n",
       "      <th>Accuracy</th>\n",
       "      <th>Balanced Accuracy</th>\n",
       "      <th>F1 score</th>\n",
       "      <th>MCC</th>\n",
       "      <th>Precision</th>\n",
       "      <th>Recall</th>\n",
       "      <th>ROC AUC</th>\n",
       "      <th>Positive Count</th>\n",
       "      <th>Negative Count</th>\n",
       "      <th>Positive Label Rate</th>\n",
       "      <th>Positive Prediction Rate</th>\n",
       "    </tr>\n",
       "    <tr>\n",
       "      <th></th>\n",
       "      <th>Groups</th>\n",
       "      <th></th>\n",
       "      <th></th>\n",
       "      <th></th>\n",
       "      <th></th>\n",
       "      <th></th>\n",
       "      <th></th>\n",
       "      <th></th>\n",
       "      <th></th>\n",
       "      <th></th>\n",
       "      <th></th>\n",
       "      <th></th>\n",
       "    </tr>\n",
       "  </thead>\n",
       "  <tbody>\n",
       "    <tr>\n",
       "      <th rowspan=\"7\" valign=\"top\">original</th>\n",
       "      <th>Overall</th>\n",
       "      <td>0.891843</td>\n",
       "      <td>0.817836</td>\n",
       "      <td>0.749734</td>\n",
       "      <td>0.688531</td>\n",
       "      <td>0.842091</td>\n",
       "      <td>0.675632</td>\n",
       "      <td>0.955487</td>\n",
       "      <td>9369.0</td>\n",
       "      <td>29704.0</td>\n",
       "      <td>0.239782</td>\n",
       "      <td>0.192383</td>\n",
       "    </tr>\n",
       "    <tr>\n",
       "      <th>Amer-Indian-Eskimo</th>\n",
       "      <td>0.933718</td>\n",
       "      <td>0.787204</td>\n",
       "      <td>0.693333</td>\n",
       "      <td>0.670106</td>\n",
       "      <td>0.838710</td>\n",
       "      <td>0.590909</td>\n",
       "      <td>0.961821</td>\n",
       "      <td>44.0</td>\n",
       "      <td>303.0</td>\n",
       "      <td>0.126801</td>\n",
       "      <td>0.089337</td>\n",
       "    </tr>\n",
       "    <tr>\n",
       "      <th>Asian-Pac-Islander</th>\n",
       "      <td>0.878254</td>\n",
       "      <td>0.833368</td>\n",
       "      <td>0.770206</td>\n",
       "      <td>0.689448</td>\n",
       "      <td>0.812709</td>\n",
       "      <td>0.731928</td>\n",
       "      <td>0.949896</td>\n",
       "      <td>332.0</td>\n",
       "      <td>859.0</td>\n",
       "      <td>0.278757</td>\n",
       "      <td>0.251050</td>\n",
       "    </tr>\n",
       "    <tr>\n",
       "      <th>Black</th>\n",
       "      <td>0.936215</td>\n",
       "      <td>0.782414</td>\n",
       "      <td>0.687339</td>\n",
       "      <td>0.667556</td>\n",
       "      <td>0.844444</td>\n",
       "      <td>0.579521</td>\n",
       "      <td>0.975450</td>\n",
       "      <td>459.0</td>\n",
       "      <td>3335.0</td>\n",
       "      <td>0.120980</td>\n",
       "      <td>0.083026</td>\n",
       "    </tr>\n",
       "    <tr>\n",
       "      <th>Other</th>\n",
       "      <td>0.926154</td>\n",
       "      <td>0.742982</td>\n",
       "      <td>0.625000</td>\n",
       "      <td>0.610476</td>\n",
       "      <td>0.833333</td>\n",
       "      <td>0.500000</td>\n",
       "      <td>0.983070</td>\n",
       "      <td>40.0</td>\n",
       "      <td>285.0</td>\n",
       "      <td>0.123077</td>\n",
       "      <td>0.073846</td>\n",
       "    </tr>\n",
       "    <tr>\n",
       "      <th>White</th>\n",
       "      <td>0.886521</td>\n",
       "      <td>0.818419</td>\n",
       "      <td>0.752835</td>\n",
       "      <td>0.686934</td>\n",
       "      <td>0.843312</td>\n",
       "      <td>0.679892</td>\n",
       "      <td>0.952628</td>\n",
       "      <td>8494.0</td>\n",
       "      <td>24922.0</td>\n",
       "      <td>0.254190</td>\n",
       "      <td>0.204932</td>\n",
       "    </tr>\n",
       "    <tr>\n",
       "      <th>Maximum difference</th>\n",
       "      <td>0.057962</td>\n",
       "      <td>0.090385</td>\n",
       "      <td>0.145206</td>\n",
       "      <td>0.078972</td>\n",
       "      <td>0.031735</td>\n",
       "      <td>0.231928</td>\n",
       "      <td>0.033174</td>\n",
       "      <td>8454.0</td>\n",
       "      <td>24637.0</td>\n",
       "      <td>0.157777</td>\n",
       "      <td>0.177203</td>\n",
       "    </tr>\n",
       "    <tr>\n",
       "      <th rowspan=\"7\" valign=\"top\">updated</th>\n",
       "      <th>Overall</th>\n",
       "      <td>0.891562</td>\n",
       "      <td>0.823935</td>\n",
       "      <td>0.754249</td>\n",
       "      <td>0.689627</td>\n",
       "      <td>0.825965</td>\n",
       "      <td>0.693991</td>\n",
       "      <td>0.942685</td>\n",
       "      <td>9369.0</td>\n",
       "      <td>29704.0</td>\n",
       "      <td>0.239782</td>\n",
       "      <td>0.201469</td>\n",
       "    </tr>\n",
       "    <tr>\n",
       "      <th>Amer-Indian-Eskimo</th>\n",
       "      <td>0.916427</td>\n",
       "      <td>0.884151</td>\n",
       "      <td>0.718447</td>\n",
       "      <td>0.680546</td>\n",
       "      <td>0.627119</td>\n",
       "      <td>0.840909</td>\n",
       "      <td>0.961821</td>\n",
       "      <td>44.0</td>\n",
       "      <td>303.0</td>\n",
       "      <td>0.126801</td>\n",
       "      <td>0.170029</td>\n",
       "    </tr>\n",
       "    <tr>\n",
       "      <th>Asian-Pac-Islander</th>\n",
       "      <td>0.870697</td>\n",
       "      <td>0.779160</td>\n",
       "      <td>0.711610</td>\n",
       "      <td>0.667075</td>\n",
       "      <td>0.940594</td>\n",
       "      <td>0.572289</td>\n",
       "      <td>0.949896</td>\n",
       "      <td>332.0</td>\n",
       "      <td>859.0</td>\n",
       "      <td>0.278757</td>\n",
       "      <td>0.169605</td>\n",
       "    </tr>\n",
       "    <tr>\n",
       "      <th>Black</th>\n",
       "      <td>0.929889</td>\n",
       "      <td>0.903756</td>\n",
       "      <td>0.750000</td>\n",
       "      <td>0.719280</td>\n",
       "      <td>0.659504</td>\n",
       "      <td>0.869281</td>\n",
       "      <td>0.975450</td>\n",
       "      <td>459.0</td>\n",
       "      <td>3335.0</td>\n",
       "      <td>0.120980</td>\n",
       "      <td>0.159462</td>\n",
       "    </tr>\n",
       "    <tr>\n",
       "      <th>Other</th>\n",
       "      <td>0.944615</td>\n",
       "      <td>0.957675</td>\n",
       "      <td>0.812500</td>\n",
       "      <td>0.796287</td>\n",
       "      <td>0.696429</td>\n",
       "      <td>0.975000</td>\n",
       "      <td>0.983070</td>\n",
       "      <td>40.0</td>\n",
       "      <td>285.0</td>\n",
       "      <td>0.123077</td>\n",
       "      <td>0.172308</td>\n",
       "    </tr>\n",
       "    <tr>\n",
       "      <th>White</th>\n",
       "      <td>0.887180</td>\n",
       "      <td>0.821266</td>\n",
       "      <td>0.755892</td>\n",
       "      <td>0.689296</td>\n",
       "      <td>0.839856</td>\n",
       "      <td>0.687191</td>\n",
       "      <td>0.952628</td>\n",
       "      <td>8494.0</td>\n",
       "      <td>24922.0</td>\n",
       "      <td>0.254190</td>\n",
       "      <td>0.207984</td>\n",
       "    </tr>\n",
       "    <tr>\n",
       "      <th>Maximum difference</th>\n",
       "      <td>0.073918</td>\n",
       "      <td>0.178516</td>\n",
       "      <td>0.100890</td>\n",
       "      <td>0.129213</td>\n",
       "      <td>0.313475</td>\n",
       "      <td>0.402711</td>\n",
       "      <td>0.033174</td>\n",
       "      <td>8454.0</td>\n",
       "      <td>24637.0</td>\n",
       "      <td>0.157777</td>\n",
       "      <td>0.048522</td>\n",
       "    </tr>\n",
       "  </tbody>\n",
       "</table>\n",
       "</div>"
      ],
      "text/plain": [
       "                              Accuracy  Balanced Accuracy  F1 score       MCC  \\\n",
       "         Groups                                                                 \n",
       "original Overall              0.891843           0.817836  0.749734  0.688531   \n",
       "          Amer-Indian-Eskimo  0.933718           0.787204  0.693333  0.670106   \n",
       "          Asian-Pac-Islander  0.878254           0.833368  0.770206  0.689448   \n",
       "          Black               0.936215           0.782414  0.687339  0.667556   \n",
       "          Other               0.926154           0.742982  0.625000  0.610476   \n",
       "          White               0.886521           0.818419  0.752835  0.686934   \n",
       "         Maximum difference   0.057962           0.090385  0.145206  0.078972   \n",
       "updated  Overall              0.891562           0.823935  0.754249  0.689627   \n",
       "          Amer-Indian-Eskimo  0.916427           0.884151  0.718447  0.680546   \n",
       "          Asian-Pac-Islander  0.870697           0.779160  0.711610  0.667075   \n",
       "          Black               0.929889           0.903756  0.750000  0.719280   \n",
       "          Other               0.944615           0.957675  0.812500  0.796287   \n",
       "          White               0.887180           0.821266  0.755892  0.689296   \n",
       "         Maximum difference   0.073918           0.178516  0.100890  0.129213   \n",
       "\n",
       "                              Precision    Recall   ROC AUC  Positive Count  \\\n",
       "         Groups                                                               \n",
       "original Overall               0.842091  0.675632  0.955487          9369.0   \n",
       "          Amer-Indian-Eskimo   0.838710  0.590909  0.961821            44.0   \n",
       "          Asian-Pac-Islander   0.812709  0.731928  0.949896           332.0   \n",
       "          Black                0.844444  0.579521  0.975450           459.0   \n",
       "          Other                0.833333  0.500000  0.983070            40.0   \n",
       "          White                0.843312  0.679892  0.952628          8494.0   \n",
       "         Maximum difference    0.031735  0.231928  0.033174          8454.0   \n",
       "updated  Overall               0.825965  0.693991  0.942685          9369.0   \n",
       "          Amer-Indian-Eskimo   0.627119  0.840909  0.961821            44.0   \n",
       "          Asian-Pac-Islander   0.940594  0.572289  0.949896           332.0   \n",
       "          Black                0.659504  0.869281  0.975450           459.0   \n",
       "          Other                0.696429  0.975000  0.983070            40.0   \n",
       "          White                0.839856  0.687191  0.952628          8494.0   \n",
       "         Maximum difference    0.313475  0.402711  0.033174          8454.0   \n",
       "\n",
       "                              Negative Count  Positive Label Rate  \\\n",
       "         Groups                                                     \n",
       "original Overall                     29704.0             0.239782   \n",
       "          Amer-Indian-Eskimo           303.0             0.126801   \n",
       "          Asian-Pac-Islander           859.0             0.278757   \n",
       "          Black                       3335.0             0.120980   \n",
       "          Other                        285.0             0.123077   \n",
       "          White                      24922.0             0.254190   \n",
       "         Maximum difference          24637.0             0.157777   \n",
       "updated  Overall                     29704.0             0.239782   \n",
       "          Amer-Indian-Eskimo           303.0             0.126801   \n",
       "          Asian-Pac-Islander           859.0             0.278757   \n",
       "          Black                       3335.0             0.120980   \n",
       "          Other                        285.0             0.123077   \n",
       "          White                      24922.0             0.254190   \n",
       "         Maximum difference          24637.0             0.157777   \n",
       "\n",
       "                              Positive Prediction Rate  \n",
       "         Groups                                         \n",
       "original Overall                              0.192383  \n",
       "          Amer-Indian-Eskimo                  0.089337  \n",
       "          Asian-Pac-Islander                  0.251050  \n",
       "          Black                               0.083026  \n",
       "          Other                               0.073846  \n",
       "          White                               0.204932  \n",
       "         Maximum difference                   0.177203  \n",
       "updated  Overall                              0.201469  \n",
       "          Amer-Indian-Eskimo                  0.170029  \n",
       "          Asian-Pac-Islander                  0.169605  \n",
       "          Black                               0.159462  \n",
       "          Other                               0.172308  \n",
       "          White                               0.207984  \n",
       "         Maximum difference                   0.048522  "
      ]
     },
     "execution_count": 12,
     "metadata": {},
     "output_type": "execute_result"
    }
   ],
   "source": [
    "#The groups with the smallest Positive Prediction Rate (American-Indian-Eskimo, and Asian-Pacific-Islander) \n",
    "# only have around 100-300 samples making it impossible to accurately evaluate demographic parity, while the\n",
    "# group labelled 'Other' has even less data.\n",
    "# Moreover, on training data we find that there are less than 350 people identified as American-Indian-Eskimo, \n",
    "# meaning that it is not possible to predict if the positive prediction rate will hold on new data. \n",
    "fpredictor.evaluate_groups(verbose=True)"
   ]
  },
  {
   "cell_type": "markdown",
   "metadata": {},
   "source": [
    "## Fairness on COMPAS using Inferred Attributes\n",
    "\n",
    "We demonstrate how to enforce a wide range of fairness definitions on the COMPAS dataset. This dataset records paroles caught violating the terms of parole. As it measures who was caught, it is strongly influenced by policing and environmental biases, and should not be confused with a measurement of who actually violated their terms of parole. See [this paper](https://datasets-benchmarks-proceedings.neurips.cc/paper/2021/file/92cc227532d17e56e07902b254dfad10-Paper-round1.pdf) for a discussion of its limitations and caveats. \n",
    "We use it because it is a standard fairness dataset that captures such strong differences in outcome between people identified as African-American and everyone else, that classifiers trained on this dataset violate most definitions of fairness.\n",
    "\n",
    "As many of the ethnic groups are too small for reliable statistical estimation, we only consider differences is in outcomes between African-Americans vs. everyone else (labeled as other).\n",
    "We load and preprocess the COMPAS dataset, splitting it into three roughly equal partitions of train, validation, and test:"
   ]
  },
  {
   "cell_type": "code",
   "execution_count": 13,
   "metadata": {
    "execution": {
     "iopub.execute_input": "2024-06-11T07:20:18.637305Z",
     "iopub.status.busy": "2024-06-11T07:20:18.637156Z",
     "iopub.status.idle": "2024-06-11T07:20:19.116253Z",
     "shell.execute_reply": "2024-06-11T07:20:19.115648Z"
    }
   },
   "outputs": [],
   "source": [
    "import numpy as np\n",
    "import pandas as pd\n",
    "from oxonfair import inferred_attribute_builder\n",
    "all_data = pd.read_csv('https://github.com/propublica/compas-analysis/raw/master/compas-scores-two-years.csv')\n",
    "condensed_data=all_data[['sex','race','age', 'juv_fel_count', 'juv_misd_count', 'juv_other_count', 'priors_count', 'age_cat', 'c_charge_degree','two_year_recid']].copy()\n",
    "condensed_data.replace({'Caucasian':'Other', 'Hispanic':'Other', 'Native American':'Other', 'Asian':'Other'},inplace=True)\n",
    "train=condensed_data.sample(frac=0.3, random_state=0)\n",
    "val_and_test=condensed_data.drop(train.index)\n",
    "val=val_and_test.sample(frac=0.5, random_state=0)\n",
    "test=val_and_test.drop(val.index)"
   ]
  },
  {
   "cell_type": "code",
   "execution_count": 14,
   "metadata": {
    "execution": {
     "iopub.execute_input": "2024-06-11T07:20:19.118796Z",
     "iopub.status.busy": "2024-06-11T07:20:19.118639Z",
     "iopub.status.idle": "2024-06-11T07:20:29.314210Z",
     "shell.execute_reply": "2024-06-11T07:20:29.313852Z"
    }
   },
   "outputs": [
    {
     "name": "stderr",
     "output_type": "stream",
     "text": [
      "No path specified. Models will be saved in: \"AutogluonModels/ag-20240611_072019\"\n"
     ]
    },
    {
     "name": "stderr",
     "output_type": "stream",
     "text": [
      "No presets specified! To achieve strong results with AutoGluon, it is recommended to use the available presets.\n",
      "\tRecommended Presets (For more details refer to https://auto.gluon.ai/stable/tutorials/tabular/tabular-essentials.html#presets):\n",
      "\tpresets='best_quality'   : Maximize accuracy. Default time_limit=3600.\n",
      "\tpresets='high_quality'   : Strong accuracy with fast inference speed. Default time_limit=3600.\n",
      "\tpresets='good_quality'   : Good accuracy with very fast inference speed. Default time_limit=3600.\n",
      "\tpresets='medium_quality' : Fast training time, ideal for initial prototyping.\n"
     ]
    },
    {
     "name": "stderr",
     "output_type": "stream",
     "text": [
      "Beginning AutoGluon training ... Time limit = 5s\n"
     ]
    },
    {
     "name": "stderr",
     "output_type": "stream",
     "text": [
      "AutoGluon will save models to \"AutogluonModels/ag-20240611_072019\"\n"
     ]
    },
    {
     "name": "stderr",
     "output_type": "stream",
     "text": [
      "=================== System Info ===================\n",
      "AutoGluon Version:  1.1.0\n",
      "Python Version:     3.10.13\n",
      "Operating System:   Darwin\n",
      "Platform Machine:   arm64\n",
      "Platform Version:   Darwin Kernel Version 23.5.0: Wed May  1 20:14:38 PDT 2024; root:xnu-10063.121.3~5/RELEASE_ARM64_T6020\n",
      "CPU Count:          10\n",
      "Memory Avail:       10.07 GB / 16.00 GB (62.9%)\n",
      "Disk Space Avail:   369.59 GB / 460.43 GB (80.3%)\n",
      "===================================================\n"
     ]
    },
    {
     "name": "stderr",
     "output_type": "stream",
     "text": [
      "Train Data Rows:    2164\n"
     ]
    },
    {
     "name": "stderr",
     "output_type": "stream",
     "text": [
      "Train Data Columns: 8\n"
     ]
    },
    {
     "name": "stderr",
     "output_type": "stream",
     "text": [
      "Label Column:       two_year_recid\n"
     ]
    },
    {
     "name": "stderr",
     "output_type": "stream",
     "text": [
      "AutoGluon infers your prediction problem is: 'binary' (because only two unique label-values observed).\n"
     ]
    },
    {
     "name": "stderr",
     "output_type": "stream",
     "text": [
      "\t2 unique label values:  [0, 1]\n"
     ]
    },
    {
     "name": "stderr",
     "output_type": "stream",
     "text": [
      "\tIf 'binary' is not the correct problem_type, please manually specify the problem_type parameter during predictor init (You may specify problem_type as one of: ['binary', 'multiclass', 'regression'])\n"
     ]
    },
    {
     "name": "stderr",
     "output_type": "stream",
     "text": [
      "Problem Type:       binary\n"
     ]
    },
    {
     "name": "stderr",
     "output_type": "stream",
     "text": [
      "Preprocessing data ...\n"
     ]
    },
    {
     "name": "stderr",
     "output_type": "stream",
     "text": [
      "Selected class <--> label mapping:  class 1 = 1, class 0 = 0\n"
     ]
    },
    {
     "name": "stderr",
     "output_type": "stream",
     "text": [
      "Using Feature Generators to preprocess the data ...\n"
     ]
    },
    {
     "name": "stderr",
     "output_type": "stream",
     "text": [
      "Fitting AutoMLPipelineFeatureGenerator...\n"
     ]
    },
    {
     "name": "stderr",
     "output_type": "stream",
     "text": [
      "\tAvailable Memory:                    10311.31 MB\n"
     ]
    },
    {
     "name": "stderr",
     "output_type": "stream",
     "text": [
      "\tTrain Data (Original)  Memory Usage: 0.47 MB (0.0% of available memory)\n"
     ]
    },
    {
     "name": "stderr",
     "output_type": "stream",
     "text": [
      "\tInferring data type of each feature based on column values. Set feature_metadata_in to manually specify special dtypes of the features.\n"
     ]
    },
    {
     "name": "stderr",
     "output_type": "stream",
     "text": [
      "\tStage 1 Generators:\n"
     ]
    },
    {
     "name": "stderr",
     "output_type": "stream",
     "text": [
      "\t\tFitting AsTypeFeatureGenerator...\n"
     ]
    },
    {
     "name": "stderr",
     "output_type": "stream",
     "text": [
      "\t\t\tNote: Converting 2 features to boolean dtype as they only contain 2 unique values.\n"
     ]
    },
    {
     "name": "stderr",
     "output_type": "stream",
     "text": [
      "\tStage 2 Generators:\n"
     ]
    },
    {
     "name": "stderr",
     "output_type": "stream",
     "text": [
      "\t\tFitting FillNaFeatureGenerator...\n"
     ]
    },
    {
     "name": "stderr",
     "output_type": "stream",
     "text": [
      "\tStage 3 Generators:\n"
     ]
    },
    {
     "name": "stderr",
     "output_type": "stream",
     "text": [
      "\t\tFitting IdentityFeatureGenerator...\n"
     ]
    },
    {
     "name": "stderr",
     "output_type": "stream",
     "text": [
      "\t\tFitting CategoryFeatureGenerator...\n"
     ]
    },
    {
     "name": "stderr",
     "output_type": "stream",
     "text": [
      "\t\t\tFitting CategoryMemoryMinimizeFeatureGenerator...\n"
     ]
    },
    {
     "name": "stderr",
     "output_type": "stream",
     "text": [
      "\tStage 4 Generators:\n"
     ]
    },
    {
     "name": "stderr",
     "output_type": "stream",
     "text": [
      "\t\tFitting DropUniqueFeatureGenerator...\n"
     ]
    },
    {
     "name": "stderr",
     "output_type": "stream",
     "text": [
      "\tStage 5 Generators:\n"
     ]
    },
    {
     "name": "stderr",
     "output_type": "stream",
     "text": [
      "\t\tFitting DropDuplicatesFeatureGenerator...\n"
     ]
    },
    {
     "name": "stderr",
     "output_type": "stream",
     "text": [
      "\tTypes of features in original data (raw dtype, special dtypes):\n"
     ]
    },
    {
     "name": "stderr",
     "output_type": "stream",
     "text": [
      "\t\t('int', [])    : 5 | ['age', 'juv_fel_count', 'juv_misd_count', 'juv_other_count', 'priors_count']\n"
     ]
    },
    {
     "name": "stderr",
     "output_type": "stream",
     "text": [
      "\t\t('object', []) : 3 | ['sex', 'age_cat', 'c_charge_degree']\n"
     ]
    },
    {
     "name": "stderr",
     "output_type": "stream",
     "text": [
      "\tTypes of features in processed data (raw dtype, special dtypes):\n"
     ]
    },
    {
     "name": "stderr",
     "output_type": "stream",
     "text": [
      "\t\t('category', [])  : 1 | ['age_cat']\n"
     ]
    },
    {
     "name": "stderr",
     "output_type": "stream",
     "text": [
      "\t\t('int', [])       : 5 | ['age', 'juv_fel_count', 'juv_misd_count', 'juv_other_count', 'priors_count']\n"
     ]
    },
    {
     "name": "stderr",
     "output_type": "stream",
     "text": [
      "\t\t('int', ['bool']) : 2 | ['sex', 'c_charge_degree']\n"
     ]
    },
    {
     "name": "stderr",
     "output_type": "stream",
     "text": [
      "\t0.0s = Fit runtime\n"
     ]
    },
    {
     "name": "stderr",
     "output_type": "stream",
     "text": [
      "\t8 features in original data used to generate 8 features in processed data.\n"
     ]
    },
    {
     "name": "stderr",
     "output_type": "stream",
     "text": [
      "\tTrain Data (Processed) Memory Usage: 0.09 MB (0.0% of available memory)\n"
     ]
    },
    {
     "name": "stderr",
     "output_type": "stream",
     "text": [
      "Data preprocessing and feature engineering runtime = 0.04s ...\n"
     ]
    },
    {
     "name": "stderr",
     "output_type": "stream",
     "text": [
      "AutoGluon will gauge predictive performance using evaluation metric: 'accuracy'\n"
     ]
    },
    {
     "name": "stderr",
     "output_type": "stream",
     "text": [
      "\tTo change this, specify the eval_metric parameter of Predictor()\n"
     ]
    },
    {
     "name": "stderr",
     "output_type": "stream",
     "text": [
      "Automatically generating train/validation split with holdout_frac=0.2, Train Rows: 1731, Val Rows: 433\n"
     ]
    },
    {
     "name": "stderr",
     "output_type": "stream",
     "text": [
      "User-specified model hyperparameters to be fit:\n",
      "{\n",
      "\t'NN_TORCH': {},\n",
      "\t'GBM': [{'extra_trees': True, 'ag_args': {'name_suffix': 'XT'}}, {}, 'GBMLarge'],\n",
      "\t'CAT': {},\n",
      "\t'XGB': {},\n",
      "\t'FASTAI': {},\n",
      "\t'RF': [{'criterion': 'gini', 'ag_args': {'name_suffix': 'Gini', 'problem_types': ['binary', 'multiclass']}}, {'criterion': 'entropy', 'ag_args': {'name_suffix': 'Entr', 'problem_types': ['binary', 'multiclass']}}, {'criterion': 'squared_error', 'ag_args': {'name_suffix': 'MSE', 'problem_types': ['regression', 'quantile']}}],\n",
      "\t'XT': [{'criterion': 'gini', 'ag_args': {'name_suffix': 'Gini', 'problem_types': ['binary', 'multiclass']}}, {'criterion': 'entropy', 'ag_args': {'name_suffix': 'Entr', 'problem_types': ['binary', 'multiclass']}}, {'criterion': 'squared_error', 'ag_args': {'name_suffix': 'MSE', 'problem_types': ['regression', 'quantile']}}],\n",
      "\t'KNN': [{'weights': 'uniform', 'ag_args': {'name_suffix': 'Unif'}}, {'weights': 'distance', 'ag_args': {'name_suffix': 'Dist'}}],\n",
      "}\n"
     ]
    },
    {
     "name": "stderr",
     "output_type": "stream",
     "text": [
      "Fitting 13 L1 models ...\n"
     ]
    },
    {
     "name": "stderr",
     "output_type": "stream",
     "text": [
      "Fitting model: KNeighborsUnif ... Training model for up to 4.96s of the 4.95s of remaining time.\n"
     ]
    },
    {
     "name": "stderr",
     "output_type": "stream",
     "text": [
      "\t0.6351\t = Validation score   (accuracy)\n"
     ]
    },
    {
     "name": "stderr",
     "output_type": "stream",
     "text": [
      "\t0.01s\t = Training   runtime\n"
     ]
    },
    {
     "name": "stderr",
     "output_type": "stream",
     "text": [
      "\t0.02s\t = Validation runtime\n"
     ]
    },
    {
     "name": "stderr",
     "output_type": "stream",
     "text": [
      "Fitting model: KNeighborsDist ... Training model for up to 4.93s of the 4.93s of remaining time.\n"
     ]
    },
    {
     "name": "stderr",
     "output_type": "stream",
     "text": [
      "\t0.6259\t = Validation score   (accuracy)\n"
     ]
    },
    {
     "name": "stderr",
     "output_type": "stream",
     "text": [
      "\t0.0s\t = Training   runtime\n"
     ]
    },
    {
     "name": "stderr",
     "output_type": "stream",
     "text": [
      "\t0.01s\t = Validation runtime\n"
     ]
    },
    {
     "name": "stderr",
     "output_type": "stream",
     "text": [
      "Fitting model: LightGBMXT ... Training model for up to 4.91s of the 4.9s of remaining time.\n"
     ]
    },
    {
     "name": "stderr",
     "output_type": "stream",
     "text": [
      "\t0.6882\t = Validation score   (accuracy)\n"
     ]
    },
    {
     "name": "stderr",
     "output_type": "stream",
     "text": [
      "\t3.19s\t = Training   runtime\n"
     ]
    },
    {
     "name": "stderr",
     "output_type": "stream",
     "text": [
      "\t0.0s\t = Validation runtime\n"
     ]
    },
    {
     "name": "stderr",
     "output_type": "stream",
     "text": [
      "Fitting model: LightGBM ... Training model for up to 1.7s of the 1.7s of remaining time.\n"
     ]
    },
    {
     "name": "stderr",
     "output_type": "stream",
     "text": [
      "\tRan out of time, early stopping on iteration 184. Best iteration is:\n",
      "\t[27]\tvalid_set's binary_error: 0.323326\n"
     ]
    },
    {
     "name": "stderr",
     "output_type": "stream",
     "text": [
      "\t0.6767\t = Validation score   (accuracy)\n"
     ]
    },
    {
     "name": "stderr",
     "output_type": "stream",
     "text": [
      "\t1.71s\t = Training   runtime\n"
     ]
    },
    {
     "name": "stderr",
     "output_type": "stream",
     "text": [
      "\t0.0s\t = Validation runtime\n"
     ]
    },
    {
     "name": "stderr",
     "output_type": "stream",
     "text": [
      "Fitting model: WeightedEnsemble_L2 ... Training model for up to 4.96s of the -0.04s of remaining time.\n"
     ]
    },
    {
     "name": "stderr",
     "output_type": "stream",
     "text": [
      "\tEnsemble Weights: {'LightGBM': 0.667, 'LightGBMXT': 0.333}\n"
     ]
    },
    {
     "name": "stderr",
     "output_type": "stream",
     "text": [
      "\t0.6928\t = Validation score   (accuracy)\n"
     ]
    },
    {
     "name": "stderr",
     "output_type": "stream",
     "text": [
      "\t0.02s\t = Training   runtime\n"
     ]
    },
    {
     "name": "stderr",
     "output_type": "stream",
     "text": [
      "\t0.0s\t = Validation runtime\n"
     ]
    },
    {
     "name": "stderr",
     "output_type": "stream",
     "text": [
      "AutoGluon training complete, total runtime = 5.08s ... Best model: \"WeightedEnsemble_L2\"\n"
     ]
    },
    {
     "name": "stderr",
     "output_type": "stream",
     "text": [
      "TabularPredictor saved. To load, use: predictor = TabularPredictor.load(\"AutogluonModels/ag-20240611_072019\")\n"
     ]
    },
    {
     "name": "stderr",
     "output_type": "stream",
     "text": [
      "No path specified. Models will be saved in: \"AutogluonModels/ag-20240611_072024\"\n"
     ]
    },
    {
     "name": "stderr",
     "output_type": "stream",
     "text": [
      "No presets specified! To achieve strong results with AutoGluon, it is recommended to use the available presets.\n",
      "\tRecommended Presets (For more details refer to https://auto.gluon.ai/stable/tutorials/tabular/tabular-essentials.html#presets):\n",
      "\tpresets='best_quality'   : Maximize accuracy. Default time_limit=3600.\n",
      "\tpresets='high_quality'   : Strong accuracy with fast inference speed. Default time_limit=3600.\n",
      "\tpresets='good_quality'   : Good accuracy with very fast inference speed. Default time_limit=3600.\n",
      "\tpresets='medium_quality' : Fast training time, ideal for initial prototyping.\n"
     ]
    },
    {
     "name": "stderr",
     "output_type": "stream",
     "text": [
      "Beginning AutoGluon training ... Time limit = 5s\n"
     ]
    },
    {
     "name": "stderr",
     "output_type": "stream",
     "text": [
      "AutoGluon will save models to \"AutogluonModels/ag-20240611_072024\"\n"
     ]
    },
    {
     "name": "stderr",
     "output_type": "stream",
     "text": [
      "=================== System Info ===================\n",
      "AutoGluon Version:  1.1.0\n",
      "Python Version:     3.10.13\n",
      "Operating System:   Darwin\n",
      "Platform Machine:   arm64\n",
      "Platform Version:   Darwin Kernel Version 23.5.0: Wed May  1 20:14:38 PDT 2024; root:xnu-10063.121.3~5/RELEASE_ARM64_T6020\n",
      "CPU Count:          10\n",
      "Memory Avail:       9.74 GB / 16.00 GB (60.9%)\n",
      "Disk Space Avail:   369.59 GB / 460.43 GB (80.3%)\n",
      "===================================================\n"
     ]
    },
    {
     "name": "stderr",
     "output_type": "stream",
     "text": [
      "Train Data Rows:    2164\n"
     ]
    },
    {
     "name": "stderr",
     "output_type": "stream",
     "text": [
      "Train Data Columns: 8\n"
     ]
    },
    {
     "name": "stderr",
     "output_type": "stream",
     "text": [
      "Label Column:       race\n"
     ]
    },
    {
     "name": "stderr",
     "output_type": "stream",
     "text": [
      "AutoGluon infers your prediction problem is: 'binary' (because only two unique label-values observed).\n"
     ]
    },
    {
     "name": "stderr",
     "output_type": "stream",
     "text": [
      "\t2 unique label values:  ['African-American', 'Other']\n"
     ]
    },
    {
     "name": "stderr",
     "output_type": "stream",
     "text": [
      "\tIf 'binary' is not the correct problem_type, please manually specify the problem_type parameter during predictor init (You may specify problem_type as one of: ['binary', 'multiclass', 'regression'])\n"
     ]
    },
    {
     "name": "stderr",
     "output_type": "stream",
     "text": [
      "Problem Type:       binary\n"
     ]
    },
    {
     "name": "stderr",
     "output_type": "stream",
     "text": [
      "Preprocessing data ...\n"
     ]
    },
    {
     "name": "stderr",
     "output_type": "stream",
     "text": [
      "Selected class <--> label mapping:  class 1 = Other, class 0 = African-American\n"
     ]
    },
    {
     "name": "stderr",
     "output_type": "stream",
     "text": [
      "\tNote: For your binary classification, AutoGluon arbitrarily selected which label-value represents positive (Other) vs negative (African-American) class.\n",
      "\tTo explicitly set the positive_class, either rename classes to 1 and 0, or specify positive_class in Predictor init.\n"
     ]
    },
    {
     "name": "stderr",
     "output_type": "stream",
     "text": [
      "Using Feature Generators to preprocess the data ...\n"
     ]
    },
    {
     "name": "stderr",
     "output_type": "stream",
     "text": [
      "Fitting AutoMLPipelineFeatureGenerator...\n"
     ]
    },
    {
     "name": "stderr",
     "output_type": "stream",
     "text": [
      "\tAvailable Memory:                    9978.62 MB\n"
     ]
    },
    {
     "name": "stderr",
     "output_type": "stream",
     "text": [
      "\tTrain Data (Original)  Memory Usage: 0.47 MB (0.0% of available memory)\n"
     ]
    },
    {
     "name": "stderr",
     "output_type": "stream",
     "text": [
      "\tInferring data type of each feature based on column values. Set feature_metadata_in to manually specify special dtypes of the features.\n"
     ]
    },
    {
     "name": "stderr",
     "output_type": "stream",
     "text": [
      "\tStage 1 Generators:\n"
     ]
    },
    {
     "name": "stderr",
     "output_type": "stream",
     "text": [
      "\t\tFitting AsTypeFeatureGenerator...\n"
     ]
    },
    {
     "name": "stderr",
     "output_type": "stream",
     "text": [
      "\t\t\tNote: Converting 2 features to boolean dtype as they only contain 2 unique values.\n"
     ]
    },
    {
     "name": "stderr",
     "output_type": "stream",
     "text": [
      "\tStage 2 Generators:\n"
     ]
    },
    {
     "name": "stderr",
     "output_type": "stream",
     "text": [
      "\t\tFitting FillNaFeatureGenerator...\n"
     ]
    },
    {
     "name": "stderr",
     "output_type": "stream",
     "text": [
      "\tStage 3 Generators:\n"
     ]
    },
    {
     "name": "stderr",
     "output_type": "stream",
     "text": [
      "\t\tFitting IdentityFeatureGenerator...\n"
     ]
    },
    {
     "name": "stderr",
     "output_type": "stream",
     "text": [
      "\t\tFitting CategoryFeatureGenerator...\n"
     ]
    },
    {
     "name": "stderr",
     "output_type": "stream",
     "text": [
      "\t\t\tFitting CategoryMemoryMinimizeFeatureGenerator...\n"
     ]
    },
    {
     "name": "stderr",
     "output_type": "stream",
     "text": [
      "\tStage 4 Generators:\n"
     ]
    },
    {
     "name": "stderr",
     "output_type": "stream",
     "text": [
      "\t\tFitting DropUniqueFeatureGenerator...\n"
     ]
    },
    {
     "name": "stderr",
     "output_type": "stream",
     "text": [
      "\tStage 5 Generators:\n"
     ]
    },
    {
     "name": "stderr",
     "output_type": "stream",
     "text": [
      "\t\tFitting DropDuplicatesFeatureGenerator...\n"
     ]
    },
    {
     "name": "stderr",
     "output_type": "stream",
     "text": [
      "\tTypes of features in original data (raw dtype, special dtypes):\n"
     ]
    },
    {
     "name": "stderr",
     "output_type": "stream",
     "text": [
      "\t\t('int', [])    : 5 | ['age', 'juv_fel_count', 'juv_misd_count', 'juv_other_count', 'priors_count']\n"
     ]
    },
    {
     "name": "stderr",
     "output_type": "stream",
     "text": [
      "\t\t('object', []) : 3 | ['sex', 'age_cat', 'c_charge_degree']\n"
     ]
    },
    {
     "name": "stderr",
     "output_type": "stream",
     "text": [
      "\tTypes of features in processed data (raw dtype, special dtypes):\n"
     ]
    },
    {
     "name": "stderr",
     "output_type": "stream",
     "text": [
      "\t\t('category', [])  : 1 | ['age_cat']\n"
     ]
    },
    {
     "name": "stderr",
     "output_type": "stream",
     "text": [
      "\t\t('int', [])       : 5 | ['age', 'juv_fel_count', 'juv_misd_count', 'juv_other_count', 'priors_count']\n"
     ]
    },
    {
     "name": "stderr",
     "output_type": "stream",
     "text": [
      "\t\t('int', ['bool']) : 2 | ['sex', 'c_charge_degree']\n"
     ]
    },
    {
     "name": "stderr",
     "output_type": "stream",
     "text": [
      "\t0.0s = Fit runtime\n"
     ]
    },
    {
     "name": "stderr",
     "output_type": "stream",
     "text": [
      "\t8 features in original data used to generate 8 features in processed data.\n"
     ]
    },
    {
     "name": "stderr",
     "output_type": "stream",
     "text": [
      "\tTrain Data (Processed) Memory Usage: 0.09 MB (0.0% of available memory)\n"
     ]
    },
    {
     "name": "stderr",
     "output_type": "stream",
     "text": [
      "Data preprocessing and feature engineering runtime = 0.04s ...\n"
     ]
    },
    {
     "name": "stderr",
     "output_type": "stream",
     "text": [
      "AutoGluon will gauge predictive performance using evaluation metric: 'accuracy'\n"
     ]
    },
    {
     "name": "stderr",
     "output_type": "stream",
     "text": [
      "\tTo change this, specify the eval_metric parameter of Predictor()\n"
     ]
    },
    {
     "name": "stderr",
     "output_type": "stream",
     "text": [
      "Automatically generating train/validation split with holdout_frac=0.2, Train Rows: 1731, Val Rows: 433\n"
     ]
    },
    {
     "name": "stderr",
     "output_type": "stream",
     "text": [
      "User-specified model hyperparameters to be fit:\n",
      "{\n",
      "\t'NN_TORCH': {},\n",
      "\t'GBM': [{'extra_trees': True, 'ag_args': {'name_suffix': 'XT'}}, {}, 'GBMLarge'],\n",
      "\t'CAT': {},\n",
      "\t'XGB': {},\n",
      "\t'FASTAI': {},\n",
      "\t'RF': [{'criterion': 'gini', 'ag_args': {'name_suffix': 'Gini', 'problem_types': ['binary', 'multiclass']}}, {'criterion': 'entropy', 'ag_args': {'name_suffix': 'Entr', 'problem_types': ['binary', 'multiclass']}}, {'criterion': 'squared_error', 'ag_args': {'name_suffix': 'MSE', 'problem_types': ['regression', 'quantile']}}],\n",
      "\t'XT': [{'criterion': 'gini', 'ag_args': {'name_suffix': 'Gini', 'problem_types': ['binary', 'multiclass']}}, {'criterion': 'entropy', 'ag_args': {'name_suffix': 'Entr', 'problem_types': ['binary', 'multiclass']}}, {'criterion': 'squared_error', 'ag_args': {'name_suffix': 'MSE', 'problem_types': ['regression', 'quantile']}}],\n",
      "\t'KNN': [{'weights': 'uniform', 'ag_args': {'name_suffix': 'Unif'}}, {'weights': 'distance', 'ag_args': {'name_suffix': 'Dist'}}],\n",
      "}\n"
     ]
    },
    {
     "name": "stderr",
     "output_type": "stream",
     "text": [
      "Fitting 13 L1 models ...\n"
     ]
    },
    {
     "name": "stderr",
     "output_type": "stream",
     "text": [
      "Fitting model: KNeighborsUnif ... Training model for up to 4.96s of the 4.96s of remaining time.\n"
     ]
    },
    {
     "name": "stderr",
     "output_type": "stream",
     "text": [
      "\t0.6051\t = Validation score   (accuracy)\n"
     ]
    },
    {
     "name": "stderr",
     "output_type": "stream",
     "text": [
      "\t0.0s\t = Training   runtime\n"
     ]
    },
    {
     "name": "stderr",
     "output_type": "stream",
     "text": [
      "\t0.02s\t = Validation runtime\n"
     ]
    },
    {
     "name": "stderr",
     "output_type": "stream",
     "text": [
      "Fitting model: KNeighborsDist ... Training model for up to 4.94s of the 4.94s of remaining time.\n"
     ]
    },
    {
     "name": "stderr",
     "output_type": "stream",
     "text": [
      "\t0.5889\t = Validation score   (accuracy)\n"
     ]
    },
    {
     "name": "stderr",
     "output_type": "stream",
     "text": [
      "\t0.0s\t = Training   runtime\n"
     ]
    },
    {
     "name": "stderr",
     "output_type": "stream",
     "text": [
      "\t0.01s\t = Validation runtime\n"
     ]
    },
    {
     "name": "stderr",
     "output_type": "stream",
     "text": [
      "Fitting model: LightGBMXT ... Training model for up to 4.92s of the 4.92s of remaining time.\n"
     ]
    },
    {
     "name": "stderr",
     "output_type": "stream",
     "text": [
      "\t0.6559\t = Validation score   (accuracy)\n"
     ]
    },
    {
     "name": "stderr",
     "output_type": "stream",
     "text": [
      "\t3.55s\t = Training   runtime\n"
     ]
    },
    {
     "name": "stderr",
     "output_type": "stream",
     "text": [
      "\t0.0s\t = Validation runtime\n"
     ]
    },
    {
     "name": "stderr",
     "output_type": "stream",
     "text": [
      "Fitting model: LightGBM ... Training model for up to 1.35s of the 1.35s of remaining time.\n"
     ]
    },
    {
     "name": "stderr",
     "output_type": "stream",
     "text": [
      "\tRan out of time, early stopping on iteration 153. Best iteration is:\n",
      "\t[4]\tvalid_set's binary_error: 0.364896\n"
     ]
    },
    {
     "name": "stderr",
     "output_type": "stream",
     "text": [
      "\t0.6351\t = Validation score   (accuracy)\n"
     ]
    },
    {
     "name": "stderr",
     "output_type": "stream",
     "text": [
      "\t1.36s\t = Training   runtime\n"
     ]
    },
    {
     "name": "stderr",
     "output_type": "stream",
     "text": [
      "\t0.0s\t = Validation runtime\n"
     ]
    },
    {
     "name": "stderr",
     "output_type": "stream",
     "text": [
      "Fitting model: WeightedEnsemble_L2 ... Training model for up to 4.96s of the -0.03s of remaining time.\n"
     ]
    },
    {
     "name": "stderr",
     "output_type": "stream",
     "text": [
      "\tEnsemble Weights: {'LightGBMXT': 0.8, 'KNeighborsUnif': 0.2}\n"
     ]
    },
    {
     "name": "stderr",
     "output_type": "stream",
     "text": [
      "\t0.6582\t = Validation score   (accuracy)\n"
     ]
    },
    {
     "name": "stderr",
     "output_type": "stream",
     "text": [
      "\t0.02s\t = Training   runtime\n"
     ]
    },
    {
     "name": "stderr",
     "output_type": "stream",
     "text": [
      "\t0.0s\t = Validation runtime\n"
     ]
    },
    {
     "name": "stderr",
     "output_type": "stream",
     "text": [
      "AutoGluon training complete, total runtime = 5.07s ... Best model: \"WeightedEnsemble_L2\"\n"
     ]
    },
    {
     "name": "stderr",
     "output_type": "stream",
     "text": [
      "TabularPredictor saved. To load, use: predictor = TabularPredictor.load(\"AutogluonModels/ag-20240611_072024\")\n"
     ]
    }
   ],
   "source": [
    "# To enforce fairness constraints without access to protected attributes at test time, we train two classifiers to infer the 2-year recidivism rate, and ethnicity.\n",
    "  \n",
    "predictor2, protected = inferred_attribute_builder(train, 'two_year_recid', 'race', time_limit=5)\n"
   ]
  },
  {
   "cell_type": "code",
   "execution_count": 15,
   "metadata": {
    "execution": {
     "iopub.execute_input": "2024-06-11T07:20:29.316563Z",
     "iopub.status.busy": "2024-06-11T07:20:29.316407Z",
     "iopub.status.idle": "2024-06-11T07:20:29.434139Z",
     "shell.execute_reply": "2024-06-11T07:20:29.433635Z"
    }
   },
   "outputs": [],
   "source": [
    "# From these a single predictor that maximizes acuracy while reducing the demographic parity violation to less than 2.5% can be trained by running:\n",
    "\n",
    "fpredictor=FairPredictor(predictor2, val, 'race', inferred_groups=protected)\n",
    "fpredictor.fit(gm.accuracy, gm.demographic_parity, 0.025)"
   ]
  },
  {
   "cell_type": "code",
   "execution_count": 16,
   "metadata": {
    "execution": {
     "iopub.execute_input": "2024-06-11T07:20:29.437295Z",
     "iopub.status.busy": "2024-06-11T07:20:29.437113Z",
     "iopub.status.idle": "2024-06-11T07:20:29.440639Z",
     "shell.execute_reply": "2024-06-11T07:20:29.440253Z"
    }
   },
   "outputs": [],
   "source": [
    "#However, instead we will show how a family of fairness measures can be individually optimized. \n",
    "# The following code plots a table showing the change in accuracy and the fairness measure on a held-out test set as we decrease\n",
    "# the fairness measure to less than 0.025 for all measures except for disparate impact which we raise to above 0.975.\n",
    "# We define a helper function for evaluation:\n",
    "\n",
    "def evaluate(fpredictor,use_metrics):\n",
    "    \"Print a table showing the accuracy drop that comes with enforcing fairness\"\n",
    "    extra_metrics= {**use_metrics, 'accuracy':gm.accuracy}\n",
    "    collect=pd.DataFrame(columns=['Measure (original)', 'Measure (updated)', 'Accuracy (original)', 'Accuracy (updated)'])\n",
    "    for d in use_metrics.items():\n",
    "        if d[1].greater_is_better is False:\n",
    "            fpredictor.fit(gm.accuracy,d[1], 0.025)\n",
    "        else:\n",
    "            fpredictor.fit(gm.accuracy,d[1], 1-0.025)\n",
    "        tmp=fpredictor.evaluate_fairness(test,metrics=extra_metrics)\n",
    "        collect.loc[d[1].name]=np.concatenate((np.asarray(tmp.loc[d[1].name]), np.asarray(tmp.loc[gm.accuracy.name])), 0)\n",
    "    return collect"
   ]
  },
  {
   "cell_type": "code",
   "execution_count": 17,
   "metadata": {
    "execution": {
     "iopub.execute_input": "2024-06-11T07:20:29.443242Z",
     "iopub.status.busy": "2024-06-11T07:20:29.443121Z",
     "iopub.status.idle": "2024-06-11T07:20:34.536032Z",
     "shell.execute_reply": "2024-06-11T07:20:34.535577Z"
    }
   },
   "outputs": [
    {
     "name": "stderr",
     "output_type": "stream",
     "text": [
      "No path specified. Models will be saved in: \"AutogluonModels/ag-20240611_072029\"\n"
     ]
    },
    {
     "name": "stderr",
     "output_type": "stream",
     "text": [
      "No presets specified! To achieve strong results with AutoGluon, it is recommended to use the available presets.\n",
      "\tRecommended Presets (For more details refer to https://auto.gluon.ai/stable/tutorials/tabular/tabular-essentials.html#presets):\n",
      "\tpresets='best_quality'   : Maximize accuracy. Default time_limit=3600.\n",
      "\tpresets='high_quality'   : Strong accuracy with fast inference speed. Default time_limit=3600.\n",
      "\tpresets='good_quality'   : Good accuracy with very fast inference speed. Default time_limit=3600.\n",
      "\tpresets='medium_quality' : Fast training time, ideal for initial prototyping.\n"
     ]
    },
    {
     "name": "stderr",
     "output_type": "stream",
     "text": [
      "Beginning AutoGluon training ... Time limit = 5s\n"
     ]
    },
    {
     "name": "stderr",
     "output_type": "stream",
     "text": [
      "AutoGluon will save models to \"AutogluonModels/ag-20240611_072029\"\n"
     ]
    },
    {
     "name": "stderr",
     "output_type": "stream",
     "text": [
      "=================== System Info ===================\n",
      "AutoGluon Version:  1.1.0\n",
      "Python Version:     3.10.13\n",
      "Operating System:   Darwin\n",
      "Platform Machine:   arm64\n",
      "Platform Version:   Darwin Kernel Version 23.5.0: Wed May  1 20:14:38 PDT 2024; root:xnu-10063.121.3~5/RELEASE_ARM64_T6020\n",
      "CPU Count:          10\n",
      "Memory Avail:       9.63 GB / 16.00 GB (60.2%)\n",
      "Disk Space Avail:   369.59 GB / 460.43 GB (80.3%)\n",
      "===================================================\n"
     ]
    },
    {
     "name": "stderr",
     "output_type": "stream",
     "text": [
      "Train Data Rows:    2164\n"
     ]
    },
    {
     "name": "stderr",
     "output_type": "stream",
     "text": [
      "Train Data Columns: 9\n"
     ]
    },
    {
     "name": "stderr",
     "output_type": "stream",
     "text": [
      "Label Column:       two_year_recid\n"
     ]
    },
    {
     "name": "stderr",
     "output_type": "stream",
     "text": [
      "AutoGluon infers your prediction problem is: 'binary' (because only two unique label-values observed).\n"
     ]
    },
    {
     "name": "stderr",
     "output_type": "stream",
     "text": [
      "\t2 unique label values:  [0, 1]\n"
     ]
    },
    {
     "name": "stderr",
     "output_type": "stream",
     "text": [
      "\tIf 'binary' is not the correct problem_type, please manually specify the problem_type parameter during predictor init (You may specify problem_type as one of: ['binary', 'multiclass', 'regression'])\n"
     ]
    },
    {
     "name": "stderr",
     "output_type": "stream",
     "text": [
      "Problem Type:       binary\n"
     ]
    },
    {
     "name": "stderr",
     "output_type": "stream",
     "text": [
      "Preprocessing data ...\n"
     ]
    },
    {
     "name": "stderr",
     "output_type": "stream",
     "text": [
      "Selected class <--> label mapping:  class 1 = 1, class 0 = 0\n"
     ]
    },
    {
     "name": "stderr",
     "output_type": "stream",
     "text": [
      "Using Feature Generators to preprocess the data ...\n"
     ]
    },
    {
     "name": "stderr",
     "output_type": "stream",
     "text": [
      "Fitting AutoMLPipelineFeatureGenerator...\n"
     ]
    },
    {
     "name": "stderr",
     "output_type": "stream",
     "text": [
      "\tAvailable Memory:                    9865.50 MB\n"
     ]
    },
    {
     "name": "stderr",
     "output_type": "stream",
     "text": [
      "\tTrain Data (Original)  Memory Usage: 0.61 MB (0.0% of available memory)\n"
     ]
    },
    {
     "name": "stderr",
     "output_type": "stream",
     "text": [
      "\tInferring data type of each feature based on column values. Set feature_metadata_in to manually specify special dtypes of the features.\n"
     ]
    },
    {
     "name": "stderr",
     "output_type": "stream",
     "text": [
      "\tStage 1 Generators:\n"
     ]
    },
    {
     "name": "stderr",
     "output_type": "stream",
     "text": [
      "\t\tFitting AsTypeFeatureGenerator...\n"
     ]
    },
    {
     "name": "stderr",
     "output_type": "stream",
     "text": [
      "\t\t\tNote: Converting 3 features to boolean dtype as they only contain 2 unique values.\n"
     ]
    },
    {
     "name": "stderr",
     "output_type": "stream",
     "text": [
      "\tStage 2 Generators:\n"
     ]
    },
    {
     "name": "stderr",
     "output_type": "stream",
     "text": [
      "\t\tFitting FillNaFeatureGenerator...\n"
     ]
    },
    {
     "name": "stderr",
     "output_type": "stream",
     "text": [
      "\tStage 3 Generators:\n"
     ]
    },
    {
     "name": "stderr",
     "output_type": "stream",
     "text": [
      "\t\tFitting IdentityFeatureGenerator...\n"
     ]
    },
    {
     "name": "stderr",
     "output_type": "stream",
     "text": [
      "\t\tFitting CategoryFeatureGenerator...\n"
     ]
    },
    {
     "name": "stderr",
     "output_type": "stream",
     "text": [
      "\t\t\tFitting CategoryMemoryMinimizeFeatureGenerator...\n"
     ]
    },
    {
     "name": "stderr",
     "output_type": "stream",
     "text": [
      "\tStage 4 Generators:\n"
     ]
    },
    {
     "name": "stderr",
     "output_type": "stream",
     "text": [
      "\t\tFitting DropUniqueFeatureGenerator...\n"
     ]
    },
    {
     "name": "stderr",
     "output_type": "stream",
     "text": [
      "\tStage 5 Generators:\n"
     ]
    },
    {
     "name": "stderr",
     "output_type": "stream",
     "text": [
      "\t\tFitting DropDuplicatesFeatureGenerator...\n"
     ]
    },
    {
     "name": "stderr",
     "output_type": "stream",
     "text": [
      "\tTypes of features in original data (raw dtype, special dtypes):\n"
     ]
    },
    {
     "name": "stderr",
     "output_type": "stream",
     "text": [
      "\t\t('int', [])    : 5 | ['age', 'juv_fel_count', 'juv_misd_count', 'juv_other_count', 'priors_count']\n"
     ]
    },
    {
     "name": "stderr",
     "output_type": "stream",
     "text": [
      "\t\t('object', []) : 4 | ['sex', 'race', 'age_cat', 'c_charge_degree']\n"
     ]
    },
    {
     "name": "stderr",
     "output_type": "stream",
     "text": [
      "\tTypes of features in processed data (raw dtype, special dtypes):\n"
     ]
    },
    {
     "name": "stderr",
     "output_type": "stream",
     "text": [
      "\t\t('category', [])  : 1 | ['age_cat']\n"
     ]
    },
    {
     "name": "stderr",
     "output_type": "stream",
     "text": [
      "\t\t('int', [])       : 5 | ['age', 'juv_fel_count', 'juv_misd_count', 'juv_other_count', 'priors_count']\n"
     ]
    },
    {
     "name": "stderr",
     "output_type": "stream",
     "text": [
      "\t\t('int', ['bool']) : 3 | ['sex', 'race', 'c_charge_degree']\n"
     ]
    },
    {
     "name": "stderr",
     "output_type": "stream",
     "text": [
      "\t0.0s = Fit runtime\n"
     ]
    },
    {
     "name": "stderr",
     "output_type": "stream",
     "text": [
      "\t9 features in original data used to generate 9 features in processed data.\n"
     ]
    },
    {
     "name": "stderr",
     "output_type": "stream",
     "text": [
      "\tTrain Data (Processed) Memory Usage: 0.09 MB (0.0% of available memory)\n"
     ]
    },
    {
     "name": "stderr",
     "output_type": "stream",
     "text": [
      "Data preprocessing and feature engineering runtime = 0.03s ...\n"
     ]
    },
    {
     "name": "stderr",
     "output_type": "stream",
     "text": [
      "AutoGluon will gauge predictive performance using evaluation metric: 'accuracy'\n"
     ]
    },
    {
     "name": "stderr",
     "output_type": "stream",
     "text": [
      "\tTo change this, specify the eval_metric parameter of Predictor()\n"
     ]
    },
    {
     "name": "stderr",
     "output_type": "stream",
     "text": [
      "Automatically generating train/validation split with holdout_frac=0.2, Train Rows: 1731, Val Rows: 433\n"
     ]
    },
    {
     "name": "stderr",
     "output_type": "stream",
     "text": [
      "User-specified model hyperparameters to be fit:\n",
      "{\n",
      "\t'NN_TORCH': {},\n",
      "\t'GBM': [{'extra_trees': True, 'ag_args': {'name_suffix': 'XT'}}, {}, 'GBMLarge'],\n",
      "\t'CAT': {},\n",
      "\t'XGB': {},\n",
      "\t'FASTAI': {},\n",
      "\t'RF': [{'criterion': 'gini', 'ag_args': {'name_suffix': 'Gini', 'problem_types': ['binary', 'multiclass']}}, {'criterion': 'entropy', 'ag_args': {'name_suffix': 'Entr', 'problem_types': ['binary', 'multiclass']}}, {'criterion': 'squared_error', 'ag_args': {'name_suffix': 'MSE', 'problem_types': ['regression', 'quantile']}}],\n",
      "\t'XT': [{'criterion': 'gini', 'ag_args': {'name_suffix': 'Gini', 'problem_types': ['binary', 'multiclass']}}, {'criterion': 'entropy', 'ag_args': {'name_suffix': 'Entr', 'problem_types': ['binary', 'multiclass']}}, {'criterion': 'squared_error', 'ag_args': {'name_suffix': 'MSE', 'problem_types': ['regression', 'quantile']}}],\n",
      "\t'KNN': [{'weights': 'uniform', 'ag_args': {'name_suffix': 'Unif'}}, {'weights': 'distance', 'ag_args': {'name_suffix': 'Dist'}}],\n",
      "}\n"
     ]
    },
    {
     "name": "stderr",
     "output_type": "stream",
     "text": [
      "Fitting 13 L1 models ...\n"
     ]
    },
    {
     "name": "stderr",
     "output_type": "stream",
     "text": [
      "Fitting model: KNeighborsUnif ... Training model for up to 4.97s of the 4.96s of remaining time.\n"
     ]
    },
    {
     "name": "stderr",
     "output_type": "stream",
     "text": [
      "\t0.6351\t = Validation score   (accuracy)\n"
     ]
    },
    {
     "name": "stderr",
     "output_type": "stream",
     "text": [
      "\t0.0s\t = Training   runtime\n"
     ]
    },
    {
     "name": "stderr",
     "output_type": "stream",
     "text": [
      "\t0.02s\t = Validation runtime\n"
     ]
    },
    {
     "name": "stderr",
     "output_type": "stream",
     "text": [
      "Fitting model: KNeighborsDist ... Training model for up to 4.94s of the 4.94s of remaining time.\n"
     ]
    },
    {
     "name": "stderr",
     "output_type": "stream",
     "text": [
      "\t0.6259\t = Validation score   (accuracy)\n"
     ]
    },
    {
     "name": "stderr",
     "output_type": "stream",
     "text": [
      "\t0.0s\t = Training   runtime\n"
     ]
    },
    {
     "name": "stderr",
     "output_type": "stream",
     "text": [
      "\t0.02s\t = Validation runtime\n"
     ]
    },
    {
     "name": "stderr",
     "output_type": "stream",
     "text": [
      "Fitting model: LightGBMXT ... Training model for up to 4.92s of the 4.91s of remaining time.\n"
     ]
    },
    {
     "name": "stderr",
     "output_type": "stream",
     "text": [
      "\t0.6975\t = Validation score   (accuracy)\n"
     ]
    },
    {
     "name": "stderr",
     "output_type": "stream",
     "text": [
      "\t3.08s\t = Training   runtime\n"
     ]
    },
    {
     "name": "stderr",
     "output_type": "stream",
     "text": [
      "\t0.0s\t = Validation runtime\n"
     ]
    },
    {
     "name": "stderr",
     "output_type": "stream",
     "text": [
      "Fitting model: LightGBM ... Training model for up to 1.83s of the 1.83s of remaining time.\n"
     ]
    },
    {
     "name": "stderr",
     "output_type": "stream",
     "text": [
      "\tRan out of time, early stopping on iteration 203. Best iteration is:\n",
      "\t[42]\tvalid_set's binary_error: 0.325635\n"
     ]
    },
    {
     "name": "stderr",
     "output_type": "stream",
     "text": [
      "\t0.6744\t = Validation score   (accuracy)\n"
     ]
    },
    {
     "name": "stderr",
     "output_type": "stream",
     "text": [
      "\t1.84s\t = Training   runtime\n"
     ]
    },
    {
     "name": "stderr",
     "output_type": "stream",
     "text": [
      "\t0.0s\t = Validation runtime\n"
     ]
    },
    {
     "name": "stderr",
     "output_type": "stream",
     "text": [
      "Fitting model: WeightedEnsemble_L2 ... Training model for up to 4.97s of the -0.04s of remaining time.\n"
     ]
    },
    {
     "name": "stderr",
     "output_type": "stream",
     "text": [
      "\tEnsemble Weights: {'LightGBMXT': 1.0}\n"
     ]
    },
    {
     "name": "stderr",
     "output_type": "stream",
     "text": [
      "\t0.6975\t = Validation score   (accuracy)\n"
     ]
    },
    {
     "name": "stderr",
     "output_type": "stream",
     "text": [
      "\t0.02s\t = Training   runtime\n"
     ]
    },
    {
     "name": "stderr",
     "output_type": "stream",
     "text": [
      "\t0.0s\t = Validation runtime\n"
     ]
    },
    {
     "name": "stderr",
     "output_type": "stream",
     "text": [
      "AutoGluon training complete, total runtime = 5.08s ... Best model: \"WeightedEnsemble_L2\"\n"
     ]
    },
    {
     "name": "stderr",
     "output_type": "stream",
     "text": [
      "TabularPredictor saved. To load, use: predictor = TabularPredictor.load(\"AutogluonModels/ag-20240611_072029\")\n"
     ]
    }
   ],
   "source": [
    "#We can now contrast the behavior of a fair classifier that relies on access to the protected\n",
    "# attribtute at test time with one that infers it.\n",
    "\n",
    "# we first create a classifer using the protected attribute\n",
    "predictor=TabularPredictor(label='two_year_recid').fit(train_data=train, time_limit=5)"
   ]
  },
  {
   "cell_type": "code",
   "execution_count": 18,
   "metadata": {
    "execution": {
     "iopub.execute_input": "2024-06-11T07:20:34.538663Z",
     "iopub.status.busy": "2024-06-11T07:20:34.538530Z",
     "iopub.status.idle": "2024-06-11T07:20:34.877926Z",
     "shell.execute_reply": "2024-06-11T07:20:34.877393Z"
    }
   },
   "outputs": [
    {
     "data": {
      "text/html": [
       "<div>\n",
       "<style scoped>\n",
       "    .dataframe tbody tr th:only-of-type {\n",
       "        vertical-align: middle;\n",
       "    }\n",
       "\n",
       "    .dataframe tbody tr th {\n",
       "        vertical-align: top;\n",
       "    }\n",
       "\n",
       "    .dataframe thead th {\n",
       "        text-align: right;\n",
       "    }\n",
       "</style>\n",
       "<table border=\"1\" class=\"dataframe\">\n",
       "  <thead>\n",
       "    <tr style=\"text-align: right;\">\n",
       "      <th></th>\n",
       "      <th>Measure (original)</th>\n",
       "      <th>Measure (updated)</th>\n",
       "      <th>Accuracy (original)</th>\n",
       "      <th>Accuracy (updated)</th>\n",
       "    </tr>\n",
       "  </thead>\n",
       "  <tbody>\n",
       "    <tr>\n",
       "      <th>Demographic Parity</th>\n",
       "      <td>0.336580</td>\n",
       "      <td>0.010250</td>\n",
       "      <td>0.661386</td>\n",
       "      <td>0.646337</td>\n",
       "    </tr>\n",
       "    <tr>\n",
       "      <th>Disparate Impact</th>\n",
       "      <td>0.424223</td>\n",
       "      <td>0.985274</td>\n",
       "      <td>0.661386</td>\n",
       "      <td>0.638812</td>\n",
       "    </tr>\n",
       "    <tr>\n",
       "      <th>Average Group Difference in Conditional Acceptance Rate</th>\n",
       "      <td>0.644987</td>\n",
       "      <td>0.055467</td>\n",
       "      <td>0.661386</td>\n",
       "      <td>0.670891</td>\n",
       "    </tr>\n",
       "    <tr>\n",
       "      <th>Average Group Difference in Conditional Rejectance Rate</th>\n",
       "      <td>0.354906</td>\n",
       "      <td>0.003563</td>\n",
       "      <td>0.661386</td>\n",
       "      <td>0.666535</td>\n",
       "    </tr>\n",
       "    <tr>\n",
       "      <th>Average Group Difference in Accuracy</th>\n",
       "      <td>0.048422</td>\n",
       "      <td>0.036576</td>\n",
       "      <td>0.661386</td>\n",
       "      <td>0.662574</td>\n",
       "    </tr>\n",
       "    <tr>\n",
       "      <th>Average Group Difference in Recall</th>\n",
       "      <td>0.306877</td>\n",
       "      <td>0.065208</td>\n",
       "      <td>0.661386</td>\n",
       "      <td>0.640396</td>\n",
       "    </tr>\n",
       "    <tr>\n",
       "      <th>Average Group Difference in Acceptance Rate</th>\n",
       "      <td>0.000623</td>\n",
       "      <td>0.017213</td>\n",
       "      <td>0.661386</td>\n",
       "      <td>0.666139</td>\n",
       "    </tr>\n",
       "    <tr>\n",
       "      <th>Average Group Difference in Specificity</th>\n",
       "      <td>0.296718</td>\n",
       "      <td>0.054075</td>\n",
       "      <td>0.661386</td>\n",
       "      <td>0.671287</td>\n",
       "    </tr>\n",
       "    <tr>\n",
       "      <th>Average Group Difference in Rejection Rate</th>\n",
       "      <td>0.049978</td>\n",
       "      <td>0.072272</td>\n",
       "      <td>0.661386</td>\n",
       "      <td>0.667723</td>\n",
       "    </tr>\n",
       "    <tr>\n",
       "      <th>Treatment Equality</th>\n",
       "      <td>1.117626</td>\n",
       "      <td>0.047186</td>\n",
       "      <td>0.661386</td>\n",
       "      <td>0.672079</td>\n",
       "    </tr>\n",
       "  </tbody>\n",
       "</table>\n",
       "</div>"
      ],
      "text/plain": [
       "                                                    Measure (original)  \\\n",
       "Demographic Parity                                            0.336580   \n",
       "Disparate Impact                                              0.424223   \n",
       "Average Group Difference in Conditional Accepta...            0.644987   \n",
       "Average Group Difference in Conditional Rejecta...            0.354906   \n",
       "Average Group Difference in Accuracy                          0.048422   \n",
       "Average Group Difference in Recall                            0.306877   \n",
       "Average Group Difference in Acceptance Rate                   0.000623   \n",
       "Average Group Difference in Specificity                       0.296718   \n",
       "Average Group Difference in Rejection Rate                    0.049978   \n",
       "Treatment Equality                                            1.117626   \n",
       "\n",
       "                                                    Measure (updated)  \\\n",
       "Demographic Parity                                           0.010250   \n",
       "Disparate Impact                                             0.985274   \n",
       "Average Group Difference in Conditional Accepta...           0.055467   \n",
       "Average Group Difference in Conditional Rejecta...           0.003563   \n",
       "Average Group Difference in Accuracy                         0.036576   \n",
       "Average Group Difference in Recall                           0.065208   \n",
       "Average Group Difference in Acceptance Rate                  0.017213   \n",
       "Average Group Difference in Specificity                      0.054075   \n",
       "Average Group Difference in Rejection Rate                   0.072272   \n",
       "Treatment Equality                                           0.047186   \n",
       "\n",
       "                                                    Accuracy (original)  \\\n",
       "Demographic Parity                                             0.661386   \n",
       "Disparate Impact                                               0.661386   \n",
       "Average Group Difference in Conditional Accepta...             0.661386   \n",
       "Average Group Difference in Conditional Rejecta...             0.661386   \n",
       "Average Group Difference in Accuracy                           0.661386   \n",
       "Average Group Difference in Recall                             0.661386   \n",
       "Average Group Difference in Acceptance Rate                    0.661386   \n",
       "Average Group Difference in Specificity                        0.661386   \n",
       "Average Group Difference in Rejection Rate                     0.661386   \n",
       "Treatment Equality                                             0.661386   \n",
       "\n",
       "                                                    Accuracy (updated)  \n",
       "Demographic Parity                                            0.646337  \n",
       "Disparate Impact                                              0.638812  \n",
       "Average Group Difference in Conditional Accepta...            0.670891  \n",
       "Average Group Difference in Conditional Rejecta...            0.666535  \n",
       "Average Group Difference in Accuracy                          0.662574  \n",
       "Average Group Difference in Recall                            0.640396  \n",
       "Average Group Difference in Acceptance Rate                   0.666139  \n",
       "Average Group Difference in Specificity                       0.671287  \n",
       "Average Group Difference in Rejection Rate                    0.667723  \n",
       "Treatment Equality                                            0.672079  "
      ]
     },
     "execution_count": 18,
     "metadata": {},
     "output_type": "execute_result"
    }
   ],
   "source": [
    "#Create a fair predictor object, using the attribute 'race' on validation data\n",
    "fpredictor = FairPredictor(predictor, val, 'race')\n",
    "#and then evaluate it\n",
    "evaluate(fpredictor, gm.clarify_metrics)\n",
    "#Note that Class Imbalance is a property of the dataset and can not be altered."
   ]
  },
  {
   "cell_type": "code",
   "execution_count": 19,
   "metadata": {
    "execution": {
     "iopub.execute_input": "2024-06-11T07:20:34.882105Z",
     "iopub.status.busy": "2024-06-11T07:20:34.881932Z",
     "iopub.status.idle": "2024-06-11T07:20:36.044423Z",
     "shell.execute_reply": "2024-06-11T07:20:36.043802Z"
    }
   },
   "outputs": [
    {
     "data": {
      "text/html": [
       "<div>\n",
       "<style scoped>\n",
       "    .dataframe tbody tr th:only-of-type {\n",
       "        vertical-align: middle;\n",
       "    }\n",
       "\n",
       "    .dataframe tbody tr th {\n",
       "        vertical-align: top;\n",
       "    }\n",
       "\n",
       "    .dataframe thead th {\n",
       "        text-align: right;\n",
       "    }\n",
       "</style>\n",
       "<table border=\"1\" class=\"dataframe\">\n",
       "  <thead>\n",
       "    <tr style=\"text-align: right;\">\n",
       "      <th></th>\n",
       "      <th>Measure (original)</th>\n",
       "      <th>Measure (updated)</th>\n",
       "      <th>Accuracy (original)</th>\n",
       "      <th>Accuracy (updated)</th>\n",
       "    </tr>\n",
       "  </thead>\n",
       "  <tbody>\n",
       "    <tr>\n",
       "      <th>Demographic Parity</th>\n",
       "      <td>0.234362</td>\n",
       "      <td>0.035235</td>\n",
       "      <td>0.671287</td>\n",
       "      <td>0.554851</td>\n",
       "    </tr>\n",
       "    <tr>\n",
       "      <th>Disparate Impact</th>\n",
       "      <td>0.561681</td>\n",
       "      <td>0.988790</td>\n",
       "      <td>0.671287</td>\n",
       "      <td>0.542970</td>\n",
       "    </tr>\n",
       "    <tr>\n",
       "      <th>Average Group Difference in Conditional Acceptance Rate</th>\n",
       "      <td>0.300350</td>\n",
       "      <td>0.008952</td>\n",
       "      <td>0.671287</td>\n",
       "      <td>0.622574</td>\n",
       "    </tr>\n",
       "    <tr>\n",
       "      <th>Average Group Difference in Conditional Rejectance Rate</th>\n",
       "      <td>0.165646</td>\n",
       "      <td>0.017900</td>\n",
       "      <td>0.671287</td>\n",
       "      <td>0.653861</td>\n",
       "    </tr>\n",
       "    <tr>\n",
       "      <th>Average Group Difference in Accuracy</th>\n",
       "      <td>0.043198</td>\n",
       "      <td>0.042238</td>\n",
       "      <td>0.671287</td>\n",
       "      <td>0.666139</td>\n",
       "    </tr>\n",
       "    <tr>\n",
       "      <th>Average Group Difference in Recall</th>\n",
       "      <td>0.190611</td>\n",
       "      <td>0.018044</td>\n",
       "      <td>0.671287</td>\n",
       "      <td>0.557624</td>\n",
       "    </tr>\n",
       "    <tr>\n",
       "      <th>Average Group Difference in Acceptance Rate</th>\n",
       "      <td>0.033289</td>\n",
       "      <td>0.207826</td>\n",
       "      <td>0.671287</td>\n",
       "      <td>0.588515</td>\n",
       "    </tr>\n",
       "    <tr>\n",
       "      <th>Average Group Difference in Specificity</th>\n",
       "      <td>0.197344</td>\n",
       "      <td>0.076504</td>\n",
       "      <td>0.671287</td>\n",
       "      <td>0.651485</td>\n",
       "    </tr>\n",
       "    <tr>\n",
       "      <th>Average Group Difference in Rejection Rate</th>\n",
       "      <td>0.074006</td>\n",
       "      <td>0.077252</td>\n",
       "      <td>0.671287</td>\n",
       "      <td>0.666535</td>\n",
       "    </tr>\n",
       "    <tr>\n",
       "      <th>Treatment Equality</th>\n",
       "      <td>0.561487</td>\n",
       "      <td>0.069292</td>\n",
       "      <td>0.671287</td>\n",
       "      <td>0.659010</td>\n",
       "    </tr>\n",
       "  </tbody>\n",
       "</table>\n",
       "</div>"
      ],
      "text/plain": [
       "                                                    Measure (original)  \\\n",
       "Demographic Parity                                            0.234362   \n",
       "Disparate Impact                                              0.561681   \n",
       "Average Group Difference in Conditional Accepta...            0.300350   \n",
       "Average Group Difference in Conditional Rejecta...            0.165646   \n",
       "Average Group Difference in Accuracy                          0.043198   \n",
       "Average Group Difference in Recall                            0.190611   \n",
       "Average Group Difference in Acceptance Rate                   0.033289   \n",
       "Average Group Difference in Specificity                       0.197344   \n",
       "Average Group Difference in Rejection Rate                    0.074006   \n",
       "Treatment Equality                                            0.561487   \n",
       "\n",
       "                                                    Measure (updated)  \\\n",
       "Demographic Parity                                           0.035235   \n",
       "Disparate Impact                                             0.988790   \n",
       "Average Group Difference in Conditional Accepta...           0.008952   \n",
       "Average Group Difference in Conditional Rejecta...           0.017900   \n",
       "Average Group Difference in Accuracy                         0.042238   \n",
       "Average Group Difference in Recall                           0.018044   \n",
       "Average Group Difference in Acceptance Rate                  0.207826   \n",
       "Average Group Difference in Specificity                      0.076504   \n",
       "Average Group Difference in Rejection Rate                   0.077252   \n",
       "Treatment Equality                                           0.069292   \n",
       "\n",
       "                                                    Accuracy (original)  \\\n",
       "Demographic Parity                                             0.671287   \n",
       "Disparate Impact                                               0.671287   \n",
       "Average Group Difference in Conditional Accepta...             0.671287   \n",
       "Average Group Difference in Conditional Rejecta...             0.671287   \n",
       "Average Group Difference in Accuracy                           0.671287   \n",
       "Average Group Difference in Recall                             0.671287   \n",
       "Average Group Difference in Acceptance Rate                    0.671287   \n",
       "Average Group Difference in Specificity                        0.671287   \n",
       "Average Group Difference in Rejection Rate                     0.671287   \n",
       "Treatment Equality                                             0.671287   \n",
       "\n",
       "                                                    Accuracy (updated)  \n",
       "Demographic Parity                                            0.554851  \n",
       "Disparate Impact                                              0.542970  \n",
       "Average Group Difference in Conditional Accepta...            0.622574  \n",
       "Average Group Difference in Conditional Rejecta...            0.653861  \n",
       "Average Group Difference in Accuracy                          0.666139  \n",
       "Average Group Difference in Recall                            0.557624  \n",
       "Average Group Difference in Acceptance Rate                   0.588515  \n",
       "Average Group Difference in Specificity                       0.651485  \n",
       "Average Group Difference in Rejection Rate                    0.666535  \n",
       "Treatment Equality                                            0.659010  "
      ]
     },
     "execution_count": 19,
     "metadata": {},
     "output_type": "execute_result"
    }
   ],
   "source": [
    " # Now using infered attributes\n",
    "fpredictor2 = FairPredictor(predictor2, val, 'race', inferred_groups=protected)\n",
    "evaluate(fpredictor2, gm.clarify_metrics)"
   ]
  }
 ],
 "metadata": {
  "kernelspec": {
   "display_name": "Python 3.9.15 64-bit",
   "language": "python",
   "name": "python3"
  },
  "language_info": {
   "codemirror_mode": {
    "name": "ipython",
    "version": 3
   },
   "file_extension": ".py",
   "mimetype": "text/x-python",
   "name": "python",
   "nbconvert_exporter": "python",
   "pygments_lexer": "ipython3",
   "version": "3.10.13"
  },
  "vscode": {
   "interpreter": {
    "hash": "397704579725e15f5c7cb49fe5f0341eb7531c82d19f2c29d197e8b64ab5776b"
   }
  }
 },
 "nbformat": 4,
 "nbformat_minor": 2
}
