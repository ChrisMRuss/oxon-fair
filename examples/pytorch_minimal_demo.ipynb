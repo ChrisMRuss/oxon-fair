{
 "cells": [
  {
   "cell_type": "markdown",
   "metadata": {},
   "source": [
    "# Pytorch example\n",
    "\n",
    "This file shows a minimal pytorch example running on adult data, and demonstrating head-merging.\n",
    "\n",
    "In general, we strongly recomend that you *do not* use neural networks on tabular data. Boosting is typically higher performing and much faster to run.\n",
    "\n",
    "However, this is a toy example, and unlike computer vision examples, it should train and run in a matter of minutes. The techniques shown will directly apply to computer vision and NLP without modification."
   ]
  },
  {
   "cell_type": "code",
   "execution_count": 1,
   "metadata": {
    "execution": {
     "iopub.execute_input": "2024-06-17T14:23:43.300631Z",
     "iopub.status.busy": "2024-06-17T14:23:43.300473Z",
     "iopub.status.idle": "2024-06-17T14:23:47.957431Z",
     "shell.execute_reply": "2024-06-17T14:23:47.956993Z"
    }
   },
   "outputs": [
    {
     "name": "stderr",
     "output_type": "stream",
     "text": [
      "/opt/miniconda3/envs/ag/lib/python3.10/site-packages/tqdm/auto.py:21: TqdmWarning: IProgress not found. Please update jupyter and ipywidgets. See https://ipywidgets.readthedocs.io/en/stable/user_install.html\n",
      "  from .autonotebook import tqdm as notebook_tqdm\n"
     ]
    }
   ],
   "source": [
    "# Load libraries\n",
    "\n",
    "import oxonfair\n",
    "from oxonfair import group_metrics as gm\n",
    "\n",
    "import numpy as np\n",
    "import torch\n",
    "import torch.nn.functional as F\n",
    "from torch import nn, optim\n"
   ]
  },
  {
   "cell_type": "code",
   "execution_count": 2,
   "metadata": {
    "execution": {
     "iopub.execute_input": "2024-06-17T14:23:47.959280Z",
     "iopub.status.busy": "2024-06-17T14:23:47.959087Z",
     "iopub.status.idle": "2024-06-17T14:23:55.593617Z",
     "shell.execute_reply": "2024-06-17T14:23:55.592547Z"
    }
   },
   "outputs": [],
   "source": [
    "#Load adult dataset, using sex as the default groups and discard sex from the raw data\n",
    "train, val, test = oxonfair.dataset_loader.adult(discard_groups=True)"
   ]
  },
  {
   "cell_type": "code",
   "execution_count": 3,
   "metadata": {
    "execution": {
     "iopub.execute_input": "2024-06-17T14:23:55.607947Z",
     "iopub.status.busy": "2024-06-17T14:23:55.602759Z",
     "iopub.status.idle": "2024-06-17T14:23:55.616107Z",
     "shell.execute_reply": "2024-06-17T14:23:55.614028Z"
    }
   },
   "outputs": [],
   "source": [
    "#Normalise data\n",
    "std = train['data'].std()\n",
    "train['data'] = train['data'] / std\n",
    "val['data'] = val['data'] / std\n",
    "test['data'] = test['data'] / std"
   ]
  },
  {
   "cell_type": "code",
   "execution_count": 4,
   "metadata": {
    "execution": {
     "iopub.execute_input": "2024-06-17T14:23:55.623305Z",
     "iopub.status.busy": "2024-06-17T14:23:55.622503Z",
     "iopub.status.idle": "2024-06-17T14:23:55.631965Z",
     "shell.execute_reply": "2024-06-17T14:23:55.630811Z"
    }
   },
   "outputs": [],
   "source": [
    "#define a basic nn with 2 hiden-layers. 1 of width 100, and the second width 50.\n",
    "network = nn.Sequential(nn.Linear(train['data'].shape[1],100),\n",
    "                        nn.SELU(),\n",
    "                        nn.Linear(100,50),\n",
    "                        nn.SELU(),\n",
    "                        nn.Linear(50,2))"
   ]
  },
  {
   "cell_type": "code",
   "execution_count": 5,
   "metadata": {
    "execution": {
     "iopub.execute_input": "2024-06-17T14:23:55.638778Z",
     "iopub.status.busy": "2024-06-17T14:23:55.637073Z",
     "iopub.status.idle": "2024-06-17T14:23:55.643636Z",
     "shell.execute_reply": "2024-06-17T14:23:55.641581Z"
    }
   },
   "outputs": [],
   "source": [
    "# Define a custom loss that trains the two-heads as required.\n",
    "def loss(x, y, g):\n",
    "    output = network(x)\n",
    "    loss0 = F.binary_cross_entropy_with_logits(output[:,0], y)\n",
    "    loss1 = F.mse_loss(output[:,1], g)\n",
    "    return loss0+loss1"
   ]
  },
  {
   "cell_type": "code",
   "execution_count": 6,
   "metadata": {
    "execution": {
     "iopub.execute_input": "2024-06-17T14:23:55.647290Z",
     "iopub.status.busy": "2024-06-17T14:23:55.646346Z",
     "iopub.status.idle": "2024-06-17T14:23:56.994506Z",
     "shell.execute_reply": "2024-06-17T14:23:56.993352Z"
    }
   },
   "outputs": [],
   "source": [
    "# Copy variables to tensors\n",
    "target = torch.tensor(train['target']).float()\n",
    "data = torch.tensor(np.asarray(train['data'])).float()\n",
    "groups = torch.tensor(train['groups']==' Male').float()\n",
    "\n",
    "optimizer = optim.Adam(network.parameters(), lr=1e-4)\n",
    "from numpy import random"
   ]
  },
  {
   "cell_type": "code",
   "execution_count": 7,
   "metadata": {
    "execution": {
     "iopub.execute_input": "2024-06-17T14:23:57.003938Z",
     "iopub.status.busy": "2024-06-17T14:23:57.002040Z",
     "iopub.status.idle": "2024-06-17T14:24:11.896988Z",
     "shell.execute_reply": "2024-06-17T14:24:11.872141Z"
    }
   },
   "outputs": [
    {
     "name": "stdout",
     "output_type": "stream",
     "text": [
      "epoch is 0\n"
     ]
    },
    {
     "name": "stdout",
     "output_type": "stream",
     "text": [
      "epoch is 10\n"
     ]
    },
    {
     "name": "stdout",
     "output_type": "stream",
     "text": [
      "epoch is 20\n"
     ]
    },
    {
     "name": "stdout",
     "output_type": "stream",
     "text": [
      "epoch is 30\n"
     ]
    },
    {
     "name": "stdout",
     "output_type": "stream",
     "text": [
      "epoch is 40\n"
     ]
    }
   ],
   "source": [
    "# Train the network\n",
    "batch_size = 100\n",
    "\n",
    "for epoch in range(50):\n",
    "    #shuffle data\n",
    "    perm = random.permutation(target.shape[0])\n",
    "    target = target[perm]\n",
    "    data = data[perm]\n",
    "    groups = groups[perm]\n",
    "    if epoch%10==0:\n",
    "        print ('epoch is %d'%epoch)\n",
    "    for step in range(target.shape[0]//batch_size): # This discards the final incomplete batch\n",
    "        optimizer.zero_grad()\n",
    "        l = loss(data[step*batch_size:(1+step)*batch_size],\n",
    "                 target[step*batch_size:(1+step)*batch_size],\n",
    "                 groups[step*batch_size:(1+step)*batch_size])\n",
    "        l.backward()\n",
    "        optimizer.step()"
   ]
  },
  {
   "cell_type": "code",
   "execution_count": 8,
   "metadata": {
    "execution": {
     "iopub.execute_input": "2024-06-17T14:24:11.968095Z",
     "iopub.status.busy": "2024-06-17T14:24:11.966647Z",
     "iopub.status.idle": "2024-06-17T14:24:12.038349Z",
     "shell.execute_reply": "2024-06-17T14:24:12.037641Z"
    }
   },
   "outputs": [],
   "source": [
    "#convert test['data'] to tensor via numpy and then move the output back to numpy\n",
    "test_output=np.asarray(network(torch.tensor(np.asarray(test['data'])).float()).detach())"
   ]
  },
  {
   "cell_type": "markdown",
   "metadata": {},
   "source": [
    "To see if training works we visualise the outputs of the second head (corresponding to gender)\n",
    "\n",
    "Ideally, this should be a two peaked distribution centred on 0 and 1, with more values at 1 -- corresponding to the male label.\n",
    "\n",
    "Instead we find we have 1 peak centered on 1, a broader central peak corresponding to 'don't know' centered around 0.5 and a third smaller peak around 0.2 and 0.\n",
    "\n",
    "This  is fine. The broad central peak reflects the ambiguity of the task, and otherwise we do have something of a split into male and female."
   ]
  },
  {
   "cell_type": "code",
   "execution_count": 9,
   "metadata": {
    "execution": {
     "iopub.execute_input": "2024-06-17T14:24:12.043628Z",
     "iopub.status.busy": "2024-06-17T14:24:12.043377Z",
     "iopub.status.idle": "2024-06-17T14:24:13.740181Z",
     "shell.execute_reply": "2024-06-17T14:24:13.739523Z"
    }
   },
   "outputs": [
    {
     "data": {
      "image/png": "[encoded data removed]",
      "text/plain": [
       "<Figure size 640x480 with 1 Axes>"
      ]
     },
     "metadata": {},
     "output_type": "display_data"
    }
   ],
   "source": [
    "#Plot the outputs of the second head\n",
    "from matplotlib import pyplot as plt\n",
    "_=plt.hist(test_output[:,1],bins=50)"
   ]
  },
  {
   "cell_type": "code",
   "execution_count": 10,
   "metadata": {
    "execution": {
     "iopub.execute_input": "2024-06-17T14:24:13.751242Z",
     "iopub.status.busy": "2024-06-17T14:24:13.750799Z",
     "iopub.status.idle": "2024-06-17T14:24:13.783396Z",
     "shell.execute_reply": "2024-06-17T14:24:13.782831Z"
    }
   },
   "outputs": [],
   "source": [
    "#Let's train a fair classifier using the two heads \n",
    "#convert val['data'] to tensor via numpy and then move the output back to numpy\n",
    "val_output = np.asarray(network(torch.tensor(np.asarray(val['data'])).float()).detach())\n",
    "\n",
    "\n",
    "\n",
    "fpred = oxonfair.DeepFairPredictor(val['target'],\n",
    "                                   val_output,\n",
    "                                   groups=val['groups'])"
   ]
  },
  {
   "cell_type": "code",
   "execution_count": 11,
   "metadata": {
    "execution": {
     "iopub.execute_input": "2024-06-17T14:24:13.786922Z",
     "iopub.status.busy": "2024-06-17T14:24:13.786786Z",
     "iopub.status.idle": "2024-06-17T14:24:30.647213Z",
     "shell.execute_reply": "2024-06-17T14:24:30.619294Z"
    }
   },
   "outputs": [],
   "source": [
    "# Enforce fairness on validation data -- i.e. demographic/statistical parity should be within 2 %\n",
    "fpred.fit(gm.accuracy, gm.demographic_parity, 0.02)"
   ]
  },
  {
   "cell_type": "code",
   "execution_count": 12,
   "metadata": {
    "execution": {
     "iopub.execute_input": "2024-06-17T14:24:30.723416Z",
     "iopub.status.busy": "2024-06-17T14:24:30.720575Z",
     "iopub.status.idle": "2024-06-17T14:24:31.265653Z",
     "shell.execute_reply": "2024-06-17T14:24:31.264403Z"
    }
   },
   "outputs": [
    {
     "data": {
      "text/html": [
       "<div>\n",
       "<style scoped>\n",
       "    .dataframe tbody tr th:only-of-type {\n",
       "        vertical-align: middle;\n",
       "    }\n",
       "\n",
       "    .dataframe tbody tr th {\n",
       "        vertical-align: top;\n",
       "    }\n",
       "\n",
       "    .dataframe thead th {\n",
       "        text-align: right;\n",
       "    }\n",
       "</style>\n",
       "<table border=\"1\" class=\"dataframe\">\n",
       "  <thead>\n",
       "    <tr style=\"text-align: right;\">\n",
       "      <th></th>\n",
       "      <th>original</th>\n",
       "      <th>updated</th>\n",
       "    </tr>\n",
       "  </thead>\n",
       "  <tbody>\n",
       "    <tr>\n",
       "      <th>Accuracy</th>\n",
       "      <td>0.844963</td>\n",
       "      <td>0.830958</td>\n",
       "    </tr>\n",
       "    <tr>\n",
       "      <th>Balanced Accuracy</th>\n",
       "      <td>0.742577</td>\n",
       "      <td>0.692558</td>\n",
       "    </tr>\n",
       "    <tr>\n",
       "      <th>F1 score</th>\n",
       "      <td>0.627729</td>\n",
       "      <td>0.547368</td>\n",
       "    </tr>\n",
       "    <tr>\n",
       "      <th>MCC</th>\n",
       "      <td>0.542169</td>\n",
       "      <td>0.482121</td>\n",
       "    </tr>\n",
       "    <tr>\n",
       "      <th>Precision</th>\n",
       "      <td>0.737864</td>\n",
       "      <td>0.761905</td>\n",
       "    </tr>\n",
       "    <tr>\n",
       "      <th>Recall</th>\n",
       "      <td>0.546201</td>\n",
       "      <td>0.427105</td>\n",
       "    </tr>\n",
       "    <tr>\n",
       "      <th>ROC AUC</th>\n",
       "      <td>0.896564</td>\n",
       "      <td>0.880271</td>\n",
       "    </tr>\n",
       "  </tbody>\n",
       "</table>\n",
       "</div>"
      ],
      "text/plain": [
       "                   original   updated\n",
       "Accuracy           0.844963  0.830958\n",
       "Balanced Accuracy  0.742577  0.692558\n",
       "F1 score           0.627729  0.547368\n",
       "MCC                0.542169  0.482121\n",
       "Precision          0.737864  0.761905\n",
       "Recall             0.546201  0.427105\n",
       "ROC AUC            0.896564  0.880271"
      ]
     },
     "execution_count": 12,
     "metadata": {},
     "output_type": "execute_result"
    }
   ],
   "source": [
    "# Check performance drop\n",
    "fpred.evaluate()"
   ]
  },
  {
   "cell_type": "code",
   "execution_count": 13,
   "metadata": {
    "execution": {
     "iopub.execute_input": "2024-06-17T14:24:31.322458Z",
     "iopub.status.busy": "2024-06-17T14:24:31.322267Z",
     "iopub.status.idle": "2024-06-17T14:24:31.407782Z",
     "shell.execute_reply": "2024-06-17T14:24:31.407177Z"
    }
   },
   "outputs": [
    {
     "data": {
      "text/html": [
       "<div>\n",
       "<style scoped>\n",
       "    .dataframe tbody tr th:only-of-type {\n",
       "        vertical-align: middle;\n",
       "    }\n",
       "\n",
       "    .dataframe tbody tr th {\n",
       "        vertical-align: top;\n",
       "    }\n",
       "\n",
       "    .dataframe thead th {\n",
       "        text-align: right;\n",
       "    }\n",
       "</style>\n",
       "<table border=\"1\" class=\"dataframe\">\n",
       "  <thead>\n",
       "    <tr style=\"text-align: right;\">\n",
       "      <th></th>\n",
       "      <th>original</th>\n",
       "      <th>updated</th>\n",
       "    </tr>\n",
       "  </thead>\n",
       "  <tbody>\n",
       "    <tr>\n",
       "      <th>Statistical Parity</th>\n",
       "      <td>0.177424</td>\n",
       "      <td>0.017017</td>\n",
       "    </tr>\n",
       "    <tr>\n",
       "      <th>Predictive Parity</th>\n",
       "      <td>0.033768</td>\n",
       "      <td>0.244559</td>\n",
       "    </tr>\n",
       "    <tr>\n",
       "      <th>Equal Opportunity</th>\n",
       "      <td>0.159556</td>\n",
       "      <td>0.278824</td>\n",
       "    </tr>\n",
       "    <tr>\n",
       "      <th>Average Group Difference in False Negative Rate</th>\n",
       "      <td>0.159556</td>\n",
       "      <td>0.278824</td>\n",
       "    </tr>\n",
       "    <tr>\n",
       "      <th>Equalized Odds</th>\n",
       "      <td>0.117196</td>\n",
       "      <td>0.151115</td>\n",
       "    </tr>\n",
       "    <tr>\n",
       "      <th>Conditional Use Accuracy</th>\n",
       "      <td>0.068033</td>\n",
       "      <td>0.209902</td>\n",
       "    </tr>\n",
       "    <tr>\n",
       "      <th>Average Group Difference in Accuracy</th>\n",
       "      <td>0.115149</td>\n",
       "      <td>0.122796</td>\n",
       "    </tr>\n",
       "    <tr>\n",
       "      <th>Treatment Equality</th>\n",
       "      <td>0.270023</td>\n",
       "      <td>1.239793</td>\n",
       "    </tr>\n",
       "  </tbody>\n",
       "</table>\n",
       "</div>"
      ],
      "text/plain": [
       "                                                 original   updated\n",
       "Statistical Parity                               0.177424  0.017017\n",
       "Predictive Parity                                0.033768  0.244559\n",
       "Equal Opportunity                                0.159556  0.278824\n",
       "Average Group Difference in False Negative Rate  0.159556  0.278824\n",
       "Equalized Odds                                   0.117196  0.151115\n",
       "Conditional Use Accuracy                         0.068033  0.209902\n",
       "Average Group Difference in Accuracy             0.115149  0.122796\n",
       "Treatment Equality                               0.270023  1.239793"
      ]
     },
     "execution_count": 13,
     "metadata": {},
     "output_type": "execute_result"
    }
   ],
   "source": [
    "# and fairness\n",
    "fpred.evaluate_fairness()"
   ]
  },
  {
   "cell_type": "code",
   "execution_count": 14,
   "metadata": {
    "execution": {
     "iopub.execute_input": "2024-06-17T14:24:31.413169Z",
     "iopub.status.busy": "2024-06-17T14:24:31.413017Z",
     "iopub.status.idle": "2024-06-17T14:24:31.920610Z",
     "shell.execute_reply": "2024-06-17T14:24:31.920091Z"
    }
   },
   "outputs": [
    {
     "data": {
      "image/png": "[encoded data removed]",
      "text/plain": [
       "<Figure size 640x480 with 1 Axes>"
      ]
     },
     "metadata": {},
     "output_type": "display_data"
    }
   ],
   "source": [
    "#Visualise the possible trade-offs\n",
    "fpred.plot_frontier()"
   ]
  },
  {
   "cell_type": "code",
   "execution_count": 15,
   "metadata": {
    "execution": {
     "iopub.execute_input": "2024-06-17T14:24:31.926513Z",
     "iopub.status.busy": "2024-06-17T14:24:31.926330Z",
     "iopub.status.idle": "2024-06-17T14:24:32.314353Z",
     "shell.execute_reply": "2024-06-17T14:24:32.313626Z"
    }
   },
   "outputs": [
    {
     "data": {
      "image/png": "[encoded data removed]",
      "text/plain": [
       "<Figure size 640x480 with 1 Axes>"
      ]
     },
     "metadata": {},
     "output_type": "display_data"
    }
   ],
   "source": [
    "#To quickly select another point from the frontier, you can call it with recompute=False\n",
    "fpred.fit(gm.accuracy, gm.demographic_parity, 0.05, recompute=False)\n",
    "fpred.plot_frontier()\n"
   ]
  },
  {
   "cell_type": "code",
   "execution_count": 16,
   "metadata": {
    "execution": {
     "iopub.execute_input": "2024-06-17T14:24:32.320909Z",
     "iopub.status.busy": "2024-06-17T14:24:32.320465Z",
     "iopub.status.idle": "2024-06-17T14:24:32.323998Z",
     "shell.execute_reply": "2024-06-17T14:24:32.323477Z"
    }
   },
   "outputs": [],
   "source": [
    "# to evaluate how it's working on the test set, we'll create a new dataset holder\n",
    "test_network = oxonfair.build_deep_dict(test['target'], test_output, test['groups'])"
   ]
  },
  {
   "cell_type": "code",
   "execution_count": 17,
   "metadata": {
    "execution": {
     "iopub.execute_input": "2024-06-17T14:24:32.326338Z",
     "iopub.status.busy": "2024-06-17T14:24:32.326235Z",
     "iopub.status.idle": "2024-06-17T14:24:32.406365Z",
     "shell.execute_reply": "2024-06-17T14:24:32.405990Z"
    }
   },
   "outputs": [
    {
     "data": {
      "text/html": [
       "<div>\n",
       "<style scoped>\n",
       "    .dataframe tbody tr th:only-of-type {\n",
       "        vertical-align: middle;\n",
       "    }\n",
       "\n",
       "    .dataframe tbody tr th {\n",
       "        vertical-align: top;\n",
       "    }\n",
       "\n",
       "    .dataframe thead th {\n",
       "        text-align: right;\n",
       "    }\n",
       "</style>\n",
       "<table border=\"1\" class=\"dataframe\">\n",
       "  <thead>\n",
       "    <tr style=\"text-align: right;\">\n",
       "      <th></th>\n",
       "      <th>original</th>\n",
       "      <th>updated</th>\n",
       "    </tr>\n",
       "  </thead>\n",
       "  <tbody>\n",
       "    <tr>\n",
       "      <th>Accuracy</th>\n",
       "      <td>0.845222</td>\n",
       "      <td>0.834166</td>\n",
       "    </tr>\n",
       "    <tr>\n",
       "      <th>Balanced Accuracy</th>\n",
       "      <td>0.738637</td>\n",
       "      <td>0.691140</td>\n",
       "    </tr>\n",
       "    <tr>\n",
       "      <th>F1 score</th>\n",
       "      <td>0.622905</td>\n",
       "      <td>0.546066</td>\n",
       "    </tr>\n",
       "    <tr>\n",
       "      <th>MCC</th>\n",
       "      <td>0.540639</td>\n",
       "      <td>0.491434</td>\n",
       "    </tr>\n",
       "    <tr>\n",
       "      <th>Precision</th>\n",
       "      <td>0.746890</td>\n",
       "      <td>0.791423</td>\n",
       "    </tr>\n",
       "    <tr>\n",
       "      <th>Recall</th>\n",
       "      <td>0.534223</td>\n",
       "      <td>0.416838</td>\n",
       "    </tr>\n",
       "    <tr>\n",
       "      <th>ROC AUC</th>\n",
       "      <td>0.899362</td>\n",
       "      <td>0.888664</td>\n",
       "    </tr>\n",
       "  </tbody>\n",
       "</table>\n",
       "</div>"
      ],
      "text/plain": [
       "                   original   updated\n",
       "Accuracy           0.845222  0.834166\n",
       "Balanced Accuracy  0.738637  0.691140\n",
       "F1 score           0.622905  0.546066\n",
       "MCC                0.540639  0.491434\n",
       "Precision          0.746890  0.791423\n",
       "Recall             0.534223  0.416838\n",
       "ROC AUC            0.899362  0.888664"
      ]
     },
     "execution_count": 17,
     "metadata": {},
     "output_type": "execute_result"
    }
   ],
   "source": [
    "#And evaluate\n",
    "fpred.evaluate(test_network)"
   ]
  },
  {
   "cell_type": "code",
   "execution_count": 18,
   "metadata": {
    "execution": {
     "iopub.execute_input": "2024-06-17T14:24:32.410252Z",
     "iopub.status.busy": "2024-06-17T14:24:32.410088Z",
     "iopub.status.idle": "2024-06-17T14:24:32.496344Z",
     "shell.execute_reply": "2024-06-17T14:24:32.495622Z"
    }
   },
   "outputs": [
    {
     "data": {
      "text/html": [
       "<div>\n",
       "<style scoped>\n",
       "    .dataframe tbody tr th:only-of-type {\n",
       "        vertical-align: middle;\n",
       "    }\n",
       "\n",
       "    .dataframe tbody tr th {\n",
       "        vertical-align: top;\n",
       "    }\n",
       "\n",
       "    .dataframe thead th {\n",
       "        text-align: right;\n",
       "    }\n",
       "</style>\n",
       "<table border=\"1\" class=\"dataframe\">\n",
       "  <thead>\n",
       "    <tr style=\"text-align: right;\">\n",
       "      <th></th>\n",
       "      <th>original</th>\n",
       "      <th>updated</th>\n",
       "    </tr>\n",
       "  </thead>\n",
       "  <tbody>\n",
       "    <tr>\n",
       "      <th>Statistical Parity</th>\n",
       "      <td>0.177424</td>\n",
       "      <td>0.047841</td>\n",
       "    </tr>\n",
       "    <tr>\n",
       "      <th>Predictive Parity</th>\n",
       "      <td>0.033768</td>\n",
       "      <td>0.178745</td>\n",
       "    </tr>\n",
       "    <tr>\n",
       "      <th>Equal Opportunity</th>\n",
       "      <td>0.159556</td>\n",
       "      <td>0.187793</td>\n",
       "    </tr>\n",
       "    <tr>\n",
       "      <th>Average Group Difference in False Negative Rate</th>\n",
       "      <td>0.159556</td>\n",
       "      <td>0.187793</td>\n",
       "    </tr>\n",
       "    <tr>\n",
       "      <th>Equalized Odds</th>\n",
       "      <td>0.117196</td>\n",
       "      <td>0.095403</td>\n",
       "    </tr>\n",
       "    <tr>\n",
       "      <th>Conditional Use Accuracy</th>\n",
       "      <td>0.068033</td>\n",
       "      <td>0.170960</td>\n",
       "    </tr>\n",
       "    <tr>\n",
       "      <th>Average Group Difference in Accuracy</th>\n",
       "      <td>0.115149</td>\n",
       "      <td>0.127269</td>\n",
       "    </tr>\n",
       "    <tr>\n",
       "      <th>Treatment Equality</th>\n",
       "      <td>0.270023</td>\n",
       "      <td>0.627618</td>\n",
       "    </tr>\n",
       "  </tbody>\n",
       "</table>\n",
       "</div>"
      ],
      "text/plain": [
       "                                                 original   updated\n",
       "Statistical Parity                               0.177424  0.047841\n",
       "Predictive Parity                                0.033768  0.178745\n",
       "Equal Opportunity                                0.159556  0.187793\n",
       "Average Group Difference in False Negative Rate  0.159556  0.187793\n",
       "Equalized Odds                                   0.117196  0.095403\n",
       "Conditional Use Accuracy                         0.068033  0.170960\n",
       "Average Group Difference in Accuracy             0.115149  0.127269\n",
       "Treatment Equality                               0.270023  0.627618"
      ]
     },
     "execution_count": 18,
     "metadata": {},
     "output_type": "execute_result"
    }
   ],
   "source": [
    "fpred.evaluate_fairness()"
   ]
  },
  {
   "cell_type": "code",
   "execution_count": 19,
   "metadata": {
    "execution": {
     "iopub.execute_input": "2024-06-17T14:24:32.500697Z",
     "iopub.status.busy": "2024-06-17T14:24:32.500451Z",
     "iopub.status.idle": "2024-06-17T14:24:32.507065Z",
     "shell.execute_reply": "2024-06-17T14:24:32.506716Z"
    }
   },
   "outputs": [
    {
     "data": {
      "text/plain": [
       "(-1.77, 1.082)"
      ]
     },
     "execution_count": 19,
     "metadata": {},
     "output_type": "execute_result"
    }
   ],
   "source": [
    "# Now let's merge the heads\n",
    "# We examine the coefficients first.\n",
    "fpred.extract_coefficients()"
   ]
  },
  {
   "cell_type": "markdown",
   "metadata": {},
   "source": [
    "The block below shows the merging step for two groups. \n",
    "\n",
    "When only two groups exist, we are using a binary encoding of groups and trying to predict either 0 or 1.\n",
    "The parameters we learn correspond to a scalar `a`, and bias `b`, and the predictions made by the merging:\n",
    "\n",
    "    classification_head + a * group_head +b\n",
    "\n",
    "should be fair and performant.\n",
    "\n",
    "When more than two groups exist, you should have trained the second head to output a one-hot encoding of the groups and the merging:\n",
    "\n",
    "    classification_head + a.dot(group_head)\n",
    "\n",
    "should be fair and performant."
   ]
  },
  {
   "cell_type": "code",
   "execution_count": 20,
   "metadata": {
    "execution": {
     "iopub.execute_input": "2024-06-17T14:24:32.509806Z",
     "iopub.status.busy": "2024-06-17T14:24:32.509623Z",
     "iopub.status.idle": "2024-06-17T14:24:32.585602Z",
     "shell.execute_reply": "2024-06-17T14:24:32.584822Z"
    }
   },
   "outputs": [],
   "source": [
    "# We copy the network and create a fair version\n",
    "import copy\n",
    "fair_network= copy.deepcopy(network)\n",
    "# We replace the final linear layer with a 1 dimensional head.\n",
    "fair_network[4]=nn.Linear(50,1)\n",
    "#Now we merge the weights \n",
    "fair_network[4].weight.data[:] = (network[4].weight[0] + fpred.extract_coefficients()[0]*network[4].weight[1]).data\n",
    "# and the biases\n",
    "fair_network[4].bias.data[:] = (network[4].bias[0] + fpred.extract_coefficients()[0]*network[4].bias[1]).data\n",
    "# and add the extra bias term\n",
    "fair_network[4].bias.data += fpred.extract_coefficients()[1]\n"
   ]
  },
  {
   "cell_type": "code",
   "execution_count": 21,
   "metadata": {
    "execution": {
     "iopub.execute_input": "2024-06-17T14:24:32.593131Z",
     "iopub.status.busy": "2024-06-17T14:24:32.591423Z",
     "iopub.status.idle": "2024-06-17T14:24:32.645153Z",
     "shell.execute_reply": "2024-06-17T14:24:32.644381Z"
    }
   },
   "outputs": [],
   "source": [
    "# Now let's check the fair classifier on the test set.\n",
    "test_fair_output=np.asarray(fair_network(torch.tensor(np.asarray(test['data'])).float()).detach())"
   ]
  },
  {
   "cell_type": "code",
   "execution_count": 22,
   "metadata": {
    "execution": {
     "iopub.execute_input": "2024-06-17T14:24:32.649306Z",
     "iopub.status.busy": "2024-06-17T14:24:32.648746Z",
     "iopub.status.idle": "2024-06-17T14:24:32.659400Z",
     "shell.execute_reply": "2024-06-17T14:24:32.659056Z"
    }
   },
   "outputs": [
    {
     "data": {
      "text/html": [
       "<div>\n",
       "<style scoped>\n",
       "    .dataframe tbody tr th:only-of-type {\n",
       "        vertical-align: middle;\n",
       "    }\n",
       "\n",
       "    .dataframe tbody tr th {\n",
       "        vertical-align: top;\n",
       "    }\n",
       "\n",
       "    .dataframe thead th {\n",
       "        text-align: right;\n",
       "    }\n",
       "</style>\n",
       "<table border=\"1\" class=\"dataframe\">\n",
       "  <thead>\n",
       "    <tr style=\"text-align: right;\">\n",
       "      <th></th>\n",
       "      <th>0</th>\n",
       "    </tr>\n",
       "  </thead>\n",
       "  <tbody>\n",
       "    <tr>\n",
       "      <th>Accuracy</th>\n",
       "      <td>0.834166</td>\n",
       "    </tr>\n",
       "    <tr>\n",
       "      <th>Balanced Accuracy</th>\n",
       "      <td>0.691140</td>\n",
       "    </tr>\n",
       "    <tr>\n",
       "      <th>F1 score</th>\n",
       "      <td>0.546066</td>\n",
       "    </tr>\n",
       "    <tr>\n",
       "      <th>MCC</th>\n",
       "      <td>0.491434</td>\n",
       "    </tr>\n",
       "    <tr>\n",
       "      <th>Precision</th>\n",
       "      <td>0.791423</td>\n",
       "    </tr>\n",
       "    <tr>\n",
       "      <th>Recall</th>\n",
       "      <td>0.416838</td>\n",
       "    </tr>\n",
       "    <tr>\n",
       "      <th>ROC AUC</th>\n",
       "      <td>0.888663</td>\n",
       "    </tr>\n",
       "  </tbody>\n",
       "</table>\n",
       "</div>"
      ],
      "text/plain": [
       "                          0\n",
       "Accuracy           0.834166\n",
       "Balanced Accuracy  0.691140\n",
       "F1 score           0.546066\n",
       "MCC                0.491434\n",
       "Precision          0.791423\n",
       "Recall             0.416838\n",
       "ROC AUC            0.888663"
      ]
     },
     "execution_count": 22,
     "metadata": {},
     "output_type": "execute_result"
    }
   ],
   "source": [
    "# As expected the accuracy is identical to what was reported before.\n",
    "\n",
    "oxonfair.performance.evaluate(test['target'],test_fair_output.reshape(-1))"
   ]
  },
  {
   "cell_type": "code",
   "execution_count": 23,
   "metadata": {
    "execution": {
     "iopub.execute_input": "2024-06-17T14:24:32.674543Z",
     "iopub.status.busy": "2024-06-17T14:24:32.674334Z",
     "iopub.status.idle": "2024-06-17T14:24:32.721202Z",
     "shell.execute_reply": "2024-06-17T14:24:32.720748Z"
    }
   },
   "outputs": [
    {
     "data": {
      "text/html": [
       "<div>\n",
       "<style scoped>\n",
       "    .dataframe tbody tr th:only-of-type {\n",
       "        vertical-align: middle;\n",
       "    }\n",
       "\n",
       "    .dataframe tbody tr th {\n",
       "        vertical-align: top;\n",
       "    }\n",
       "\n",
       "    .dataframe thead th {\n",
       "        text-align: right;\n",
       "    }\n",
       "</style>\n",
       "<table border=\"1\" class=\"dataframe\">\n",
       "  <thead>\n",
       "    <tr style=\"text-align: right;\">\n",
       "      <th></th>\n",
       "      <th>0</th>\n",
       "    </tr>\n",
       "  </thead>\n",
       "  <tbody>\n",
       "    <tr>\n",
       "      <th>Statistical Parity</th>\n",
       "      <td>0.041087</td>\n",
       "    </tr>\n",
       "    <tr>\n",
       "      <th>Predictive Parity</th>\n",
       "      <td>0.185338</td>\n",
       "    </tr>\n",
       "    <tr>\n",
       "      <th>Equal Opportunity</th>\n",
       "      <td>0.204611</td>\n",
       "    </tr>\n",
       "    <tr>\n",
       "      <th>Average Group Difference in False Negative Rate</th>\n",
       "      <td>0.204611</td>\n",
       "    </tr>\n",
       "    <tr>\n",
       "      <th>Equalized Odds</th>\n",
       "      <td>0.105339</td>\n",
       "    </tr>\n",
       "    <tr>\n",
       "      <th>Conditional Use Accuracy</th>\n",
       "      <td>0.176297</td>\n",
       "    </tr>\n",
       "    <tr>\n",
       "      <th>Average Group Difference in Accuracy</th>\n",
       "      <td>0.130187</td>\n",
       "    </tr>\n",
       "    <tr>\n",
       "      <th>Treatment Equality</th>\n",
       "      <td>0.642273</td>\n",
       "    </tr>\n",
       "  </tbody>\n",
       "</table>\n",
       "</div>"
      ],
      "text/plain": [
       "                                                        0\n",
       "Statistical Parity                               0.041087\n",
       "Predictive Parity                                0.185338\n",
       "Equal Opportunity                                0.204611\n",
       "Average Group Difference in False Negative Rate  0.204611\n",
       "Equalized Odds                                   0.105339\n",
       "Conditional Use Accuracy                         0.176297\n",
       "Average Group Difference in Accuracy             0.130187\n",
       "Treatment Equality                               0.642273"
      ]
     },
     "execution_count": 23,
     "metadata": {},
     "output_type": "execute_result"
    }
   ],
   "source": [
    "# And so is the fairness\n",
    "oxonfair.performance.evaluate_fairness(test['target'],test_fair_output.reshape(-1),test['groups'])"
   ]
  },
  {
   "cell_type": "code",
   "execution_count": 24,
   "metadata": {
    "execution": {
     "iopub.execute_input": "2024-06-17T14:24:32.725268Z",
     "iopub.status.busy": "2024-06-17T14:24:32.725093Z",
     "iopub.status.idle": "2024-06-17T14:24:32.731231Z",
     "shell.execute_reply": "2024-06-17T14:24:32.729479Z"
    }
   },
   "outputs": [],
   "source": [
    "# Finally, let's compare to a range of other oxonfair based classifiers.\n",
    "# These don't support head merging\n",
    "# 1. The base method that just picks the most likely group label instead of keeping track of the value returned \n",
    "fpred_standard = oxonfair.DeepFairPredictor(val['target'],\n",
    "                                              val_output,\n",
    "                                              groups=val['groups'], use_fast=True)\n",
    "# 2. Single threshold. This adjusts the global bias only, without considering group membership.\n",
    "# It works surprisingly well for criteria like recall.min, but is less useful for fairness\n",
    "fpred_thresh  = oxonfair.DeepFairPredictor(val['target'],\n",
    "                                              val_output,\n",
    "                                              groups=val['groups'], use_actual_groups='single_threshold')\n"
   ]
  },
  {
   "cell_type": "code",
   "execution_count": 25,
   "metadata": {
    "execution": {
     "iopub.execute_input": "2024-06-17T14:24:32.735405Z",
     "iopub.status.busy": "2024-06-17T14:24:32.735079Z",
     "iopub.status.idle": "2024-06-17T14:24:32.770751Z",
     "shell.execute_reply": "2024-06-17T14:24:32.770112Z"
    }
   },
   "outputs": [
    {
     "name": "stderr",
     "output_type": "stream",
     "text": [
      "Fewer groups used (1) in infered groups than in the true groups (2)\n"
     ]
    }
   ],
   "source": [
    "fpred_standard.fit(gm.accuracy,gm.demographic_parity,0.05)\n",
    "fpred_thresh.fit(gm.accuracy,gm.demographic_parity,0.05)\n",
    "\n"
   ]
  },
  {
   "cell_type": "code",
   "execution_count": 26,
   "metadata": {
    "execution": {
     "iopub.execute_input": "2024-06-17T14:24:32.774743Z",
     "iopub.status.busy": "2024-06-17T14:24:32.774140Z",
     "iopub.status.idle": "2024-06-17T14:24:33.888346Z",
     "shell.execute_reply": "2024-06-17T14:24:33.887766Z"
    }
   },
   "outputs": [
    {
     "data": {
      "image/png": "[encoded data removed]",
      "text/plain": [
       "<Figure size 640x480 with 1 Axes>"
      ]
     },
     "metadata": {},
     "output_type": "display_data"
    }
   ],
   "source": [
    "# Plot of curves on validation data\n",
    "fpred_standard.plot_frontier(prefix='Base method ', new_plot=False, show_original=False)\n",
    "fpred_thresh.plot_frontier(prefix='Single threshold ', new_plot=False, show_original=False)\n",
    "fpred.plot_frontier(prefix='Two heads ', new_plot=False)\n"
   ]
  },
  {
   "cell_type": "code",
   "execution_count": null,
   "metadata": {},
   "outputs": [],
   "source": []
  }
 ],
 "metadata": {
  "kernelspec": {
   "display_name": "py3.8",
   "language": "python",
   "name": "python3"
  },
  "language_info": {
   "codemirror_mode": {
    "name": "ipython",
    "version": 3
   },
   "file_extension": ".py",
   "mimetype": "text/x-python",
   "name": "python",
   "nbconvert_exporter": "python",
   "pygments_lexer": "ipython3",
   "version": "3.8.18"
  }
 },
 "nbformat": 4,
 "nbformat_minor": 2
}
