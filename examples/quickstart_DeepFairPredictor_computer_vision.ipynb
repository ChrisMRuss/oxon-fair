{
 "cells": [
  {
   "cell_type": "markdown",
   "metadata": {},
   "source": [
    "### Enforcing Fairness in Computer Vision\n",
    "\n",
    "This code demonstrates how to enforce fairness when working with deep neural networks in computer vision. \n",
    "\n",
    "We demonstrate how different notions of fairness and performance can be measured and enforced with our toolkit. \n",
    "\n",
    "We recommend you first consider the quickstart_xgboost.ipynb notebook for an introduction to the toolkit's functionality. \n",
    "\n",
    "We first show an example on [CelebA](https://mmlab.ie.cuhk.edu.hk/projects/CelebA.html). The protected groups are given by the labels for the attribute `Male` . You can specify which target attribute (e.g., Wearing_Earrings) you want to enforce fairness for. \n",
    "You can also specify which fairness and performance metrics to measure.\n",
    "\n",
    "At the end of the notebook, we look at an example using medical data from [Fitzpatrick-17k](https://arxiv.org/pdf/2104.09957).\n",
    "\n",
    "Input Requirements: \n",
    "\n",
    "1. We need the validation and test labels for the protected and target attributes.\n",
    "2. We also require the model outputs. These will typically be logits for the target attribute and probabilities for the inferred protected attribute. It is also possible to use the true group labels (non-inferred). This data used in this notebook demonstration is fetched from an anonymous repository.\n",
    "\n",
    "We use DeepFairPredictor (reccomended), which is optimized for deep learning classifiers. \n",
    "\n",
    "We also reccomend checking out this [paper](https://arxiv.org/pdf/2203.04913) for theoretically explanations into why the majority of fairness methods designed for low capacity models should not be used in settings involving high-capacity models and this [paper](https://proceedings.neurips.cc/paper_files/paper/2022/file/698c05933e5f7fde98e567a669d2c752-Paper-Conference.pdf) for more details on the two/multi headed approach for a post-processing approach to enforce fairness with validation data when working with deep learning models.  \n"
   ]
  },
  {
   "cell_type": "code",
   "execution_count": 1,
   "metadata": {
    "execution": {
     "iopub.execute_input": "2024-06-11T07:16:43.637400Z",
     "iopub.status.busy": "2024-06-11T07:16:43.636358Z",
     "iopub.status.idle": "2024-06-11T07:16:50.361871Z",
     "shell.execute_reply": "2024-06-11T07:16:50.361275Z"
    }
   },
   "outputs": [
    {
     "name": "stderr",
     "output_type": "stream",
     "text": [
      "/opt/miniconda3/envs/ag/lib/python3.10/site-packages/tqdm/auto.py:21: TqdmWarning: IProgress not found. Please update jupyter and ipywidgets. See https://ipywidgets.readthedocs.io/en/stable/user_install.html\n",
      "  from .autonotebook import tqdm as notebook_tqdm\n"
     ]
    }
   ],
   "source": [
    "import numpy as np \n",
    "import oxonfair\n",
    "from oxonfair.utils import group_metrics as gm\n",
    "from matplotlib import pyplot as plt\n",
    "import requests\n",
    "import io"
   ]
  },
  {
   "cell_type": "markdown",
   "metadata": {},
   "source": [
    "As the files associated with pre-trained deep learning models can be quite large, we start by defining a function that can extract model outputs and labels from a URL."
   ]
  },
  {
   "cell_type": "code",
   "execution_count": 2,
   "metadata": {
    "execution": {
     "iopub.execute_input": "2024-06-11T07:16:50.364588Z",
     "iopub.status.busy": "2024-06-11T07:16:50.364299Z",
     "iopub.status.idle": "2024-06-11T07:16:50.368827Z",
     "shell.execute_reply": "2024-06-11T07:16:50.368434Z"
    }
   },
   "outputs": [],
   "source": [
    "# Define a function that takes variable names and URLs, and returns a dictionary of data\n",
    "def fetch_data_with_labels(variable_names, urls):\n",
    "    if len(variable_names) != len(urls):\n",
    "        raise ValueError(\"The number of variable names and URLs must be the same.\")\n",
    "\n",
    "    # Create a mapping between variable names and URLs\n",
    "    label_url_mapping = dict(zip(variable_names, urls))\n",
    "    fetched_data = {}\n",
    "\n",
    "    # Loop through the dictionary to fetch data\n",
    "    for label, url in label_url_mapping.items():\n",
    "        try:\n",
    "            # Fetch the data from the URL\n",
    "            response = requests.get(url)\n",
    "            response.raise_for_status()  # Check if the request was successful\n",
    "\n",
    "            # Load the data with numpy\n",
    "            data = np.load(io.BytesIO(response.content))\n",
    "\n",
    "            # Store the data in the dictionary with the given label\n",
    "            fetched_data[label] = data\n",
    "\n",
    "        except requests.exceptions.RequestException as e:\n",
    "            # Handle request errors (network issues, invalid URL, etc.)\n",
    "            print(f\"Error fetching '{label}' from '{url}': {e}\")\n",
    "\n",
    "        except Exception as e:\n",
    "            # Handle other exceptions (e.g., issues with loading data, numpy errors, etc.)\n",
    "            print(f\"Error processing '{label}' from '{url}': {e}\")\n",
    "\n",
    "    return fetched_data"
   ]
  },
  {
   "cell_type": "code",
   "execution_count": 3,
   "metadata": {
    "execution": {
     "iopub.execute_input": "2024-06-11T07:16:50.370821Z",
     "iopub.status.busy": "2024-06-11T07:16:50.370657Z",
     "iopub.status.idle": "2024-06-11T07:16:50.373012Z",
     "shell.execute_reply": "2024-06-11T07:16:50.372687Z"
    }
   },
   "outputs": [],
   "source": [
    "variable_names_celeba = ['validation_labels', 'test_labels', 'validation_outputs', 'test_outputs']\n",
    "\n",
    "url_data_celeba = ['https://anonymous.4open.science/r/example_data_fairness-15BA/all_attributes_val_labels.npy',\n",
    "    'https://anonymous.4open.science/r/example_data_fairness-15BA/all_attributes_test_labels.npy',\n",
    "    'https://anonymous.4open.science/r/example_data_fairness-15BA/All_Attributes_outputs_val.npy',\n",
    "    'https://anonymous.4open.science/r/example_data_fairness-15BA/All_Attributes_outputs_test.npy']"
   ]
  },
  {
   "cell_type": "code",
   "execution_count": 4,
   "metadata": {
    "execution": {
     "iopub.execute_input": "2024-06-11T07:16:50.374821Z",
     "iopub.status.busy": "2024-06-11T07:16:50.374686Z",
     "iopub.status.idle": "2024-06-11T07:16:57.625640Z",
     "shell.execute_reply": "2024-06-11T07:16:57.624867Z"
    }
   },
   "outputs": [],
   "source": [
    "fetched_data = fetch_data_with_labels(variable_names=variable_names_celeba, urls=url_data_celeba)"
   ]
  },
  {
   "cell_type": "code",
   "execution_count": 5,
   "metadata": {
    "execution": {
     "iopub.execute_input": "2024-06-11T07:16:57.629510Z",
     "iopub.status.busy": "2024-06-11T07:16:57.629231Z",
     "iopub.status.idle": "2024-06-11T07:16:57.632428Z",
     "shell.execute_reply": "2024-06-11T07:16:57.631852Z"
    }
   },
   "outputs": [],
   "source": [
    "validation_labels = fetched_data['validation_labels'] #loading the validation labels for all attributes\n",
    "test_labels = fetched_data['test_labels'] #loading the test labels for all attributes\n",
    "validation_outputs = fetched_data['validation_outputs'] # loading the corresponding validation outputs \n",
    "test_outputs = fetched_data['test_outputs'] # loading the corresponding validation outputs"
   ]
  },
  {
   "cell_type": "code",
   "execution_count": 6,
   "metadata": {
    "execution": {
     "iopub.execute_input": "2024-06-11T07:16:57.635827Z",
     "iopub.status.busy": "2024-06-11T07:16:57.635569Z",
     "iopub.status.idle": "2024-06-11T07:16:57.639188Z",
     "shell.execute_reply": "2024-06-11T07:16:57.638400Z"
    }
   },
   "outputs": [],
   "source": [
    "def get_all_celeba_attributes():\n",
    "    return ['5_o_Clock_Shadow', 'Arched_Eyebrows', 'Attractive', 'Bags_Under_Eyes', 'Bald', 'Bangs', 'Big_Lips',\n",
    "            'Big_Nose', 'Black_Hair', 'Blond_Hair', 'Blurry', 'Brown_Hair', 'Bushy_Eyebrows', 'Chubby',\n",
    "            'Double_Chin', 'Eyeglasses', 'Goatee', 'Gray_Hair', 'Heavy_Makeup', 'High_Cheekbones', 'Male',\n",
    "            'Mouth_Slightly_Open', 'Mustache', 'Narrow_Eyes', 'No_Beard', 'Oval_Face', 'Pale_Skin',\n",
    "            'Pointy_Nose', 'Receding_Hairline', 'Rosy_Cheeks', 'Sideburns', 'Smiling', 'Straight_Hair',\n",
    "            'Wavy_Hair', 'Wearing_Earrings', 'Wearing_Hat', 'Wearing_Lipstick', 'Wearing_Necklace',\n",
    "            'Wearing_Necktie', 'Young']"
   ]
  },
  {
   "cell_type": "code",
   "execution_count": 7,
   "metadata": {
    "execution": {
     "iopub.execute_input": "2024-06-11T07:16:57.641758Z",
     "iopub.status.busy": "2024-06-11T07:16:57.641636Z",
     "iopub.status.idle": "2024-06-11T07:16:57.647796Z",
     "shell.execute_reply": "2024-06-11T07:16:57.647064Z"
    }
   },
   "outputs": [
    {
     "data": {
      "text/plain": [
       "array([[-3.72390795, -0.04863382],\n",
       "       [-6.71334314,  1.003914  ],\n",
       "       [-5.54749012,  0.01078447],\n",
       "       ...,\n",
       "       [-1.99252629, -0.03643667],\n",
       "       [ 0.69160038, -0.02428942],\n",
       "       [-4.78321409,  0.98419327]])"
      ]
     },
     "execution_count": 7,
     "metadata": {},
     "output_type": "execute_result"
    }
   ],
   "source": [
    "np.column_stack((validation_outputs[:,34], validation_outputs[:,20])) #Outputs for Wearing_Earrings and Male"
   ]
  },
  {
   "cell_type": "code",
   "execution_count": 8,
   "metadata": {
    "execution": {
     "iopub.execute_input": "2024-06-11T07:16:57.650854Z",
     "iopub.status.busy": "2024-06-11T07:16:57.650677Z",
     "iopub.status.idle": "2024-06-11T07:16:57.871828Z",
     "shell.execute_reply": "2024-06-11T07:16:57.871071Z"
    }
   },
   "outputs": [
    {
     "data": {
      "text/plain": [
       "(array([4.000e+00, 8.000e+00, 1.800e+01, 8.900e+01, 2.570e+02, 6.700e+02,\n",
       "        1.345e+03, 1.897e+03, 2.128e+03, 1.857e+03, 1.278e+03, 7.590e+02,\n",
       "        3.940e+02, 1.850e+02, 1.280e+02, 6.500e+01, 4.100e+01, 3.400e+01,\n",
       "        2.600e+01, 1.800e+01, 1.500e+01, 2.500e+01, 1.700e+01, 1.000e+01,\n",
       "        1.400e+01, 7.000e+00, 1.500e+01, 9.000e+00, 6.000e+00, 8.000e+00,\n",
       "        9.000e+00, 4.000e+00, 3.000e+00, 7.000e+00, 6.000e+00, 6.000e+00,\n",
       "        3.000e+00, 2.000e+00, 4.000e+00, 9.000e+00, 6.000e+00, 3.000e+00,\n",
       "        7.000e+00, 8.000e+00, 0.000e+00, 5.000e+00, 8.000e+00, 6.000e+00,\n",
       "        7.000e+00, 4.000e+00, 7.000e+00, 8.000e+00, 6.000e+00, 4.000e+00,\n",
       "        9.000e+00, 6.000e+00, 7.000e+00, 1.000e+00, 5.000e+00, 7.000e+00,\n",
       "        6.000e+00, 6.000e+00, 6.000e+00, 6.000e+00, 4.000e+00, 6.000e+00,\n",
       "        1.200e+01, 9.000e+00, 1.600e+01, 1.300e+01, 9.000e+00, 1.000e+01,\n",
       "        1.200e+01, 2.000e+01, 2.800e+01, 2.200e+01, 3.300e+01, 4.000e+01,\n",
       "        5.800e+01, 1.090e+02, 1.510e+02, 1.940e+02, 3.110e+02, 4.840e+02,\n",
       "        6.890e+02, 8.550e+02, 1.002e+03, 1.008e+03, 9.610e+02, 7.820e+02,\n",
       "        6.340e+02, 3.670e+02, 2.380e+02, 1.350e+02, 7.400e+01, 3.400e+01,\n",
       "        1.900e+01, 7.000e+00, 1.000e+00, 2.000e+00]),\n",
       " array([-1.13295622e-01, -1.00760359e-01, -8.82250966e-02, -7.56898338e-02,\n",
       "        -6.31545711e-02, -5.06193083e-02, -3.80840455e-02, -2.55487827e-02,\n",
       "        -1.30135199e-02, -4.78257164e-04,  1.20570056e-02,  2.45922684e-02,\n",
       "         3.71275312e-02,  4.96627939e-02,  6.21980567e-02,  7.47333195e-02,\n",
       "         8.72685823e-02,  9.98038451e-02,  1.12339108e-01,  1.24874371e-01,\n",
       "         1.37409633e-01,  1.49944896e-01,  1.62480159e-01,  1.75015422e-01,\n",
       "         1.87550685e-01,  2.00085947e-01,  2.12621210e-01,  2.25156473e-01,\n",
       "         2.37691736e-01,  2.50226998e-01,  2.62762261e-01,  2.75297524e-01,\n",
       "         2.87832787e-01,  3.00368050e-01,  3.12903312e-01,  3.25438575e-01,\n",
       "         3.37973838e-01,  3.50509101e-01,  3.63044363e-01,  3.75579626e-01,\n",
       "         3.88114889e-01,  4.00650152e-01,  4.13185415e-01,  4.25720677e-01,\n",
       "         4.38255940e-01,  4.50791203e-01,  4.63326466e-01,  4.75861728e-01,\n",
       "         4.88396991e-01,  5.00932254e-01,  5.13467517e-01,  5.26002780e-01,\n",
       "         5.38538042e-01,  5.51073305e-01,  5.63608568e-01,  5.76143831e-01,\n",
       "         5.88679093e-01,  6.01214356e-01,  6.13749619e-01,  6.26284882e-01,\n",
       "         6.38820145e-01,  6.51355407e-01,  6.63890670e-01,  6.76425933e-01,\n",
       "         6.88961196e-01,  7.01496458e-01,  7.14031721e-01,  7.26566984e-01,\n",
       "         7.39102247e-01,  7.51637510e-01,  7.64172772e-01,  7.76708035e-01,\n",
       "         7.89243298e-01,  8.01778561e-01,  8.14313823e-01,  8.26849086e-01,\n",
       "         8.39384349e-01,  8.51919612e-01,  8.64454875e-01,  8.76990137e-01,\n",
       "         8.89525400e-01,  9.02060663e-01,  9.14595926e-01,  9.27131188e-01,\n",
       "         9.39666451e-01,  9.52201714e-01,  9.64736977e-01,  9.77272240e-01,\n",
       "         9.89807502e-01,  1.00234277e+00,  1.01487803e+00,  1.02741329e+00,\n",
       "         1.03994855e+00,  1.05248382e+00,  1.06501908e+00,  1.07755434e+00,\n",
       "         1.09008960e+00,  1.10262487e+00,  1.11516013e+00,  1.12769539e+00,\n",
       "         1.14023066e+00]),\n",
       " <BarContainer object of 100 artists>)"
      ]
     },
     "execution_count": 8,
     "metadata": {},
     "output_type": "execute_result"
    },
    {
     "data": {
      "image/png": "[encoded data removed]",
      "text/plain": [
       "<Figure size 640x480 with 1 Axes>"
      ]
     },
     "metadata": {},
     "output_type": "display_data"
    }
   ],
   "source": [
    "plt.hist((validation_outputs[:,20]), bins=100) # just looking at the outputs from the protected head. The bi-modal peak indicates good seperation between groups. "
   ]
  },
  {
   "cell_type": "code",
   "execution_count": 9,
   "metadata": {
    "execution": {
     "iopub.execute_input": "2024-06-11T07:16:57.876413Z",
     "iopub.status.busy": "2024-06-11T07:16:57.875780Z",
     "iopub.status.idle": "2024-06-11T07:16:57.880461Z",
     "shell.execute_reply": "2024-06-11T07:16:57.879404Z"
    }
   },
   "outputs": [],
   "source": [
    "protected_attribute_index = get_all_celeba_attributes().index('Male')\n",
    "target_attribute_index = get_all_celeba_attributes().index('Wearing_Earrings')"
   ]
  },
  {
   "cell_type": "code",
   "execution_count": 10,
   "metadata": {
    "execution": {
     "iopub.execute_input": "2024-06-11T07:16:57.885383Z",
     "iopub.status.busy": "2024-06-11T07:16:57.884620Z",
     "iopub.status.idle": "2024-06-11T07:16:57.893565Z",
     "shell.execute_reply": "2024-06-11T07:16:57.891696Z"
    }
   },
   "outputs": [],
   "source": [
    "val = np.column_stack((validation_outputs[:,target_attribute_index], validation_outputs[:,20]))\n",
    "val_target = validation_labels[:,target_attribute_index]\n",
    "val_groups = validation_labels[:,protected_attribute_index]\n",
    "\n",
    "test = np.column_stack((test_outputs[:,target_attribute_index], test_outputs[:,20]))\n",
    "test_target = test_labels[:,target_attribute_index]\n",
    "test_groups = test_labels[:,protected_attribute_index]"
   ]
  },
  {
   "cell_type": "code",
   "execution_count": 11,
   "metadata": {
    "execution": {
     "iopub.execute_input": "2024-06-11T07:16:57.896749Z",
     "iopub.status.busy": "2024-06-11T07:16:57.896596Z",
     "iopub.status.idle": "2024-06-11T07:16:57.904677Z",
     "shell.execute_reply": "2024-06-11T07:16:57.899801Z"
    }
   },
   "outputs": [],
   "source": [
    "val_dict={'data':val, 'target':val_target, 'groups':val_groups}\n",
    "test_dict={'data':test,'target':test_target,'groups':test_groups}"
   ]
  },
  {
   "cell_type": "markdown",
   "metadata": {},
   "source": [
    "### Enforcing Fairness with DeepFairPredictor"
   ]
  },
  {
   "cell_type": "code",
   "execution_count": 12,
   "metadata": {
    "execution": {
     "iopub.execute_input": "2024-06-11T07:16:57.915203Z",
     "iopub.status.busy": "2024-06-11T07:16:57.913487Z",
     "iopub.status.idle": "2024-06-11T07:16:57.920855Z",
     "shell.execute_reply": "2024-06-11T07:16:57.919418Z"
    }
   },
   "outputs": [],
   "source": [
    "fpred = oxonfair.DeepFairPredictor(val_target,val,val_groups, use_actual_groups=False) \n",
    "# if use_actual_groups=True this will assign thresholds using the provided groups rather than the output of the second head "
   ]
  },
  {
   "cell_type": "code",
   "execution_count": 13,
   "metadata": {
    "execution": {
     "iopub.execute_input": "2024-06-11T07:16:57.928520Z",
     "iopub.status.busy": "2024-06-11T07:16:57.928248Z",
     "iopub.status.idle": "2024-06-11T07:17:08.488367Z",
     "shell.execute_reply": "2024-06-11T07:17:08.468167Z"
    }
   },
   "outputs": [],
   "source": [
    "fpred.fit(gm.accuracy,gm.equal_opportunity,0.01)\n",
    "# this can be changed to different definitions of fairness --- fpred.fit(gm.accuracy,gm.recall.min,0.8)"
   ]
  },
  {
   "cell_type": "code",
   "execution_count": 14,
   "metadata": {
    "execution": {
     "iopub.execute_input": "2024-06-11T07:17:08.589517Z",
     "iopub.status.busy": "2024-06-11T07:17:08.587647Z",
     "iopub.status.idle": "2024-06-11T07:17:08.763693Z",
     "shell.execute_reply": "2024-06-11T07:17:08.762687Z"
    }
   },
   "outputs": [
    {
     "data": {
      "text/html": [
       "<div>\n",
       "<style scoped>\n",
       "    .dataframe tbody tr th:only-of-type {\n",
       "        vertical-align: middle;\n",
       "    }\n",
       "\n",
       "    .dataframe tbody tr th {\n",
       "        vertical-align: top;\n",
       "    }\n",
       "\n",
       "    .dataframe thead th {\n",
       "        text-align: right;\n",
       "    }\n",
       "</style>\n",
       "<table border=\"1\" class=\"dataframe\">\n",
       "  <thead>\n",
       "    <tr style=\"text-align: right;\">\n",
       "      <th></th>\n",
       "      <th>original</th>\n",
       "      <th>updated</th>\n",
       "    </tr>\n",
       "  </thead>\n",
       "  <tbody>\n",
       "    <tr>\n",
       "      <th>Accuracy</th>\n",
       "      <td>0.910380</td>\n",
       "      <td>0.901062</td>\n",
       "    </tr>\n",
       "    <tr>\n",
       "      <th>Balanced Accuracy</th>\n",
       "      <td>0.853250</td>\n",
       "      <td>0.826761</td>\n",
       "    </tr>\n",
       "    <tr>\n",
       "      <th>F1 score</th>\n",
       "      <td>0.777072</td>\n",
       "      <td>0.745194</td>\n",
       "    </tr>\n",
       "    <tr>\n",
       "      <th>MCC</th>\n",
       "      <td>0.721488</td>\n",
       "      <td>0.686312</td>\n",
       "    </tr>\n",
       "    <tr>\n",
       "      <th>Precision</th>\n",
       "      <td>0.799487</td>\n",
       "      <td>0.796470</td>\n",
       "    </tr>\n",
       "    <tr>\n",
       "      <th>Recall</th>\n",
       "      <td>0.755879</td>\n",
       "      <td>0.700121</td>\n",
       "    </tr>\n",
       "    <tr>\n",
       "      <th>ROC AUC</th>\n",
       "      <td>0.956715</td>\n",
       "      <td>0.946070</td>\n",
       "    </tr>\n",
       "  </tbody>\n",
       "</table>\n",
       "</div>"
      ],
      "text/plain": [
       "                   original   updated\n",
       "Accuracy           0.910380  0.901062\n",
       "Balanced Accuracy  0.853250  0.826761\n",
       "F1 score           0.777072  0.745194\n",
       "MCC                0.721488  0.686312\n",
       "Precision          0.799487  0.796470\n",
       "Recall             0.755879  0.700121\n",
       "ROC AUC            0.956715  0.946070"
      ]
     },
     "execution_count": 14,
     "metadata": {},
     "output_type": "execute_result"
    }
   ],
   "source": [
    "fpred.evaluate(test_dict)"
   ]
  },
  {
   "cell_type": "code",
   "execution_count": 15,
   "metadata": {
    "execution": {
     "iopub.execute_input": "2024-06-11T07:17:08.791284Z",
     "iopub.status.busy": "2024-06-11T07:17:08.790573Z",
     "iopub.status.idle": "2024-06-11T07:17:08.905652Z",
     "shell.execute_reply": "2024-06-11T07:17:08.904797Z"
    }
   },
   "outputs": [
    {
     "data": {
      "text/html": [
       "<div>\n",
       "<style scoped>\n",
       "    .dataframe tbody tr th:only-of-type {\n",
       "        vertical-align: middle;\n",
       "    }\n",
       "\n",
       "    .dataframe tbody tr th {\n",
       "        vertical-align: top;\n",
       "    }\n",
       "\n",
       "    .dataframe thead th {\n",
       "        text-align: right;\n",
       "    }\n",
       "</style>\n",
       "<table border=\"1\" class=\"dataframe\">\n",
       "  <thead>\n",
       "    <tr style=\"text-align: right;\">\n",
       "      <th></th>\n",
       "      <th></th>\n",
       "      <th>Accuracy</th>\n",
       "      <th>Balanced Accuracy</th>\n",
       "      <th>F1 score</th>\n",
       "      <th>MCC</th>\n",
       "      <th>Precision</th>\n",
       "      <th>Recall</th>\n",
       "      <th>ROC AUC</th>\n",
       "      <th>Positive Count</th>\n",
       "      <th>Negative Count</th>\n",
       "      <th>Positive Label Rate</th>\n",
       "      <th>Positive Prediction Rate</th>\n",
       "    </tr>\n",
       "    <tr>\n",
       "      <th></th>\n",
       "      <th>Groups</th>\n",
       "      <th></th>\n",
       "      <th></th>\n",
       "      <th></th>\n",
       "      <th></th>\n",
       "      <th></th>\n",
       "      <th></th>\n",
       "      <th></th>\n",
       "      <th></th>\n",
       "      <th></th>\n",
       "      <th></th>\n",
       "      <th></th>\n",
       "    </tr>\n",
       "  </thead>\n",
       "  <tbody>\n",
       "    <tr>\n",
       "      <th rowspan=\"4\" valign=\"top\">original</th>\n",
       "      <th>Overall</th>\n",
       "      <td>0.924800</td>\n",
       "      <td>0.861855</td>\n",
       "      <td>0.794045</td>\n",
       "      <td>0.749278</td>\n",
       "      <td>0.831169</td>\n",
       "      <td>0.760095</td>\n",
       "      <td>0.965498</td>\n",
       "      <td>3789.0</td>\n",
       "      <td>16078.0</td>\n",
       "      <td>0.190718</td>\n",
       "      <td>0.174410</td>\n",
       "    </tr>\n",
       "    <tr>\n",
       "      <th>0</th>\n",
       "      <td>0.878429</td>\n",
       "      <td>0.852288</td>\n",
       "      <td>0.805169</td>\n",
       "      <td>0.717852</td>\n",
       "      <td>0.833624</td>\n",
       "      <td>0.778593</td>\n",
       "      <td>0.940365</td>\n",
       "      <td>3681.0</td>\n",
       "      <td>7728.0</td>\n",
       "      <td>0.322640</td>\n",
       "      <td>0.301341</td>\n",
       "    </tr>\n",
       "    <tr>\n",
       "      <th>1</th>\n",
       "      <td>0.987349</td>\n",
       "      <td>0.564036</td>\n",
       "      <td>0.207407</td>\n",
       "      <td>0.254912</td>\n",
       "      <td>0.518519</td>\n",
       "      <td>0.129630</td>\n",
       "      <td>0.960154</td>\n",
       "      <td>108.0</td>\n",
       "      <td>8350.0</td>\n",
       "      <td>0.012769</td>\n",
       "      <td>0.003192</td>\n",
       "    </tr>\n",
       "    <tr>\n",
       "      <th>Maximum difference</th>\n",
       "      <td>0.108920</td>\n",
       "      <td>0.288252</td>\n",
       "      <td>0.597762</td>\n",
       "      <td>0.462940</td>\n",
       "      <td>0.315106</td>\n",
       "      <td>0.648963</td>\n",
       "      <td>0.019789</td>\n",
       "      <td>3573.0</td>\n",
       "      <td>622.0</td>\n",
       "      <td>0.309871</td>\n",
       "      <td>0.298149</td>\n",
       "    </tr>\n",
       "    <tr>\n",
       "      <th rowspan=\"4\" valign=\"top\">updated</th>\n",
       "      <th>Overall</th>\n",
       "      <td>0.914481</td>\n",
       "      <td>0.829861</td>\n",
       "      <td>0.755575</td>\n",
       "      <td>0.708492</td>\n",
       "      <td>0.830487</td>\n",
       "      <td>0.693059</td>\n",
       "      <td>0.953978</td>\n",
       "      <td>3789.0</td>\n",
       "      <td>16078.0</td>\n",
       "      <td>0.190718</td>\n",
       "      <td>0.159158</td>\n",
       "    </tr>\n",
       "    <tr>\n",
       "      <th>0</th>\n",
       "      <td>0.870015</td>\n",
       "      <td>0.823741</td>\n",
       "      <td>0.774860</td>\n",
       "      <td>0.694721</td>\n",
       "      <td>0.878183</td>\n",
       "      <td>0.693290</td>\n",
       "      <td>0.940512</td>\n",
       "      <td>3681.0</td>\n",
       "      <td>7728.0</td>\n",
       "      <td>0.322640</td>\n",
       "      <td>0.254711</td>\n",
       "    </tr>\n",
       "    <tr>\n",
       "      <th>1</th>\n",
       "      <td>0.974462</td>\n",
       "      <td>0.831694</td>\n",
       "      <td>0.406593</td>\n",
       "      <td>0.434754</td>\n",
       "      <td>0.289062</td>\n",
       "      <td>0.685185</td>\n",
       "      <td>0.961986</td>\n",
       "      <td>108.0</td>\n",
       "      <td>8350.0</td>\n",
       "      <td>0.012769</td>\n",
       "      <td>0.030267</td>\n",
       "    </tr>\n",
       "    <tr>\n",
       "      <th>Maximum difference</th>\n",
       "      <td>0.104447</td>\n",
       "      <td>0.007953</td>\n",
       "      <td>0.368266</td>\n",
       "      <td>0.259967</td>\n",
       "      <td>0.589121</td>\n",
       "      <td>0.008105</td>\n",
       "      <td>0.021474</td>\n",
       "      <td>3573.0</td>\n",
       "      <td>622.0</td>\n",
       "      <td>0.309871</td>\n",
       "      <td>0.224444</td>\n",
       "    </tr>\n",
       "  </tbody>\n",
       "</table>\n",
       "</div>"
      ],
      "text/plain": [
       "                             Accuracy  Balanced Accuracy  F1 score       MCC  \\\n",
       "         Groups                                                                \n",
       "original Overall             0.924800           0.861855  0.794045  0.749278   \n",
       "         0                   0.878429           0.852288  0.805169  0.717852   \n",
       "         1                   0.987349           0.564036  0.207407  0.254912   \n",
       "         Maximum difference  0.108920           0.288252  0.597762  0.462940   \n",
       "updated  Overall             0.914481           0.829861  0.755575  0.708492   \n",
       "         0                   0.870015           0.823741  0.774860  0.694721   \n",
       "         1                   0.974462           0.831694  0.406593  0.434754   \n",
       "         Maximum difference  0.104447           0.007953  0.368266  0.259967   \n",
       "\n",
       "                             Precision    Recall   ROC AUC  Positive Count  \\\n",
       "         Groups                                                              \n",
       "original Overall              0.831169  0.760095  0.965498          3789.0   \n",
       "         0                    0.833624  0.778593  0.940365          3681.0   \n",
       "         1                    0.518519  0.129630  0.960154           108.0   \n",
       "         Maximum difference   0.315106  0.648963  0.019789          3573.0   \n",
       "updated  Overall              0.830487  0.693059  0.953978          3789.0   \n",
       "         0                    0.878183  0.693290  0.940512          3681.0   \n",
       "         1                    0.289062  0.685185  0.961986           108.0   \n",
       "         Maximum difference   0.589121  0.008105  0.021474          3573.0   \n",
       "\n",
       "                             Negative Count  Positive Label Rate  \\\n",
       "         Groups                                                    \n",
       "original Overall                    16078.0             0.190718   \n",
       "         0                           7728.0             0.322640   \n",
       "         1                           8350.0             0.012769   \n",
       "         Maximum difference           622.0             0.309871   \n",
       "updated  Overall                    16078.0             0.190718   \n",
       "         0                           7728.0             0.322640   \n",
       "         1                           8350.0             0.012769   \n",
       "         Maximum difference           622.0             0.309871   \n",
       "\n",
       "                             Positive Prediction Rate  \n",
       "         Groups                                        \n",
       "original Overall                             0.174410  \n",
       "         0                                   0.301341  \n",
       "         1                                   0.003192  \n",
       "         Maximum difference                  0.298149  \n",
       "updated  Overall                             0.159158  \n",
       "         0                                   0.254711  \n",
       "         1                                   0.030267  \n",
       "         Maximum difference                  0.224444  "
      ]
     },
     "execution_count": 15,
     "metadata": {},
     "output_type": "execute_result"
    }
   ],
   "source": [
    "fpred.evaluate_groups(return_original=True) #on val"
   ]
  },
  {
   "cell_type": "code",
   "execution_count": 16,
   "metadata": {
    "execution": {
     "iopub.execute_input": "2024-06-11T07:17:08.912399Z",
     "iopub.status.busy": "2024-06-11T07:17:08.912057Z",
     "iopub.status.idle": "2024-06-11T07:17:09.022898Z",
     "shell.execute_reply": "2024-06-11T07:17:09.021997Z"
    }
   },
   "outputs": [
    {
     "data": {
      "text/html": [
       "<div>\n",
       "<style scoped>\n",
       "    .dataframe tbody tr th:only-of-type {\n",
       "        vertical-align: middle;\n",
       "    }\n",
       "\n",
       "    .dataframe tbody tr th {\n",
       "        vertical-align: top;\n",
       "    }\n",
       "\n",
       "    .dataframe thead th {\n",
       "        text-align: right;\n",
       "    }\n",
       "</style>\n",
       "<table border=\"1\" class=\"dataframe\">\n",
       "  <thead>\n",
       "    <tr style=\"text-align: right;\">\n",
       "      <th></th>\n",
       "      <th></th>\n",
       "      <th>Accuracy</th>\n",
       "      <th>Balanced Accuracy</th>\n",
       "      <th>F1 score</th>\n",
       "      <th>MCC</th>\n",
       "      <th>Precision</th>\n",
       "      <th>Recall</th>\n",
       "      <th>ROC AUC</th>\n",
       "      <th>Positive Count</th>\n",
       "      <th>Negative Count</th>\n",
       "      <th>Positive Label Rate</th>\n",
       "      <th>Positive Prediction Rate</th>\n",
       "    </tr>\n",
       "    <tr>\n",
       "      <th></th>\n",
       "      <th>Groups</th>\n",
       "      <th></th>\n",
       "      <th></th>\n",
       "      <th></th>\n",
       "      <th></th>\n",
       "      <th></th>\n",
       "      <th></th>\n",
       "      <th></th>\n",
       "      <th></th>\n",
       "      <th></th>\n",
       "      <th></th>\n",
       "      <th></th>\n",
       "    </tr>\n",
       "  </thead>\n",
       "  <tbody>\n",
       "    <tr>\n",
       "      <th rowspan=\"4\" valign=\"top\">original</th>\n",
       "      <th>Overall</th>\n",
       "      <td>0.910380</td>\n",
       "      <td>0.853250</td>\n",
       "      <td>0.777072</td>\n",
       "      <td>0.721488</td>\n",
       "      <td>0.799487</td>\n",
       "      <td>0.755879</td>\n",
       "      <td>0.956715</td>\n",
       "      <td>4125.0</td>\n",
       "      <td>15837.0</td>\n",
       "      <td>0.206643</td>\n",
       "      <td>0.195371</td>\n",
       "    </tr>\n",
       "    <tr>\n",
       "      <th>0</th>\n",
       "      <td>0.866498</td>\n",
       "      <td>0.843349</td>\n",
       "      <td>0.789657</td>\n",
       "      <td>0.692062</td>\n",
       "      <td>0.801305</td>\n",
       "      <td>0.778341</td>\n",
       "      <td>0.931490</td>\n",
       "      <td>3943.0</td>\n",
       "      <td>8304.0</td>\n",
       "      <td>0.321956</td>\n",
       "      <td>0.312730</td>\n",
       "    </tr>\n",
       "    <tr>\n",
       "      <th>1</th>\n",
       "      <td>0.980039</td>\n",
       "      <td>0.633222</td>\n",
       "      <td>0.388889</td>\n",
       "      <td>0.426468</td>\n",
       "      <td>0.700000</td>\n",
       "      <td>0.269231</td>\n",
       "      <td>0.969253</td>\n",
       "      <td>182.0</td>\n",
       "      <td>7533.0</td>\n",
       "      <td>0.023590</td>\n",
       "      <td>0.009073</td>\n",
       "    </tr>\n",
       "    <tr>\n",
       "      <th>Maximum difference</th>\n",
       "      <td>0.113541</td>\n",
       "      <td>0.210128</td>\n",
       "      <td>0.400768</td>\n",
       "      <td>0.265595</td>\n",
       "      <td>0.101305</td>\n",
       "      <td>0.509111</td>\n",
       "      <td>0.037764</td>\n",
       "      <td>3761.0</td>\n",
       "      <td>771.0</td>\n",
       "      <td>0.298366</td>\n",
       "      <td>0.303656</td>\n",
       "    </tr>\n",
       "    <tr>\n",
       "      <th rowspan=\"4\" valign=\"top\">updated</th>\n",
       "      <th>Overall</th>\n",
       "      <td>0.901062</td>\n",
       "      <td>0.826761</td>\n",
       "      <td>0.745194</td>\n",
       "      <td>0.686312</td>\n",
       "      <td>0.796470</td>\n",
       "      <td>0.700121</td>\n",
       "      <td>0.946070</td>\n",
       "      <td>4125.0</td>\n",
       "      <td>15837.0</td>\n",
       "      <td>0.206643</td>\n",
       "      <td>0.181645</td>\n",
       "    </tr>\n",
       "    <tr>\n",
       "      <th>0</th>\n",
       "      <td>0.861435</td>\n",
       "      <td>0.818905</td>\n",
       "      <td>0.764730</td>\n",
       "      <td>0.673611</td>\n",
       "      <td>0.843425</td>\n",
       "      <td>0.699467</td>\n",
       "      <td>0.931252</td>\n",
       "      <td>3943.0</td>\n",
       "      <td>8304.0</td>\n",
       "      <td>0.321956</td>\n",
       "      <td>0.267004</td>\n",
       "    </tr>\n",
       "    <tr>\n",
       "      <th>1</th>\n",
       "      <td>0.963966</td>\n",
       "      <td>0.842142</td>\n",
       "      <td>0.483271</td>\n",
       "      <td>0.495019</td>\n",
       "      <td>0.365169</td>\n",
       "      <td>0.714286</td>\n",
       "      <td>0.968197</td>\n",
       "      <td>182.0</td>\n",
       "      <td>7533.0</td>\n",
       "      <td>0.023590</td>\n",
       "      <td>0.046144</td>\n",
       "    </tr>\n",
       "    <tr>\n",
       "      <th>Maximum difference</th>\n",
       "      <td>0.102531</td>\n",
       "      <td>0.023237</td>\n",
       "      <td>0.281459</td>\n",
       "      <td>0.178592</td>\n",
       "      <td>0.478257</td>\n",
       "      <td>0.014818</td>\n",
       "      <td>0.036945</td>\n",
       "      <td>3761.0</td>\n",
       "      <td>771.0</td>\n",
       "      <td>0.298366</td>\n",
       "      <td>0.220860</td>\n",
       "    </tr>\n",
       "  </tbody>\n",
       "</table>\n",
       "</div>"
      ],
      "text/plain": [
       "                             Accuracy  Balanced Accuracy  F1 score       MCC  \\\n",
       "         Groups                                                                \n",
       "original Overall             0.910380           0.853250  0.777072  0.721488   \n",
       "         0                   0.866498           0.843349  0.789657  0.692062   \n",
       "         1                   0.980039           0.633222  0.388889  0.426468   \n",
       "         Maximum difference  0.113541           0.210128  0.400768  0.265595   \n",
       "updated  Overall             0.901062           0.826761  0.745194  0.686312   \n",
       "         0                   0.861435           0.818905  0.764730  0.673611   \n",
       "         1                   0.963966           0.842142  0.483271  0.495019   \n",
       "         Maximum difference  0.102531           0.023237  0.281459  0.178592   \n",
       "\n",
       "                             Precision    Recall   ROC AUC  Positive Count  \\\n",
       "         Groups                                                              \n",
       "original Overall              0.799487  0.755879  0.956715          4125.0   \n",
       "         0                    0.801305  0.778341  0.931490          3943.0   \n",
       "         1                    0.700000  0.269231  0.969253           182.0   \n",
       "         Maximum difference   0.101305  0.509111  0.037764          3761.0   \n",
       "updated  Overall              0.796470  0.700121  0.946070          4125.0   \n",
       "         0                    0.843425  0.699467  0.931252          3943.0   \n",
       "         1                    0.365169  0.714286  0.968197           182.0   \n",
       "         Maximum difference   0.478257  0.014818  0.036945          3761.0   \n",
       "\n",
       "                             Negative Count  Positive Label Rate  \\\n",
       "         Groups                                                    \n",
       "original Overall                    15837.0             0.206643   \n",
       "         0                           8304.0             0.321956   \n",
       "         1                           7533.0             0.023590   \n",
       "         Maximum difference           771.0             0.298366   \n",
       "updated  Overall                    15837.0             0.206643   \n",
       "         0                           8304.0             0.321956   \n",
       "         1                           7533.0             0.023590   \n",
       "         Maximum difference           771.0             0.298366   \n",
       "\n",
       "                             Positive Prediction Rate  \n",
       "         Groups                                        \n",
       "original Overall                             0.195371  \n",
       "         0                                   0.312730  \n",
       "         1                                   0.009073  \n",
       "         Maximum difference                  0.303656  \n",
       "updated  Overall                             0.181645  \n",
       "         0                                   0.267004  \n",
       "         1                                   0.046144  \n",
       "         Maximum difference                  0.220860  "
      ]
     },
     "execution_count": 16,
     "metadata": {},
     "output_type": "execute_result"
    }
   ],
   "source": [
    "fpred.evaluate_groups(test_dict,return_original=True) #on the test set"
   ]
  },
  {
   "cell_type": "code",
   "execution_count": 17,
   "metadata": {
    "editable": true,
    "execution": {
     "iopub.execute_input": "2024-06-11T07:17:09.027523Z",
     "iopub.status.busy": "2024-06-11T07:17:09.027224Z",
     "iopub.status.idle": "2024-06-11T07:17:09.358469Z",
     "shell.execute_reply": "2024-06-11T07:17:09.355866Z"
    },
    "slideshow": {
     "slide_type": ""
    },
    "tags": []
   },
   "outputs": [
    {
     "data": {
      "image/png": "[encoded data removed]",
      "text/plain": [
       "<Figure size 640x480 with 1 Axes>"
      ]
     },
     "metadata": {},
     "output_type": "display_data"
    }
   ],
   "source": [
    "figure = fpred.plot_frontier() #looking at the frontier on the validation set"
   ]
  },
  {
   "cell_type": "code",
   "execution_count": 18,
   "metadata": {
    "execution": {
     "iopub.execute_input": "2024-06-11T07:17:09.369651Z",
     "iopub.status.busy": "2024-06-11T07:17:09.369265Z",
     "iopub.status.idle": "2024-06-11T07:17:09.616095Z",
     "shell.execute_reply": "2024-06-11T07:17:09.614821Z"
    }
   },
   "outputs": [
    {
     "data": {
      "image/png": "[encoded data removed]",
      "text/plain": [
       "<Figure size 640x480 with 1 Axes>"
      ]
     },
     "metadata": {},
     "output_type": "display_data"
    }
   ],
   "source": [
    "fpred.plot_frontier(test_dict) # viewing performance on the test set. "
   ]
  },
  {
   "cell_type": "code",
   "execution_count": 19,
   "metadata": {
    "execution": {
     "iopub.execute_input": "2024-06-11T07:17:09.625165Z",
     "iopub.status.busy": "2024-06-11T07:17:09.624705Z",
     "iopub.status.idle": "2024-06-11T07:17:09.693348Z",
     "shell.execute_reply": "2024-06-11T07:17:09.691948Z"
    }
   },
   "outputs": [
    {
     "data": {
      "text/html": [
       "<div>\n",
       "<style scoped>\n",
       "    .dataframe tbody tr th:only-of-type {\n",
       "        vertical-align: middle;\n",
       "    }\n",
       "\n",
       "    .dataframe tbody tr th {\n",
       "        vertical-align: top;\n",
       "    }\n",
       "\n",
       "    .dataframe thead th {\n",
       "        text-align: right;\n",
       "    }\n",
       "</style>\n",
       "<table border=\"1\" class=\"dataframe\">\n",
       "  <thead>\n",
       "    <tr style=\"text-align: right;\">\n",
       "      <th></th>\n",
       "      <th>original</th>\n",
       "      <th>updated</th>\n",
       "    </tr>\n",
       "  </thead>\n",
       "  <tbody>\n",
       "    <tr>\n",
       "      <th>Statistical Parity</th>\n",
       "      <td>0.303656</td>\n",
       "      <td>0.220860</td>\n",
       "    </tr>\n",
       "    <tr>\n",
       "      <th>Predictive Parity</th>\n",
       "      <td>0.101305</td>\n",
       "      <td>0.478257</td>\n",
       "    </tr>\n",
       "    <tr>\n",
       "      <th>Equal Opportunity</th>\n",
       "      <td>0.509111</td>\n",
       "      <td>0.014818</td>\n",
       "    </tr>\n",
       "    <tr>\n",
       "      <th>Average Group Difference in False Negative Rate</th>\n",
       "      <td>0.509111</td>\n",
       "      <td>0.014818</td>\n",
       "    </tr>\n",
       "    <tr>\n",
       "      <th>Equalized Odds</th>\n",
       "      <td>0.298983</td>\n",
       "      <td>0.023237</td>\n",
       "    </tr>\n",
       "    <tr>\n",
       "      <th>Conditional Use Accuracy</th>\n",
       "      <td>0.093873</td>\n",
       "      <td>0.301597</td>\n",
       "    </tr>\n",
       "    <tr>\n",
       "      <th>Average Group Difference in Accuracy</th>\n",
       "      <td>0.113541</td>\n",
       "      <td>0.102531</td>\n",
       "    </tr>\n",
       "    <tr>\n",
       "      <th>Treatment Equality</th>\n",
       "      <td>0.712815</td>\n",
       "      <td>3.914086</td>\n",
       "    </tr>\n",
       "  </tbody>\n",
       "</table>\n",
       "</div>"
      ],
      "text/plain": [
       "                                                 original   updated\n",
       "Statistical Parity                               0.303656  0.220860\n",
       "Predictive Parity                                0.101305  0.478257\n",
       "Equal Opportunity                                0.509111  0.014818\n",
       "Average Group Difference in False Negative Rate  0.509111  0.014818\n",
       "Equalized Odds                                   0.298983  0.023237\n",
       "Conditional Use Accuracy                         0.093873  0.301597\n",
       "Average Group Difference in Accuracy             0.113541  0.102531\n",
       "Treatment Equality                               0.712815  3.914086"
      ]
     },
     "execution_count": 19,
     "metadata": {},
     "output_type": "execute_result"
    }
   ],
   "source": [
    "fpred.evaluate_fairness(test_dict)"
   ]
  },
  {
   "cell_type": "code",
   "execution_count": 20,
   "metadata": {
    "execution": {
     "iopub.execute_input": "2024-06-11T07:17:09.698310Z",
     "iopub.status.busy": "2024-06-11T07:17:09.698089Z",
     "iopub.status.idle": "2024-06-11T07:17:09.713329Z",
     "shell.execute_reply": "2024-06-11T07:17:09.712321Z"
    }
   },
   "outputs": [
    {
     "data": {
      "text/html": [
       "<div>\n",
       "<style scoped>\n",
       "    .dataframe tbody tr th:only-of-type {\n",
       "        vertical-align: middle;\n",
       "    }\n",
       "\n",
       "    .dataframe tbody tr th {\n",
       "        vertical-align: top;\n",
       "    }\n",
       "\n",
       "    .dataframe thead th {\n",
       "        text-align: right;\n",
       "    }\n",
       "</style>\n",
       "<table border=\"1\" class=\"dataframe\">\n",
       "  <thead>\n",
       "    <tr style=\"text-align: right;\">\n",
       "      <th></th>\n",
       "      <th>original</th>\n",
       "      <th>updated</th>\n",
       "    </tr>\n",
       "  </thead>\n",
       "  <tbody>\n",
       "    <tr>\n",
       "      <th>Minimal Group Minimum-Label-Accuracy</th>\n",
       "      <td>0.12963</td>\n",
       "      <td>0.685185</td>\n",
       "    </tr>\n",
       "    <tr>\n",
       "      <th>Accuracy</th>\n",
       "      <td>0.92480</td>\n",
       "      <td>0.914481</td>\n",
       "    </tr>\n",
       "  </tbody>\n",
       "</table>\n",
       "</div>"
      ],
      "text/plain": [
       "                                      original   updated\n",
       "Minimal Group Minimum-Label-Accuracy   0.12963  0.685185\n",
       "Accuracy                               0.92480  0.914481"
      ]
     },
     "execution_count": 20,
     "metadata": {},
     "output_type": "execute_result"
    }
   ],
   "source": [
    "fpred.evaluate_fairness(metrics={'min_acc':gm.min_accuracy.min,'accuracy':gm.accuracy}) #you can specify what metrics you care about"
   ]
  },
  {
   "cell_type": "code",
   "execution_count": 21,
   "metadata": {
    "execution": {
     "iopub.execute_input": "2024-06-11T07:17:09.717178Z",
     "iopub.status.busy": "2024-06-11T07:17:09.716364Z",
     "iopub.status.idle": "2024-06-11T07:17:09.736155Z",
     "shell.execute_reply": "2024-06-11T07:17:09.733288Z"
    }
   },
   "outputs": [
    {
     "data": {
      "text/html": [
       "<div>\n",
       "<style scoped>\n",
       "    .dataframe tbody tr th:only-of-type {\n",
       "        vertical-align: middle;\n",
       "    }\n",
       "\n",
       "    .dataframe tbody tr th {\n",
       "        vertical-align: top;\n",
       "    }\n",
       "\n",
       "    .dataframe thead th {\n",
       "        text-align: right;\n",
       "    }\n",
       "</style>\n",
       "<table border=\"1\" class=\"dataframe\">\n",
       "  <thead>\n",
       "    <tr style=\"text-align: right;\">\n",
       "      <th></th>\n",
       "      <th>original</th>\n",
       "      <th>updated</th>\n",
       "    </tr>\n",
       "  </thead>\n",
       "  <tbody>\n",
       "    <tr>\n",
       "      <th>Minimal Group Minimum-Label-Accuracy</th>\n",
       "      <td>0.269231</td>\n",
       "      <td>0.699467</td>\n",
       "    </tr>\n",
       "    <tr>\n",
       "      <th>Accuracy</th>\n",
       "      <td>0.910380</td>\n",
       "      <td>0.901062</td>\n",
       "    </tr>\n",
       "  </tbody>\n",
       "</table>\n",
       "</div>"
      ],
      "text/plain": [
       "                                      original   updated\n",
       "Minimal Group Minimum-Label-Accuracy  0.269231  0.699467\n",
       "Accuracy                              0.910380  0.901062"
      ]
     },
     "execution_count": 21,
     "metadata": {},
     "output_type": "execute_result"
    }
   ],
   "source": [
    "fpred.evaluate_fairness(test_dict,metrics={'min_acc':gm.min_accuracy.min,'accuracy':gm.accuracy})"
   ]
  },
  {
   "cell_type": "markdown",
   "metadata": {},
   "source": [
    "### Fitzpatrick-17k Example\n",
    "\n",
    "Next we demonstrate how our toolkit could be used with medical data. The implementation details will be similar but practitioners may want to think carefully about how they measure and enforce fairness in high stakes domains. We reccomend a harms first approach emphasising metrics such as per group recall or selection rate. \n",
    "\n",
    "Here the target label classifies if a skin condition is malignant or benign. The protected label indicates race. Data is preprocessed following the description and code of [Zong et al.](https://arxiv.org/pdf/2210.01725) "
   ]
  },
  {
   "cell_type": "code",
   "execution_count": 22,
   "metadata": {
    "execution": {
     "iopub.execute_input": "2024-06-11T07:17:09.742718Z",
     "iopub.status.busy": "2024-06-11T07:17:09.741492Z",
     "iopub.status.idle": "2024-06-11T07:17:09.749417Z",
     "shell.execute_reply": "2024-06-11T07:17:09.748210Z"
    }
   },
   "outputs": [],
   "source": [
    "variable_names_fitz17k = ['fitz_outputs_val', 'fitz_outputs_test', 'fitz_target_labels_val',\n",
    "                           'fitz_protected_labels_val', 'fitz_target_labels_test', 'fitz_protected_labels_test']"
   ]
  },
  {
   "cell_type": "code",
   "execution_count": 23,
   "metadata": {
    "execution": {
     "iopub.execute_input": "2024-06-11T07:17:09.754606Z",
     "iopub.status.busy": "2024-06-11T07:17:09.754135Z",
     "iopub.status.idle": "2024-06-11T07:17:09.761299Z",
     "shell.execute_reply": "2024-06-11T07:17:09.760428Z"
    }
   },
   "outputs": [],
   "source": [
    "url_fitz17k = ['https://anonymous.4open.science/r/example_data_fairness-15BA/60_20_20_1_balanced_outputs_val_fitz17k.npy',\n",
    "               'https://anonymous.4open.science/r/example_data_fairness-15BA/60_20_20_1_balanced_outputs_test_fitz17k.npy',\n",
    "               'https://anonymous.4open.science/r/example_data_fairness-15BA/60_20_20_1_fitz17k_target_labels_val.npy',\n",
    "               'https://anonymous.4open.science/r/example_data_fairness-15BA/60_20_20_1_fitz17k_protected_labels_val.npy',\n",
    "               'https://anonymous.4open.science/r/example_data_fairness-15BA/60_20_20_1_fitz17k_target_labels_test.npy',\n",
    "               'https://anonymous.4open.science/r/example_data_fairness-15BA/60_20_20_1_fitz17k_protected_labels_test.npy'\n",
    "               ]"
   ]
  },
  {
   "cell_type": "code",
   "execution_count": 24,
   "metadata": {
    "execution": {
     "iopub.execute_input": "2024-06-11T07:17:09.766524Z",
     "iopub.status.busy": "2024-06-11T07:17:09.766045Z",
     "iopub.status.idle": "2024-06-11T07:17:12.107032Z",
     "shell.execute_reply": "2024-06-11T07:17:12.103792Z"
    }
   },
   "outputs": [],
   "source": [
    "fitz_data = fetch_data_with_labels(variable_names_fitz17k, url_fitz17k)"
   ]
  },
  {
   "cell_type": "code",
   "execution_count": 25,
   "metadata": {
    "execution": {
     "iopub.execute_input": "2024-06-11T07:17:12.150777Z",
     "iopub.status.busy": "2024-06-11T07:17:12.150216Z",
     "iopub.status.idle": "2024-06-11T07:17:12.168647Z",
     "shell.execute_reply": "2024-06-11T07:17:12.167485Z"
    }
   },
   "outputs": [
    {
     "data": {
      "text/plain": [
       "array([[ 0.79199237,  0.37575418],\n",
       "       [-2.51230526,  0.70082897],\n",
       "       [-4.45861387,  0.61371773],\n",
       "       ...,\n",
       "       [ 1.30813837,  0.23435649],\n",
       "       [-2.95502949,  0.38634309],\n",
       "       [-3.13313341,  0.14978038]])"
      ]
     },
     "execution_count": 25,
     "metadata": {},
     "output_type": "execute_result"
    }
   ],
   "source": [
    "fitz_data['fitz_outputs_val']"
   ]
  },
  {
   "cell_type": "code",
   "execution_count": 26,
   "metadata": {
    "execution": {
     "iopub.execute_input": "2024-06-11T07:17:12.178045Z",
     "iopub.status.busy": "2024-06-11T07:17:12.177781Z",
     "iopub.status.idle": "2024-06-11T07:17:12.183295Z",
     "shell.execute_reply": "2024-06-11T07:17:12.182612Z"
    }
   },
   "outputs": [],
   "source": [
    "fitz_outputs_val = fitz_data['fitz_outputs_val']\n",
    "fitz_outputs_test = fitz_data['fitz_outputs_test']\n",
    "fitz_target_labels_val = fitz_data['fitz_target_labels_val']\n",
    "fitz_protected_labels_val = fitz_data['fitz_protected_labels_val']\n",
    "fitz_target_labels_test = fitz_data['fitz_target_labels_test']\n",
    "fitz_protected_labels_test = fitz_data['fitz_protected_labels_test']"
   ]
  },
  {
   "cell_type": "code",
   "execution_count": 27,
   "metadata": {
    "execution": {
     "iopub.execute_input": "2024-06-11T07:17:12.188262Z",
     "iopub.status.busy": "2024-06-11T07:17:12.187741Z",
     "iopub.status.idle": "2024-06-11T07:17:12.193162Z",
     "shell.execute_reply": "2024-06-11T07:17:12.191973Z"
    }
   },
   "outputs": [],
   "source": [
    "val_dict_fitz={'data':fitz_outputs_val, 'target':fitz_target_labels_val, 'groups':fitz_protected_labels_val}\n",
    "test_dict_fitz={'data':fitz_outputs_test,'target':fitz_target_labels_test,'groups':fitz_protected_labels_test}"
   ]
  },
  {
   "cell_type": "code",
   "execution_count": 28,
   "metadata": {
    "execution": {
     "iopub.execute_input": "2024-06-11T07:17:12.200057Z",
     "iopub.status.busy": "2024-06-11T07:17:12.198475Z",
     "iopub.status.idle": "2024-06-11T07:17:12.204562Z",
     "shell.execute_reply": "2024-06-11T07:17:12.203921Z"
    }
   },
   "outputs": [],
   "source": [
    "fpred_fitz = oxonfair.DeepFairPredictor(fitz_target_labels_val,fitz_outputs_val,fitz_protected_labels_val)"
   ]
  },
  {
   "cell_type": "code",
   "execution_count": 29,
   "metadata": {
    "execution": {
     "iopub.execute_input": "2024-06-11T07:17:12.208453Z",
     "iopub.status.busy": "2024-06-11T07:17:12.207640Z",
     "iopub.status.idle": "2024-06-11T07:17:14.685797Z",
     "shell.execute_reply": "2024-06-11T07:17:14.672668Z"
    }
   },
   "outputs": [],
   "source": [
    "fpred_fitz.fit(gm.accuracy,gm.recall.min,0.7)"
   ]
  },
  {
   "cell_type": "code",
   "execution_count": 30,
   "metadata": {
    "execution": {
     "iopub.execute_input": "2024-06-11T07:17:14.720142Z",
     "iopub.status.busy": "2024-06-11T07:17:14.719775Z",
     "iopub.status.idle": "2024-06-11T07:17:15.021290Z",
     "shell.execute_reply": "2024-06-11T07:17:15.019799Z"
    }
   },
   "outputs": [
    {
     "data": {
      "image/png": "[encoded data removed]",
      "text/plain": [
       "<Figure size 640x480 with 1 Axes>"
      ]
     },
     "metadata": {},
     "output_type": "display_data"
    }
   ],
   "source": [
    "fpred_fitz.plot_frontier() #looking at the frontier on the validation set"
   ]
  },
  {
   "cell_type": "code",
   "execution_count": 31,
   "metadata": {
    "execution": {
     "iopub.execute_input": "2024-06-11T07:17:15.044601Z",
     "iopub.status.busy": "2024-06-11T07:17:15.042826Z",
     "iopub.status.idle": "2024-06-11T07:17:15.243730Z",
     "shell.execute_reply": "2024-06-11T07:17:15.241894Z"
    }
   },
   "outputs": [
    {
     "data": {
      "image/png": "[encoded data removed]",
      "text/plain": [
       "<Figure size 640x480 with 1 Axes>"
      ]
     },
     "metadata": {},
     "output_type": "display_data"
    }
   ],
   "source": [
    "fpred_fitz.plot_frontier(test_dict_fitz) #looking at the frontier on the validation set"
   ]
  },
  {
   "cell_type": "code",
   "execution_count": 32,
   "metadata": {
    "execution": {
     "iopub.execute_input": "2024-06-11T07:17:15.250074Z",
     "iopub.status.busy": "2024-06-11T07:17:15.249593Z",
     "iopub.status.idle": "2024-06-11T07:17:15.309173Z",
     "shell.execute_reply": "2024-06-11T07:17:15.307112Z"
    }
   },
   "outputs": [
    {
     "data": {
      "text/html": [
       "<div>\n",
       "<style scoped>\n",
       "    .dataframe tbody tr th:only-of-type {\n",
       "        vertical-align: middle;\n",
       "    }\n",
       "\n",
       "    .dataframe tbody tr th {\n",
       "        vertical-align: top;\n",
       "    }\n",
       "\n",
       "    .dataframe thead th {\n",
       "        text-align: right;\n",
       "    }\n",
       "</style>\n",
       "<table border=\"1\" class=\"dataframe\">\n",
       "  <thead>\n",
       "    <tr style=\"text-align: right;\">\n",
       "      <th></th>\n",
       "      <th></th>\n",
       "      <th>Accuracy</th>\n",
       "      <th>Balanced Accuracy</th>\n",
       "      <th>F1 score</th>\n",
       "      <th>MCC</th>\n",
       "      <th>Precision</th>\n",
       "      <th>Recall</th>\n",
       "      <th>ROC AUC</th>\n",
       "      <th>Positive Count</th>\n",
       "      <th>Negative Count</th>\n",
       "      <th>Positive Label Rate</th>\n",
       "      <th>Positive Prediction Rate</th>\n",
       "    </tr>\n",
       "    <tr>\n",
       "      <th></th>\n",
       "      <th>Groups</th>\n",
       "      <th></th>\n",
       "      <th></th>\n",
       "      <th></th>\n",
       "      <th></th>\n",
       "      <th></th>\n",
       "      <th></th>\n",
       "      <th></th>\n",
       "      <th></th>\n",
       "      <th></th>\n",
       "      <th></th>\n",
       "      <th></th>\n",
       "    </tr>\n",
       "  </thead>\n",
       "  <tbody>\n",
       "    <tr>\n",
       "      <th rowspan=\"4\" valign=\"top\">original</th>\n",
       "      <th>Overall</th>\n",
       "      <td>0.839023</td>\n",
       "      <td>0.720454</td>\n",
       "      <td>0.486000</td>\n",
       "      <td>0.396986</td>\n",
       "      <td>0.430851</td>\n",
       "      <td>0.557339</td>\n",
       "      <td>0.824450</td>\n",
       "      <td>436.0</td>\n",
       "      <td>2757.0</td>\n",
       "      <td>0.136549</td>\n",
       "      <td>0.176636</td>\n",
       "    </tr>\n",
       "    <tr>\n",
       "      <th>0.0</th>\n",
       "      <td>0.816804</td>\n",
       "      <td>0.708386</td>\n",
       "      <td>0.474308</td>\n",
       "      <td>0.371757</td>\n",
       "      <td>0.414747</td>\n",
       "      <td>0.553846</td>\n",
       "      <td>0.813847</td>\n",
       "      <td>325.0</td>\n",
       "      <td>1853.0</td>\n",
       "      <td>0.149219</td>\n",
       "      <td>0.199265</td>\n",
       "    </tr>\n",
       "    <tr>\n",
       "      <th>1.0</th>\n",
       "      <td>0.886700</td>\n",
       "      <td>0.746726</td>\n",
       "      <td>0.522822</td>\n",
       "      <td>0.460837</td>\n",
       "      <td>0.484615</td>\n",
       "      <td>0.567568</td>\n",
       "      <td>0.840469</td>\n",
       "      <td>111.0</td>\n",
       "      <td>904.0</td>\n",
       "      <td>0.109360</td>\n",
       "      <td>0.128079</td>\n",
       "    </tr>\n",
       "    <tr>\n",
       "      <th>Maximum difference</th>\n",
       "      <td>0.069895</td>\n",
       "      <td>0.038341</td>\n",
       "      <td>0.048513</td>\n",
       "      <td>0.089081</td>\n",
       "      <td>0.069869</td>\n",
       "      <td>0.013721</td>\n",
       "      <td>0.026622</td>\n",
       "      <td>214.0</td>\n",
       "      <td>949.0</td>\n",
       "      <td>0.039860</td>\n",
       "      <td>0.071187</td>\n",
       "    </tr>\n",
       "    <tr>\n",
       "      <th rowspan=\"4\" valign=\"top\">updated</th>\n",
       "      <th>Overall</th>\n",
       "      <td>0.792358</td>\n",
       "      <td>0.739773</td>\n",
       "      <td>0.467470</td>\n",
       "      <td>0.378586</td>\n",
       "      <td>0.359703</td>\n",
       "      <td>0.667431</td>\n",
       "      <td>0.819707</td>\n",
       "      <td>436.0</td>\n",
       "      <td>2757.0</td>\n",
       "      <td>0.136549</td>\n",
       "      <td>0.253367</td>\n",
       "    </tr>\n",
       "    <tr>\n",
       "      <th>0.0</th>\n",
       "      <td>0.776400</td>\n",
       "      <td>0.730311</td>\n",
       "      <td>0.470076</td>\n",
       "      <td>0.368513</td>\n",
       "      <td>0.363636</td>\n",
       "      <td>0.664615</td>\n",
       "      <td>0.812675</td>\n",
       "      <td>325.0</td>\n",
       "      <td>1853.0</td>\n",
       "      <td>0.149219</td>\n",
       "      <td>0.272727</td>\n",
       "    </tr>\n",
       "    <tr>\n",
       "      <th>1.0</th>\n",
       "      <td>0.826601</td>\n",
       "      <td>0.760404</td>\n",
       "      <td>0.460123</td>\n",
       "      <td>0.397795</td>\n",
       "      <td>0.348837</td>\n",
       "      <td>0.675676</td>\n",
       "      <td>0.830374</td>\n",
       "      <td>111.0</td>\n",
       "      <td>904.0</td>\n",
       "      <td>0.109360</td>\n",
       "      <td>0.211823</td>\n",
       "    </tr>\n",
       "    <tr>\n",
       "      <th>Maximum difference</th>\n",
       "      <td>0.050201</td>\n",
       "      <td>0.030093</td>\n",
       "      <td>0.009953</td>\n",
       "      <td>0.029282</td>\n",
       "      <td>0.014799</td>\n",
       "      <td>0.011060</td>\n",
       "      <td>0.017699</td>\n",
       "      <td>214.0</td>\n",
       "      <td>949.0</td>\n",
       "      <td>0.039860</td>\n",
       "      <td>0.060905</td>\n",
       "    </tr>\n",
       "  </tbody>\n",
       "</table>\n",
       "</div>"
      ],
      "text/plain": [
       "                             Accuracy  Balanced Accuracy  F1 score       MCC  \\\n",
       "         Groups                                                                \n",
       "original Overall             0.839023           0.720454  0.486000  0.396986   \n",
       "         0.0                 0.816804           0.708386  0.474308  0.371757   \n",
       "         1.0                 0.886700           0.746726  0.522822  0.460837   \n",
       "         Maximum difference  0.069895           0.038341  0.048513  0.089081   \n",
       "updated  Overall             0.792358           0.739773  0.467470  0.378586   \n",
       "         0.0                 0.776400           0.730311  0.470076  0.368513   \n",
       "         1.0                 0.826601           0.760404  0.460123  0.397795   \n",
       "         Maximum difference  0.050201           0.030093  0.009953  0.029282   \n",
       "\n",
       "                             Precision    Recall   ROC AUC  Positive Count  \\\n",
       "         Groups                                                              \n",
       "original Overall              0.430851  0.557339  0.824450           436.0   \n",
       "         0.0                  0.414747  0.553846  0.813847           325.0   \n",
       "         1.0                  0.484615  0.567568  0.840469           111.0   \n",
       "         Maximum difference   0.069869  0.013721  0.026622           214.0   \n",
       "updated  Overall              0.359703  0.667431  0.819707           436.0   \n",
       "         0.0                  0.363636  0.664615  0.812675           325.0   \n",
       "         1.0                  0.348837  0.675676  0.830374           111.0   \n",
       "         Maximum difference   0.014799  0.011060  0.017699           214.0   \n",
       "\n",
       "                             Negative Count  Positive Label Rate  \\\n",
       "         Groups                                                    \n",
       "original Overall                     2757.0             0.136549   \n",
       "         0.0                         1853.0             0.149219   \n",
       "         1.0                          904.0             0.109360   \n",
       "         Maximum difference           949.0             0.039860   \n",
       "updated  Overall                     2757.0             0.136549   \n",
       "         0.0                         1853.0             0.149219   \n",
       "         1.0                          904.0             0.109360   \n",
       "         Maximum difference           949.0             0.039860   \n",
       "\n",
       "                             Positive Prediction Rate  \n",
       "         Groups                                        \n",
       "original Overall                             0.176636  \n",
       "         0.0                                 0.199265  \n",
       "         1.0                                 0.128079  \n",
       "         Maximum difference                  0.071187  \n",
       "updated  Overall                             0.253367  \n",
       "         0.0                                 0.272727  \n",
       "         1.0                                 0.211823  \n",
       "         Maximum difference                  0.060905  "
      ]
     },
     "execution_count": 32,
     "metadata": {},
     "output_type": "execute_result"
    }
   ],
   "source": [
    "fpred_fitz.evaluate_groups(test_dict_fitz) #looking at the group breakdown on test data. "
   ]
  }
 ],
 "metadata": {
  "kernelspec": {
   "display_name": "Python 3 (ipykernel)",
   "language": "python",
   "name": "python3"
  },
  "language_info": {
   "codemirror_mode": {
    "name": "ipython",
    "version": 3
   },
   "file_extension": ".py",
   "mimetype": "text/x-python",
   "name": "python",
   "nbconvert_exporter": "python",
   "pygments_lexer": "ipython3",
   "version": "3.10.13"
  }
 },
 "nbformat": 4,
 "nbformat_minor": 4
}
